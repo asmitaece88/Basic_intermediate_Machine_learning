{
 "cells": [
  {
   "cell_type": "code",
   "execution_count": 1,
   "metadata": {},
   "outputs": [],
   "source": [
    "import pandas as pd\n",
    "import numpy as np\n",
    "\n",
    "%matplotlib inlinef\n",
    "import matplotlib.pyplot as plt\n",
    "import os "
   ]
  },
  {
   "cell_type": "code",
   "execution_count": 2,
   "metadata": {},
   "outputs": [],
   "source": [
    "df = pd.read_csv('DATA_keras/RSCCASN.csv')#,index_col='DATE',parse_dates=True)"
   ]
  },
  {
   "cell_type": "code",
   "execution_count": 3,
   "metadata": {},
   "outputs": [
    {
     "name": "stdout",
     "output_type": "stream",
     "text": [
      "<class 'pandas.core.frame.DataFrame'>\n",
      "RangeIndex: 334 entries, 0 to 333\n",
      "Data columns (total 2 columns):\n",
      " #   Column   Non-Null Count  Dtype \n",
      "---  ------   --------------  ----- \n",
      " 0   DATE     334 non-null    object\n",
      " 1   RSCCASN  334 non-null    int64 \n",
      "dtypes: int64(1), object(1)\n",
      "memory usage: 5.3+ KB\n"
     ]
    }
   ],
   "source": [
    "df.info()"
   ]
  },
  {
   "cell_type": "markdown",
   "metadata": {},
   "source": [
    "# since the date field is  a string object , we  need to do pasrse_dates= True , \n",
    "# thru which pandas will auotmatically convert string to  date/ timestamp"
   ]
  },
  {
   "cell_type": "code",
   "execution_count": 4,
   "metadata": {},
   "outputs": [],
   "source": [
    "df = pd.read_csv('DATA_keras/RSCCASN.csv',index_col='DATE',parse_dates=True)"
   ]
  },
  {
   "cell_type": "code",
   "execution_count": 5,
   "metadata": {},
   "outputs": [
    {
     "data": {
      "text/html": [
       "<div>\n",
       "<style scoped>\n",
       "    .dataframe tbody tr th:only-of-type {\n",
       "        vertical-align: middle;\n",
       "    }\n",
       "\n",
       "    .dataframe tbody tr th {\n",
       "        vertical-align: top;\n",
       "    }\n",
       "\n",
       "    .dataframe thead th {\n",
       "        text-align: right;\n",
       "    }\n",
       "</style>\n",
       "<table border=\"1\" class=\"dataframe\">\n",
       "  <thead>\n",
       "    <tr style=\"text-align: right;\">\n",
       "      <th></th>\n",
       "      <th>RSCCASN</th>\n",
       "    </tr>\n",
       "    <tr>\n",
       "      <th>DATE</th>\n",
       "      <th></th>\n",
       "    </tr>\n",
       "  </thead>\n",
       "  <tbody>\n",
       "    <tr>\n",
       "      <th>1992-01-01</th>\n",
       "      <td>6938</td>\n",
       "    </tr>\n",
       "    <tr>\n",
       "      <th>1992-02-01</th>\n",
       "      <td>7524</td>\n",
       "    </tr>\n",
       "    <tr>\n",
       "      <th>1992-03-01</th>\n",
       "      <td>8475</td>\n",
       "    </tr>\n",
       "    <tr>\n",
       "      <th>1992-04-01</th>\n",
       "      <td>9401</td>\n",
       "    </tr>\n",
       "    <tr>\n",
       "      <th>1992-05-01</th>\n",
       "      <td>9558</td>\n",
       "    </tr>\n",
       "    <tr>\n",
       "      <th>1992-06-01</th>\n",
       "      <td>9182</td>\n",
       "    </tr>\n",
       "    <tr>\n",
       "      <th>1992-07-01</th>\n",
       "      <td>9103</td>\n",
       "    </tr>\n",
       "    <tr>\n",
       "      <th>1992-08-01</th>\n",
       "      <td>10513</td>\n",
       "    </tr>\n",
       "    <tr>\n",
       "      <th>1992-09-01</th>\n",
       "      <td>9573</td>\n",
       "    </tr>\n",
       "    <tr>\n",
       "      <th>1992-10-01</th>\n",
       "      <td>10254</td>\n",
       "    </tr>\n",
       "  </tbody>\n",
       "</table>\n",
       "</div>"
      ],
      "text/plain": [
       "            RSCCASN\n",
       "DATE               \n",
       "1992-01-01     6938\n",
       "1992-02-01     7524\n",
       "1992-03-01     8475\n",
       "1992-04-01     9401\n",
       "1992-05-01     9558\n",
       "1992-06-01     9182\n",
       "1992-07-01     9103\n",
       "1992-08-01    10513\n",
       "1992-09-01     9573\n",
       "1992-10-01    10254"
      ]
     },
     "execution_count": 5,
     "metadata": {},
     "output_type": "execute_result"
    }
   ],
   "source": [
    "df.head(10)"
   ]
  },
  {
   "cell_type": "code",
   "execution_count": 6,
   "metadata": {},
   "outputs": [
    {
     "name": "stdout",
     "output_type": "stream",
     "text": [
      "<class 'pandas.core.frame.DataFrame'>\n",
      "DatetimeIndex: 334 entries, 1992-01-01 to 2019-10-01\n",
      "Data columns (total 1 columns):\n",
      " #   Column   Non-Null Count  Dtype\n",
      "---  ------   --------------  -----\n",
      " 0   RSCCASN  334 non-null    int64\n",
      "dtypes: int64(1)\n",
      "memory usage: 5.2 KB\n"
     ]
    }
   ],
   "source": [
    "df.info()"
   ]
  },
  {
   "cell_type": "code",
   "execution_count": 7,
   "metadata": {},
   "outputs": [
    {
     "data": {
      "text/plain": [
       "RSCCASN    334\n",
       "dtype: int64"
      ]
     },
     "execution_count": 7,
     "metadata": {},
     "output_type": "execute_result"
    }
   ],
   "source": [
    "df.count()"
   ]
  },
  {
   "cell_type": "markdown",
   "metadata": {},
   "source": [
    "# rename  the dataframe columns"
   ]
  },
  {
   "cell_type": "code",
   "execution_count": 8,
   "metadata": {},
   "outputs": [],
   "source": [
    "df.rename(columns={'RSCCASN':'Sales'},inplace=True)"
   ]
  },
  {
   "cell_type": "code",
   "execution_count": 9,
   "metadata": {},
   "outputs": [
    {
     "data": {
      "text/html": [
       "<div>\n",
       "<style scoped>\n",
       "    .dataframe tbody tr th:only-of-type {\n",
       "        vertical-align: middle;\n",
       "    }\n",
       "\n",
       "    .dataframe tbody tr th {\n",
       "        vertical-align: top;\n",
       "    }\n",
       "\n",
       "    .dataframe thead th {\n",
       "        text-align: right;\n",
       "    }\n",
       "</style>\n",
       "<table border=\"1\" class=\"dataframe\">\n",
       "  <thead>\n",
       "    <tr style=\"text-align: right;\">\n",
       "      <th></th>\n",
       "      <th>Sales</th>\n",
       "    </tr>\n",
       "    <tr>\n",
       "      <th>DATE</th>\n",
       "      <th></th>\n",
       "    </tr>\n",
       "  </thead>\n",
       "  <tbody>\n",
       "    <tr>\n",
       "      <th>1992-01-01</th>\n",
       "      <td>6938</td>\n",
       "    </tr>\n",
       "    <tr>\n",
       "      <th>1992-02-01</th>\n",
       "      <td>7524</td>\n",
       "    </tr>\n",
       "    <tr>\n",
       "      <th>1992-03-01</th>\n",
       "      <td>8475</td>\n",
       "    </tr>\n",
       "  </tbody>\n",
       "</table>\n",
       "</div>"
      ],
      "text/plain": [
       "            Sales\n",
       "DATE             \n",
       "1992-01-01   6938\n",
       "1992-02-01   7524\n",
       "1992-03-01   8475"
      ]
     },
     "execution_count": 9,
     "metadata": {},
     "output_type": "execute_result"
    }
   ],
   "source": [
    "df.head(3)"
   ]
  },
  {
   "cell_type": "code",
   "execution_count": 10,
   "metadata": {},
   "outputs": [
    {
     "data": {
      "text/plain": [
       "<matplotlib.axes._subplots.AxesSubplot at 0x1e845827188>"
      ]
     },
     "execution_count": 10,
     "metadata": {},
     "output_type": "execute_result"
    },
    {
     "data": {
      "image/png": "[encoded data removed]",
      "text/plain": [
       "<Figure size 864x576 with 1 Axes>"
      ]
     },
     "metadata": {
      "needs_background": "light"
     },
     "output_type": "display_data"
    }
   ],
   "source": [
    "df.plot(figsize=(12,8))"
   ]
  },
  {
   "cell_type": "markdown",
   "metadata": {},
   "source": [
    "# train test split"
   ]
  },
  {
   "cell_type": "code",
   "execution_count": 11,
   "metadata": {},
   "outputs": [
    {
     "data": {
      "text/plain": [
       "334"
      ]
     },
     "execution_count": 11,
     "metadata": {},
     "output_type": "execute_result"
    }
   ],
   "source": [
    "len(df)"
   ]
  },
  {
   "cell_type": "markdown",
   "metadata": {},
   "source": [
    "#  data seems to be monthly , lets forecast 1.5 years int fueture "
   ]
  },
  {
   "cell_type": "code",
   "execution_count": 12,
   "metadata": {},
   "outputs": [
    {
     "data": {
      "text/plain": [
       "316"
      ]
     },
     "execution_count": 12,
     "metadata": {},
     "output_type": "execute_result"
    }
   ],
   "source": [
    "len(df)-18"
   ]
  },
  {
   "cell_type": "code",
   "execution_count": 13,
   "metadata": {},
   "outputs": [],
   "source": [
    "test_size=18"
   ]
  },
  {
   "cell_type": "code",
   "execution_count": 14,
   "metadata": {},
   "outputs": [],
   "source": [
    "test_ind= len(df)-18"
   ]
  },
  {
   "cell_type": "code",
   "execution_count": 15,
   "metadata": {},
   "outputs": [
    {
     "data": {
      "text/plain": [
       "316"
      ]
     },
     "execution_count": 15,
     "metadata": {},
     "output_type": "execute_result"
    }
   ],
   "source": [
    "test_ind"
   ]
  },
  {
   "cell_type": "code",
   "execution_count": 16,
   "metadata": {},
   "outputs": [],
   "source": [
    "train = df.iloc[:test_ind]\n",
    "test=df.iloc[test_ind:]"
   ]
  },
  {
   "cell_type": "code",
   "execution_count": 17,
   "metadata": {},
   "outputs": [
    {
     "data": {
      "text/html": [
       "<div>\n",
       "<style scoped>\n",
       "    .dataframe tbody tr th:only-of-type {\n",
       "        vertical-align: middle;\n",
       "    }\n",
       "\n",
       "    .dataframe tbody tr th {\n",
       "        vertical-align: top;\n",
       "    }\n",
       "\n",
       "    .dataframe thead th {\n",
       "        text-align: right;\n",
       "    }\n",
       "</style>\n",
       "<table border=\"1\" class=\"dataframe\">\n",
       "  <thead>\n",
       "    <tr style=\"text-align: right;\">\n",
       "      <th></th>\n",
       "      <th>Sales</th>\n",
       "    </tr>\n",
       "    <tr>\n",
       "      <th>DATE</th>\n",
       "      <th></th>\n",
       "    </tr>\n",
       "  </thead>\n",
       "  <tbody>\n",
       "    <tr>\n",
       "      <th>1992-01-01</th>\n",
       "      <td>6938</td>\n",
       "    </tr>\n",
       "    <tr>\n",
       "      <th>1992-02-01</th>\n",
       "      <td>7524</td>\n",
       "    </tr>\n",
       "    <tr>\n",
       "      <th>1992-03-01</th>\n",
       "      <td>8475</td>\n",
       "    </tr>\n",
       "    <tr>\n",
       "      <th>1992-04-01</th>\n",
       "      <td>9401</td>\n",
       "    </tr>\n",
       "    <tr>\n",
       "      <th>1992-05-01</th>\n",
       "      <td>9558</td>\n",
       "    </tr>\n",
       "  </tbody>\n",
       "</table>\n",
       "</div>"
      ],
      "text/plain": [
       "            Sales\n",
       "DATE             \n",
       "1992-01-01   6938\n",
       "1992-02-01   7524\n",
       "1992-03-01   8475\n",
       "1992-04-01   9401\n",
       "1992-05-01   9558"
      ]
     },
     "execution_count": 17,
     "metadata": {},
     "output_type": "execute_result"
    }
   ],
   "source": [
    "train.head(5)"
   ]
  },
  {
   "cell_type": "code",
   "execution_count": 18,
   "metadata": {},
   "outputs": [
    {
     "data": {
      "text/html": [
       "<div>\n",
       "<style scoped>\n",
       "    .dataframe tbody tr th:only-of-type {\n",
       "        vertical-align: middle;\n",
       "    }\n",
       "\n",
       "    .dataframe tbody tr th {\n",
       "        vertical-align: top;\n",
       "    }\n",
       "\n",
       "    .dataframe thead th {\n",
       "        text-align: right;\n",
       "    }\n",
       "</style>\n",
       "<table border=\"1\" class=\"dataframe\">\n",
       "  <thead>\n",
       "    <tr style=\"text-align: right;\">\n",
       "      <th></th>\n",
       "      <th>Sales</th>\n",
       "    </tr>\n",
       "    <tr>\n",
       "      <th>DATE</th>\n",
       "      <th></th>\n",
       "    </tr>\n",
       "  </thead>\n",
       "  <tbody>\n",
       "    <tr>\n",
       "      <th>2018-05-01</th>\n",
       "      <td>23764</td>\n",
       "    </tr>\n",
       "    <tr>\n",
       "      <th>2018-06-01</th>\n",
       "      <td>21589</td>\n",
       "    </tr>\n",
       "    <tr>\n",
       "      <th>2018-07-01</th>\n",
       "      <td>21919</td>\n",
       "    </tr>\n",
       "    <tr>\n",
       "      <th>2018-08-01</th>\n",
       "      <td>23381</td>\n",
       "    </tr>\n",
       "    <tr>\n",
       "      <th>2018-09-01</th>\n",
       "      <td>20260</td>\n",
       "    </tr>\n",
       "    <tr>\n",
       "      <th>2018-10-01</th>\n",
       "      <td>21473</td>\n",
       "    </tr>\n",
       "    <tr>\n",
       "      <th>2018-11-01</th>\n",
       "      <td>25831</td>\n",
       "    </tr>\n",
       "  </tbody>\n",
       "</table>\n",
       "</div>"
      ],
      "text/plain": [
       "            Sales\n",
       "DATE             \n",
       "2018-05-01  23764\n",
       "2018-06-01  21589\n",
       "2018-07-01  21919\n",
       "2018-08-01  23381\n",
       "2018-09-01  20260\n",
       "2018-10-01  21473\n",
       "2018-11-01  25831"
      ]
     },
     "execution_count": 18,
     "metadata": {},
     "output_type": "execute_result"
    }
   ],
   "source": [
    "test.head(7)"
   ]
  },
  {
   "cell_type": "markdown",
   "metadata": {},
   "source": [
    "# scale data "
   ]
  },
  {
   "cell_type": "code",
   "execution_count": 19,
   "metadata": {},
   "outputs": [],
   "source": [
    "from sklearn.preprocessing  import MinMaxScaler"
   ]
  },
  {
   "cell_type": "code",
   "execution_count": 20,
   "metadata": {},
   "outputs": [],
   "source": [
    "scaler = MinMaxScaler()"
   ]
  },
  {
   "cell_type": "code",
   "execution_count": 21,
   "metadata": {},
   "outputs": [
    {
     "data": {
      "text/plain": [
       "MinMaxScaler()"
      ]
     },
     "execution_count": 21,
     "metadata": {},
     "output_type": "execute_result"
    }
   ],
   "source": [
    "scaler.fit(train)"
   ]
  },
  {
   "cell_type": "code",
   "execution_count": 22,
   "metadata": {},
   "outputs": [],
   "source": [
    "scaled_train = scaler.transform(train)\n",
    "scaled_test=scaler.transform(test)"
   ]
  },
  {
   "cell_type": "markdown",
   "metadata": {},
   "source": [
    "# time series generator "
   ]
  },
  {
   "cell_type": "markdown",
   "metadata": {},
   "source": [
    "# This class takes in a sequence of data-points gathered at equal intervals, along with time series parameters such as stride, \n",
    "# length of history, etc., to produce batches for training/validation"
   ]
  },
  {
   "cell_type": "code",
   "execution_count": 23,
   "metadata": {},
   "outputs": [],
   "source": [
    "from tensorflow.keras.preprocessing.sequence import TimeseriesGenerator"
   ]
  },
  {
   "cell_type": "code",
   "execution_count": 24,
   "metadata": {},
   "outputs": [],
   "source": [
    "# Let's redefine to get 12 months back and then predict the next month out\n",
    "length =12\n",
    "generator =  TimeseriesGenerator(scaled_train , scaled_train ,  length=length ,  batch_size=1)"
   ]
  },
  {
   "cell_type": "code",
   "execution_count": 25,
   "metadata": {},
   "outputs": [
    {
     "data": {
      "text/plain": [
       "((array([[[0.        ],\n",
       "          [0.02127505],\n",
       "          [0.05580163],\n",
       "          [0.08942056],\n",
       "          [0.09512053],\n",
       "          [0.08146965],\n",
       "          [0.07860151],\n",
       "          [0.12979233],\n",
       "          [0.09566512],\n",
       "          [0.1203892 ],\n",
       "          [0.15426227],\n",
       "          [0.41595266]]]),\n",
       "  array([[0.02047633]])),\n",
       " 2)"
      ]
     },
     "execution_count": 25,
     "metadata": {},
     "output_type": "execute_result"
    }
   ],
   "source": [
    "generator[0] , len(generator[0])"
   ]
  },
  {
   "cell_type": "markdown",
   "metadata": {},
   "source": [
    "# next step  is  to find about batches "
   ]
  },
  {
   "cell_type": "markdown",
   "metadata": {},
   "source": [
    "# somethig to keep in mind is  I will add  an early stopping  and a validation generator "
   ]
  },
  {
   "cell_type": "markdown",
   "metadata": {},
   "source": [
    "# because of that ,  I need to make sure  that my actual length  of my batch is  less than  the length of my test set "
   ]
  },
  {
   "cell_type": "code",
   "execution_count": 26,
   "metadata": {},
   "outputs": [
    {
     "data": {
      "text/plain": [
       "18"
      ]
     },
     "execution_count": 26,
     "metadata": {},
     "output_type": "execute_result"
    }
   ],
   "source": [
    "len(test)"
   ]
  },
  {
   "cell_type": "markdown",
   "metadata": {},
   "source": [
    "# so i cannot feed a batch of 18 months  and then expect a prediction of 19th month with my test set , hence my batch length should be shorter than 18 |\n",
    "# they can be 17 , 18 , 13  etc , however , a  perfect length  for my batch is 12 , because that is a whole year "
   ]
  },
  {
   "cell_type": "code",
   "execution_count": 27,
   "metadata": {},
   "outputs": [],
   "source": [
    "length =12\n",
    "generator = TimeseriesGenerator(scaled_train , scaled_train ,length =length , batch_size=1 )"
   ]
  },
  {
   "cell_type": "code",
   "execution_count": 28,
   "metadata": {},
   "outputs": [],
   "source": [
    "x , y = generator[0]"
   ]
  },
  {
   "cell_type": "code",
   "execution_count": 29,
   "metadata": {},
   "outputs": [
    {
     "data": {
      "text/plain": [
       "(array([[[0.        ],\n",
       "         [0.02127505],\n",
       "         [0.05580163],\n",
       "         [0.08942056],\n",
       "         [0.09512053],\n",
       "         [0.08146965],\n",
       "         [0.07860151],\n",
       "         [0.12979233],\n",
       "         [0.09566512],\n",
       "         [0.1203892 ],\n",
       "         [0.15426227],\n",
       "         [0.41595266]]]),\n",
       " array([0.        , 0.02127505, 0.05580163, 0.08942056, 0.09512053,\n",
       "        0.08146965, 0.07860151, 0.12979233, 0.09566512, 0.1203892 ,\n",
       "        0.15426227, 0.41595266]))"
      ]
     },
     "execution_count": 29,
     "metadata": {},
     "output_type": "execute_result"
    }
   ],
   "source": [
    "x , x.flatten()"
   ]
  },
  {
   "cell_type": "code",
   "execution_count": 30,
   "metadata": {},
   "outputs": [
    {
     "data": {
      "text/plain": [
       "(1, (1, 12, 1))"
      ]
     },
     "execution_count": 30,
     "metadata": {},
     "output_type": "execute_result"
    }
   ],
   "source": [
    "len(x)  , x.shape"
   ]
  },
  {
   "cell_type": "code",
   "execution_count": 31,
   "metadata": {},
   "outputs": [
    {
     "data": {
      "text/plain": [
       "12"
      ]
     },
     "execution_count": 31,
     "metadata": {},
     "output_type": "execute_result"
    }
   ],
   "source": [
    "len(x.flatten())"
   ]
  },
  {
   "cell_type": "code",
   "execution_count": 32,
   "metadata": {},
   "outputs": [],
   "source": [
    "x1=x.flatten()"
   ]
  },
  {
   "cell_type": "code",
   "execution_count": 33,
   "metadata": {},
   "outputs": [
    {
     "data": {
      "text/plain": [
       "(12,)"
      ]
     },
     "execution_count": 33,
     "metadata": {},
     "output_type": "execute_result"
    }
   ],
   "source": [
    "x1.shape"
   ]
  },
  {
   "cell_type": "markdown",
   "metadata": {},
   "source": [
    "#  now time to start deifing our batches ,\n",
    "# something to keep in min is that i will add  an early stopping  ad a validation generator  because  \n",
    "# because of that  , I need to make sure  that my actual length of my batch  is less than  the length of  my test set "
   ]
  },
  {
   "cell_type": "markdown",
   "metadata": {},
   "source": [
    "# recall my current test set is 18 months\n",
    "# so i canot feed a  batch of 18 months and then expect  to get a prediction  of the 19th month  with my   test set . So my batches should be shorter than 18 \n",
    "# a pretty reasonable choice for my batch  size is 12 months "
   ]
  },
  {
   "cell_type": "code",
   "execution_count": 34,
   "metadata": {},
   "outputs": [
    {
     "data": {
      "text/plain": [
       "18"
      ]
     },
     "execution_count": 34,
     "metadata": {},
     "output_type": "execute_result"
    }
   ],
   "source": [
    "len(test)"
   ]
  },
  {
   "cell_type": "code",
   "execution_count": 35,
   "metadata": {},
   "outputs": [],
   "source": [
    "# hence i cannot expect a  batch of 18 months \n",
    "\n",
    "# heree length =12 , and here ength represents  the length of teh actual batches \n",
    "# Let's redefine to get 12 months back and then predict the next month out\n",
    " # source of x point , coming from scaled_train\n",
    "## source of y  also coming from scaled_train \n",
    "## length of the batch = 12 months  and as far as how many we are going  to be passing each time is bagtch size\n",
    "    \n",
    "length =12\n",
    "generator =  TimeseriesGenerator(scaled_train , scaled_train ,  length=length ,  batch_size=1)"
   ]
  },
  {
   "cell_type": "markdown",
   "metadata": {},
   "source": [
    "# lets take a look at the very first batch "
   ]
  },
  {
   "cell_type": "code",
   "execution_count": 36,
   "metadata": {},
   "outputs": [],
   "source": [
    "X  , y = generator[0]"
   ]
  },
  {
   "cell_type": "code",
   "execution_count": 37,
   "metadata": {},
   "outputs": [
    {
     "data": {
      "text/plain": [
       "(array([0.        , 0.02127505, 0.05580163, 0.08942056, 0.09512053,\n",
       "        0.08146965, 0.07860151, 0.12979233, 0.09566512, 0.1203892 ,\n",
       "        0.15426227, 0.41595266]),\n",
       " array([[0.02047633]]))"
      ]
     },
     "execution_count": 37,
     "metadata": {},
     "output_type": "execute_result"
    }
   ],
   "source": [
    "x.flatten() , y"
   ]
  },
  {
   "cell_type": "code",
   "execution_count": 38,
   "metadata": {},
   "outputs": [],
   "source": [
    "x_1 , y_1 = generator[1]"
   ]
  },
  {
   "cell_type": "markdown",
   "metadata": {},
   "source": [
    "# check the next batch "
   ]
  },
  {
   "cell_type": "code",
   "execution_count": 39,
   "metadata": {},
   "outputs": [
    {
     "data": {
      "text/plain": [
       "array([0.02127505, 0.05580163, 0.08942056, 0.09512053, 0.08146965,\n",
       "       0.07860151, 0.12979233, 0.09566512, 0.1203892 , 0.15426227,\n",
       "       0.41595266, 0.02047633])"
      ]
     },
     "execution_count": 39,
     "metadata": {},
     "output_type": "execute_result"
    }
   ],
   "source": [
    "x_1.flatten()"
   ]
  },
  {
   "cell_type": "code",
   "execution_count": 40,
   "metadata": {},
   "outputs": [
    {
     "data": {
      "text/plain": [
       "array([[0.02127505]])"
      ]
     },
     "execution_count": 40,
     "metadata": {},
     "output_type": "execute_result"
    }
   ],
   "source": [
    "y_1"
   ]
  },
  {
   "cell_type": "markdown",
   "metadata": {},
   "source": [
    "# we now have time serie sgenetator and data ahs been scaled"
   ]
  },
  {
   "cell_type": "markdown",
   "metadata": {},
   "source": [
    "# create the model "
   ]
  },
  {
   "cell_type": "code",
   "execution_count": 41,
   "metadata": {},
   "outputs": [],
   "source": [
    "from tensorflow.keras.models import Sequential\n",
    "from tensorflow.keras.layers import Dense\n",
    "from tensorflow.keras.layers import LSTM "
   ]
  },
  {
   "cell_type": "markdown",
   "metadata": {},
   "source": [
    "# we are using only 1 feature  , essetially the previous  sales data "
   ]
  },
  {
   "cell_type": "code",
   "execution_count": 42,
   "metadata": {},
   "outputs": [],
   "source": [
    "n_features=1"
   ]
  },
  {
   "cell_type": "code",
   "execution_count": 43,
   "metadata": {},
   "outputs": [],
   "source": [
    "#inpiut_shape= length of batch * nuimber of features \n",
    "model= Sequential()\n",
    "model.add(LSTM(units=100  , activation ='relu' ,input_shape=(length,n_features)))\n",
    "# we need to make sure we  add a  final dense layer  to have one final predictive output \n",
    "model.add(Dense(1))\n",
    "model.compile(optimizer='adam',loss='mse')\n",
    "## loss is mse ,  mean squared error , since we  are workng on continuous  sales data "
   ]
  },
  {
   "cell_type": "code",
   "execution_count": 44,
   "metadata": {},
   "outputs": [
    {
     "name": "stdout",
     "output_type": "stream",
     "text": [
      "Model: \"sequential\"\n",
      "_________________________________________________________________\n",
      "Layer (type)                 Output Shape              Param #   \n",
      "=================================================================\n",
      "lstm (LSTM)                  (None, 100)               40800     \n",
      "_________________________________________________________________\n",
      "dense (Dense)                (None, 1)                 101       \n",
      "=================================================================\n",
      "Total params: 40,901\n",
      "Trainable params: 40,901\n",
      "Non-trainable params: 0\n",
      "_________________________________________________________________\n"
     ]
    }
   ],
   "source": [
    "model.summary()"
   ]
  },
  {
   "cell_type": "markdown",
   "metadata": {},
   "source": [
    "# as suggested earlier , recurrent neural networks  take a really longer time to train  \n",
    "# and  it may take many epochs  fr training \n",
    "# so it would be nice to take an early stopping mechanism \n",
    "# so i can set an  arbritrarily  hugh number of  epochs  qnd let tensorlfow decide  and do teh work of figuring out \n",
    "# when to stop training \n",
    "## we ll do  that  by saying  fro tensorflow  that carries   callbacks import "
   ]
  },
  {
   "cell_type": "code",
   "execution_count": 45,
   "metadata": {},
   "outputs": [],
   "source": [
    "from tensorflow.keras.callbacks import EarlyStopping"
   ]
  },
  {
   "cell_type": "code",
   "execution_count": 46,
   "metadata": {},
   "outputs": [],
   "source": [
    "early_stop =EarlyStopping(monitor='val_loss',patience=2)"
   ]
  },
  {
   "cell_type": "code",
   "execution_count": 47,
   "metadata": {},
   "outputs": [
    {
     "data": {
      "text/plain": [
       "(<tensorflow.python.keras.callbacks.EarlyStopping at 0x1e85655ba48>,\n",
       " tensorflow.python.keras.callbacks.EarlyStopping)"
      ]
     },
     "execution_count": 47,
     "metadata": {},
     "output_type": "execute_result"
    }
   ],
   "source": [
    "early_stop , type(early_stop)"
   ]
  },
  {
   "cell_type": "code",
   "execution_count": 48,
   "metadata": {},
   "outputs": [],
   "source": [
    "# its time to cerate validation generator \n",
    "\n",
    "validation_generator=TimeseriesGenerator(scaled_test , scaled_test,length =length , batch_size=1)"
   ]
  },
  {
   "cell_type": "markdown",
   "metadata": {},
   "source": [
    "# this is just a carbon copy of  our prevoous time series generatyor , \n",
    "# except this time , we will be passing  the test data instead of train data "
   ]
  },
  {
   "cell_type": "code",
   "execution_count": 49,
   "metadata": {},
   "outputs": [
    {
     "name": "stdout",
     "output_type": "stream",
     "text": [
      "WARNING:tensorflow:From <ipython-input-49-09c3fe6ff251>:1: Model.fit_generator (from tensorflow.python.keras.engine.training) is deprecated and will be removed in a future version.\n",
      "Instructions for updating:\n",
      "Please use Model.fit, which supports generators.\n",
      "WARNING:tensorflow:sample_weight modes were coerced from\n",
      "  ...\n",
      "    to  \n",
      "  ['...']\n",
      "WARNING:tensorflow:sample_weight modes were coerced from\n",
      "  ...\n",
      "    to  \n",
      "  ['...']\n",
      "Train for 304 steps, validate for 6 steps\n",
      "Epoch 1/20\n",
      "304/304 [==============================] - 5s 15ms/step - loss: 0.0231 - val_loss: 0.0071\n",
      "Epoch 2/20\n",
      "304/304 [==============================] - 3s 11ms/step - loss: 0.0167 - val_loss: 0.0038\n",
      "Epoch 3/20\n",
      "304/304 [==============================] - 3s 11ms/step - loss: 0.0138 - val_loss: 0.0100\n",
      "Epoch 4/20\n",
      "304/304 [==============================] - 3s 11ms/step - loss: 0.0045 - val_loss: 0.0022\n",
      "Epoch 5/20\n",
      "304/304 [==============================] - 3s 11ms/step - loss: 0.0037 - val_loss: 0.0025\n",
      "Epoch 6/20\n",
      "304/304 [==============================] - 3s 11ms/step - loss: 0.0019 - val_loss: 0.0045.00\n"
     ]
    },
    {
     "data": {
      "text/plain": [
       "<tensorflow.python.keras.callbacks.History at 0x1e856847ec8>"
      ]
     },
     "execution_count": 49,
     "metadata": {},
     "output_type": "execute_result"
    }
   ],
   "source": [
    "model.fit_generator(generator, epochs =20 , validation_data= validation_generator , callbacks=[early_stop])"
   ]
  },
  {
   "cell_type": "markdown",
   "metadata": {},
   "source": [
    "# in my notebook , it took around  6 , epochs  to finish training "
   ]
  },
  {
   "cell_type": "code",
   "execution_count": 50,
   "metadata": {},
   "outputs": [],
   "source": [
    "losses=pd.DataFrame(model.history.history)"
   ]
  },
  {
   "cell_type": "code",
   "execution_count": 51,
   "metadata": {},
   "outputs": [
    {
     "data": {
      "text/plain": [
       "<matplotlib.axes._subplots.AxesSubplot at 0x1e8a243b308>"
      ]
     },
     "execution_count": 51,
     "metadata": {},
     "output_type": "execute_result"
    },
    {
     "data": {
      "image/png": "[encoded data removed]",
      "text/plain": [
       "<Figure size 432x288 with 1 Axes>"
      ]
     },
     "metadata": {
      "needs_background": "light"
     },
     "output_type": "display_data"
    }
   ],
   "source": [
    "losses.plot()"
   ]
  },
  {
   "cell_type": "markdown",
   "metadata": {},
   "source": [
    "# looks like there was quite a bit of noise and then we went down to our original value , that was kind of minimum , that is around 3 epochs "
   ]
  },
  {
   "cell_type": "markdown",
   "metadata": {},
   "source": [
    "# patience is added  becasue there can be bit of noise  in the model  traning in the beginning \n",
    "# ,   if  there is too much patience ,  then later too much of noise can be added , hence it kind of balanace "
   ]
  },
  {
   "cell_type": "code",
   "execution_count": 55,
   "metadata": {},
   "outputs": [],
   "source": [
    "test_predictions = []\n",
    "\n",
    "first_eval_batch = scaled_train[-length:]\n",
    "current_batch = first_eval_batch.reshape((1, length, n_features))"
   ]
  },
  {
   "cell_type": "code",
   "execution_count": 56,
   "metadata": {},
   "outputs": [
    {
     "name": "stdout",
     "output_type": "stream",
     "text": [
      "Checking the first-eval_batch [[0.53252977]\n",
      " [0.48591345]\n",
      " [0.49364653]\n",
      " [0.56629393]\n",
      " [0.46405751]\n",
      " [0.48536886]\n",
      " [0.63534708]\n",
      " [0.97233517]\n",
      " [0.32468051]\n",
      " [0.42285071]\n",
      " [0.5615016 ]\n",
      " [0.49658728]]\n",
      "Checking the current_batch [[[0.53252977]\n",
      "  [0.48591345]\n",
      "  [0.49364653]\n",
      "  [0.56629393]\n",
      "  [0.46405751]\n",
      "  [0.48536886]\n",
      "  [0.63534708]\n",
      "  [0.97233517]\n",
      "  [0.32468051]\n",
      "  [0.42285071]\n",
      "  [0.5615016 ]\n",
      "  [0.49658728]]]\n"
     ]
    }
   ],
   "source": [
    "# first check  few things \n",
    "\n",
    "# check first_Eval_batch\n",
    "\n",
    "print(f\"Checking the first-eval_batch {first_eval_batch}\")\n",
    "\n",
    "\n",
    "print(f\"Checking the current_batch {current_batch}\")"
   ]
  },
  {
   "cell_type": "code",
   "execution_count": 60,
   "metadata": {},
   "outputs": [
    {
     "name": "stdout",
     "output_type": "stream",
     "text": [
      " shape of first_eval_batch:(12, 1) \n",
      " . Shape of current_batch:   (1, 12, 1)\n"
     ]
    }
   ],
   "source": [
    "print(f\" shape of first_eval_batch:{first_eval_batch.shape} \\n . Shape of current_batch:   {current_batch.shape}\")"
   ]
  },
  {
   "cell_type": "code",
   "execution_count": 61,
   "metadata": {},
   "outputs": [
    {
     "name": "stdout",
     "output_type": "stream",
     "text": [
      "printing the current_batch[0] : [[0.53252977]\n",
      " [0.48591345]\n",
      " [0.49364653]\n",
      " [0.56629393]\n",
      " [0.46405751]\n",
      " [0.48536886]\n",
      " [0.63534708]\n",
      " [0.97233517]\n",
      " [0.32468051]\n",
      " [0.42285071]\n",
      " [0.5615016 ]\n",
      " [0.49658728]]\n",
      "printing the current_batch[0] : [[0.48591345]\n",
      " [0.49364653]\n",
      " [0.56629393]\n",
      " [0.46405751]\n",
      " [0.48536886]\n",
      " [0.63534708]\n",
      " [0.97233517]\n",
      " [0.32468051]\n",
      " [0.42285071]\n",
      " [0.5615016 ]\n",
      " [0.49658728]\n",
      " [0.57970011]]\n",
      "printing the current_batch[0] : [[0.49364653]\n",
      " [0.56629393]\n",
      " [0.46405751]\n",
      " [0.48536886]\n",
      " [0.63534708]\n",
      " [0.97233517]\n",
      " [0.32468051]\n",
      " [0.42285071]\n",
      " [0.5615016 ]\n",
      " [0.49658728]\n",
      " [0.57970011]\n",
      " [0.53589702]]\n",
      "printing the current_batch[0] : [[0.56629393]\n",
      " [0.46405751]\n",
      " [0.48536886]\n",
      " [0.63534708]\n",
      " [0.97233517]\n",
      " [0.32468051]\n",
      " [0.42285071]\n",
      " [0.5615016 ]\n",
      " [0.49658728]\n",
      " [0.57970011]\n",
      " [0.53589702]\n",
      " [0.54612982]]\n",
      "printing the current_batch[0] : [[0.46405751]\n",
      " [0.48536886]\n",
      " [0.63534708]\n",
      " [0.97233517]\n",
      " [0.32468051]\n",
      " [0.42285071]\n",
      " [0.5615016 ]\n",
      " [0.49658728]\n",
      " [0.57970011]\n",
      " [0.53589702]\n",
      " [0.54612982]\n",
      " [0.61844862]]\n",
      "printing the current_batch[0] : [[0.48536886]\n",
      " [0.63534708]\n",
      " [0.97233517]\n",
      " [0.32468051]\n",
      " [0.42285071]\n",
      " [0.5615016 ]\n",
      " [0.49658728]\n",
      " [0.57970011]\n",
      " [0.53589702]\n",
      " [0.54612982]\n",
      " [0.61844862]\n",
      " [0.52452689]]\n",
      "printing the current_batch[0] : [[0.63534708]\n",
      " [0.97233517]\n",
      " [0.32468051]\n",
      " [0.42285071]\n",
      " [0.5615016 ]\n",
      " [0.49658728]\n",
      " [0.57970011]\n",
      " [0.53589702]\n",
      " [0.54612982]\n",
      " [0.61844862]\n",
      " [0.52452689]\n",
      " [0.54818076]]\n",
      "printing the current_batch[0] : [[0.97233517]\n",
      " [0.32468051]\n",
      " [0.42285071]\n",
      " [0.5615016 ]\n",
      " [0.49658728]\n",
      " [0.57970011]\n",
      " [0.53589702]\n",
      " [0.54612982]\n",
      " [0.61844862]\n",
      " [0.52452689]\n",
      " [0.54818076]\n",
      " [0.70106053]]\n",
      "printing the current_batch[0] : [[0.32468051]\n",
      " [0.42285071]\n",
      " [0.5615016 ]\n",
      " [0.49658728]\n",
      " [0.57970011]\n",
      " [0.53589702]\n",
      " [0.54612982]\n",
      " [0.61844862]\n",
      " [0.52452689]\n",
      " [0.54818076]\n",
      " [0.70106053]\n",
      " [1.07254171]]\n",
      "printing the current_batch[0] : [[0.42285071]\n",
      " [0.5615016 ]\n",
      " [0.49658728]\n",
      " [0.57970011]\n",
      " [0.53589702]\n",
      " [0.54612982]\n",
      " [0.61844862]\n",
      " [0.52452689]\n",
      " [0.54818076]\n",
      " [0.70106053]\n",
      " [1.07254171]\n",
      " [0.38678566]]\n",
      "printing the current_batch[0] : [[0.5615016 ]\n",
      " [0.49658728]\n",
      " [0.57970011]\n",
      " [0.53589702]\n",
      " [0.54612982]\n",
      " [0.61844862]\n",
      " [0.52452689]\n",
      " [0.54818076]\n",
      " [0.70106053]\n",
      " [1.07254171]\n",
      " [0.38678566]\n",
      " [0.47842762]]\n",
      "printing the current_batch[0] : [[0.49658728]\n",
      " [0.57970011]\n",
      " [0.53589702]\n",
      " [0.54612982]\n",
      " [0.61844862]\n",
      " [0.52452689]\n",
      " [0.54818076]\n",
      " [0.70106053]\n",
      " [1.07254171]\n",
      " [0.38678566]\n",
      " [0.47842762]\n",
      " [0.61507791]]\n",
      "printing the current_batch[0] : [[0.57970011]\n",
      " [0.53589702]\n",
      " [0.54612982]\n",
      " [0.61844862]\n",
      " [0.52452689]\n",
      " [0.54818076]\n",
      " [0.70106053]\n",
      " [1.07254171]\n",
      " [0.38678566]\n",
      " [0.47842762]\n",
      " [0.61507791]\n",
      " [0.55444932]]\n",
      "printing the current_batch[0] : [[0.53589702]\n",
      " [0.54612982]\n",
      " [0.61844862]\n",
      " [0.52452689]\n",
      " [0.54818076]\n",
      " [0.70106053]\n",
      " [1.07254171]\n",
      " [0.38678566]\n",
      " [0.47842762]\n",
      " [0.61507791]\n",
      " [0.55444932]\n",
      " [0.63611269]]\n",
      "printing the current_batch[0] : [[0.54612982]\n",
      " [0.61844862]\n",
      " [0.52452689]\n",
      " [0.54818076]\n",
      " [0.70106053]\n",
      " [1.07254171]\n",
      " [0.38678566]\n",
      " [0.47842762]\n",
      " [0.61507791]\n",
      " [0.55444932]\n",
      " [0.63611269]\n",
      " [0.59639513]]\n",
      "printing the current_batch[0] : [[0.61844862]\n",
      " [0.52452689]\n",
      " [0.54818076]\n",
      " [0.70106053]\n",
      " [1.07254171]\n",
      " [0.38678566]\n",
      " [0.47842762]\n",
      " [0.61507791]\n",
      " [0.55444932]\n",
      " [0.63611269]\n",
      " [0.59639513]\n",
      " [0.60866278]]\n",
      "printing the current_batch[0] : [[0.52452689]\n",
      " [0.54818076]\n",
      " [0.70106053]\n",
      " [1.07254171]\n",
      " [0.38678566]\n",
      " [0.47842762]\n",
      " [0.61507791]\n",
      " [0.55444932]\n",
      " [0.63611269]\n",
      " [0.59639513]\n",
      " [0.60866278]\n",
      " [0.67913842]]\n",
      "printing the current_batch[0] : [[0.54818076]\n",
      " [0.70106053]\n",
      " [1.07254171]\n",
      " [0.38678566]\n",
      " [0.47842762]\n",
      " [0.61507791]\n",
      " [0.55444932]\n",
      " [0.63611269]\n",
      " [0.59639513]\n",
      " [0.60866278]\n",
      " [0.67913842]\n",
      " [0.59437549]]\n"
     ]
    }
   ],
   "source": [
    "for i in range(len(test)):\n",
    "    \n",
    "    # get prediction 1 time stamp ahead ([0] is for grabbing just the number instead of [array])\n",
    "    ## for each and every loop of i , the time windows get shifted by 1 unit \n",
    "    current_pred = model.predict(current_batch)[0]\n",
    "    print(f\"printing the current_batch[0] : {current_batch[0]}\")\n",
    "    # store prediction\n",
    "    test_predictions.append(current_pred) \n",
    "    \n",
    "    # update batch to now include prediction and drop first value\n",
    "    current_batch = np.append(current_batch[:,1:,:],[[current_pred]],axis=1)"
   ]
  },
  {
   "cell_type": "code",
   "execution_count": 62,
   "metadata": {},
   "outputs": [
    {
     "name": "stdout",
     "output_type": "stream",
     "text": [
      " printing the test_predictions :\n",
      " :[array([0.5797001], dtype=float32), array([0.535897], dtype=float32), array([0.5461298], dtype=float32), array([0.6184486], dtype=float32), array([0.5245269], dtype=float32), array([0.54818076], dtype=float32), array([0.70106053], dtype=float32), array([1.0725417], dtype=float32), array([0.38678566], dtype=float32), array([0.47842762], dtype=float32), array([0.6150779], dtype=float32), array([0.5544493], dtype=float32), array([0.6361127], dtype=float32), array([0.59639513], dtype=float32), array([0.6086628], dtype=float32), array([0.6791384], dtype=float32), array([0.5943755], dtype=float32), array([0.6201893], dtype=float32)]\n"
     ]
    }
   ],
   "source": [
    "print(f\" printing the test_predictions :\\n :{test_predictions}\")"
   ]
  },
  {
   "cell_type": "markdown",
   "metadata": {},
   "source": [
    "# inverse transformations and compare "
   ]
  },
  {
   "cell_type": "code",
   "execution_count": 64,
   "metadata": {},
   "outputs": [],
   "source": [
    "correct_test_predictions= scaler.inverse_transform(test_predictions)"
   ]
  },
  {
   "cell_type": "code",
   "execution_count": 65,
   "metadata": {},
   "outputs": [
    {
     "data": {
      "text/plain": [
       "array([[22905.25989437],\n",
       "       [21698.74742317],\n",
       "       [21980.5998373 ],\n",
       "       [23972.5486536 ],\n",
       "       [21385.56877089],\n",
       "       [22037.0908246 ],\n",
       "       [26248.01133537],\n",
       "       [36480.08896255],\n",
       "       [17591.62411475],\n",
       "       [20115.81033063],\n",
       "       [23879.70603037],\n",
       "       [22209.75206566],\n",
       "       [24459.08793259],\n",
       "       [23365.1075964 ],\n",
       "       [23703.00772524],\n",
       "       [25644.18869591],\n",
       "       [23309.47852802],\n",
       "       [24020.49433041]])"
      ]
     },
     "execution_count": 65,
     "metadata": {},
     "output_type": "execute_result"
    }
   ],
   "source": [
    "correct_test_predictions"
   ]
  },
  {
   "cell_type": "code",
   "execution_count": 66,
   "metadata": {},
   "outputs": [
    {
     "data": {
      "text/html": [
       "<div>\n",
       "<style scoped>\n",
       "    .dataframe tbody tr th:only-of-type {\n",
       "        vertical-align: middle;\n",
       "    }\n",
       "\n",
       "    .dataframe tbody tr th {\n",
       "        vertical-align: top;\n",
       "    }\n",
       "\n",
       "    .dataframe thead th {\n",
       "        text-align: right;\n",
       "    }\n",
       "</style>\n",
       "<table border=\"1\" class=\"dataframe\">\n",
       "  <thead>\n",
       "    <tr style=\"text-align: right;\">\n",
       "      <th></th>\n",
       "      <th>Sales</th>\n",
       "    </tr>\n",
       "    <tr>\n",
       "      <th>DATE</th>\n",
       "      <th></th>\n",
       "    </tr>\n",
       "  </thead>\n",
       "  <tbody>\n",
       "    <tr>\n",
       "      <th>2018-05-01</th>\n",
       "      <td>23764</td>\n",
       "    </tr>\n",
       "    <tr>\n",
       "      <th>2018-06-01</th>\n",
       "      <td>21589</td>\n",
       "    </tr>\n",
       "    <tr>\n",
       "      <th>2018-07-01</th>\n",
       "      <td>21919</td>\n",
       "    </tr>\n",
       "    <tr>\n",
       "      <th>2018-08-01</th>\n",
       "      <td>23381</td>\n",
       "    </tr>\n",
       "    <tr>\n",
       "      <th>2018-09-01</th>\n",
       "      <td>20260</td>\n",
       "    </tr>\n",
       "    <tr>\n",
       "      <th>2018-10-01</th>\n",
       "      <td>21473</td>\n",
       "    </tr>\n",
       "    <tr>\n",
       "      <th>2018-11-01</th>\n",
       "      <td>25831</td>\n",
       "    </tr>\n",
       "    <tr>\n",
       "      <th>2018-12-01</th>\n",
       "      <td>34706</td>\n",
       "    </tr>\n",
       "    <tr>\n",
       "      <th>2019-01-01</th>\n",
       "      <td>16410</td>\n",
       "    </tr>\n",
       "    <tr>\n",
       "      <th>2019-02-01</th>\n",
       "      <td>18134</td>\n",
       "    </tr>\n",
       "    <tr>\n",
       "      <th>2019-03-01</th>\n",
       "      <td>22093</td>\n",
       "    </tr>\n",
       "    <tr>\n",
       "      <th>2019-04-01</th>\n",
       "      <td>21597</td>\n",
       "    </tr>\n",
       "    <tr>\n",
       "      <th>2019-05-01</th>\n",
       "      <td>23200</td>\n",
       "    </tr>\n",
       "    <tr>\n",
       "      <th>2019-06-01</th>\n",
       "      <td>21123</td>\n",
       "    </tr>\n",
       "    <tr>\n",
       "      <th>2019-07-01</th>\n",
       "      <td>21714</td>\n",
       "    </tr>\n",
       "    <tr>\n",
       "      <th>2019-08-01</th>\n",
       "      <td>23791</td>\n",
       "    </tr>\n",
       "    <tr>\n",
       "      <th>2019-09-01</th>\n",
       "      <td>19695</td>\n",
       "    </tr>\n",
       "    <tr>\n",
       "      <th>2019-10-01</th>\n",
       "      <td>21113</td>\n",
       "    </tr>\n",
       "  </tbody>\n",
       "</table>\n",
       "</div>"
      ],
      "text/plain": [
       "            Sales\n",
       "DATE             \n",
       "2018-05-01  23764\n",
       "2018-06-01  21589\n",
       "2018-07-01  21919\n",
       "2018-08-01  23381\n",
       "2018-09-01  20260\n",
       "2018-10-01  21473\n",
       "2018-11-01  25831\n",
       "2018-12-01  34706\n",
       "2019-01-01  16410\n",
       "2019-02-01  18134\n",
       "2019-03-01  22093\n",
       "2019-04-01  21597\n",
       "2019-05-01  23200\n",
       "2019-06-01  21123\n",
       "2019-07-01  21714\n",
       "2019-08-01  23791\n",
       "2019-09-01  19695\n",
       "2019-10-01  21113"
      ]
     },
     "execution_count": 66,
     "metadata": {},
     "output_type": "execute_result"
    }
   ],
   "source": [
    "test"
   ]
  },
  {
   "cell_type": "code",
   "execution_count": 67,
   "metadata": {},
   "outputs": [
    {
     "name": "stderr",
     "output_type": "stream",
     "text": [
      "C:\\Anacon\\envs\\tf-gpu\\lib\\site-packages\\ipykernel_launcher.py:1: SettingWithCopyWarning: \n",
      "A value is trying to be set on a copy of a slice from a DataFrame.\n",
      "Try using .loc[row_indexer,col_indexer] = value instead\n",
      "\n",
      "See the caveats in the documentation: https://pandas.pydata.org/pandas-docs/stable/user_guide/indexing.html#returning-a-view-versus-a-copy\n",
      "  \"\"\"Entry point for launching an IPython kernel.\n"
     ]
    }
   ],
   "source": [
    "test['True_predictions']=correct_test_predictions"
   ]
  },
  {
   "cell_type": "code",
   "execution_count": 68,
   "metadata": {},
   "outputs": [
    {
     "data": {
      "text/html": [
       "<div>\n",
       "<style scoped>\n",
       "    .dataframe tbody tr th:only-of-type {\n",
       "        vertical-align: middle;\n",
       "    }\n",
       "\n",
       "    .dataframe tbody tr th {\n",
       "        vertical-align: top;\n",
       "    }\n",
       "\n",
       "    .dataframe thead th {\n",
       "        text-align: right;\n",
       "    }\n",
       "</style>\n",
       "<table border=\"1\" class=\"dataframe\">\n",
       "  <thead>\n",
       "    <tr style=\"text-align: right;\">\n",
       "      <th></th>\n",
       "      <th>Sales</th>\n",
       "      <th>True_predictions</th>\n",
       "    </tr>\n",
       "    <tr>\n",
       "      <th>DATE</th>\n",
       "      <th></th>\n",
       "      <th></th>\n",
       "    </tr>\n",
       "  </thead>\n",
       "  <tbody>\n",
       "    <tr>\n",
       "      <th>2018-05-01</th>\n",
       "      <td>23764</td>\n",
       "      <td>22905.259894</td>\n",
       "    </tr>\n",
       "    <tr>\n",
       "      <th>2018-06-01</th>\n",
       "      <td>21589</td>\n",
       "      <td>21698.747423</td>\n",
       "    </tr>\n",
       "    <tr>\n",
       "      <th>2018-07-01</th>\n",
       "      <td>21919</td>\n",
       "      <td>21980.599837</td>\n",
       "    </tr>\n",
       "    <tr>\n",
       "      <th>2018-08-01</th>\n",
       "      <td>23381</td>\n",
       "      <td>23972.548654</td>\n",
       "    </tr>\n",
       "    <tr>\n",
       "      <th>2018-09-01</th>\n",
       "      <td>20260</td>\n",
       "      <td>21385.568771</td>\n",
       "    </tr>\n",
       "    <tr>\n",
       "      <th>2018-10-01</th>\n",
       "      <td>21473</td>\n",
       "      <td>22037.090825</td>\n",
       "    </tr>\n",
       "    <tr>\n",
       "      <th>2018-11-01</th>\n",
       "      <td>25831</td>\n",
       "      <td>26248.011335</td>\n",
       "    </tr>\n",
       "    <tr>\n",
       "      <th>2018-12-01</th>\n",
       "      <td>34706</td>\n",
       "      <td>36480.088963</td>\n",
       "    </tr>\n",
       "    <tr>\n",
       "      <th>2019-01-01</th>\n",
       "      <td>16410</td>\n",
       "      <td>17591.624115</td>\n",
       "    </tr>\n",
       "    <tr>\n",
       "      <th>2019-02-01</th>\n",
       "      <td>18134</td>\n",
       "      <td>20115.810331</td>\n",
       "    </tr>\n",
       "    <tr>\n",
       "      <th>2019-03-01</th>\n",
       "      <td>22093</td>\n",
       "      <td>23879.706030</td>\n",
       "    </tr>\n",
       "    <tr>\n",
       "      <th>2019-04-01</th>\n",
       "      <td>21597</td>\n",
       "      <td>22209.752066</td>\n",
       "    </tr>\n",
       "    <tr>\n",
       "      <th>2019-05-01</th>\n",
       "      <td>23200</td>\n",
       "      <td>24459.087933</td>\n",
       "    </tr>\n",
       "    <tr>\n",
       "      <th>2019-06-01</th>\n",
       "      <td>21123</td>\n",
       "      <td>23365.107596</td>\n",
       "    </tr>\n",
       "    <tr>\n",
       "      <th>2019-07-01</th>\n",
       "      <td>21714</td>\n",
       "      <td>23703.007725</td>\n",
       "    </tr>\n",
       "    <tr>\n",
       "      <th>2019-08-01</th>\n",
       "      <td>23791</td>\n",
       "      <td>25644.188696</td>\n",
       "    </tr>\n",
       "    <tr>\n",
       "      <th>2019-09-01</th>\n",
       "      <td>19695</td>\n",
       "      <td>23309.478528</td>\n",
       "    </tr>\n",
       "    <tr>\n",
       "      <th>2019-10-01</th>\n",
       "      <td>21113</td>\n",
       "      <td>24020.494330</td>\n",
       "    </tr>\n",
       "  </tbody>\n",
       "</table>\n",
       "</div>"
      ],
      "text/plain": [
       "            Sales  True_predictions\n",
       "DATE                               \n",
       "2018-05-01  23764      22905.259894\n",
       "2018-06-01  21589      21698.747423\n",
       "2018-07-01  21919      21980.599837\n",
       "2018-08-01  23381      23972.548654\n",
       "2018-09-01  20260      21385.568771\n",
       "2018-10-01  21473      22037.090825\n",
       "2018-11-01  25831      26248.011335\n",
       "2018-12-01  34706      36480.088963\n",
       "2019-01-01  16410      17591.624115\n",
       "2019-02-01  18134      20115.810331\n",
       "2019-03-01  22093      23879.706030\n",
       "2019-04-01  21597      22209.752066\n",
       "2019-05-01  23200      24459.087933\n",
       "2019-06-01  21123      23365.107596\n",
       "2019-07-01  21714      23703.007725\n",
       "2019-08-01  23791      25644.188696\n",
       "2019-09-01  19695      23309.478528\n",
       "2019-10-01  21113      24020.494330"
      ]
     },
     "execution_count": 68,
     "metadata": {},
     "output_type": "execute_result"
    }
   ],
   "source": [
    "test"
   ]
  },
  {
   "cell_type": "code",
   "execution_count": 70,
   "metadata": {},
   "outputs": [
    {
     "data": {
      "text/plain": [
       "<matplotlib.axes._subplots.AxesSubplot at 0x1e8a6131a88>"
      ]
     },
     "execution_count": 70,
     "metadata": {},
     "output_type": "execute_result"
    },
    {
     "data": {
      "image/png": "[encoded data removed]",
      "text/plain": [
       "<Figure size 1080x648 with 1 Axes>"
      ]
     },
     "metadata": {
      "needs_background": "light"
     },
     "output_type": "display_data"
    }
   ],
   "source": [
    "test.plot(figsize=(15,9))"
   ]
  },
  {
   "cell_type": "markdown",
   "metadata": {},
   "source": [
    "# the above network does not have a true understanding of things like december is a holiday , where there can be a peak of sales ,\n",
    "# instead it is learning  based of   the previous  cycles  what the trends should be \n",
    "# also  , seasonality is  almost taken care of \n",
    " ## another thing we can expriement  is , we  can try to use default activation of LSTM , instead of sending it \n",
    "# instead of sending   it to RELU  and see if it improves  our results \n",
    "\n",
    "## so there is a lot of  different options  we can play  with removing  or adding roe neuerons  t the lstm neuron layers \n",
    "#  but lets go ahead  and try to forecast  into the unknown future \n",
    "# what we will do is to retrain  on our data ,  and then again do our scaling \n",
    "# do a retraining  and then do a true forecast"
   ]
  },
  {
   "cell_type": "markdown",
   "metadata": {},
   "source": [
    "# retrain and forecasting"
   ]
  },
  {
   "cell_type": "code",
   "execution_count": 73,
   "metadata": {},
   "outputs": [],
   "source": [
    "# i will scale my entore data set \n",
    "full_scaler= MinMaxScaler()\n",
    "scaled_full_data = full_scaler.fit_transform(df)"
   ]
  },
  {
   "cell_type": "code",
   "execution_count": 74,
   "metadata": {},
   "outputs": [],
   "source": [
    "length =12## length of  output sequences  in number of targets \n",
    "generator =TimeseriesGenerator(scaled_full_data ,  scaled_full_data ,  length=length ,  batch_size=1)"
   ]
  },
  {
   "cell_type": "markdown",
   "metadata": {},
   "source": [
    "#  re-create the model "
   ]
  },
  {
   "cell_type": "code",
   "execution_count": 76,
   "metadata": {},
   "outputs": [],
   "source": [
    "model = Sequential()\n",
    "model.add(LSTM(100,  activation ='relu', input_shape=(length , n_features)))\n",
    "model.add(Dense(1))\n",
    "model.compile(optimizer= 'adam', loss='mse')"
   ]
  },
  {
   "cell_type": "markdown",
   "metadata": {},
   "source": [
    "# a  commn question now : how many epochs should I be choosing and why cant just do an early stop call back again \n",
    "# when i am forecasting into unknown future , after retraining my  model \n",
    "\n",
    "# recall , early stopping works  the way is it evaluates the validatio loss\n",
    "# recall the validation generator works on data that the model does not get to train on \n",
    "## however by definition of this forecast , we are training on whole data \n",
    "## hence here is no cncpet  of early stopping  / validation \n",
    "\n",
    " # PLEASE NOTE , we are now forecasting into totally unknown future"
   ]
  },
  {
   "cell_type": "markdown",
   "metadata": {},
   "source": [
    "# since from the above loss diagram , we got least number of epochs  at epoch =3  during testing  phase, hence we   choose 3 "
   ]
  },
  {
   "cell_type": "code",
   "execution_count": 77,
   "metadata": {},
   "outputs": [
    {
     "name": "stdout",
     "output_type": "stream",
     "text": [
      "WARNING:tensorflow:sample_weight modes were coerced from\n",
      "  ...\n",
      "    to  \n",
      "  ['...']\n",
      "Train for 322 steps\n",
      "Epoch 1/3\n",
      "322/322 [==============================] - 5s 16ms/step - loss: 0.0249: 0s - loss\n",
      "Epoch 2/3\n",
      "322/322 [==============================] - 4s 11ms/step - loss: 0.0164\n",
      "Epoch 3/3\n",
      "322/322 [==============================] - 4s 11ms/step - loss: 0.0085\n"
     ]
    },
    {
     "data": {
      "text/plain": [
       "<tensorflow.python.keras.callbacks.History at 0x1e8a7cfb488>"
      ]
     },
     "execution_count": 77,
     "metadata": {},
     "output_type": "execute_result"
    }
   ],
   "source": [
    "model.fit_generator(generator , epochs =3)"
   ]
  },
  {
   "cell_type": "code",
   "execution_count": 78,
   "metadata": {},
   "outputs": [],
   "source": [
    "forecast = []\n",
    "# Replace periods with whatever forecast length you want\n",
    "periods = 12\n",
    "\n",
    "first_eval_batch = scaled_full_data[-length:]\n",
    "current_batch = first_eval_batch.reshape((1, length, n_features))\n",
    "\n",
    "for i in range(periods):\n",
    "    \n",
    "    # get prediction 1 time stamp ahead ([0] is for grabbing just the number instead of [array])\n",
    "    current_pred = model.predict(current_batch)[0]\n",
    "    \n",
    "    # store prediction\n",
    "    forecast.append(current_pred) \n",
    "    \n",
    "    # update batch to now include prediction and drop first value\n",
    "    current_batch = np.append(current_batch[:,1:,:],[[current_pred]],axis=1)"
   ]
  },
  {
   "cell_type": "code",
   "execution_count": 79,
   "metadata": {},
   "outputs": [],
   "source": [
    "forecast = scaler.inverse_transform(forecast)"
   ]
  },
  {
   "cell_type": "code",
   "execution_count": 80,
   "metadata": {},
   "outputs": [
    {
     "data": {
      "text/plain": [
       "array([[29411.1503644 ],\n",
       "       [38547.79142284],\n",
       "       [19467.77207112],\n",
       "       [20788.26388025],\n",
       "       [24012.95705462],\n",
       "       [23718.90807724],\n",
       "       [25210.21990442],\n",
       "       [23589.01114893],\n",
       "       [24281.373384  ],\n",
       "       [26235.70313311],\n",
       "       [23297.142416  ],\n",
       "       [26417.92921162]])"
      ]
     },
     "execution_count": 80,
     "metadata": {},
     "output_type": "execute_result"
    }
   ],
   "source": [
    "forecast"
   ]
  },
  {
   "cell_type": "markdown",
   "metadata": {},
   "source": [
    "# Creating new timestamp index with pandas. "
   ]
  },
  {
   "cell_type": "code",
   "execution_count": 81,
   "metadata": {},
   "outputs": [
    {
     "data": {
      "text/html": [
       "<div>\n",
       "<style scoped>\n",
       "    .dataframe tbody tr th:only-of-type {\n",
       "        vertical-align: middle;\n",
       "    }\n",
       "\n",
       "    .dataframe tbody tr th {\n",
       "        vertical-align: top;\n",
       "    }\n",
       "\n",
       "    .dataframe thead th {\n",
       "        text-align: right;\n",
       "    }\n",
       "</style>\n",
       "<table border=\"1\" class=\"dataframe\">\n",
       "  <thead>\n",
       "    <tr style=\"text-align: right;\">\n",
       "      <th></th>\n",
       "      <th>Sales</th>\n",
       "    </tr>\n",
       "    <tr>\n",
       "      <th>DATE</th>\n",
       "      <th></th>\n",
       "    </tr>\n",
       "  </thead>\n",
       "  <tbody>\n",
       "    <tr>\n",
       "      <th>1992-01-01</th>\n",
       "      <td>6938</td>\n",
       "    </tr>\n",
       "    <tr>\n",
       "      <th>1992-02-01</th>\n",
       "      <td>7524</td>\n",
       "    </tr>\n",
       "    <tr>\n",
       "      <th>1992-03-01</th>\n",
       "      <td>8475</td>\n",
       "    </tr>\n",
       "    <tr>\n",
       "      <th>1992-04-01</th>\n",
       "      <td>9401</td>\n",
       "    </tr>\n",
       "    <tr>\n",
       "      <th>1992-05-01</th>\n",
       "      <td>9558</td>\n",
       "    </tr>\n",
       "    <tr>\n",
       "      <th>...</th>\n",
       "      <td>...</td>\n",
       "    </tr>\n",
       "    <tr>\n",
       "      <th>2019-06-01</th>\n",
       "      <td>21123</td>\n",
       "    </tr>\n",
       "    <tr>\n",
       "      <th>2019-07-01</th>\n",
       "      <td>21714</td>\n",
       "    </tr>\n",
       "    <tr>\n",
       "      <th>2019-08-01</th>\n",
       "      <td>23791</td>\n",
       "    </tr>\n",
       "    <tr>\n",
       "      <th>2019-09-01</th>\n",
       "      <td>19695</td>\n",
       "    </tr>\n",
       "    <tr>\n",
       "      <th>2019-10-01</th>\n",
       "      <td>21113</td>\n",
       "    </tr>\n",
       "  </tbody>\n",
       "</table>\n",
       "<p>334 rows × 1 columns</p>\n",
       "</div>"
      ],
      "text/plain": [
       "            Sales\n",
       "DATE             \n",
       "1992-01-01   6938\n",
       "1992-02-01   7524\n",
       "1992-03-01   8475\n",
       "1992-04-01   9401\n",
       "1992-05-01   9558\n",
       "...           ...\n",
       "2019-06-01  21123\n",
       "2019-07-01  21714\n",
       "2019-08-01  23791\n",
       "2019-09-01  19695\n",
       "2019-10-01  21113\n",
       "\n",
       "[334 rows x 1 columns]"
      ]
     },
     "execution_count": 81,
     "metadata": {},
     "output_type": "execute_result"
    }
   ],
   "source": [
    "df"
   ]
  },
  {
   "cell_type": "code",
   "execution_count": 82,
   "metadata": {},
   "outputs": [],
   "source": [
    "forecast_index=pd.date_range(start='2019-11-01',periods=periods,freq='MS')"
   ]
  },
  {
   "cell_type": "code",
   "execution_count": 83,
   "metadata": {},
   "outputs": [],
   "source": [
    "forecast_df = pd.DataFrame(data=forecast,index=forecast_index,\n",
    "                           columns=['Forecast'])"
   ]
  },
  {
   "cell_type": "code",
   "execution_count": 84,
   "metadata": {},
   "outputs": [
    {
     "data": {
      "text/html": [
       "<div>\n",
       "<style scoped>\n",
       "    .dataframe tbody tr th:only-of-type {\n",
       "        vertical-align: middle;\n",
       "    }\n",
       "\n",
       "    .dataframe tbody tr th {\n",
       "        vertical-align: top;\n",
       "    }\n",
       "\n",
       "    .dataframe thead th {\n",
       "        text-align: right;\n",
       "    }\n",
       "</style>\n",
       "<table border=\"1\" class=\"dataframe\">\n",
       "  <thead>\n",
       "    <tr style=\"text-align: right;\">\n",
       "      <th></th>\n",
       "      <th>Forecast</th>\n",
       "    </tr>\n",
       "  </thead>\n",
       "  <tbody>\n",
       "    <tr>\n",
       "      <th>2019-11-01</th>\n",
       "      <td>29411.150364</td>\n",
       "    </tr>\n",
       "    <tr>\n",
       "      <th>2019-12-01</th>\n",
       "      <td>38547.791423</td>\n",
       "    </tr>\n",
       "    <tr>\n",
       "      <th>2020-01-01</th>\n",
       "      <td>19467.772071</td>\n",
       "    </tr>\n",
       "    <tr>\n",
       "      <th>2020-02-01</th>\n",
       "      <td>20788.263880</td>\n",
       "    </tr>\n",
       "    <tr>\n",
       "      <th>2020-03-01</th>\n",
       "      <td>24012.957055</td>\n",
       "    </tr>\n",
       "    <tr>\n",
       "      <th>2020-04-01</th>\n",
       "      <td>23718.908077</td>\n",
       "    </tr>\n",
       "    <tr>\n",
       "      <th>2020-05-01</th>\n",
       "      <td>25210.219904</td>\n",
       "    </tr>\n",
       "    <tr>\n",
       "      <th>2020-06-01</th>\n",
       "      <td>23589.011149</td>\n",
       "    </tr>\n",
       "    <tr>\n",
       "      <th>2020-07-01</th>\n",
       "      <td>24281.373384</td>\n",
       "    </tr>\n",
       "    <tr>\n",
       "      <th>2020-08-01</th>\n",
       "      <td>26235.703133</td>\n",
       "    </tr>\n",
       "    <tr>\n",
       "      <th>2020-09-01</th>\n",
       "      <td>23297.142416</td>\n",
       "    </tr>\n",
       "    <tr>\n",
       "      <th>2020-10-01</th>\n",
       "      <td>26417.929212</td>\n",
       "    </tr>\n",
       "  </tbody>\n",
       "</table>\n",
       "</div>"
      ],
      "text/plain": [
       "                Forecast\n",
       "2019-11-01  29411.150364\n",
       "2019-12-01  38547.791423\n",
       "2020-01-01  19467.772071\n",
       "2020-02-01  20788.263880\n",
       "2020-03-01  24012.957055\n",
       "2020-04-01  23718.908077\n",
       "2020-05-01  25210.219904\n",
       "2020-06-01  23589.011149\n",
       "2020-07-01  24281.373384\n",
       "2020-08-01  26235.703133\n",
       "2020-09-01  23297.142416\n",
       "2020-10-01  26417.929212"
      ]
     },
     "execution_count": 84,
     "metadata": {},
     "output_type": "execute_result"
    }
   ],
   "source": [
    "forecast_df"
   ]
  },
  {
   "cell_type": "code",
   "execution_count": 86,
   "metadata": {},
   "outputs": [
    {
     "data": {
      "text/plain": [
       "<matplotlib.axes._subplots.AxesSubplot at 0x1e8a2443648>"
      ]
     },
     "execution_count": 86,
     "metadata": {},
     "output_type": "execute_result"
    },
    {
     "data": {
      "image/png": "[encoded data removed]",
      "text/plain": [
       "<Figure size 432x288 with 1 Axes>"
      ]
     },
     "metadata": {
      "needs_background": "light"
     },
     "output_type": "display_data"
    }
   ],
   "source": [
    "df.plot()"
   ]
  },
  {
   "cell_type": "code",
   "execution_count": 87,
   "metadata": {},
   "outputs": [
    {
     "data": {
      "text/plain": [
       "<matplotlib.axes._subplots.AxesSubplot at 0x1e8a24134c8>"
      ]
     },
     "execution_count": 87,
     "metadata": {},
     "output_type": "execute_result"
    },
    {
     "data": {
      "image/png": "[encoded data removed]",
      "text/plain": [
       "<Figure size 432x288 with 1 Axes>"
      ]
     },
     "metadata": {
      "needs_background": "light"
     },
     "output_type": "display_data"
    }
   ],
   "source": [
    "forecast_df.plot()"
   ]
  },
  {
   "cell_type": "markdown",
   "metadata": {},
   "source": [
    "# joining pandas plots \n",
    "# https://stackoverflow.com/questions/13872533/plot-different-dataframes-in-the-same-figure"
   ]
  },
  {
   "cell_type": "code",
   "execution_count": 90,
   "metadata": {},
   "outputs": [
    {
     "data": {
      "text/plain": [
       "<matplotlib.axes._subplots.AxesSubplot at 0x1e8aaa7a348>"
      ]
     },
     "execution_count": 90,
     "metadata": {},
     "output_type": "execute_result"
    },
    {
     "data": {
      "image/png": "[encoded data removed]",
      "text/plain": [
       "<Figure size 864x360 with 1 Axes>"
      ]
     },
     "metadata": {
      "needs_background": "light"
     },
     "output_type": "display_data"
    }
   ],
   "source": [
    "ax=df.plot()\n",
    "forecast_df.plot(ax=ax, figsize=(12,5))\n",
    "\n"
   ]
  },
  {
   "cell_type": "markdown",
   "metadata": {},
   "source": [
    "# constructing the time series plot between  1st jan 2018  till 1st december 2020"
   ]
  },
  {
   "cell_type": "code",
   "execution_count": 91,
   "metadata": {},
   "outputs": [
    {
     "data": {
      "text/plain": [
       "(576.0, 611.0)"
      ]
     },
     "execution_count": 91,
     "metadata": {},
     "output_type": "execute_result"
    },
    {
     "data": {
      "image/png": "[encoded data removed]",
      "text/plain": [
       "<Figure size 864x360 with 1 Axes>"
      ]
     },
     "metadata": {
      "needs_background": "light"
     },
     "output_type": "display_data"
    }
   ],
   "source": [
    "ax=df.plot()\n",
    "forecast_df.plot(ax=ax, figsize=(12,5))\n",
    "plt.xlim('2018-01-01','2020-12-01')"
   ]
  },
  {
   "cell_type": "code",
   "execution_count": null,
   "metadata": {},
   "outputs": [],
   "source": []
  }
 ],
 "metadata": {
  "kernelspec": {
   "display_name": "Python 3",
   "language": "python",
   "name": "python3"
  },
  "language_info": {
   "codemirror_mode": {
    "name": "ipython",
    "version": 3
   },
   "file_extension": ".py",
   "mimetype": "text/x-python",
   "name": "python",
   "nbconvert_exporter": "python",
   "pygments_lexer": "ipython3",
   "version": "3.7.7"
  }
 },
 "nbformat": 4,
 "nbformat_minor": 4
}
