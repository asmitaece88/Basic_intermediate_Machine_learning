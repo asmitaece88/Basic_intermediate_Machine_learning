{
 "cells": [
  {
   "cell_type": "code",
   "execution_count": 2,
   "metadata": {},
   "outputs": [
    {
     "name": "stdout",
     "output_type": "stream",
     "text": [
      "[1 2 3 4]\n"
     ]
    }
   ],
   "source": [
    "import numpy as np \n",
    "a= np.array([1,2,3,4])\n",
    "print(a)"
   ]
  },
  {
   "cell_type": "code",
   "execution_count": 15,
   "metadata": {},
   "outputs": [
    {
     "name": "stdout",
     "output_type": "stream",
     "text": [
      " vectorized version : 0.9224414825439453ms\n"
     ]
    }
   ],
   "source": [
    "import time\n",
    "\n",
    "a= np.random.rand(1000000)\n",
    "b = np.random.rand(1000000)\n",
    "\n",
    "tic= time.time()\n",
    "c= np.dot(a,b)\n",
    "toc = time.time()\n",
    "\n",
    "print(\" vectorized version : \"+str(1000*(toc-tic))+\"ms\")"
   ]
  },
  {
   "cell_type": "code",
   "execution_count": 17,
   "metadata": {},
   "outputs": [
    {
     "name": "stdout",
     "output_type": "stream",
     "text": [
      " explicit for loop : Non vectorized version : 605.6697368621826ms\n"
     ]
    }
   ],
   "source": [
    "import time\n",
    "\n",
    "a= np.random.rand(1000000)\n",
    "b = np.random.rand(1000000)\n",
    "\n",
    "c= 0\n",
    "tic= time.time()\n",
    "for i in range(1000000):\n",
    "        c+= a[i]*b[i]\n",
    "        \n",
    "toc = time.time()    \n",
    "\n",
    "print(\" explicit for loop : Non vectorized version : \"+str(1000*(toc-tic))+\"ms\")"
   ]
  },
  {
   "cell_type": "code",
   "execution_count": null,
   "metadata": {},
   "outputs": [],
   "source": [
    "### hence we can see the time inefficiency of non vectorized version "
   ]
  }
 ],
 "metadata": {
  "kernelspec": {
   "display_name": "Python 3",
   "language": "python",
   "name": "python3"
  },
  "language_info": {
   "codemirror_mode": {
    "name": "ipython",
    "version": 3
   },
   "file_extension": ".py",
   "mimetype": "text/x-python",
   "name": "python",
   "nbconvert_exporter": "python",
   "pygments_lexer": "ipython3",
   "version": "3.6.5"
  },
  "toc": {
   "base_numbering": 1,
   "nav_menu": {},
   "number_sections": true,
   "sideBar": true,
   "skip_h1_title": false,
   "title_cell": "Table of Contents",
   "title_sidebar": "Contents",
   "toc_cell": false,
   "toc_position": {},
   "toc_section_display": true,
   "toc_window_display": false
  }
 },
 "nbformat": 4,
 "nbformat_minor": 2
}
