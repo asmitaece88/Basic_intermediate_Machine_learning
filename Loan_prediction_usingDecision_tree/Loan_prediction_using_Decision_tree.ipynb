{
 "cells": [
  {
   "cell_type": "code",
   "execution_count": 1,
   "metadata": {
    "collapsed": true
   },
   "outputs": [],
   "source": [
    "# author: asmita chatterjee\n",
    "#  dataset source :https://datahack.analyticsvidhya.com/contest/practice-problem-loan-prediction-iii/\n",
    " \n",
    "#  About the data  set :\n",
    "#      Dream Housing Finance company deals in all home loans. They have presence across all urban, semi urban and rural areas. Customer first apply for home loan after that company validates the customer eligibility for loan.\n",
    "\n",
    "# The company wants to automate the loan eligibility process (real time) based on customer detail\n",
    "#  provided while filling online application form. \n",
    "#  These details are:\n",
    "#   Gender, \n",
    "#  Marital Status, \n",
    "#  Education,\n",
    "#  Number of Dependents,\n",
    "#  Income, \n",
    "#  Loan Amount,\n",
    "#  Credit History \n",
    "# and\n",
    "#  others.\n",
    "#  To automate this process, they have given a problem to identify the customers segments,\n",
    "#  those are eligible for loan amount \n",
    "# so that they can specifically target these customers. Here they have provided a partial data set.\n",
    "\n",
    "import pandas as pd\n",
    "import numpy as np                     # For mathematical calculations\n",
    "import seaborn as sns                  # For data visualization\n",
    "import matplotlib.pyplot as plt        # For plotting graphs\n",
    "%matplotlib inline\n",
    "import warnings                        # To ignore any warnings\n",
    "warnings.filterwarnings(\"ignore\")\n",
    "\n"
   ]
  },
  {
   "cell_type": "code",
   "execution_count": 3,
   "metadata": {
    "collapsed": true
   },
   "outputs": [],
   "source": [
    "## read the data directly from the data files \n",
    "train = pd.read_csv('C:/Users/USER/Documents/datasets/final_data/Loan_pred/train.csv')\n",
    "test = pd.read_csv('C:/Users/USER/Documents/datasets/final_data/Loan_pred/test.csv')\n",
    "\n",
    "\n",
    "\n",
    "# Train file will be used for training the model, i.e. our model will learn from this file.\n",
    "#  It contains all the independent variables and the target variable. \n",
    "#  Test file contains all the independent variables,\n",
    "# but not the target variable. We will apply the model to predict the target variable for the test data\n",
    "\n",
    "# Last but not the least , we will submit the predictions in \n",
    "# Sample submission file.csv "
   ]
  },
  {
   "cell_type": "code",
   "execution_count": 4,
   "metadata": {
    "collapsed": true
   },
   "outputs": [],
   "source": [
    "# Let’s make a copy of train and test data so that even if we have to make any changes in these datasets \n",
    "# we would not lose the original datasets.\n",
    "\n",
    "train_original = train.copy()\n",
    "test_original = test.copy()"
   ]
  },
  {
   "cell_type": "code",
   "execution_count": 5,
   "metadata": {},
   "outputs": [
    {
     "data": {
      "text/plain": [
       "Index(['Loan_ID', 'Gender', 'Married', 'Dependents', 'Education',\n",
       "       'Self_Employed', 'ApplicantIncome', 'CoapplicantIncome', 'LoanAmount',\n",
       "       'Loan_Amount_Term', 'Credit_History', 'Property_Area', 'Loan_Status'],\n",
       "      dtype='object')"
      ]
     },
     "execution_count": 5,
     "metadata": {},
     "output_type": "execute_result"
    }
   ],
   "source": [
    "# Firstly, we will check the features present in our data and then we will look at their data types.\n",
    "\n",
    "train.columns"
   ]
  },
  {
   "cell_type": "code",
   "execution_count": 6,
   "metadata": {},
   "outputs": [
    {
     "data": {
      "text/plain": [
       "Index(['Loan_ID', 'Gender', 'Married', 'Dependents', 'Education',\n",
       "       'Self_Employed', 'ApplicantIncome', 'CoapplicantIncome', 'LoanAmount',\n",
       "       'Loan_Amount_Term', 'Credit_History', 'Property_Area'],\n",
       "      dtype='object')"
      ]
     },
     "execution_count": 6,
     "metadata": {},
     "output_type": "execute_result"
    }
   ],
   "source": [
    "test.columns"
   ]
  },
  {
   "cell_type": "code",
   "execution_count": 7,
   "metadata": {},
   "outputs": [
    {
     "data": {
      "text/plain": [
       "((614, 13), (367, 12))"
      ]
     },
     "execution_count": 7,
     "metadata": {},
     "output_type": "execute_result"
    }
   ],
   "source": [
    "train.shape,test.shape"
   ]
  },
  {
   "cell_type": "code",
   "execution_count": 8,
   "metadata": {},
   "outputs": [
    {
     "data": {
      "text/plain": [
       "Loan_ID               0\n",
       "Gender               13\n",
       "Married               3\n",
       "Dependents           15\n",
       "Education             0\n",
       "Self_Employed        32\n",
       "ApplicantIncome       0\n",
       "CoapplicantIncome     0\n",
       "LoanAmount           22\n",
       "Loan_Amount_Term     14\n",
       "Credit_History       50\n",
       "Property_Area         0\n",
       "Loan_Status           0\n",
       "dtype: int64"
      ]
     },
     "execution_count": 8,
     "metadata": {},
     "output_type": "execute_result"
    }
   ],
   "source": [
    "#checking missing values in each column of train dataset\n",
    "\n",
    "train.isnull().sum()"
   ]
  },
  {
   "cell_type": "code",
   "execution_count": 9,
   "metadata": {},
   "outputs": [
    {
     "data": {
      "text/plain": [
       "Loan_ID               0\n",
       "Gender               11\n",
       "Married               0\n",
       "Dependents           10\n",
       "Education             0\n",
       "Self_Employed        23\n",
       "ApplicantIncome       0\n",
       "CoapplicantIncome     0\n",
       "LoanAmount            5\n",
       "Loan_Amount_Term      6\n",
       "Credit_History       29\n",
       "Property_Area         0\n",
       "dtype: int64"
      ]
     },
     "execution_count": 9,
     "metadata": {},
     "output_type": "execute_result"
    }
   ],
   "source": [
    "#checking missing values in each column of test dataset\n",
    "test.isnull().sum()"
   ]
  },
  {
   "cell_type": "code",
   "execution_count": 10,
   "metadata": {},
   "outputs": [
    {
     "data": {
      "text/plain": [
       "Y    422\n",
       "N    192\n",
       "Name: Loan_Status, dtype: int64"
      ]
     },
     "execution_count": 10,
     "metadata": {},
     "output_type": "execute_result"
    }
   ],
   "source": [
    "# let us look into the target variable \n",
    "\n",
    "train['Loan_Status'].value_counts()"
   ]
  },
  {
   "cell_type": "code",
   "execution_count": 11,
   "metadata": {},
   "outputs": [
    {
     "data": {
      "text/plain": [
       "<matplotlib.axes._subplots.AxesSubplot at 0x298bc945198>"
      ]
     },
     "execution_count": 11,
     "metadata": {},
     "output_type": "execute_result"
    },
    {
     "data": {
      "image/png": "[encoded data removed]",
      "text/plain": [
       "<matplotlib.figure.Figure at 0x298bc91ec18>"
      ]
     },
     "metadata": {},
     "output_type": "display_data"
    }
   ],
   "source": [
    "train['Loan_Status'].value_counts().plot.bar()"
   ]
  },
  {
   "cell_type": "code",
   "execution_count": 13,
   "metadata": {
    "collapsed": true
   },
   "outputs": [],
   "source": [
    "# now \n",
    "#  There are 3 types of variables:\n",
    "     \n",
    "#  -->Categorical: ( if any of these below mentioned variables are not turned to binary numercial , then we will use\n",
    "#                          numerical encoding to do so)\n",
    "#      Gender,\n",
    "#      Married,\n",
    "#      Self_Employed,\n",
    "#      Credit_History,\n",
    "#      Loan_Status)\n",
    " \n",
    "#  --->Ordinal features: Variables in categorical features having some order involved :\n",
    "#  (Dependents-- this is an ordinal variable , since having more number of dependents, reduces a loan eligibility  \n",
    "#  Education----a more educated person has higher probabiity of getting a loan \n",
    "#  Property_Area---a person from a developed region , has a better loan eligbility \n",
    " \n",
    "#  ---> Numerical : \n",
    "#        ApplicantIncome,\n",
    "#        CoapplicantIncome,\n",
    "#        LoanAmount,\n",
    "# #        Loan_Amount_Term \n",
    "\n",
    "## let us first visualize categorical features  by thir indivdual bar plots\n",
    "## make a function\n",
    "\n",
    "def bar_chart(feature):\n",
    "    loan_status_y  = train[train['Loan_Status']=='Y'][feature].value_counts()\n",
    "    loan_status_n = train[train['Loan_Status']=='N'][feature].value_counts()\n",
    "    df = pd.DataFrame([loan_status_y,loan_status_n])\n",
    "    df.index = ['Eligible','In-eligible']\n",
    "    df.plot(kind='bar',stacked=True, figsize=(10,5))\n"
   ]
  },
  {
   "cell_type": "code",
   "execution_count": 15,
   "metadata": {},
   "outputs": [
    {
     "data": {
      "image/png": "[encoded data removed]",
      "text/plain": [
       "<matplotlib.figure.Figure at 0x298be9c6400>"
      ]
     },
     "metadata": {},
     "output_type": "display_data"
    }
   ],
   "source": [
    "## check the bar chart for Gender\n",
    "    \n",
    "bar_chart(\"Gender\") \n",
    "\n",
    "# It is evident , that number pf male are more eligible\n",
    "#     to get loan , than female "
   ]
  },
  {
   "cell_type": "code",
   "execution_count": 16,
   "metadata": {},
   "outputs": [
    {
     "data": {
      "image/png": "[encoded data removed]",
      "text/plain": [
       "<matplotlib.figure.Figure at 0x298bc9699e8>"
      ]
     },
     "metadata": {},
     "output_type": "display_data"
    }
   ],
   "source": [
    " bar_chart(\"Married\") \n",
    " ##\n",
    "#    It is evident , that  married people are more eligible to get loan\n",
    "#    than unmarried people \n",
    "  "
   ]
  },
  {
   "cell_type": "code",
   "execution_count": 17,
   "metadata": {},
   "outputs": [
    {
     "data": {
      "image/png": "[encoded data removed]",
      "text/plain": [
       "<matplotlib.figure.Figure at 0x298bebf29b0>"
      ]
     },
     "metadata": {},
     "output_type": "display_data"
    }
   ],
   "source": [
    "bar_chart(\"Self_Employed\") \n",
    "\n",
    "#  It is evident , that non self employed people are more eligible \n",
    "#    to get loan , than self employed people"
   ]
  },
  {
   "cell_type": "code",
   "execution_count": 18,
   "metadata": {},
   "outputs": [
    {
     "data": {
      "image/png": "[encoded data removed]",
      "text/plain": [
       "<matplotlib.figure.Figure at 0x298be9a03c8>"
      ]
     },
     "metadata": {},
     "output_type": "display_data"
    }
   ],
   "source": [
    " bar_chart(\"Credit_History\") \n",
    "    \n",
    "#      credit history with 1 has higher eligibility  of getting loans\n",
    "   \n",
    "#     credit history =1 means repayed the debt "
   ]
  },
  {
   "cell_type": "code",
   "execution_count": 19,
   "metadata": {},
   "outputs": [
    {
     "data": {
      "image/png": "[encoded data removed]",
      "text/plain": [
       "<matplotlib.figure.Figure at 0x298bebb1400>"
      ]
     },
     "metadata": {},
     "output_type": "display_data"
    }
   ],
   "source": [
    "### Let us now check the Ordinal features\n",
    "###Dependents\n",
    "\n",
    "bar_chart(\"Dependents\") \n",
    "#  People with dependents 0   or 2 are more eligible "
   ]
  },
  {
   "cell_type": "code",
   "execution_count": 21,
   "metadata": {},
   "outputs": [
    {
     "data": {
      "image/png": "[encoded data removed]",
      "text/plain": [
       "<matplotlib.figure.Figure at 0x298bec609e8>"
      ]
     },
     "metadata": {},
     "output_type": "display_data"
    }
   ],
   "source": [
    "### Education\n",
    "bar_chart(\"Education\")\n",
    "\n",
    "#Graduates are more eligible to get loan  "
   ]
  },
  {
   "cell_type": "code",
   "execution_count": 22,
   "metadata": {},
   "outputs": [
    {
     "data": {
      "image/png": "[encoded data removed]",
      "text/plain": [
       "<matplotlib.figure.Figure at 0x298becb1ef0>"
      ]
     },
     "metadata": {},
     "output_type": "display_data"
    }
   ],
   "source": [
    " bar_chart(\"Property_Area\")\n",
    "    \n",
    "#      Semi urban people  are more eligible to get loan  "
   ]
  },
  {
   "cell_type": "code",
   "execution_count": 24,
   "metadata": {},
   "outputs": [],
   "source": [
    "   #### MISSING VALUE IMPUTATION \n",
    "   ##  Amongst the numeric variables :          \n",
    "#     ApplicantIncome,\n",
    "#        CoapplicantIncome,\n",
    "#        LoanAmount,\n",
    "#        Loan_Amount_Term \n",
    "       \n",
    "#        the missing variables are :\n",
    "#            LoanAmount and Loan_Amount_Term\n",
    "       \n",
    "#         First carrying out the missing value imputation of these 2 variables:\n",
    "\n",
    " ###Loan_Amount\n",
    "    ## Since loan amount is a numeric variable , so we will replace the term with median \n",
    "    \n",
    "train['LoanAmount'].fillna(train['LoanAmount'].median(),inplace=True)"
   ]
  },
  {
   "cell_type": "code",
   "execution_count": 25,
   "metadata": {
    "collapsed": true
   },
   "outputs": [],
   "source": [
    "# Since test  data set also has missing values for LoanAmount , so we will use the same strategy  for test data set\n",
    "test['LoanAmount'].fillna(test['LoanAmount'].median(),inplace=True) "
   ]
  },
  {
   "cell_type": "code",
   "execution_count": 27,
   "metadata": {},
   "outputs": [
    {
     "data": {
      "text/plain": [
       "360.0    512\n",
       "180.0     44\n",
       "480.0     15\n",
       "300.0     13\n",
       "84.0       4\n",
       "240.0      4\n",
       "120.0      3\n",
       "36.0       2\n",
       "60.0       2\n",
       "12.0       1\n",
       "Name: Loan_Amount_Term, dtype: int64"
      ]
     },
     "execution_count": 27,
     "metadata": {},
     "output_type": "execute_result"
    }
   ],
   "source": [
    "###Loan_Amount_Term- Finding out the counts of the various values of the Loan amount term \n",
    "   \n",
    "train['Loan_Amount_Term'].value_counts()"
   ]
  },
  {
   "cell_type": "code",
   "execution_count": 29,
   "metadata": {},
   "outputs": [],
   "source": [
    "#  so we can see  value 360 is  used in 512 records.hence it is the mode value \n",
    "#  Hence we will use this  mode value  as a missing value substitute:\n",
    "train['Loan_Amount_Term'].fillna(train['Loan_Amount_Term'].mode()[0],inplace=True)\n",
    "    "
   ]
  },
  {
   "cell_type": "code",
   "execution_count": 30,
   "metadata": {
    "collapsed": true
   },
   "outputs": [],
   "source": [
    "test['Loan_Amount_Term'].fillna(test['Loan_Amount_Term'].mode()[0],inplace=True)"
   ]
  },
  {
   "cell_type": "code",
   "execution_count": null,
   "metadata": {
    "collapsed": true
   },
   "outputs": [],
   "source": [
    "# For the other 2 numerical variables , theera re no missing values in ether Train or Test\n",
    "#     ApplicantIncome,\n",
    "#     CoApplicantIncome\n",
    "\n",
    "# For categorical variables: imputation using mode\n",
    "# There are very less missing values \n",
    "#  Gender, Married, Dependents, Credit_History and Self_Employed features \n",
    "#  so we can fill them using the mode of the features. "
   ]
  },
  {
   "cell_type": "code",
   "execution_count": 32,
   "metadata": {},
   "outputs": [],
   "source": [
    "## For Gender \n",
    " \n",
    "train['Gender'].fillna(train['Gender'].mode()[0],inplace=True)\n",
    "test['Gender'].fillna(train['Gender'].mode()[0], inplace=True)\n"
   ]
  },
  {
   "cell_type": "code",
   "execution_count": 33,
   "metadata": {
    "collapsed": true
   },
   "outputs": [],
   "source": [
    "### For Married ## \n",
    " \n",
    "train['Married'].fillna(\"No\",inplace=True)"
   ]
  },
  {
   "cell_type": "code",
   "execution_count": 34,
   "metadata": {
    "collapsed": true
   },
   "outputs": [],
   "source": [
    "## for dependents , wherever , missing , replace with 0\n",
    "train['Dependents'].fillna(0, inplace=True)\n",
    "test['Dependents'].fillna(0, inplace=True)\n"
   ]
  },
  {
   "cell_type": "code",
   "execution_count": 35,
   "metadata": {
    "collapsed": true
   },
   "outputs": [],
   "source": [
    "## For Self_Employed### For null values , replace with a No\n",
    "## we are assuming that if the value is NUll , the concerned applicant is not self applicant \n",
    "\n",
    "train['Self_Employed'].fillna(\"No\", inplace=True)\n",
    "test['Self_Employed'].fillna(\"No\", inplace=True)\n",
    "\n"
   ]
  },
  {
   "cell_type": "code",
   "execution_count": 36,
   "metadata": {
    "collapsed": true
   },
   "outputs": [],
   "source": [
    "### For Credit_History### Fill 0 whereevr empty\n",
    "\n",
    "### replace the credit history with 0 value , whrever the history  s NULL\n",
    "### we are assuming that in case of NUll value , th concerned applicant  has a bad credit history \n",
    "\n",
    "train['Credit_History'].fillna(0, inplace=True)\n",
    "test['Credit_History'].fillna(0, inplace=True)\n"
   ]
  },
  {
   "cell_type": "code",
   "execution_count": 37,
   "metadata": {
    "collapsed": true
   },
   "outputs": [],
   "source": [
    "## feature engineering \n",
    "##### add the  applicant income as well as the co applicant income \n",
    "\n",
    "train['Total_Income']=train['ApplicantIncome']+train['CoapplicantIncome']\n",
    "\n",
    "test['Total_Income']=test['ApplicantIncome']+test['CoapplicantIncome']\n"
   ]
  },
  {
   "cell_type": "code",
   "execution_count": 38,
   "metadata": {
    "collapsed": true
   },
   "outputs": [],
   "source": [
    "train['Dependents'].replace('3+', 3,inplace=True)\n",
    "test['Dependents'].replace('3+', 3,inplace=True)\n"
   ]
  },
  {
   "cell_type": "code",
   "execution_count": 39,
   "metadata": {},
   "outputs": [
    {
     "data": {
      "text/html": [
       "<div>\n",
       "<style>\n",
       "    .dataframe thead tr:only-child th {\n",
       "        text-align: right;\n",
       "    }\n",
       "\n",
       "    .dataframe thead th {\n",
       "        text-align: left;\n",
       "    }\n",
       "\n",
       "    .dataframe tbody tr th {\n",
       "        vertical-align: top;\n",
       "    }\n",
       "</style>\n",
       "<table border=\"1\" class=\"dataframe\">\n",
       "  <thead>\n",
       "    <tr style=\"text-align: right;\">\n",
       "      <th></th>\n",
       "      <th>Loan_ID</th>\n",
       "      <th>Gender</th>\n",
       "      <th>Married</th>\n",
       "      <th>Dependents</th>\n",
       "      <th>Education</th>\n",
       "      <th>Self_Employed</th>\n",
       "      <th>ApplicantIncome</th>\n",
       "      <th>CoapplicantIncome</th>\n",
       "      <th>LoanAmount</th>\n",
       "      <th>Loan_Amount_Term</th>\n",
       "      <th>Credit_History</th>\n",
       "      <th>Property_Area</th>\n",
       "      <th>Loan_Status</th>\n",
       "      <th>Total_Income</th>\n",
       "    </tr>\n",
       "  </thead>\n",
       "  <tbody>\n",
       "    <tr>\n",
       "      <th>0</th>\n",
       "      <td>LP001002</td>\n",
       "      <td>Male</td>\n",
       "      <td>No</td>\n",
       "      <td>0</td>\n",
       "      <td>Graduate</td>\n",
       "      <td>No</td>\n",
       "      <td>5849</td>\n",
       "      <td>0.0</td>\n",
       "      <td>128.0</td>\n",
       "      <td>360.0</td>\n",
       "      <td>1.0</td>\n",
       "      <td>Urban</td>\n",
       "      <td>Y</td>\n",
       "      <td>5849.0</td>\n",
       "    </tr>\n",
       "    <tr>\n",
       "      <th>1</th>\n",
       "      <td>LP001003</td>\n",
       "      <td>Male</td>\n",
       "      <td>Yes</td>\n",
       "      <td>1</td>\n",
       "      <td>Graduate</td>\n",
       "      <td>No</td>\n",
       "      <td>4583</td>\n",
       "      <td>1508.0</td>\n",
       "      <td>128.0</td>\n",
       "      <td>360.0</td>\n",
       "      <td>1.0</td>\n",
       "      <td>Rural</td>\n",
       "      <td>N</td>\n",
       "      <td>6091.0</td>\n",
       "    </tr>\n",
       "    <tr>\n",
       "      <th>2</th>\n",
       "      <td>LP001005</td>\n",
       "      <td>Male</td>\n",
       "      <td>Yes</td>\n",
       "      <td>0</td>\n",
       "      <td>Graduate</td>\n",
       "      <td>Yes</td>\n",
       "      <td>3000</td>\n",
       "      <td>0.0</td>\n",
       "      <td>66.0</td>\n",
       "      <td>360.0</td>\n",
       "      <td>1.0</td>\n",
       "      <td>Urban</td>\n",
       "      <td>Y</td>\n",
       "      <td>3000.0</td>\n",
       "    </tr>\n",
       "  </tbody>\n",
       "</table>\n",
       "</div>"
      ],
      "text/plain": [
       "    Loan_ID Gender Married Dependents Education Self_Employed  \\\n",
       "0  LP001002   Male      No          0  Graduate            No   \n",
       "1  LP001003   Male     Yes          1  Graduate            No   \n",
       "2  LP001005   Male     Yes          0  Graduate           Yes   \n",
       "\n",
       "   ApplicantIncome  CoapplicantIncome  LoanAmount  Loan_Amount_Term  \\\n",
       "0             5849                0.0       128.0             360.0   \n",
       "1             4583             1508.0       128.0             360.0   \n",
       "2             3000                0.0        66.0             360.0   \n",
       "\n",
       "   Credit_History Property_Area Loan_Status  Total_Income  \n",
       "0             1.0         Urban           Y        5849.0  \n",
       "1             1.0         Rural           N        6091.0  \n",
       "2             1.0         Urban           Y        3000.0  "
      ]
     },
     "execution_count": 39,
     "metadata": {},
     "output_type": "execute_result"
    }
   ],
   "source": [
    "train.head(3)"
   ]
  },
  {
   "cell_type": "code",
   "execution_count": 40,
   "metadata": {
    "collapsed": true
   },
   "outputs": [],
   "source": [
    "### now we need to discretize the various variables - categorical and numeric \n",
    "#### Categorical\n",
    "## Change categorical variables Gender to numeric categorical\n",
    "\n",
    "train['Gender'] = train['Gender'].map( {'Male': 0, 'Female': 1} )\n",
    "test['Gender'] = test['Gender'].map( {'Male': 0, 'Female': 1} )\n",
    "\n",
    "\n",
    "\n",
    "### Change categorical variable Married to numeric categorical\n",
    "train['Married'] = train['Married'].map( {'No': 0, 'Yes': 1} )\n",
    "test['Married'] = test['Married'].map( {'No': 0, 'Yes': 1} )\n",
    "\n",
    "###Change categorical variable Education to numeric categorical\n",
    "train['Education'] = train['Education'].map( {'Not Graduate': 0, 'Graduate': 1} )\n",
    "test['Education'] = test['Education'].map( {'Not Graduate': 0, 'Graduate': 1} )\n",
    "\n",
    "###Change categorical variable Self Employed to numeric categorical\n",
    "train['Self_Employed'] = train['Self_Employed'].map( {'No': 0, 'Yes': 1} )\n",
    "test['Self_Employed'] = test['Self_Employed'].map( {'No': 0, 'Yes': 1} )\n",
    "\n",
    "\n",
    "###Change categorical variable Property_Area to numeric categorical\n",
    "\n",
    "train['Property_Area'] = train['Property_Area'].map( {'Rural': 1, 'Semiurban': 2,'Urban': 3} )\n",
    "test['Property_Area'] = test['Property_Area'].map( {'Rural': 1, 'Semiurban': 2 ,'Urban': 3} )\n",
    "\n",
    "\n",
    "###Change categorical variable Loan_status  to numeric categorical\n",
    "\n",
    "train['Loan_Status'] = train['Loan_Status'].map( {'N': 0, 'Y': 1} )\n"
   ]
  },
  {
   "cell_type": "code",
   "execution_count": 41,
   "metadata": {
    "collapsed": true
   },
   "outputs": [],
   "source": [
    "## Take the Loanid in a variable \n",
    "\n",
    "Loan_ID = test['Loan_ID']\n"
   ]
  },
  {
   "cell_type": "code",
   "execution_count": 42,
   "metadata": {},
   "outputs": [
    {
     "data": {
      "text/plain": [
       "<matplotlib.axes._subplots.AxesSubplot at 0x298bed89630>"
      ]
     },
     "execution_count": 42,
     "metadata": {},
     "output_type": "execute_result"
    },
    {
     "data": {
      "image/png": "[encoded data removed]",
      "text/plain": [
       "<matplotlib.figure.Figure at 0x298becb1e10>"
      ]
     },
     "metadata": {},
     "output_type": "display_data"
    }
   ],
   "source": [
    "###########now  discretizing the numeric variables #########\n",
    "\n",
    "# numeric variables \n",
    "#  ApplicantIncome,\n",
    "#        CoapplicantIncome,\n",
    "#        LoanAmount,\n",
    "#        Loan_Amount_Term \n",
    "#        Total_Income\n",
    "\n",
    "\n",
    "#Check the boxplot of loan status with total income\n",
    "\n",
    "sns.boxplot(x=train[\"Loan_Status\"], y=train[\"Total_Income\"],width=0.8,fliersize=10)\n",
    "\n",
    "## so there are outiers . we can discretize accordingly having a visual look"
   ]
  },
  {
   "cell_type": "code",
   "execution_count": 44,
   "metadata": {},
   "outputs": [],
   "source": [
    " ### join the data into a single list \n",
    "total=[train,test]\n",
    "  "
   ]
  },
  {
   "cell_type": "code",
   "execution_count": 45,
   "metadata": {
    "collapsed": true
   },
   "outputs": [],
   "source": [
    "for dataset in total:\n",
    "   dataset.loc[ dataset['Total_Income'] <= 5000, 'Total_Income'] = 1,\n",
    "   dataset.loc[(dataset['Total_Income'] > 5000) & (dataset['Total_Income'] <=7500), 'Total_Income'] = 2,\n",
    "   dataset.loc[(dataset['Total_Income'] > 7500) & (dataset['Total_Income'] <= 10000), 'Total_Income'] = 3,\n",
    "   dataset.loc[(dataset['Total_Income'] > 10000) & (dataset['Total_Income'] <= 20000), 'Total_Income'] = 4,\n",
    "   dataset.loc[(dataset['Total_Income'] > 20000) & (dataset['Total_Income'] <= 30000), 'Total_Income'] = 5,\n",
    "   dataset.loc[(dataset['Total_Income'] > 30000) & (dataset['Total_Income'] <= 4000), 'Total_Income'] = 6,\n",
    "   dataset.loc[ dataset['Total_Income'] > 4000, 'Total_Income'] = 7\n"
   ]
  },
  {
   "cell_type": "code",
   "execution_count": 46,
   "metadata": {},
   "outputs": [
    {
     "data": {
      "text/plain": [
       "<matplotlib.axes._subplots.AxesSubplot at 0x298bedce9e8>"
      ]
     },
     "execution_count": 46,
     "metadata": {},
     "output_type": "execute_result"
    },
    {
     "data": {
      "image/png": "[encoded data removed]",
      "text/plain": [
       "<matplotlib.figure.Figure at 0x298bed57630>"
      ]
     },
     "metadata": {},
     "output_type": "display_data"
    }
   ],
   "source": [
    "## Next check the bar plots of LoanAmount\n",
    "\n",
    "sns.boxplot(x=train[\"Loan_Status\"], y=train[\"LoanAmount\"],width=0.8,fliersize=10)\n"
   ]
  },
  {
   "cell_type": "code",
   "execution_count": 47,
   "metadata": {
    "collapsed": true
   },
   "outputs": [],
   "source": [
    "## discretize\n",
    "for dataset in total:\n",
    "   dataset.loc[ dataset['LoanAmount'] <= 100, 'LoanAmount'] = 1,\n",
    "   dataset.loc[(dataset['LoanAmount'] > 100) & (dataset['LoanAmount'] <=125), 'LoanAmount'] = 2,\n",
    "   dataset.loc[(dataset['LoanAmount'] > 125) & (dataset['LoanAmount'] <= 175), 'LoanAmount'] = 3,\n",
    "   dataset.loc[(dataset['LoanAmount'] > 175) & (dataset['LoanAmount'] <= 250), 'LoanAmount'] = 4,\n",
    "   dataset.loc[(dataset['LoanAmount'] > 250) & (dataset['LoanAmount'] <= 300), 'LoanAmount'] = 5,\n",
    "   dataset.loc[(dataset['LoanAmount'] > 300) & (dataset['LoanAmount'] <= 400), 'LoanAmount'] = 6,\n",
    "   dataset.loc[ dataset['LoanAmount'] > 400, 'LoanAmount'] = 7\n"
   ]
  },
  {
   "cell_type": "code",
   "execution_count": 49,
   "metadata": {},
   "outputs": [
    {
     "data": {
      "text/plain": [
       "360.0    526\n",
       "180.0     44\n",
       "480.0     15\n",
       "300.0     13\n",
       "84.0       4\n",
       "240.0      4\n",
       "120.0      3\n",
       "36.0       2\n",
       "60.0       2\n",
       "12.0       1\n",
       "Name: Loan_Amount_Term, dtype: int64"
      ]
     },
     "execution_count": 49,
     "metadata": {},
     "output_type": "execute_result"
    }
   ],
   "source": [
    "## Next check the bar plots of Loan_Amount_Term\n",
    "### All the terms of Loan_Amount_Term are discrete . Seeing those oce more \n",
    "train['Loan_Amount_Term'].value_counts()"
   ]
  },
  {
   "cell_type": "code",
   "execution_count": 50,
   "metadata": {},
   "outputs": [
    {
     "data": {
      "text/plain": [
       "360.0    317\n",
       "180.0     22\n",
       "480.0      8\n",
       "300.0      7\n",
       "240.0      4\n",
       "84.0       3\n",
       "6.0        1\n",
       "120.0      1\n",
       "36.0       1\n",
       "350.0      1\n",
       "12.0       1\n",
       "60.0       1\n",
       "Name: Loan_Amount_Term, dtype: int64"
      ]
     },
     "execution_count": 50,
     "metadata": {},
     "output_type": "execute_result"
    }
   ],
   "source": [
    "test['Loan_Amount_Term'].value_counts()"
   ]
  },
  {
   "cell_type": "code",
   "execution_count": 51,
   "metadata": {
    "collapsed": true
   },
   "outputs": [],
   "source": [
    "for dataset in total:\n",
    "   dataset.loc[ dataset['Loan_Amount_Term'] <= 250, 'Loan_Amount_Term'] = 1,\n",
    "   dataset.loc[(dataset['Loan_Amount_Term'] > 250) & (dataset['Loan_Amount_Term'] <=300), 'Loan_Amount_Term'] = 2,\n",
    "   dataset.loc[(dataset['Loan_Amount_Term'] > 300) & (dataset['Loan_Amount_Term'] <= 400), 'Loan_Amount_Term'] = 3,\n",
    "   dataset.loc[ dataset['Loan_Amount_Term'] > 400, 'Loan_Amount_Term'] = 4\n",
    " "
   ]
  },
  {
   "cell_type": "code",
   "execution_count": 52,
   "metadata": {
    "collapsed": true
   },
   "outputs": [],
   "source": [
    "## dropping the redundant variables- Loan_ID , ApplicantIncome,CoapplicantIncome\n",
    "   \n",
    "train=train.drop(['ApplicantIncome', 'CoapplicantIncome','Loan_ID'], axis=1)\n",
    "test=test.drop(['ApplicantIncome', 'CoapplicantIncome','Loan_ID'], axis=1)\n",
    "   "
   ]
  },
  {
   "cell_type": "code",
   "execution_count": 53,
   "metadata": {},
   "outputs": [
    {
     "data": {
      "text/html": [
       "<div>\n",
       "<style>\n",
       "    .dataframe thead tr:only-child th {\n",
       "        text-align: right;\n",
       "    }\n",
       "\n",
       "    .dataframe thead th {\n",
       "        text-align: left;\n",
       "    }\n",
       "\n",
       "    .dataframe tbody tr th {\n",
       "        vertical-align: top;\n",
       "    }\n",
       "</style>\n",
       "<table border=\"1\" class=\"dataframe\">\n",
       "  <thead>\n",
       "    <tr style=\"text-align: right;\">\n",
       "      <th></th>\n",
       "      <th>Gender</th>\n",
       "      <th>Married</th>\n",
       "      <th>Dependents</th>\n",
       "      <th>Education</th>\n",
       "      <th>Self_Employed</th>\n",
       "      <th>LoanAmount</th>\n",
       "      <th>Loan_Amount_Term</th>\n",
       "      <th>Credit_History</th>\n",
       "      <th>Property_Area</th>\n",
       "      <th>Loan_Status</th>\n",
       "      <th>Total_Income</th>\n",
       "    </tr>\n",
       "  </thead>\n",
       "  <tbody>\n",
       "    <tr>\n",
       "      <th>0</th>\n",
       "      <td>0</td>\n",
       "      <td>0</td>\n",
       "      <td>0</td>\n",
       "      <td>1</td>\n",
       "      <td>0</td>\n",
       "      <td>3.0</td>\n",
       "      <td>3.0</td>\n",
       "      <td>1.0</td>\n",
       "      <td>3</td>\n",
       "      <td>1</td>\n",
       "      <td>2.0</td>\n",
       "    </tr>\n",
       "    <tr>\n",
       "      <th>1</th>\n",
       "      <td>0</td>\n",
       "      <td>1</td>\n",
       "      <td>1</td>\n",
       "      <td>1</td>\n",
       "      <td>0</td>\n",
       "      <td>3.0</td>\n",
       "      <td>3.0</td>\n",
       "      <td>1.0</td>\n",
       "      <td>1</td>\n",
       "      <td>0</td>\n",
       "      <td>2.0</td>\n",
       "    </tr>\n",
       "    <tr>\n",
       "      <th>2</th>\n",
       "      <td>0</td>\n",
       "      <td>1</td>\n",
       "      <td>0</td>\n",
       "      <td>1</td>\n",
       "      <td>1</td>\n",
       "      <td>1.0</td>\n",
       "      <td>3.0</td>\n",
       "      <td>1.0</td>\n",
       "      <td>3</td>\n",
       "      <td>1</td>\n",
       "      <td>1.0</td>\n",
       "    </tr>\n",
       "    <tr>\n",
       "      <th>3</th>\n",
       "      <td>0</td>\n",
       "      <td>1</td>\n",
       "      <td>0</td>\n",
       "      <td>0</td>\n",
       "      <td>0</td>\n",
       "      <td>2.0</td>\n",
       "      <td>3.0</td>\n",
       "      <td>1.0</td>\n",
       "      <td>3</td>\n",
       "      <td>1</td>\n",
       "      <td>1.0</td>\n",
       "    </tr>\n",
       "    <tr>\n",
       "      <th>4</th>\n",
       "      <td>0</td>\n",
       "      <td>0</td>\n",
       "      <td>0</td>\n",
       "      <td>1</td>\n",
       "      <td>0</td>\n",
       "      <td>3.0</td>\n",
       "      <td>3.0</td>\n",
       "      <td>1.0</td>\n",
       "      <td>3</td>\n",
       "      <td>1</td>\n",
       "      <td>2.0</td>\n",
       "    </tr>\n",
       "    <tr>\n",
       "      <th>5</th>\n",
       "      <td>0</td>\n",
       "      <td>1</td>\n",
       "      <td>2</td>\n",
       "      <td>1</td>\n",
       "      <td>1</td>\n",
       "      <td>5.0</td>\n",
       "      <td>3.0</td>\n",
       "      <td>1.0</td>\n",
       "      <td>3</td>\n",
       "      <td>1</td>\n",
       "      <td>3.0</td>\n",
       "    </tr>\n",
       "    <tr>\n",
       "      <th>6</th>\n",
       "      <td>0</td>\n",
       "      <td>1</td>\n",
       "      <td>0</td>\n",
       "      <td>0</td>\n",
       "      <td>0</td>\n",
       "      <td>1.0</td>\n",
       "      <td>3.0</td>\n",
       "      <td>1.0</td>\n",
       "      <td>3</td>\n",
       "      <td>1</td>\n",
       "      <td>1.0</td>\n",
       "    </tr>\n",
       "    <tr>\n",
       "      <th>7</th>\n",
       "      <td>0</td>\n",
       "      <td>1</td>\n",
       "      <td>3</td>\n",
       "      <td>1</td>\n",
       "      <td>0</td>\n",
       "      <td>3.0</td>\n",
       "      <td>3.0</td>\n",
       "      <td>0.0</td>\n",
       "      <td>2</td>\n",
       "      <td>0</td>\n",
       "      <td>2.0</td>\n",
       "    </tr>\n",
       "    <tr>\n",
       "      <th>8</th>\n",
       "      <td>0</td>\n",
       "      <td>1</td>\n",
       "      <td>2</td>\n",
       "      <td>1</td>\n",
       "      <td>0</td>\n",
       "      <td>3.0</td>\n",
       "      <td>3.0</td>\n",
       "      <td>1.0</td>\n",
       "      <td>3</td>\n",
       "      <td>1</td>\n",
       "      <td>2.0</td>\n",
       "    </tr>\n",
       "    <tr>\n",
       "      <th>9</th>\n",
       "      <td>0</td>\n",
       "      <td>1</td>\n",
       "      <td>1</td>\n",
       "      <td>1</td>\n",
       "      <td>0</td>\n",
       "      <td>6.0</td>\n",
       "      <td>3.0</td>\n",
       "      <td>1.0</td>\n",
       "      <td>2</td>\n",
       "      <td>0</td>\n",
       "      <td>5.0</td>\n",
       "    </tr>\n",
       "    <tr>\n",
       "      <th>10</th>\n",
       "      <td>0</td>\n",
       "      <td>1</td>\n",
       "      <td>2</td>\n",
       "      <td>1</td>\n",
       "      <td>0</td>\n",
       "      <td>1.0</td>\n",
       "      <td>3.0</td>\n",
       "      <td>1.0</td>\n",
       "      <td>3</td>\n",
       "      <td>1</td>\n",
       "      <td>1.0</td>\n",
       "    </tr>\n",
       "    <tr>\n",
       "      <th>11</th>\n",
       "      <td>0</td>\n",
       "      <td>1</td>\n",
       "      <td>2</td>\n",
       "      <td>1</td>\n",
       "      <td>0</td>\n",
       "      <td>2.0</td>\n",
       "      <td>3.0</td>\n",
       "      <td>1.0</td>\n",
       "      <td>3</td>\n",
       "      <td>1</td>\n",
       "      <td>1.0</td>\n",
       "    </tr>\n",
       "    <tr>\n",
       "      <th>12</th>\n",
       "      <td>0</td>\n",
       "      <td>1</td>\n",
       "      <td>2</td>\n",
       "      <td>1</td>\n",
       "      <td>0</td>\n",
       "      <td>4.0</td>\n",
       "      <td>3.0</td>\n",
       "      <td>1.0</td>\n",
       "      <td>3</td>\n",
       "      <td>1</td>\n",
       "      <td>4.0</td>\n",
       "    </tr>\n",
       "    <tr>\n",
       "      <th>13</th>\n",
       "      <td>0</td>\n",
       "      <td>0</td>\n",
       "      <td>0</td>\n",
       "      <td>1</td>\n",
       "      <td>0</td>\n",
       "      <td>2.0</td>\n",
       "      <td>3.0</td>\n",
       "      <td>1.0</td>\n",
       "      <td>1</td>\n",
       "      <td>0</td>\n",
       "      <td>1.0</td>\n",
       "    </tr>\n",
       "    <tr>\n",
       "      <th>14</th>\n",
       "      <td>0</td>\n",
       "      <td>1</td>\n",
       "      <td>2</td>\n",
       "      <td>1</td>\n",
       "      <td>0</td>\n",
       "      <td>1.0</td>\n",
       "      <td>1.0</td>\n",
       "      <td>1.0</td>\n",
       "      <td>3</td>\n",
       "      <td>1</td>\n",
       "      <td>1.0</td>\n",
       "    </tr>\n",
       "  </tbody>\n",
       "</table>\n",
       "</div>"
      ],
      "text/plain": [
       "    Gender  Married Dependents  Education  Self_Employed  LoanAmount  \\\n",
       "0        0        0          0          1              0         3.0   \n",
       "1        0        1          1          1              0         3.0   \n",
       "2        0        1          0          1              1         1.0   \n",
       "3        0        1          0          0              0         2.0   \n",
       "4        0        0          0          1              0         3.0   \n",
       "5        0        1          2          1              1         5.0   \n",
       "6        0        1          0          0              0         1.0   \n",
       "7        0        1          3          1              0         3.0   \n",
       "8        0        1          2          1              0         3.0   \n",
       "9        0        1          1          1              0         6.0   \n",
       "10       0        1          2          1              0         1.0   \n",
       "11       0        1          2          1              0         2.0   \n",
       "12       0        1          2          1              0         4.0   \n",
       "13       0        0          0          1              0         2.0   \n",
       "14       0        1          2          1              0         1.0   \n",
       "\n",
       "    Loan_Amount_Term  Credit_History  Property_Area  Loan_Status  Total_Income  \n",
       "0                3.0             1.0              3            1           2.0  \n",
       "1                3.0             1.0              1            0           2.0  \n",
       "2                3.0             1.0              3            1           1.0  \n",
       "3                3.0             1.0              3            1           1.0  \n",
       "4                3.0             1.0              3            1           2.0  \n",
       "5                3.0             1.0              3            1           3.0  \n",
       "6                3.0             1.0              3            1           1.0  \n",
       "7                3.0             0.0              2            0           2.0  \n",
       "8                3.0             1.0              3            1           2.0  \n",
       "9                3.0             1.0              2            0           5.0  \n",
       "10               3.0             1.0              3            1           1.0  \n",
       "11               3.0             1.0              3            1           1.0  \n",
       "12               3.0             1.0              3            1           4.0  \n",
       "13               3.0             1.0              1            0           1.0  \n",
       "14               1.0             1.0              3            1           1.0  "
      ]
     },
     "execution_count": 53,
     "metadata": {},
     "output_type": "execute_result"
    }
   ],
   "source": [
    "train.head(15)"
   ]
  },
  {
   "cell_type": "code",
   "execution_count": 54,
   "metadata": {},
   "outputs": [
    {
     "data": {
      "text/html": [
       "<div>\n",
       "<style>\n",
       "    .dataframe thead tr:only-child th {\n",
       "        text-align: right;\n",
       "    }\n",
       "\n",
       "    .dataframe thead th {\n",
       "        text-align: left;\n",
       "    }\n",
       "\n",
       "    .dataframe tbody tr th {\n",
       "        vertical-align: top;\n",
       "    }\n",
       "</style>\n",
       "<table border=\"1\" class=\"dataframe\">\n",
       "  <thead>\n",
       "    <tr style=\"text-align: right;\">\n",
       "      <th></th>\n",
       "      <th>Gender</th>\n",
       "      <th>Married</th>\n",
       "      <th>Dependents</th>\n",
       "      <th>Education</th>\n",
       "      <th>Self_Employed</th>\n",
       "      <th>LoanAmount</th>\n",
       "      <th>Loan_Amount_Term</th>\n",
       "      <th>Credit_History</th>\n",
       "      <th>Property_Area</th>\n",
       "      <th>Total_Income</th>\n",
       "    </tr>\n",
       "  </thead>\n",
       "  <tbody>\n",
       "    <tr>\n",
       "      <th>0</th>\n",
       "      <td>0</td>\n",
       "      <td>0</td>\n",
       "      <td>0</td>\n",
       "      <td>1</td>\n",
       "      <td>0</td>\n",
       "      <td>3.0</td>\n",
       "      <td>3.0</td>\n",
       "      <td>1.0</td>\n",
       "      <td>3</td>\n",
       "      <td>2.0</td>\n",
       "    </tr>\n",
       "    <tr>\n",
       "      <th>1</th>\n",
       "      <td>0</td>\n",
       "      <td>1</td>\n",
       "      <td>1</td>\n",
       "      <td>1</td>\n",
       "      <td>0</td>\n",
       "      <td>3.0</td>\n",
       "      <td>3.0</td>\n",
       "      <td>1.0</td>\n",
       "      <td>1</td>\n",
       "      <td>2.0</td>\n",
       "    </tr>\n",
       "  </tbody>\n",
       "</table>\n",
       "</div>"
      ],
      "text/plain": [
       "   Gender  Married Dependents  Education  Self_Employed  LoanAmount  \\\n",
       "0       0        0          0          1              0         3.0   \n",
       "1       0        1          1          1              0         3.0   \n",
       "\n",
       "   Loan_Amount_Term  Credit_History  Property_Area  Total_Income  \n",
       "0               3.0             1.0              3           2.0  \n",
       "1               3.0             1.0              1           2.0  "
      ]
     },
     "execution_count": 54,
     "metadata": {},
     "output_type": "execute_result"
    }
   ],
   "source": [
    "## next split the independent variables \n",
    "##\n",
    "\n",
    "X = train.drop('Loan_Status',1)\n",
    "X.head(2)\n",
    "\n"
   ]
  },
  {
   "cell_type": "code",
   "execution_count": 55,
   "metadata": {
    "collapsed": true
   },
   "outputs": [],
   "source": [
    "y = train.Loan_Status"
   ]
  },
  {
   "cell_type": "code",
   "execution_count": 56,
   "metadata": {
    "collapsed": true
   },
   "outputs": [],
   "source": [
    "### Now applying cross validation to check the details \n",
    "\n",
    "## applying gridsearcv\n",
    "from sklearn.tree import DecisionTreeClassifier\n",
    "from sklearn import tree, model_selection\n",
    "from sklearn.metrics import accuracy_score\n",
    "\n",
    "\n",
    "classifier = DecisionTreeClassifier()\n",
    "dt_grid = {'max_depth':[3,4,5,6,7,8,9,10], 'criterion':['gini','entropy']}\n",
    "grid_classifier = model_selection.GridSearchCV(classifier, dt_grid, cv=10, scoring='accuracy',refit=True, \n",
    "                                              n_jobs=-1, return_train_score=True)\n",
    "\n",
    "\n",
    "from sklearn.model_selection import train_test_split\n",
    "x_train, x_cv, y_train, y_cv = train_test_split(X,y, test_size =0.3, random_state=1)\n"
   ]
  },
  {
   "cell_type": "code",
   "execution_count": 57,
   "metadata": {},
   "outputs": [
    {
     "data": {
      "text/plain": [
       "GridSearchCV(cv=10, error_score='raise',\n",
       "       estimator=DecisionTreeClassifier(class_weight=None, criterion='gini', max_depth=None,\n",
       "            max_features=None, max_leaf_nodes=None,\n",
       "            min_impurity_decrease=0.0, min_impurity_split=None,\n",
       "            min_samples_leaf=1, min_samples_split=2,\n",
       "            min_weight_fraction_leaf=0.0, presort=False, random_state=None,\n",
       "            splitter='best'),\n",
       "       fit_params=None, iid=True, n_jobs=-1,\n",
       "       param_grid={'max_depth': [3, 4, 5, 6, 7, 8, 9, 10], 'criterion': ['gini', 'entropy']},\n",
       "       pre_dispatch='2*n_jobs', refit=True, return_train_score=True,\n",
       "       scoring='accuracy', verbose=0)"
      ]
     },
     "execution_count": 57,
     "metadata": {},
     "output_type": "execute_result"
    }
   ],
   "source": [
    "grid_classifier.fit(x_train, y_train)"
   ]
  },
  {
   "cell_type": "code",
   "execution_count": 58,
   "metadata": {},
   "outputs": [
    {
     "name": "stdout",
     "output_type": "stream",
     "text": [
      "{'criterion': 'gini', 'max_depth': 5}\n"
     ]
    }
   ],
   "source": [
    "print(grid_classifier.best_params_)"
   ]
  },
  {
   "cell_type": "code",
   "execution_count": 59,
   "metadata": {},
   "outputs": [
    {
     "name": "stdout",
     "output_type": "stream",
     "text": [
      "0.7645687645687645\n"
     ]
    }
   ],
   "source": [
    "print(grid_classifier.best_score_)"
   ]
  },
  {
   "cell_type": "code",
   "execution_count": 61,
   "metadata": {},
   "outputs": [
    {
     "name": "stdout",
     "output_type": "stream",
     "text": [
      "DecisionTreeClassifier(class_weight=None, criterion='gini', max_depth=5,\n",
      "            max_features=None, max_leaf_nodes=None,\n",
      "            min_impurity_decrease=0.0, min_impurity_split=None,\n",
      "            min_samples_leaf=1, min_samples_split=2,\n",
      "            min_weight_fraction_leaf=0.0, presort=False, random_state=None,\n",
      "            splitter='best')\n"
     ]
    }
   ],
   "source": [
    "final_model = grid_classifier.best_estimator_\n",
    "print(final_model)"
   ]
  },
  {
   "cell_type": "code",
   "execution_count": 67,
   "metadata": {},
   "outputs": [
    {
     "name": "stdout",
     "output_type": "stream",
     "text": [
      "\n",
      "1 of kfold 10\n",
      "accuracy_score 0.746031746031746\n",
      "\n",
      "2 of kfold 10\n",
      "accuracy_score 0.7142857142857143\n",
      "\n",
      "3 of kfold 10\n",
      "accuracy_score 0.8524590163934426\n",
      "\n",
      "4 of kfold 10\n",
      "accuracy_score 0.7377049180327869\n",
      "\n",
      "5 of kfold 10\n",
      "accuracy_score 0.7377049180327869\n",
      "\n",
      "6 of kfold 10\n",
      "accuracy_score 0.6885245901639344\n",
      "\n",
      "7 of kfold 10\n",
      "accuracy_score 0.6721311475409836\n",
      "\n",
      "8 of kfold 10\n",
      "accuracy_score 0.7213114754098361\n",
      "\n",
      "9 of kfold 10\n",
      "accuracy_score 0.7868852459016393\n",
      "\n",
      "10 of kfold 10\n",
      "accuracy_score 0.7213114754098361\n"
     ]
    }
   ],
   "source": [
    "### now applying the bext parramatrs on the final tree model \n",
    "# Create Decision Tree with max_depth = 5, criterion : gini \n",
    "\n",
    "from sklearn.model_selection import StratifiedKFold\n",
    "i=1\n",
    "kf = StratifiedKFold(n_splits=10,random_state=100,shuffle=True)\n",
    "for train_index,test_index in kf.split(X,y):\n",
    "  print('\\n{} of kfold {}'.format(i,kf.n_splits))\n",
    "  xtr,xval = X.loc[train_index],X.loc[test_index]\n",
    "  ytr,yval = y[train_index],y[test_index]   \n",
    "  model = tree.DecisionTreeClassifier(random_state=100,criterion='gini',max_depth = 5)\n",
    "  model.fit(xtr, ytr)\n",
    "  pred_test = model.predict(xval)\n",
    "  score = accuracy_score(yval,pred_test)\n",
    "  print('accuracy_score',score)\n",
    "  i+=1"
   ]
  },
  {
   "cell_type": "code",
   "execution_count": 68,
   "metadata": {
    "collapsed": true
   },
   "outputs": [],
   "source": [
    "## fit the model in the test data \n",
    "pred_test = model.predict(test)\n"
   ]
  },
  {
   "cell_type": "code",
   "execution_count": 69,
   "metadata": {
    "collapsed": true
   },
   "outputs": [],
   "source": [
    "## converting the data set to test data set \n",
    "\n",
    "submission = pd.DataFrame({\n",
    "        \"Loan_ID\": Loan_ID,### from the assigned variable \n",
    "        \"Loan_Status\": pred_test\n",
    "    })\n",
    "\n",
    "##submission['Loan_Status']=pred_test            # filling Loan_Status with predictions\n",
    "###submission['Loan_ID']=test_original['Loan_ID'] # filling Loan_ID with test Loan_ID# replacing 0 and 1 with N and Y\n",
    "submission['Loan_Status'].replace(0, 'N',inplace=True)\n",
    "submission['Loan_Status'].replace(1, 'Y',inplace=True)\n",
    "\n",
    "# Converting submission file to .csv format\n",
    "pd.DataFrame(submission, columns=['Loan_ID','Loan_Status']).to_csv('Decision_tree_prediction.csv') \n",
    "\n"
   ]
  },
  {
   "cell_type": "code",
   "execution_count": 70,
   "metadata": {
    "collapsed": true
   },
   "outputs": [],
   "source": [
    "with open(\"prediction_tree.dot\", 'w') as f:\n",
    "     f = tree.export_graphviz(model,\n",
    "                              out_file=f,\n",
    "                              max_depth = 5,\n",
    "                              impurity = True,\n",
    "                              feature_names = list(train.drop(['Loan_Status'], axis=1)),\n",
    "                              class_names = ['No', 'Yes'],\n",
    "                              rounded = True,\n",
    "                              filled= True )"
   ]
  },
  {
   "cell_type": "code",
   "execution_count": null,
   "metadata": {
    "collapsed": true
   },
   "outputs": [],
   "source": [
    "## Check the document Prediction_tree_decision_tree.docx for th tre structure \n",
    "# Check the submission file for the predictions of loan status for various loan ids "
   ]
  }
 ],
 "metadata": {
  "kernelspec": {
   "display_name": "Python 3",
   "language": "python",
   "name": "python3"
  },
  "language_info": {
   "codemirror_mode": {
    "name": "ipython",
    "version": 3
   },
   "file_extension": ".py",
   "mimetype": "text/x-python",
   "name": "python",
   "nbconvert_exporter": "python",
   "pygments_lexer": "ipython3",
   "version": "3.6.3"
  }
 },
 "nbformat": 4,
 "nbformat_minor": 2
}
