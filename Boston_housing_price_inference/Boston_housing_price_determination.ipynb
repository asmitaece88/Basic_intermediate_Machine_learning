{
 "cells": [
  {
   "cell_type": "code",
   "execution_count": 1,
   "metadata": {
    "collapsed": true
   },
   "outputs": [],
   "source": [
    "# @author: asmita chatterjee\n",
    "\n",
    "\n",
    "# Data set source : Boston housing data set \n",
    "# https://archive.ics.uci.edu/ml/machine-learning-databases/housing/\n",
    "\n",
    "\n",
    "# Purpose:\n",
    "#    Data Set Characteristics:  \n",
    "\n",
    "#     :Number of Instances: 506 \n",
    "\n",
    "#     :Number of Attributes: 13 numeric/categorical predictive\n",
    "    \n",
    "#     :Median Value (attribute 14) is usually the target\n",
    "\n",
    "#     :Attribute Information (in order):\n",
    "#         - CRIM     per capita crime rate by town\n",
    "#         - ZN       proportion of residential land zoned for lots over 25,000 sq.ft.\n",
    "#         - INDUS    proportion of non-retail business acres per town\n",
    "#         - CHAS     Charles River dummy variable (= 1 if tract bounds river; 0 otherwise)\n",
    "#         - NOX      nitric oxides concentration (parts per 10 million)\n",
    "#         - RM       average number of rooms per dwelling\n",
    "#         - AGE      proportion of owner-occupied units built prior to 1940\n",
    "#         - DIS      weighted distances to five Boston employment centres\n",
    "#         - RAD      index of accessibility to radial highways\n",
    "#         - TAX      full-value property-tax rate per $10,000\n",
    "#         - PTRATIO  pupil-teacher ratio by town\n",
    "#         - B        1000(Bk - 0.63)^2 where Bk is the proportion of blacks by town\n",
    "#         - LSTAT    % lower status of the population\n",
    "#         - MEDV     Median value of owner-occupied homes in $1000's\n",
    "\n",
    "\n",
    "### Import the modules \n",
    "import pandas as pd\n",
    "import numpy as np\n",
    "import matplotlib.pyplot as plt\n",
    "import seaborn as sns\n",
    "%matplotlib inline\n",
    "\n"
   ]
  },
  {
   "cell_type": "code",
   "execution_count": 2,
   "metadata": {
    "collapsed": true
   },
   "outputs": [],
   "source": [
    "###load the data \n",
    "boston_pd = pd.read_csv('C:/Users/USER/Documents/datasets/linear_regression/BostonHousing.csv')"
   ]
  },
  {
   "cell_type": "code",
   "execution_count": 3,
   "metadata": {},
   "outputs": [
    {
     "data": {
      "text/plain": [
       "(506, 14)"
      ]
     },
     "execution_count": 3,
     "metadata": {},
     "output_type": "execute_result"
    }
   ],
   "source": [
    "###Checking number of rows and columns \n",
    "\n",
    "boston_pd.shape"
   ]
  },
  {
   "cell_type": "code",
   "execution_count": 4,
   "metadata": {},
   "outputs": [
    {
     "data": {
      "text/plain": [
       "Index(['crim', 'zn', 'indus', 'chas', 'nox', 'rm', 'age', 'dis', 'rad', 'tax',\n",
       "       'ptratio', 'b', 'lstat', 'medv'],\n",
       "      dtype='object')"
      ]
     },
     "execution_count": 4,
     "metadata": {},
     "output_type": "execute_result"
    }
   ],
   "source": [
    "### check the columns\n",
    "boston_pd.columns"
   ]
  },
  {
   "cell_type": "code",
   "execution_count": 5,
   "metadata": {},
   "outputs": [
    {
     "data": {
      "text/html": [
       "<div>\n",
       "<style>\n",
       "    .dataframe thead tr:only-child th {\n",
       "        text-align: right;\n",
       "    }\n",
       "\n",
       "    .dataframe thead th {\n",
       "        text-align: left;\n",
       "    }\n",
       "\n",
       "    .dataframe tbody tr th {\n",
       "        vertical-align: top;\n",
       "    }\n",
       "</style>\n",
       "<table border=\"1\" class=\"dataframe\">\n",
       "  <thead>\n",
       "    <tr style=\"text-align: right;\">\n",
       "      <th></th>\n",
       "      <th>crim</th>\n",
       "      <th>zn</th>\n",
       "      <th>indus</th>\n",
       "      <th>chas</th>\n",
       "      <th>nox</th>\n",
       "      <th>rm</th>\n",
       "      <th>age</th>\n",
       "      <th>dis</th>\n",
       "      <th>rad</th>\n",
       "      <th>tax</th>\n",
       "      <th>ptratio</th>\n",
       "      <th>b</th>\n",
       "      <th>lstat</th>\n",
       "      <th>medv</th>\n",
       "    </tr>\n",
       "  </thead>\n",
       "  <tbody>\n",
       "    <tr>\n",
       "      <th>0</th>\n",
       "      <td>0.00632</td>\n",
       "      <td>18.0</td>\n",
       "      <td>2.31</td>\n",
       "      <td>0</td>\n",
       "      <td>0.538</td>\n",
       "      <td>6.575</td>\n",
       "      <td>65.2</td>\n",
       "      <td>4.0900</td>\n",
       "      <td>1</td>\n",
       "      <td>296</td>\n",
       "      <td>15.3</td>\n",
       "      <td>396.90</td>\n",
       "      <td>4.98</td>\n",
       "      <td>24.0</td>\n",
       "    </tr>\n",
       "    <tr>\n",
       "      <th>1</th>\n",
       "      <td>0.02731</td>\n",
       "      <td>0.0</td>\n",
       "      <td>7.07</td>\n",
       "      <td>0</td>\n",
       "      <td>0.469</td>\n",
       "      <td>6.421</td>\n",
       "      <td>78.9</td>\n",
       "      <td>4.9671</td>\n",
       "      <td>2</td>\n",
       "      <td>242</td>\n",
       "      <td>17.8</td>\n",
       "      <td>396.90</td>\n",
       "      <td>9.14</td>\n",
       "      <td>21.6</td>\n",
       "    </tr>\n",
       "    <tr>\n",
       "      <th>2</th>\n",
       "      <td>0.02729</td>\n",
       "      <td>0.0</td>\n",
       "      <td>7.07</td>\n",
       "      <td>0</td>\n",
       "      <td>0.469</td>\n",
       "      <td>7.185</td>\n",
       "      <td>61.1</td>\n",
       "      <td>4.9671</td>\n",
       "      <td>2</td>\n",
       "      <td>242</td>\n",
       "      <td>17.8</td>\n",
       "      <td>392.83</td>\n",
       "      <td>4.03</td>\n",
       "      <td>34.7</td>\n",
       "    </tr>\n",
       "    <tr>\n",
       "      <th>3</th>\n",
       "      <td>0.03237</td>\n",
       "      <td>0.0</td>\n",
       "      <td>2.18</td>\n",
       "      <td>0</td>\n",
       "      <td>0.458</td>\n",
       "      <td>6.998</td>\n",
       "      <td>45.8</td>\n",
       "      <td>6.0622</td>\n",
       "      <td>3</td>\n",
       "      <td>222</td>\n",
       "      <td>18.7</td>\n",
       "      <td>394.63</td>\n",
       "      <td>2.94</td>\n",
       "      <td>33.4</td>\n",
       "    </tr>\n",
       "    <tr>\n",
       "      <th>4</th>\n",
       "      <td>0.06905</td>\n",
       "      <td>0.0</td>\n",
       "      <td>2.18</td>\n",
       "      <td>0</td>\n",
       "      <td>0.458</td>\n",
       "      <td>7.147</td>\n",
       "      <td>54.2</td>\n",
       "      <td>6.0622</td>\n",
       "      <td>3</td>\n",
       "      <td>222</td>\n",
       "      <td>18.7</td>\n",
       "      <td>396.90</td>\n",
       "      <td>5.33</td>\n",
       "      <td>36.2</td>\n",
       "    </tr>\n",
       "    <tr>\n",
       "      <th>5</th>\n",
       "      <td>0.02985</td>\n",
       "      <td>0.0</td>\n",
       "      <td>2.18</td>\n",
       "      <td>0</td>\n",
       "      <td>0.458</td>\n",
       "      <td>6.430</td>\n",
       "      <td>58.7</td>\n",
       "      <td>6.0622</td>\n",
       "      <td>3</td>\n",
       "      <td>222</td>\n",
       "      <td>18.7</td>\n",
       "      <td>394.12</td>\n",
       "      <td>5.21</td>\n",
       "      <td>28.7</td>\n",
       "    </tr>\n",
       "    <tr>\n",
       "      <th>6</th>\n",
       "      <td>0.08829</td>\n",
       "      <td>12.5</td>\n",
       "      <td>7.87</td>\n",
       "      <td>0</td>\n",
       "      <td>0.524</td>\n",
       "      <td>6.012</td>\n",
       "      <td>66.6</td>\n",
       "      <td>5.5605</td>\n",
       "      <td>5</td>\n",
       "      <td>311</td>\n",
       "      <td>15.2</td>\n",
       "      <td>395.60</td>\n",
       "      <td>12.43</td>\n",
       "      <td>22.9</td>\n",
       "    </tr>\n",
       "    <tr>\n",
       "      <th>7</th>\n",
       "      <td>0.14455</td>\n",
       "      <td>12.5</td>\n",
       "      <td>7.87</td>\n",
       "      <td>0</td>\n",
       "      <td>0.524</td>\n",
       "      <td>6.172</td>\n",
       "      <td>96.1</td>\n",
       "      <td>5.9505</td>\n",
       "      <td>5</td>\n",
       "      <td>311</td>\n",
       "      <td>15.2</td>\n",
       "      <td>396.90</td>\n",
       "      <td>19.15</td>\n",
       "      <td>27.1</td>\n",
       "    </tr>\n",
       "    <tr>\n",
       "      <th>8</th>\n",
       "      <td>0.21124</td>\n",
       "      <td>12.5</td>\n",
       "      <td>7.87</td>\n",
       "      <td>0</td>\n",
       "      <td>0.524</td>\n",
       "      <td>5.631</td>\n",
       "      <td>100.0</td>\n",
       "      <td>6.0821</td>\n",
       "      <td>5</td>\n",
       "      <td>311</td>\n",
       "      <td>15.2</td>\n",
       "      <td>386.63</td>\n",
       "      <td>29.93</td>\n",
       "      <td>16.5</td>\n",
       "    </tr>\n",
       "    <tr>\n",
       "      <th>9</th>\n",
       "      <td>0.17004</td>\n",
       "      <td>12.5</td>\n",
       "      <td>7.87</td>\n",
       "      <td>0</td>\n",
       "      <td>0.524</td>\n",
       "      <td>6.004</td>\n",
       "      <td>85.9</td>\n",
       "      <td>6.5921</td>\n",
       "      <td>5</td>\n",
       "      <td>311</td>\n",
       "      <td>15.2</td>\n",
       "      <td>386.71</td>\n",
       "      <td>17.10</td>\n",
       "      <td>18.9</td>\n",
       "    </tr>\n",
       "    <tr>\n",
       "      <th>10</th>\n",
       "      <td>0.22489</td>\n",
       "      <td>12.5</td>\n",
       "      <td>7.87</td>\n",
       "      <td>0</td>\n",
       "      <td>0.524</td>\n",
       "      <td>6.377</td>\n",
       "      <td>94.3</td>\n",
       "      <td>6.3467</td>\n",
       "      <td>5</td>\n",
       "      <td>311</td>\n",
       "      <td>15.2</td>\n",
       "      <td>392.52</td>\n",
       "      <td>20.45</td>\n",
       "      <td>15.0</td>\n",
       "    </tr>\n",
       "    <tr>\n",
       "      <th>11</th>\n",
       "      <td>0.11747</td>\n",
       "      <td>12.5</td>\n",
       "      <td>7.87</td>\n",
       "      <td>0</td>\n",
       "      <td>0.524</td>\n",
       "      <td>6.009</td>\n",
       "      <td>82.9</td>\n",
       "      <td>6.2267</td>\n",
       "      <td>5</td>\n",
       "      <td>311</td>\n",
       "      <td>15.2</td>\n",
       "      <td>396.90</td>\n",
       "      <td>13.27</td>\n",
       "      <td>18.9</td>\n",
       "    </tr>\n",
       "    <tr>\n",
       "      <th>12</th>\n",
       "      <td>0.09378</td>\n",
       "      <td>12.5</td>\n",
       "      <td>7.87</td>\n",
       "      <td>0</td>\n",
       "      <td>0.524</td>\n",
       "      <td>5.889</td>\n",
       "      <td>39.0</td>\n",
       "      <td>5.4509</td>\n",
       "      <td>5</td>\n",
       "      <td>311</td>\n",
       "      <td>15.2</td>\n",
       "      <td>390.50</td>\n",
       "      <td>15.71</td>\n",
       "      <td>21.7</td>\n",
       "    </tr>\n",
       "    <tr>\n",
       "      <th>13</th>\n",
       "      <td>0.62976</td>\n",
       "      <td>0.0</td>\n",
       "      <td>8.14</td>\n",
       "      <td>0</td>\n",
       "      <td>0.538</td>\n",
       "      <td>5.949</td>\n",
       "      <td>61.8</td>\n",
       "      <td>4.7075</td>\n",
       "      <td>4</td>\n",
       "      <td>307</td>\n",
       "      <td>21.0</td>\n",
       "      <td>396.90</td>\n",
       "      <td>8.26</td>\n",
       "      <td>20.4</td>\n",
       "    </tr>\n",
       "    <tr>\n",
       "      <th>14</th>\n",
       "      <td>0.63796</td>\n",
       "      <td>0.0</td>\n",
       "      <td>8.14</td>\n",
       "      <td>0</td>\n",
       "      <td>0.538</td>\n",
       "      <td>6.096</td>\n",
       "      <td>84.5</td>\n",
       "      <td>4.4619</td>\n",
       "      <td>4</td>\n",
       "      <td>307</td>\n",
       "      <td>21.0</td>\n",
       "      <td>380.02</td>\n",
       "      <td>10.26</td>\n",
       "      <td>18.2</td>\n",
       "    </tr>\n",
       "  </tbody>\n",
       "</table>\n",
       "</div>"
      ],
      "text/plain": [
       "       crim    zn  indus  chas    nox     rm    age     dis  rad  tax  \\\n",
       "0   0.00632  18.0   2.31     0  0.538  6.575   65.2  4.0900    1  296   \n",
       "1   0.02731   0.0   7.07     0  0.469  6.421   78.9  4.9671    2  242   \n",
       "2   0.02729   0.0   7.07     0  0.469  7.185   61.1  4.9671    2  242   \n",
       "3   0.03237   0.0   2.18     0  0.458  6.998   45.8  6.0622    3  222   \n",
       "4   0.06905   0.0   2.18     0  0.458  7.147   54.2  6.0622    3  222   \n",
       "5   0.02985   0.0   2.18     0  0.458  6.430   58.7  6.0622    3  222   \n",
       "6   0.08829  12.5   7.87     0  0.524  6.012   66.6  5.5605    5  311   \n",
       "7   0.14455  12.5   7.87     0  0.524  6.172   96.1  5.9505    5  311   \n",
       "8   0.21124  12.5   7.87     0  0.524  5.631  100.0  6.0821    5  311   \n",
       "9   0.17004  12.5   7.87     0  0.524  6.004   85.9  6.5921    5  311   \n",
       "10  0.22489  12.5   7.87     0  0.524  6.377   94.3  6.3467    5  311   \n",
       "11  0.11747  12.5   7.87     0  0.524  6.009   82.9  6.2267    5  311   \n",
       "12  0.09378  12.5   7.87     0  0.524  5.889   39.0  5.4509    5  311   \n",
       "13  0.62976   0.0   8.14     0  0.538  5.949   61.8  4.7075    4  307   \n",
       "14  0.63796   0.0   8.14     0  0.538  6.096   84.5  4.4619    4  307   \n",
       "\n",
       "    ptratio       b  lstat  medv  \n",
       "0      15.3  396.90   4.98  24.0  \n",
       "1      17.8  396.90   9.14  21.6  \n",
       "2      17.8  392.83   4.03  34.7  \n",
       "3      18.7  394.63   2.94  33.4  \n",
       "4      18.7  396.90   5.33  36.2  \n",
       "5      18.7  394.12   5.21  28.7  \n",
       "6      15.2  395.60  12.43  22.9  \n",
       "7      15.2  396.90  19.15  27.1  \n",
       "8      15.2  386.63  29.93  16.5  \n",
       "9      15.2  386.71  17.10  18.9  \n",
       "10     15.2  392.52  20.45  15.0  \n",
       "11     15.2  396.90  13.27  18.9  \n",
       "12     15.2  390.50  15.71  21.7  \n",
       "13     21.0  396.90   8.26  20.4  \n",
       "14     21.0  380.02  10.26  18.2  "
      ]
     },
     "execution_count": 5,
     "metadata": {},
     "output_type": "execute_result"
    }
   ],
   "source": [
    "boston_pd.head(15)"
   ]
  },
  {
   "cell_type": "code",
   "execution_count": 6,
   "metadata": {},
   "outputs": [
    {
     "data": {
      "text/html": [
       "<div>\n",
       "<style>\n",
       "    .dataframe thead tr:only-child th {\n",
       "        text-align: right;\n",
       "    }\n",
       "\n",
       "    .dataframe thead th {\n",
       "        text-align: left;\n",
       "    }\n",
       "\n",
       "    .dataframe tbody tr th {\n",
       "        vertical-align: top;\n",
       "    }\n",
       "</style>\n",
       "<table border=\"1\" class=\"dataframe\">\n",
       "  <thead>\n",
       "    <tr style=\"text-align: right;\">\n",
       "      <th></th>\n",
       "      <th>crim</th>\n",
       "      <th>zn</th>\n",
       "      <th>indus</th>\n",
       "      <th>chas</th>\n",
       "      <th>nox</th>\n",
       "      <th>rm</th>\n",
       "      <th>age</th>\n",
       "      <th>dis</th>\n",
       "      <th>rad</th>\n",
       "      <th>tax</th>\n",
       "      <th>ptratio</th>\n",
       "      <th>b</th>\n",
       "      <th>lstat</th>\n",
       "      <th>medv</th>\n",
       "    </tr>\n",
       "  </thead>\n",
       "  <tbody>\n",
       "    <tr>\n",
       "      <th>count</th>\n",
       "      <td>506.000000</td>\n",
       "      <td>506.000000</td>\n",
       "      <td>506.000000</td>\n",
       "      <td>506.000000</td>\n",
       "      <td>506.000000</td>\n",
       "      <td>506.000000</td>\n",
       "      <td>506.000000</td>\n",
       "      <td>506.000000</td>\n",
       "      <td>506.000000</td>\n",
       "      <td>506.000000</td>\n",
       "      <td>506.000000</td>\n",
       "      <td>506.000000</td>\n",
       "      <td>506.000000</td>\n",
       "      <td>506.000000</td>\n",
       "    </tr>\n",
       "    <tr>\n",
       "      <th>mean</th>\n",
       "      <td>3.613524</td>\n",
       "      <td>11.363636</td>\n",
       "      <td>11.136779</td>\n",
       "      <td>0.069170</td>\n",
       "      <td>0.554695</td>\n",
       "      <td>6.284634</td>\n",
       "      <td>68.574901</td>\n",
       "      <td>3.795043</td>\n",
       "      <td>9.549407</td>\n",
       "      <td>408.237154</td>\n",
       "      <td>18.455534</td>\n",
       "      <td>356.674032</td>\n",
       "      <td>12.653063</td>\n",
       "      <td>22.532806</td>\n",
       "    </tr>\n",
       "    <tr>\n",
       "      <th>std</th>\n",
       "      <td>8.601545</td>\n",
       "      <td>23.322453</td>\n",
       "      <td>6.860353</td>\n",
       "      <td>0.253994</td>\n",
       "      <td>0.115878</td>\n",
       "      <td>0.702617</td>\n",
       "      <td>28.148861</td>\n",
       "      <td>2.105710</td>\n",
       "      <td>8.707259</td>\n",
       "      <td>168.537116</td>\n",
       "      <td>2.164946</td>\n",
       "      <td>91.294864</td>\n",
       "      <td>7.141062</td>\n",
       "      <td>9.197104</td>\n",
       "    </tr>\n",
       "    <tr>\n",
       "      <th>min</th>\n",
       "      <td>0.006320</td>\n",
       "      <td>0.000000</td>\n",
       "      <td>0.460000</td>\n",
       "      <td>0.000000</td>\n",
       "      <td>0.385000</td>\n",
       "      <td>3.561000</td>\n",
       "      <td>2.900000</td>\n",
       "      <td>1.129600</td>\n",
       "      <td>1.000000</td>\n",
       "      <td>187.000000</td>\n",
       "      <td>12.600000</td>\n",
       "      <td>0.320000</td>\n",
       "      <td>1.730000</td>\n",
       "      <td>5.000000</td>\n",
       "    </tr>\n",
       "    <tr>\n",
       "      <th>25%</th>\n",
       "      <td>0.082045</td>\n",
       "      <td>0.000000</td>\n",
       "      <td>5.190000</td>\n",
       "      <td>0.000000</td>\n",
       "      <td>0.449000</td>\n",
       "      <td>5.885500</td>\n",
       "      <td>45.025000</td>\n",
       "      <td>2.100175</td>\n",
       "      <td>4.000000</td>\n",
       "      <td>279.000000</td>\n",
       "      <td>17.400000</td>\n",
       "      <td>375.377500</td>\n",
       "      <td>6.950000</td>\n",
       "      <td>17.025000</td>\n",
       "    </tr>\n",
       "    <tr>\n",
       "      <th>50%</th>\n",
       "      <td>0.256510</td>\n",
       "      <td>0.000000</td>\n",
       "      <td>9.690000</td>\n",
       "      <td>0.000000</td>\n",
       "      <td>0.538000</td>\n",
       "      <td>6.208500</td>\n",
       "      <td>77.500000</td>\n",
       "      <td>3.207450</td>\n",
       "      <td>5.000000</td>\n",
       "      <td>330.000000</td>\n",
       "      <td>19.050000</td>\n",
       "      <td>391.440000</td>\n",
       "      <td>11.360000</td>\n",
       "      <td>21.200000</td>\n",
       "    </tr>\n",
       "    <tr>\n",
       "      <th>75%</th>\n",
       "      <td>3.677082</td>\n",
       "      <td>12.500000</td>\n",
       "      <td>18.100000</td>\n",
       "      <td>0.000000</td>\n",
       "      <td>0.624000</td>\n",
       "      <td>6.623500</td>\n",
       "      <td>94.075000</td>\n",
       "      <td>5.188425</td>\n",
       "      <td>24.000000</td>\n",
       "      <td>666.000000</td>\n",
       "      <td>20.200000</td>\n",
       "      <td>396.225000</td>\n",
       "      <td>16.955000</td>\n",
       "      <td>25.000000</td>\n",
       "    </tr>\n",
       "    <tr>\n",
       "      <th>max</th>\n",
       "      <td>88.976200</td>\n",
       "      <td>100.000000</td>\n",
       "      <td>27.740000</td>\n",
       "      <td>1.000000</td>\n",
       "      <td>0.871000</td>\n",
       "      <td>8.780000</td>\n",
       "      <td>100.000000</td>\n",
       "      <td>12.126500</td>\n",
       "      <td>24.000000</td>\n",
       "      <td>711.000000</td>\n",
       "      <td>22.000000</td>\n",
       "      <td>396.900000</td>\n",
       "      <td>37.970000</td>\n",
       "      <td>50.000000</td>\n",
       "    </tr>\n",
       "  </tbody>\n",
       "</table>\n",
       "</div>"
      ],
      "text/plain": [
       "             crim          zn       indus        chas         nox          rm  \\\n",
       "count  506.000000  506.000000  506.000000  506.000000  506.000000  506.000000   \n",
       "mean     3.613524   11.363636   11.136779    0.069170    0.554695    6.284634   \n",
       "std      8.601545   23.322453    6.860353    0.253994    0.115878    0.702617   \n",
       "min      0.006320    0.000000    0.460000    0.000000    0.385000    3.561000   \n",
       "25%      0.082045    0.000000    5.190000    0.000000    0.449000    5.885500   \n",
       "50%      0.256510    0.000000    9.690000    0.000000    0.538000    6.208500   \n",
       "75%      3.677082   12.500000   18.100000    0.000000    0.624000    6.623500   \n",
       "max     88.976200  100.000000   27.740000    1.000000    0.871000    8.780000   \n",
       "\n",
       "              age         dis         rad         tax     ptratio           b  \\\n",
       "count  506.000000  506.000000  506.000000  506.000000  506.000000  506.000000   \n",
       "mean    68.574901    3.795043    9.549407  408.237154   18.455534  356.674032   \n",
       "std     28.148861    2.105710    8.707259  168.537116    2.164946   91.294864   \n",
       "min      2.900000    1.129600    1.000000  187.000000   12.600000    0.320000   \n",
       "25%     45.025000    2.100175    4.000000  279.000000   17.400000  375.377500   \n",
       "50%     77.500000    3.207450    5.000000  330.000000   19.050000  391.440000   \n",
       "75%     94.075000    5.188425   24.000000  666.000000   20.200000  396.225000   \n",
       "max    100.000000   12.126500   24.000000  711.000000   22.000000  396.900000   \n",
       "\n",
       "            lstat        medv  \n",
       "count  506.000000  506.000000  \n",
       "mean    12.653063   22.532806  \n",
       "std      7.141062    9.197104  \n",
       "min      1.730000    5.000000  \n",
       "25%      6.950000   17.025000  \n",
       "50%     11.360000   21.200000  \n",
       "75%     16.955000   25.000000  \n",
       "max     37.970000   50.000000  "
      ]
     },
     "execution_count": 6,
     "metadata": {},
     "output_type": "execute_result"
    }
   ],
   "source": [
    "###Check the summary \n",
    "\n",
    "boston_pd.describe()"
   ]
  },
  {
   "cell_type": "code",
   "execution_count": 7,
   "metadata": {},
   "outputs": [
    {
     "name": "stdout",
     "output_type": "stream",
     "text": [
      "<class 'pandas.core.frame.DataFrame'>\n",
      "RangeIndex: 506 entries, 0 to 505\n",
      "Data columns (total 14 columns):\n",
      "crim       506 non-null float64\n",
      "zn         506 non-null float64\n",
      "indus      506 non-null float64\n",
      "chas       506 non-null int64\n",
      "nox        506 non-null float64\n",
      "rm         506 non-null float64\n",
      "age        506 non-null float64\n",
      "dis        506 non-null float64\n",
      "rad        506 non-null int64\n",
      "tax        506 non-null int64\n",
      "ptratio    506 non-null float64\n",
      "b          506 non-null float64\n",
      "lstat      506 non-null float64\n",
      "medv       506 non-null float64\n",
      "dtypes: float64(11), int64(3)\n",
      "memory usage: 55.4 KB\n"
     ]
    }
   ],
   "source": [
    "## Check for missing values\n",
    "\n",
    "\n",
    "boston_pd.info()\n",
    "\n",
    "## no missing values present "
   ]
  },
  {
   "cell_type": "code",
   "execution_count": 8,
   "metadata": {
    "collapsed": true
   },
   "outputs": [],
   "source": [
    "# Next find out the correlation values \n",
    "\n",
    "correlation_matrix = boston_pd.corr().round(2)\n"
   ]
  },
  {
   "cell_type": "code",
   "execution_count": 9,
   "metadata": {},
   "outputs": [
    {
     "data": {
      "text/plain": [
       "<matplotlib.axes._subplots.AxesSubplot at 0x18efccd3ba8>"
      ]
     },
     "execution_count": 9,
     "metadata": {},
     "output_type": "execute_result"
    },
    {
     "data": {
      "image/png": "[encoded data removed]",
      "text/plain": [
       "<matplotlib.figure.Figure at 0x18efcccc710>"
      ]
     },
     "metadata": {},
     "output_type": "display_data"
    }
   ],
   "source": [
    "### plot the correlation values \n",
    "# annot = True to print the values inside the square\n",
    "plt.figure(figsize= (10,10), dpi=100)\n",
    "sns.heatmap(data=correlation_matrix, annot=True)"
   ]
  },
  {
   "cell_type": "code",
   "execution_count": 10,
   "metadata": {
    "collapsed": true
   },
   "outputs": [],
   "source": [
    "# We find out the  following  highly correlated variable pairs  : \n",
    "    \n",
    "#     --> dis- indues \n",
    "    \n",
    "#     --> dis-nox\n",
    "    \n",
    "#     -->dis- age \n",
    "    \n",
    "#     --> rad- tax \n",
    "    \n",
    "#      out of which , the variables rad-tax are highly correlated .\n",
    "#      hence we will drop  any 1 variable , to avoid multi collinearity \n",
    "    \n",
    "#     Let us drop tax \n",
    "\n",
    "boston_pd = boston_pd.drop(['tax'], axis=1)"
   ]
  },
  {
   "cell_type": "code",
   "execution_count": 11,
   "metadata": {},
   "outputs": [
    {
     "data": {
      "text/plain": [
       "Index(['crim', 'zn', 'indus', 'chas', 'nox', 'rm', 'age', 'dis', 'rad',\n",
       "       'ptratio', 'b', 'lstat', 'medv'],\n",
       "      dtype='object')"
      ]
     },
     "execution_count": 11,
     "metadata": {},
     "output_type": "execute_result"
    }
   ],
   "source": [
    "boston_pd.columns"
   ]
  },
  {
   "cell_type": "code",
   "execution_count": 12,
   "metadata": {},
   "outputs": [
    {
     "name": "stdout",
     "output_type": "stream",
     "text": [
      "[[0.41978194 0.28482986 1.2879095  ... 0.44105193 1.0755623  0.15968566]\n",
      " [0.41733926 0.48772236 0.59338101 ... 0.44105193 0.49243937 0.10152429]\n",
      " [0.41734159 0.48772236 0.59338101 ... 0.39642699 1.2087274  1.32424667]\n",
      " ...\n",
      " [0.41344658 0.48772236 0.11573841 ... 0.44105193 0.98304761 0.14880191]\n",
      " [0.40776407 0.48772236 0.11573841 ... 0.4032249  0.86530163 0.0579893 ]\n",
      " [0.41500016 0.48772236 0.11573841 ... 0.44105193 0.66905833 1.15724782]]\n"
     ]
    }
   ],
   "source": [
    "### next  filtering the outliers \n",
    "\n",
    "from scipy import stats\n",
    "import numpy as np\n",
    "z = np.abs(stats.zscore(boston_pd))\n",
    "print(z)"
   ]
  },
  {
   "cell_type": "code",
   "execution_count": 14,
   "metadata": {},
   "outputs": [
    {
     "data": {
      "text/plain": [
       "(506, 13)"
      ]
     },
     "execution_count": 14,
     "metadata": {},
     "output_type": "execute_result"
    }
   ],
   "source": [
    "### Find out the shape \n",
    "z.shape"
   ]
  },
  {
   "cell_type": "code",
   "execution_count": 13,
   "metadata": {},
   "outputs": [
    {
     "name": "stdout",
     "output_type": "stream",
     "text": [
      "(array([ 55,  56,  57, 102, 141, 142, 152, 154, 155, 160, 162, 163, 199,\n",
      "       200, 201, 202, 203, 204, 208, 209, 210, 211, 212, 216, 218, 219,\n",
      "       220, 221, 222, 225, 234, 236, 256, 257, 262, 269, 273, 274, 276,\n",
      "       277, 282, 283, 283, 284, 347, 351, 352, 353, 353, 354, 355, 356,\n",
      "       357, 358, 363, 364, 364, 365, 367, 369, 370, 372, 373, 374, 374,\n",
      "       380, 398, 404, 405, 406, 410, 410, 411, 412, 412, 414, 414, 415,\n",
      "       416, 418, 418, 419, 423, 424, 425, 426, 427, 427, 429, 431, 436,\n",
      "       437, 438, 445, 450, 454, 455, 456, 457, 466], dtype=int64), array([ 1,  1,  1, 10, 11,  3,  3,  3,  3,  3,  3,  3,  1,  1,  1,  1,  1,\n",
      "        1,  3,  3,  3,  3,  3,  3,  3,  3,  3,  3,  3,  5,  3,  3,  1,  5,\n",
      "        5,  3,  3,  3,  3,  3,  3,  1,  3,  1,  1,  7,  7,  1,  7,  7,  7,\n",
      "        3,  3,  3,  3,  3,  5,  5,  5,  3,  3,  3, 11,  5, 11,  0,  0,  0,\n",
      "        0,  5,  0, 10, 10, 10, 11,  0, 11, 10, 10,  0, 10, 10, 10, 10, 10,\n",
      "       10,  0, 10, 10, 10, 10, 10, 10, 10, 10, 10, 10, 10, 10, 10],\n",
      "      dtype=int64))\n"
     ]
    }
   ],
   "source": [
    "##take a thresold of 3. Any values outside the z  value 3 is considered an outlier \n",
    "threshold = 3\n",
    "print(np.where(z > 3))\n",
    "\n",
    "##The first array contains the list of row numbers \n",
    "##and second array respective column numbers, which mean z[410][10] have a Z-score higher than 3."
   ]
  },
  {
   "cell_type": "code",
   "execution_count": 14,
   "metadata": {},
   "outputs": [
    {
     "name": "stdout",
     "output_type": "stream",
     "text": [
      "3.8821945679249596\n"
     ]
    }
   ],
   "source": [
    "print(z[410][10])"
   ]
  },
  {
   "cell_type": "code",
   "execution_count": 15,
   "metadata": {},
   "outputs": [
    {
     "data": {
      "text/plain": [
       "(415, 13)"
      ]
     },
     "execution_count": 15,
     "metadata": {},
     "output_type": "execute_result"
    }
   ],
   "source": [
    "##remove the outliers \n",
    "boston_pd = boston_pd[(z < 3).all(axis=1)]\n",
    "\n",
    "boston_pd.shape\n"
   ]
  },
  {
   "cell_type": "code",
   "execution_count": 21,
   "metadata": {},
   "outputs": [
    {
     "name": "stderr",
     "output_type": "stream",
     "text": [
      "C:\\Users\\USER\\Anaconda3\\lib\\site-packages\\scipy\\stats\\stats.py:1633: FutureWarning: Using a non-tuple sequence for multidimensional indexing is deprecated; use `arr[tuple(seq)]` instead of `arr[seq]`. In the future this will be interpreted as an array index, `arr[np.array(seq)]`, which will result either in an error or a different result.\n",
      "  return np.add.reduce(sorted[indexer] * weights, axis=axis) / sumval\n"
     ]
    },
    {
     "data": {
      "text/plain": [
       "<matplotlib.axes._subplots.AxesSubplot at 0x24ba0547f98>"
      ]
     },
     "execution_count": 21,
     "metadata": {},
     "output_type": "execute_result"
    },
    {
     "data": {
      "image/png": "[encoded data removed]",
      "text/plain": [
       "<matplotlib.figure.Figure at 0x24ba0547828>"
      ]
     },
     "metadata": {},
     "output_type": "display_data"
    }
   ],
   "source": [
    "##next checkig the target value skew distribution \n",
    "## if highly skewed , \n",
    "\n",
    "sns.distplot(boston_pd.iloc[:,12:])"
   ]
  },
  {
   "cell_type": "code",
   "execution_count": 16,
   "metadata": {},
   "outputs": [
    {
     "data": {
      "text/plain": [
       "medv    1.119814\n",
       "dtype: float64"
      ]
     },
     "execution_count": 16,
     "metadata": {},
     "output_type": "execute_result"
    }
   ],
   "source": [
    "### The plot looks slightly right skewed \n",
    "\n",
    "boston_pd.iloc[:,12:].skew()\n",
    "\n",
    "#  skew value greater than 1 denotes the distribution of  target variable  is highly skewed .\n",
    " \n",
    "#  Hence , Log transformation will be used on the target variable .\n",
    "#  We will be ding this shortly."
   ]
  },
  {
   "cell_type": "code",
   "execution_count": 17,
   "metadata": {},
   "outputs": [
    {
     "data": {
      "text/plain": [
       "(415, 13)"
      ]
     },
     "execution_count": 17,
     "metadata": {},
     "output_type": "execute_result"
    }
   ],
   "source": [
    "boston_pd.shape"
   ]
  },
  {
   "cell_type": "code",
   "execution_count": 18,
   "metadata": {},
   "outputs": [
    {
     "data": {
      "text/plain": [
       "Index(['crim', 'zn', 'indus', 'chas', 'nox', 'rm', 'age', 'dis', 'rad',\n",
       "       'ptratio', 'b', 'lstat', 'medv'],\n",
       "      dtype='object')"
      ]
     },
     "execution_count": 18,
     "metadata": {},
     "output_type": "execute_result"
    }
   ],
   "source": [
    "boston_pd.columns"
   ]
  },
  {
   "cell_type": "code",
   "execution_count": 19,
   "metadata": {},
   "outputs": [
    {
     "data": {
      "text/plain": [
       "Index(['crim', 'zn', 'indus', 'chas', 'nox', 'rm', 'age', 'dis', 'rad',\n",
       "       'ptratio', 'b', 'lstat'],\n",
       "      dtype='object')"
      ]
     },
     "execution_count": 19,
     "metadata": {},
     "output_type": "execute_result"
    }
   ],
   "source": [
    "### Now divide the data set \n",
    "\n",
    "X= boston_pd.iloc[:,0:12]\n",
    "X.columns"
   ]
  },
  {
   "cell_type": "code",
   "execution_count": 20,
   "metadata": {},
   "outputs": [
    {
     "data": {
      "text/plain": [
       "Index(['medv'], dtype='object')"
      ]
     },
     "execution_count": 20,
     "metadata": {},
     "output_type": "execute_result"
    }
   ],
   "source": [
    "Y = boston_pd.iloc[:,12:]\n",
    "Y.columns"
   ]
  },
  {
   "cell_type": "code",
   "execution_count": 21,
   "metadata": {},
   "outputs": [
    {
     "name": "stderr",
     "output_type": "stream",
     "text": [
      "C:\\Users\\USER\\Anaconda3\\lib\\site-packages\\sklearn\\cross_validation.py:41: DeprecationWarning: This module was deprecated in version 0.18 in favor of the model_selection module into which all the refactored classes and functions are moved. Also note that the interface of the new CV iterators are different from that of this module. This module will be removed in 0.20.\n",
      "  \"This module will be removed in 0.20.\", DeprecationWarning)\n"
     ]
    }
   ],
   "source": [
    "from sklearn.cross_validation import train_test_split\n",
    "X_train,X_test,Y_train,Y_test = train_test_split(X,Y,test_size = 0.3,random_state = 1000) \n",
    "\n",
    "Y_log_train= np.log(Y_train)"
   ]
  },
  {
   "cell_type": "code",
   "execution_count": 22,
   "metadata": {},
   "outputs": [
    {
     "name": "stderr",
     "output_type": "stream",
     "text": [
      "C:\\Users\\USER\\Anaconda3\\lib\\site-packages\\statsmodels\\compat\\pandas.py:56: FutureWarning: The pandas.core.datetools module is deprecated and will be removed in a future version. Please use the pandas.tseries module instead.\n",
      "  from pandas.core import datetools\n"
     ]
    }
   ],
   "source": [
    "# Model Building and Performance Test\n",
    "# Once the data is ready, below steps are followed to build the models and test performance.\n",
    "\n",
    "# Fit Linear Models\n",
    "# Calculate Measures for the Models\n",
    "# Residual Plot\n",
    "# Model Performance\n",
    "\n",
    "#  We will use the below steps for statsmodel\n",
    "\n",
    "\n",
    "# 1)Add constants term into features----\n",
    "\n",
    "# It is to be noted that statsmodels does not add intercept term automatically \n",
    "# thus we need to create an intercept to our model.\n",
    "\n",
    "\n",
    "# 2)Fit the model for Log(target)\n",
    "# 3)Print intercept and features estimates\n",
    "# 4)Print model summary which includes estimates, p value, t value, standard error etc.\n",
    "# 5)Calculate VIF\n",
    "\n",
    "### add intercept to the model \n",
    "import statsmodels.api as sma\n",
    "X_train = sma.add_constant(X_train) ## let's add an intercept (beta_0) to our model\n",
    "X_test = sma.add_constant(X_test) \n",
    "\n"
   ]
  },
  {
   "cell_type": "code",
   "execution_count": 23,
   "metadata": {
    "collapsed": true
   },
   "outputs": [],
   "source": [
    "\n",
    "##Linear regression can be run by using sm.OLS:\n",
    "import statsmodels.formula.api as sm\n",
    "lm = sm.OLS(Y_log_train,X_train).fit()"
   ]
  },
  {
   "cell_type": "code",
   "execution_count": 24,
   "metadata": {},
   "outputs": [
    {
     "name": "stdout",
     "output_type": "stream",
     "text": [
      "const      3.580139e+00\n",
      "crim      -2.013518e-02\n",
      "zn        -2.814207e-04\n",
      "indus     -2.081880e-03\n",
      "chas       4.555227e-15\n",
      "nox       -5.062646e-01\n",
      "rm         1.404626e-01\n",
      "age       -6.618337e-04\n",
      "dis       -4.016441e-02\n",
      "rad        7.220335e-03\n",
      "ptratio   -3.815971e-02\n",
      "b          2.052060e-04\n",
      "lstat     -2.449623e-02\n",
      "dtype: float64\n"
     ]
    }
   ],
   "source": [
    "###Printing the coefficient with Intercept:\n",
    "\n",
    "print(lm.params)"
   ]
  },
  {
   "cell_type": "code",
   "execution_count": 25,
   "metadata": {},
   "outputs": [
    {
     "data": {
      "text/html": [
       "<table class=\"simpletable\">\n",
       "<caption>OLS Regression Results</caption>\n",
       "<tr>\n",
       "  <th>Dep. Variable:</th>          <td>medv</td>       <th>  R-squared:         </th> <td>   0.743</td>\n",
       "</tr>\n",
       "<tr>\n",
       "  <th>Model:</th>                   <td>OLS</td>       <th>  Adj. R-squared:    </th> <td>   0.733</td>\n",
       "</tr>\n",
       "<tr>\n",
       "  <th>Method:</th>             <td>Least Squares</td>  <th>  F-statistic:       </th> <td>   72.94</td>\n",
       "</tr>\n",
       "<tr>\n",
       "  <th>Date:</th>             <td>Sat, 04 May 2019</td> <th>  Prob (F-statistic):</th> <td>2.76e-75</td>\n",
       "</tr>\n",
       "<tr>\n",
       "  <th>Time:</th>                 <td>18:47:39</td>     <th>  Log-Likelihood:    </th> <td>  83.803</td>\n",
       "</tr>\n",
       "<tr>\n",
       "  <th>No. Observations:</th>      <td>   290</td>      <th>  AIC:               </th> <td>  -143.6</td>\n",
       "</tr>\n",
       "<tr>\n",
       "  <th>Df Residuals:</th>          <td>   278</td>      <th>  BIC:               </th> <td>  -99.57</td>\n",
       "</tr>\n",
       "<tr>\n",
       "  <th>Df Model:</th>              <td>    11</td>      <th>                     </th>     <td> </td>   \n",
       "</tr>\n",
       "<tr>\n",
       "  <th>Covariance Type:</th>      <td>nonrobust</td>    <th>                     </th>     <td> </td>   \n",
       "</tr>\n",
       "</table>\n",
       "<table class=\"simpletable\">\n",
       "<tr>\n",
       "     <td></td>        <th>coef</th>     <th>std err</th>      <th>t</th>      <th>P>|t|</th>  <th>[0.025</th>    <th>0.975]</th>  \n",
       "</tr>\n",
       "<tr>\n",
       "  <th>const</th>   <td>    3.5801</td> <td>    0.278</td> <td>   12.879</td> <td> 0.000</td> <td>    3.033</td> <td>    4.127</td>\n",
       "</tr>\n",
       "<tr>\n",
       "  <th>crim</th>    <td>   -0.0201</td> <td>    0.004</td> <td>   -5.242</td> <td> 0.000</td> <td>   -0.028</td> <td>   -0.013</td>\n",
       "</tr>\n",
       "<tr>\n",
       "  <th>zn</th>      <td>   -0.0003</td> <td>    0.001</td> <td>   -0.363</td> <td> 0.717</td> <td>   -0.002</td> <td>    0.001</td>\n",
       "</tr>\n",
       "<tr>\n",
       "  <th>indus</th>   <td>   -0.0021</td> <td>    0.003</td> <td>   -0.747</td> <td> 0.456</td> <td>   -0.008</td> <td>    0.003</td>\n",
       "</tr>\n",
       "<tr>\n",
       "  <th>chas</th>    <td> 4.555e-15</td> <td> 1.84e-15</td> <td>    2.479</td> <td> 0.014</td> <td> 9.38e-16</td> <td> 8.17e-15</td>\n",
       "</tr>\n",
       "<tr>\n",
       "  <th>nox</th>     <td>   -0.5063</td> <td>    0.203</td> <td>   -2.500</td> <td> 0.013</td> <td>   -0.905</td> <td>   -0.108</td>\n",
       "</tr>\n",
       "<tr>\n",
       "  <th>rm</th>      <td>    0.1405</td> <td>    0.024</td> <td>    5.754</td> <td> 0.000</td> <td>    0.092</td> <td>    0.189</td>\n",
       "</tr>\n",
       "<tr>\n",
       "  <th>age</th>     <td>   -0.0007</td> <td>    0.001</td> <td>   -1.048</td> <td> 0.296</td> <td>   -0.002</td> <td>    0.001</td>\n",
       "</tr>\n",
       "<tr>\n",
       "  <th>dis</th>     <td>   -0.0402</td> <td>    0.010</td> <td>   -3.828</td> <td> 0.000</td> <td>   -0.061</td> <td>   -0.020</td>\n",
       "</tr>\n",
       "<tr>\n",
       "  <th>rad</th>     <td>    0.0072</td> <td>    0.003</td> <td>    2.871</td> <td> 0.004</td> <td>    0.002</td> <td>    0.012</td>\n",
       "</tr>\n",
       "<tr>\n",
       "  <th>ptratio</th> <td>   -0.0382</td> <td>    0.007</td> <td>   -5.833</td> <td> 0.000</td> <td>   -0.051</td> <td>   -0.025</td>\n",
       "</tr>\n",
       "<tr>\n",
       "  <th>b</th>       <td>    0.0002</td> <td>    0.000</td> <td>    0.975</td> <td> 0.331</td> <td>   -0.000</td> <td>    0.001</td>\n",
       "</tr>\n",
       "<tr>\n",
       "  <th>lstat</th>   <td>   -0.0245</td> <td>    0.003</td> <td>   -8.484</td> <td> 0.000</td> <td>   -0.030</td> <td>   -0.019</td>\n",
       "</tr>\n",
       "</table>\n",
       "<table class=\"simpletable\">\n",
       "<tr>\n",
       "  <th>Omnibus:</th>       <td>48.519</td> <th>  Durbin-Watson:     </th> <td>   2.105</td>\n",
       "</tr>\n",
       "<tr>\n",
       "  <th>Prob(Omnibus):</th> <td> 0.000</td> <th>  Jarque-Bera (JB):  </th> <td> 235.484</td>\n",
       "</tr>\n",
       "<tr>\n",
       "  <th>Skew:</th>          <td> 0.548</td> <th>  Prob(JB):          </th> <td>7.33e-52</td>\n",
       "</tr>\n",
       "<tr>\n",
       "  <th>Kurtosis:</th>      <td> 7.276</td> <th>  Cond. No.          </th> <td>8.51e+17</td>\n",
       "</tr>\n",
       "</table>"
      ],
      "text/plain": [
       "<class 'statsmodels.iolib.summary.Summary'>\n",
       "\"\"\"\n",
       "                            OLS Regression Results                            \n",
       "==============================================================================\n",
       "Dep. Variable:                   medv   R-squared:                       0.743\n",
       "Model:                            OLS   Adj. R-squared:                  0.733\n",
       "Method:                 Least Squares   F-statistic:                     72.94\n",
       "Date:                Sat, 04 May 2019   Prob (F-statistic):           2.76e-75\n",
       "Time:                        18:47:39   Log-Likelihood:                 83.803\n",
       "No. Observations:                 290   AIC:                            -143.6\n",
       "Df Residuals:                     278   BIC:                            -99.57\n",
       "Df Model:                          11                                         \n",
       "Covariance Type:            nonrobust                                         \n",
       "==============================================================================\n",
       "                 coef    std err          t      P>|t|      [0.025      0.975]\n",
       "------------------------------------------------------------------------------\n",
       "const          3.5801      0.278     12.879      0.000       3.033       4.127\n",
       "crim          -0.0201      0.004     -5.242      0.000      -0.028      -0.013\n",
       "zn            -0.0003      0.001     -0.363      0.717      -0.002       0.001\n",
       "indus         -0.0021      0.003     -0.747      0.456      -0.008       0.003\n",
       "chas        4.555e-15   1.84e-15      2.479      0.014    9.38e-16    8.17e-15\n",
       "nox           -0.5063      0.203     -2.500      0.013      -0.905      -0.108\n",
       "rm             0.1405      0.024      5.754      0.000       0.092       0.189\n",
       "age           -0.0007      0.001     -1.048      0.296      -0.002       0.001\n",
       "dis           -0.0402      0.010     -3.828      0.000      -0.061      -0.020\n",
       "rad            0.0072      0.003      2.871      0.004       0.002       0.012\n",
       "ptratio       -0.0382      0.007     -5.833      0.000      -0.051      -0.025\n",
       "b              0.0002      0.000      0.975      0.331      -0.000       0.001\n",
       "lstat         -0.0245      0.003     -8.484      0.000      -0.030      -0.019\n",
       "==============================================================================\n",
       "Omnibus:                       48.519   Durbin-Watson:                   2.105\n",
       "Prob(Omnibus):                  0.000   Jarque-Bera (JB):              235.484\n",
       "Skew:                           0.548   Prob(JB):                     7.33e-52\n",
       "Kurtosis:                       7.276   Cond. No.                     8.51e+17\n",
       "==============================================================================\n",
       "\n",
       "Warnings:\n",
       "[1] Standard Errors assume that the covariance matrix of the errors is correctly specified.\n",
       "[2] The smallest eigenvalue is 5.86e-29. This might indicate that there are\n",
       "strong multicollinearity problems or that the design matrix is singular.\n",
       "\"\"\""
      ]
     },
     "execution_count": 25,
     "metadata": {},
     "output_type": "execute_result"
    }
   ],
   "source": [
    "##Printing the summary of the model:\n",
    "\n",
    "lm.summary()"
   ]
  },
  {
   "cell_type": "code",
   "execution_count": 26,
   "metadata": {},
   "outputs": [
    {
     "data": {
      "text/plain": [
       "Index(['const', 'crim', 'indus', 'chas', 'nox', 'rm', 'age', 'dis', 'rad',\n",
       "       'ptratio', 'b', 'lstat'],\n",
       "      dtype='object')"
      ]
     },
     "execution_count": 26,
     "metadata": {},
     "output_type": "execute_result"
    }
   ],
   "source": [
    "# The 4 variables , are having p values more  than 0.05 , hence for these  feature / variables \n",
    "# the coeeficents are 0 as per alternative hypothesis :\n",
    "# -->zn  --0.717\n",
    "# -->indus  --0.456\n",
    "# -->age       ---0.296\n",
    "# -->b         ----0.331\n",
    "# hence these variables are insignificant .\n",
    "\n",
    "# But we will remove 1 variable at a time , re - run the model and then again check p values \n",
    "# we will remove zn having highest p value s\n",
    "\n",
    "## drop zn\n",
    "X_train = X_train.drop(['zn'], axis=1)\n",
    "X_train.columns\n",
    "\n",
    "###drop zn \n",
    "X_test = X_test.drop(['zn'], axis=1)\n",
    "X_test.columns"
   ]
  },
  {
   "cell_type": "code",
   "execution_count": 27,
   "metadata": {},
   "outputs": [
    {
     "data": {
      "text/html": [
       "<table class=\"simpletable\">\n",
       "<caption>OLS Regression Results</caption>\n",
       "<tr>\n",
       "  <th>Dep. Variable:</th>          <td>medv</td>       <th>  R-squared:         </th> <td>   0.743</td>\n",
       "</tr>\n",
       "<tr>\n",
       "  <th>Model:</th>                   <td>OLS</td>       <th>  Adj. R-squared:    </th> <td>   0.733</td>\n",
       "</tr>\n",
       "<tr>\n",
       "  <th>Method:</th>             <td>Least Squares</td>  <th>  F-statistic:       </th> <td>   80.48</td>\n",
       "</tr>\n",
       "<tr>\n",
       "  <th>Date:</th>             <td>Sat, 04 May 2019</td> <th>  Prob (F-statistic):</th> <td>3.20e-76</td>\n",
       "</tr>\n",
       "<tr>\n",
       "  <th>Time:</th>                 <td>18:48:10</td>     <th>  Log-Likelihood:    </th> <td>  83.734</td>\n",
       "</tr>\n",
       "<tr>\n",
       "  <th>No. Observations:</th>      <td>   290</td>      <th>  AIC:               </th> <td>  -145.5</td>\n",
       "</tr>\n",
       "<tr>\n",
       "  <th>Df Residuals:</th>          <td>   279</td>      <th>  BIC:               </th> <td>  -105.1</td>\n",
       "</tr>\n",
       "<tr>\n",
       "  <th>Df Model:</th>              <td>    10</td>      <th>                     </th>     <td> </td>   \n",
       "</tr>\n",
       "<tr>\n",
       "  <th>Covariance Type:</th>      <td>nonrobust</td>    <th>                     </th>     <td> </td>   \n",
       "</tr>\n",
       "</table>\n",
       "<table class=\"simpletable\">\n",
       "<tr>\n",
       "     <td></td>        <th>coef</th>     <th>std err</th>      <th>t</th>      <th>P>|t|</th>  <th>[0.025</th>    <th>0.975]</th>  \n",
       "</tr>\n",
       "<tr>\n",
       "  <th>const</th>   <td>    3.5730</td> <td>    0.277</td> <td>   12.906</td> <td> 0.000</td> <td>    3.028</td> <td>    4.118</td>\n",
       "</tr>\n",
       "<tr>\n",
       "  <th>crim</th>    <td>   -0.0203</td> <td>    0.004</td> <td>   -5.319</td> <td> 0.000</td> <td>   -0.028</td> <td>   -0.013</td>\n",
       "</tr>\n",
       "<tr>\n",
       "  <th>indus</th>   <td>   -0.0021</td> <td>    0.003</td> <td>   -0.752</td> <td> 0.452</td> <td>   -0.008</td> <td>    0.003</td>\n",
       "</tr>\n",
       "<tr>\n",
       "  <th>chas</th>    <td> 2.446e-14</td> <td> 2.69e-15</td> <td>    9.108</td> <td> 0.000</td> <td> 1.92e-14</td> <td> 2.97e-14</td>\n",
       "</tr>\n",
       "<tr>\n",
       "  <th>nox</th>     <td>   -0.5038</td> <td>    0.202</td> <td>   -2.493</td> <td> 0.013</td> <td>   -0.902</td> <td>   -0.106</td>\n",
       "</tr>\n",
       "<tr>\n",
       "  <th>rm</th>      <td>    0.1396</td> <td>    0.024</td> <td>    5.754</td> <td> 0.000</td> <td>    0.092</td> <td>    0.187</td>\n",
       "</tr>\n",
       "<tr>\n",
       "  <th>age</th>     <td>   -0.0006</td> <td>    0.001</td> <td>   -1.025</td> <td> 0.306</td> <td>   -0.002</td> <td>    0.001</td>\n",
       "</tr>\n",
       "<tr>\n",
       "  <th>dis</th>     <td>   -0.0417</td> <td>    0.010</td> <td>   -4.320</td> <td> 0.000</td> <td>   -0.061</td> <td>   -0.023</td>\n",
       "</tr>\n",
       "<tr>\n",
       "  <th>rad</th>     <td>    0.0072</td> <td>    0.003</td> <td>    2.864</td> <td> 0.005</td> <td>    0.002</td> <td>    0.012</td>\n",
       "</tr>\n",
       "<tr>\n",
       "  <th>ptratio</th> <td>   -0.0374</td> <td>    0.006</td> <td>   -6.036</td> <td> 0.000</td> <td>   -0.050</td> <td>   -0.025</td>\n",
       "</tr>\n",
       "<tr>\n",
       "  <th>b</th>       <td>    0.0002</td> <td>    0.000</td> <td>    0.976</td> <td> 0.330</td> <td>   -0.000</td> <td>    0.001</td>\n",
       "</tr>\n",
       "<tr>\n",
       "  <th>lstat</th>   <td>   -0.0245</td> <td>    0.003</td> <td>   -8.499</td> <td> 0.000</td> <td>   -0.030</td> <td>   -0.019</td>\n",
       "</tr>\n",
       "</table>\n",
       "<table class=\"simpletable\">\n",
       "<tr>\n",
       "  <th>Omnibus:</th>       <td>48.259</td> <th>  Durbin-Watson:     </th> <td>   2.104</td>\n",
       "</tr>\n",
       "<tr>\n",
       "  <th>Prob(Omnibus):</th> <td> 0.000</td> <th>  Jarque-Bera (JB):  </th> <td> 233.553</td>\n",
       "</tr>\n",
       "<tr>\n",
       "  <th>Skew:</th>          <td> 0.545</td> <th>  Prob(JB):          </th> <td>1.93e-51</td>\n",
       "</tr>\n",
       "<tr>\n",
       "  <th>Kurtosis:</th>      <td> 7.259</td> <th>  Cond. No.          </th> <td>1.39e+18</td>\n",
       "</tr>\n",
       "</table>"
      ],
      "text/plain": [
       "<class 'statsmodels.iolib.summary.Summary'>\n",
       "\"\"\"\n",
       "                            OLS Regression Results                            \n",
       "==============================================================================\n",
       "Dep. Variable:                   medv   R-squared:                       0.743\n",
       "Model:                            OLS   Adj. R-squared:                  0.733\n",
       "Method:                 Least Squares   F-statistic:                     80.48\n",
       "Date:                Sat, 04 May 2019   Prob (F-statistic):           3.20e-76\n",
       "Time:                        18:48:10   Log-Likelihood:                 83.734\n",
       "No. Observations:                 290   AIC:                            -145.5\n",
       "Df Residuals:                     279   BIC:                            -105.1\n",
       "Df Model:                          10                                         \n",
       "Covariance Type:            nonrobust                                         \n",
       "==============================================================================\n",
       "                 coef    std err          t      P>|t|      [0.025      0.975]\n",
       "------------------------------------------------------------------------------\n",
       "const          3.5730      0.277     12.906      0.000       3.028       4.118\n",
       "crim          -0.0203      0.004     -5.319      0.000      -0.028      -0.013\n",
       "indus         -0.0021      0.003     -0.752      0.452      -0.008       0.003\n",
       "chas        2.446e-14   2.69e-15      9.108      0.000    1.92e-14    2.97e-14\n",
       "nox           -0.5038      0.202     -2.493      0.013      -0.902      -0.106\n",
       "rm             0.1396      0.024      5.754      0.000       0.092       0.187\n",
       "age           -0.0006      0.001     -1.025      0.306      -0.002       0.001\n",
       "dis           -0.0417      0.010     -4.320      0.000      -0.061      -0.023\n",
       "rad            0.0072      0.003      2.864      0.005       0.002       0.012\n",
       "ptratio       -0.0374      0.006     -6.036      0.000      -0.050      -0.025\n",
       "b              0.0002      0.000      0.976      0.330      -0.000       0.001\n",
       "lstat         -0.0245      0.003     -8.499      0.000      -0.030      -0.019\n",
       "==============================================================================\n",
       "Omnibus:                       48.259   Durbin-Watson:                   2.104\n",
       "Prob(Omnibus):                  0.000   Jarque-Bera (JB):              233.553\n",
       "Skew:                           0.545   Prob(JB):                     1.93e-51\n",
       "Kurtosis:                       7.259   Cond. No.                     1.39e+18\n",
       "==============================================================================\n",
       "\n",
       "Warnings:\n",
       "[1] Standard Errors assume that the covariance matrix of the errors is correctly specified.\n",
       "[2] The smallest eigenvalue is 2.21e-29. This might indicate that there are\n",
       "strong multicollinearity problems or that the design matrix is singular.\n",
       "\"\"\""
      ]
     },
     "execution_count": 27,
     "metadata": {},
     "output_type": "execute_result"
    }
   ],
   "source": [
    "## re - run the   model \n",
    "\n",
    "##Linear regression can be run by using sm.OLS:\n",
    "\n",
    "lm_1 = sm.OLS(Y_log_train,X_train).fit()\n",
    "\n",
    "##Printing the summary of the model:\n",
    "lm_1.summary()"
   ]
  },
  {
   "cell_type": "code",
   "execution_count": 28,
   "metadata": {},
   "outputs": [
    {
     "data": {
      "text/plain": [
       "Index(['const', 'crim', 'chas', 'nox', 'rm', 'age', 'dis', 'rad', 'ptratio',\n",
       "       'b', 'lstat'],\n",
       "      dtype='object')"
      ]
     },
     "execution_count": 28,
     "metadata": {},
     "output_type": "execute_result"
    }
   ],
   "source": [
    "## remove indus \n",
    "\n",
    "## drop zn\n",
    "X_train = X_train.drop(['indus'], axis=1)\n",
    "X_train.columns\n",
    "\n",
    "###drop zn \n",
    "X_test = X_test.drop(['indus'], axis=1)\n",
    "X_test.columns\n"
   ]
  },
  {
   "cell_type": "code",
   "execution_count": 29,
   "metadata": {},
   "outputs": [
    {
     "data": {
      "text/html": [
       "<table class=\"simpletable\">\n",
       "<caption>OLS Regression Results</caption>\n",
       "<tr>\n",
       "  <th>Dep. Variable:</th>          <td>medv</td>       <th>  R-squared:         </th> <td>   0.742</td>\n",
       "</tr>\n",
       "<tr>\n",
       "  <th>Model:</th>                   <td>OLS</td>       <th>  Adj. R-squared:    </th> <td>   0.734</td>\n",
       "</tr>\n",
       "<tr>\n",
       "  <th>Method:</th>             <td>Least Squares</td>  <th>  F-statistic:       </th> <td>   89.49</td>\n",
       "</tr>\n",
       "<tr>\n",
       "  <th>Date:</th>             <td>Sat, 04 May 2019</td> <th>  Prob (F-statistic):</th> <td>4.34e-77</td>\n",
       "</tr>\n",
       "<tr>\n",
       "  <th>Time:</th>                 <td>18:48:25</td>     <th>  Log-Likelihood:    </th> <td>  83.440</td>\n",
       "</tr>\n",
       "<tr>\n",
       "  <th>No. Observations:</th>      <td>   290</td>      <th>  AIC:               </th> <td>  -146.9</td>\n",
       "</tr>\n",
       "<tr>\n",
       "  <th>Df Residuals:</th>          <td>   280</td>      <th>  BIC:               </th> <td>  -110.2</td>\n",
       "</tr>\n",
       "<tr>\n",
       "  <th>Df Model:</th>              <td>     9</td>      <th>                     </th>     <td> </td>   \n",
       "</tr>\n",
       "<tr>\n",
       "  <th>Covariance Type:</th>      <td>nonrobust</td>    <th>                     </th>     <td> </td>   \n",
       "</tr>\n",
       "</table>\n",
       "<table class=\"simpletable\">\n",
       "<tr>\n",
       "     <td></td>        <th>coef</th>     <th>std err</th>      <th>t</th>      <th>P>|t|</th>  <th>[0.025</th>    <th>0.975]</th>  \n",
       "</tr>\n",
       "<tr>\n",
       "  <th>const</th>   <td>    3.5804</td> <td>    0.276</td> <td>   12.951</td> <td> 0.000</td> <td>    3.036</td> <td>    4.125</td>\n",
       "</tr>\n",
       "<tr>\n",
       "  <th>crim</th>    <td>   -0.0201</td> <td>    0.004</td> <td>   -5.282</td> <td> 0.000</td> <td>   -0.028</td> <td>   -0.013</td>\n",
       "</tr>\n",
       "<tr>\n",
       "  <th>chas</th>    <td> 7.385e-14</td> <td> 8.79e-15</td> <td>    8.399</td> <td> 0.000</td> <td> 5.65e-14</td> <td> 9.12e-14</td>\n",
       "</tr>\n",
       "<tr>\n",
       "  <th>nox</th>     <td>   -0.5531</td> <td>    0.191</td> <td>   -2.896</td> <td> 0.004</td> <td>   -0.929</td> <td>   -0.177</td>\n",
       "</tr>\n",
       "<tr>\n",
       "  <th>rm</th>      <td>    0.1416</td> <td>    0.024</td> <td>    5.870</td> <td> 0.000</td> <td>    0.094</td> <td>    0.189</td>\n",
       "</tr>\n",
       "<tr>\n",
       "  <th>age</th>     <td>   -0.0006</td> <td>    0.001</td> <td>   -0.997</td> <td> 0.320</td> <td>   -0.002</td> <td>    0.001</td>\n",
       "</tr>\n",
       "<tr>\n",
       "  <th>dis</th>     <td>   -0.0399</td> <td>    0.009</td> <td>   -4.269</td> <td> 0.000</td> <td>   -0.058</td> <td>   -0.021</td>\n",
       "</tr>\n",
       "<tr>\n",
       "  <th>rad</th>     <td>    0.0069</td> <td>    0.002</td> <td>    2.789</td> <td> 0.006</td> <td>    0.002</td> <td>    0.012</td>\n",
       "</tr>\n",
       "<tr>\n",
       "  <th>ptratio</th> <td>   -0.0386</td> <td>    0.006</td> <td>   -6.469</td> <td> 0.000</td> <td>   -0.050</td> <td>   -0.027</td>\n",
       "</tr>\n",
       "<tr>\n",
       "  <th>b</th>       <td>    0.0002</td> <td>    0.000</td> <td>    1.037</td> <td> 0.301</td> <td>   -0.000</td> <td>    0.001</td>\n",
       "</tr>\n",
       "<tr>\n",
       "  <th>lstat</th>   <td>   -0.0248</td> <td>    0.003</td> <td>   -8.661</td> <td> 0.000</td> <td>   -0.030</td> <td>   -0.019</td>\n",
       "</tr>\n",
       "</table>\n",
       "<table class=\"simpletable\">\n",
       "<tr>\n",
       "  <th>Omnibus:</th>       <td>48.007</td> <th>  Durbin-Watson:     </th> <td>   2.099</td>\n",
       "</tr>\n",
       "<tr>\n",
       "  <th>Prob(Omnibus):</th> <td> 0.000</td> <th>  Jarque-Bera (JB):  </th> <td> 225.830</td>\n",
       "</tr>\n",
       "<tr>\n",
       "  <th>Skew:</th>          <td> 0.551</td> <th>  Prob(JB):          </th> <td>9.15e-50</td>\n",
       "</tr>\n",
       "<tr>\n",
       "  <th>Kurtosis:</th>      <td> 7.180</td> <th>  Cond. No.          </th> <td>1.01e+18</td>\n",
       "</tr>\n",
       "</table>"
      ],
      "text/plain": [
       "<class 'statsmodels.iolib.summary.Summary'>\n",
       "\"\"\"\n",
       "                            OLS Regression Results                            \n",
       "==============================================================================\n",
       "Dep. Variable:                   medv   R-squared:                       0.742\n",
       "Model:                            OLS   Adj. R-squared:                  0.734\n",
       "Method:                 Least Squares   F-statistic:                     89.49\n",
       "Date:                Sat, 04 May 2019   Prob (F-statistic):           4.34e-77\n",
       "Time:                        18:48:25   Log-Likelihood:                 83.440\n",
       "No. Observations:                 290   AIC:                            -146.9\n",
       "Df Residuals:                     280   BIC:                            -110.2\n",
       "Df Model:                           9                                         \n",
       "Covariance Type:            nonrobust                                         \n",
       "==============================================================================\n",
       "                 coef    std err          t      P>|t|      [0.025      0.975]\n",
       "------------------------------------------------------------------------------\n",
       "const          3.5804      0.276     12.951      0.000       3.036       4.125\n",
       "crim          -0.0201      0.004     -5.282      0.000      -0.028      -0.013\n",
       "chas        7.385e-14   8.79e-15      8.399      0.000    5.65e-14    9.12e-14\n",
       "nox           -0.5531      0.191     -2.896      0.004      -0.929      -0.177\n",
       "rm             0.1416      0.024      5.870      0.000       0.094       0.189\n",
       "age           -0.0006      0.001     -0.997      0.320      -0.002       0.001\n",
       "dis           -0.0399      0.009     -4.269      0.000      -0.058      -0.021\n",
       "rad            0.0069      0.002      2.789      0.006       0.002       0.012\n",
       "ptratio       -0.0386      0.006     -6.469      0.000      -0.050      -0.027\n",
       "b              0.0002      0.000      1.037      0.301      -0.000       0.001\n",
       "lstat         -0.0248      0.003     -8.661      0.000      -0.030      -0.019\n",
       "==============================================================================\n",
       "Omnibus:                       48.007   Durbin-Watson:                   2.099\n",
       "Prob(Omnibus):                  0.000   Jarque-Bera (JB):              225.830\n",
       "Skew:                           0.551   Prob(JB):                     9.15e-50\n",
       "Kurtosis:                       7.180   Cond. No.                     1.01e+18\n",
       "==============================================================================\n",
       "\n",
       "Warnings:\n",
       "[1] Standard Errors assume that the covariance matrix of the errors is correctly specified.\n",
       "[2] The smallest eigenvalue is 4.15e-29. This might indicate that there are\n",
       "strong multicollinearity problems or that the design matrix is singular.\n",
       "\"\"\""
      ]
     },
     "execution_count": 29,
     "metadata": {},
     "output_type": "execute_result"
    }
   ],
   "source": [
    "## re - run the   model \n",
    "\n",
    "##Linear regression can be run by using sm.OLS:\n",
    "\n",
    "lm_2 = sm.OLS(Y_log_train,X_train).fit()\n",
    "\n",
    "##Printing the summary of the model:\n",
    "lm_2.summary()"
   ]
  },
  {
   "cell_type": "code",
   "execution_count": 30,
   "metadata": {},
   "outputs": [
    {
     "data": {
      "text/plain": [
       "Index(['const', 'crim', 'chas', 'nox', 'rm', 'dis', 'rad', 'ptratio', 'b',\n",
       "       'lstat'],\n",
       "      dtype='object')"
      ]
     },
     "execution_count": 30,
     "metadata": {},
     "output_type": "execute_result"
    }
   ],
   "source": [
    "## remove age \n",
    "## drop age\n",
    "X_train = X_train.drop(['age'], axis=1)\n",
    "X_train.columns\n",
    "\n",
    "###drop age \n",
    "X_test = X_test.drop(['age'], axis=1)\n",
    "X_test.columns\n"
   ]
  },
  {
   "cell_type": "code",
   "execution_count": 31,
   "metadata": {},
   "outputs": [
    {
     "data": {
      "text/html": [
       "<table class=\"simpletable\">\n",
       "<caption>OLS Regression Results</caption>\n",
       "<tr>\n",
       "  <th>Dep. Variable:</th>          <td>medv</td>       <th>  R-squared:         </th> <td>   0.741</td>\n",
       "</tr>\n",
       "<tr>\n",
       "  <th>Model:</th>                   <td>OLS</td>       <th>  Adj. R-squared:    </th> <td>   0.734</td>\n",
       "</tr>\n",
       "<tr>\n",
       "  <th>Method:</th>             <td>Least Squares</td>  <th>  F-statistic:       </th> <td>   100.6</td>\n",
       "</tr>\n",
       "<tr>\n",
       "  <th>Date:</th>             <td>Sat, 04 May 2019</td> <th>  Prob (F-statistic):</th> <td>6.84e-78</td>\n",
       "</tr>\n",
       "<tr>\n",
       "  <th>Time:</th>                 <td>18:48:45</td>     <th>  Log-Likelihood:    </th> <td>  82.926</td>\n",
       "</tr>\n",
       "<tr>\n",
       "  <th>No. Observations:</th>      <td>   290</td>      <th>  AIC:               </th> <td>  -147.9</td>\n",
       "</tr>\n",
       "<tr>\n",
       "  <th>Df Residuals:</th>          <td>   281</td>      <th>  BIC:               </th> <td>  -114.8</td>\n",
       "</tr>\n",
       "<tr>\n",
       "  <th>Df Model:</th>              <td>     8</td>      <th>                     </th>     <td> </td>   \n",
       "</tr>\n",
       "<tr>\n",
       "  <th>Covariance Type:</th>      <td>nonrobust</td>    <th>                     </th>     <td> </td>   \n",
       "</tr>\n",
       "</table>\n",
       "<table class=\"simpletable\">\n",
       "<tr>\n",
       "     <td></td>        <th>coef</th>     <th>std err</th>      <th>t</th>      <th>P>|t|</th>  <th>[0.025</th>    <th>0.975]</th>  \n",
       "</tr>\n",
       "<tr>\n",
       "  <th>const</th>   <td>    3.6219</td> <td>    0.273</td> <td>   13.252</td> <td> 0.000</td> <td>    3.084</td> <td>    4.160</td>\n",
       "</tr>\n",
       "<tr>\n",
       "  <th>crim</th>    <td>   -0.0199</td> <td>    0.004</td> <td>   -5.239</td> <td> 0.000</td> <td>   -0.027</td> <td>   -0.012</td>\n",
       "</tr>\n",
       "<tr>\n",
       "  <th>chas</th>    <td> 3.705e-15</td> <td> 1.16e-15</td> <td>    3.196</td> <td> 0.002</td> <td> 1.42e-15</td> <td> 5.99e-15</td>\n",
       "</tr>\n",
       "<tr>\n",
       "  <th>nox</th>     <td>   -0.6094</td> <td>    0.183</td> <td>   -3.339</td> <td> 0.001</td> <td>   -0.969</td> <td>   -0.250</td>\n",
       "</tr>\n",
       "<tr>\n",
       "  <th>rm</th>      <td>    0.1361</td> <td>    0.023</td> <td>    5.795</td> <td> 0.000</td> <td>    0.090</td> <td>    0.182</td>\n",
       "</tr>\n",
       "<tr>\n",
       "  <th>dis</th>     <td>   -0.0369</td> <td>    0.009</td> <td>   -4.168</td> <td> 0.000</td> <td>   -0.054</td> <td>   -0.019</td>\n",
       "</tr>\n",
       "<tr>\n",
       "  <th>rad</th>     <td>    0.0071</td> <td>    0.002</td> <td>    2.860</td> <td> 0.005</td> <td>    0.002</td> <td>    0.012</td>\n",
       "</tr>\n",
       "<tr>\n",
       "  <th>ptratio</th> <td>   -0.0394</td> <td>    0.006</td> <td>   -6.664</td> <td> 0.000</td> <td>   -0.051</td> <td>   -0.028</td>\n",
       "</tr>\n",
       "<tr>\n",
       "  <th>b</th>       <td>    0.0002</td> <td>    0.000</td> <td>    0.980</td> <td> 0.328</td> <td>   -0.000</td> <td>    0.001</td>\n",
       "</tr>\n",
       "<tr>\n",
       "  <th>lstat</th>   <td>   -0.0258</td> <td>    0.003</td> <td>   -9.694</td> <td> 0.000</td> <td>   -0.031</td> <td>   -0.021</td>\n",
       "</tr>\n",
       "</table>\n",
       "<table class=\"simpletable\">\n",
       "<tr>\n",
       "  <th>Omnibus:</th>       <td>45.058</td> <th>  Durbin-Watson:     </th> <td>   2.095</td>\n",
       "</tr>\n",
       "<tr>\n",
       "  <th>Prob(Omnibus):</th> <td> 0.000</td> <th>  Jarque-Bera (JB):  </th> <td> 199.635</td>\n",
       "</tr>\n",
       "<tr>\n",
       "  <th>Skew:</th>          <td> 0.524</td> <th>  Prob(JB):          </th> <td>4.46e-44</td>\n",
       "</tr>\n",
       "<tr>\n",
       "  <th>Kurtosis:</th>      <td> 6.927</td> <th>  Cond. No.          </th> <td>4.89e+18</td>\n",
       "</tr>\n",
       "</table>"
      ],
      "text/plain": [
       "<class 'statsmodels.iolib.summary.Summary'>\n",
       "\"\"\"\n",
       "                            OLS Regression Results                            \n",
       "==============================================================================\n",
       "Dep. Variable:                   medv   R-squared:                       0.741\n",
       "Model:                            OLS   Adj. R-squared:                  0.734\n",
       "Method:                 Least Squares   F-statistic:                     100.6\n",
       "Date:                Sat, 04 May 2019   Prob (F-statistic):           6.84e-78\n",
       "Time:                        18:48:45   Log-Likelihood:                 82.926\n",
       "No. Observations:                 290   AIC:                            -147.9\n",
       "Df Residuals:                     281   BIC:                            -114.8\n",
       "Df Model:                           8                                         \n",
       "Covariance Type:            nonrobust                                         \n",
       "==============================================================================\n",
       "                 coef    std err          t      P>|t|      [0.025      0.975]\n",
       "------------------------------------------------------------------------------\n",
       "const          3.6219      0.273     13.252      0.000       3.084       4.160\n",
       "crim          -0.0199      0.004     -5.239      0.000      -0.027      -0.012\n",
       "chas        3.705e-15   1.16e-15      3.196      0.002    1.42e-15    5.99e-15\n",
       "nox           -0.6094      0.183     -3.339      0.001      -0.969      -0.250\n",
       "rm             0.1361      0.023      5.795      0.000       0.090       0.182\n",
       "dis           -0.0369      0.009     -4.168      0.000      -0.054      -0.019\n",
       "rad            0.0071      0.002      2.860      0.005       0.002       0.012\n",
       "ptratio       -0.0394      0.006     -6.664      0.000      -0.051      -0.028\n",
       "b              0.0002      0.000      0.980      0.328      -0.000       0.001\n",
       "lstat         -0.0258      0.003     -9.694      0.000      -0.031      -0.021\n",
       "==============================================================================\n",
       "Omnibus:                       45.058   Durbin-Watson:                   2.095\n",
       "Prob(Omnibus):                  0.000   Jarque-Bera (JB):              199.635\n",
       "Skew:                           0.524   Prob(JB):                     4.46e-44\n",
       "Kurtosis:                       6.927   Cond. No.                     4.89e+18\n",
       "==============================================================================\n",
       "\n",
       "Warnings:\n",
       "[1] Standard Errors assume that the covariance matrix of the errors is correctly specified.\n",
       "[2] The smallest eigenvalue is 1.72e-30. This might indicate that there are\n",
       "strong multicollinearity problems or that the design matrix is singular.\n",
       "\"\"\""
      ]
     },
     "execution_count": 31,
     "metadata": {},
     "output_type": "execute_result"
    }
   ],
   "source": [
    "## re - run the   model \n",
    "\n",
    "##Linear regression can be run by using sm.OLS:\n",
    "\n",
    "lm_3 = sm.OLS(Y_log_train,X_train).fit()\n",
    "\n",
    "##Printing the summary of the model:\n",
    "lm_3.summary()"
   ]
  },
  {
   "cell_type": "code",
   "execution_count": 32,
   "metadata": {},
   "outputs": [
    {
     "data": {
      "text/plain": [
       "Index(['const', 'crim', 'chas', 'nox', 'rm', 'dis', 'rad', 'ptratio', 'lstat'], dtype='object')"
      ]
     },
     "execution_count": 32,
     "metadata": {},
     "output_type": "execute_result"
    }
   ],
   "source": [
    "## drop b\n",
    "X_train = X_train.drop(['b'], axis=1)\n",
    "X_train.columns\n",
    "\n",
    "###drop zn \n",
    "X_test = X_test.drop(['b'], axis=1)\n",
    "X_test.columns\n"
   ]
  },
  {
   "cell_type": "code",
   "execution_count": 33,
   "metadata": {},
   "outputs": [
    {
     "data": {
      "text/html": [
       "<table class=\"simpletable\">\n",
       "<caption>OLS Regression Results</caption>\n",
       "<tr>\n",
       "  <th>Dep. Variable:</th>          <td>medv</td>       <th>  R-squared:         </th> <td>   0.740</td>\n",
       "</tr>\n",
       "<tr>\n",
       "  <th>Model:</th>                   <td>OLS</td>       <th>  Adj. R-squared:    </th> <td>   0.734</td>\n",
       "</tr>\n",
       "<tr>\n",
       "  <th>Method:</th>             <td>Least Squares</td>  <th>  F-statistic:       </th> <td>   114.8</td>\n",
       "</tr>\n",
       "<tr>\n",
       "  <th>Date:</th>             <td>Sat, 04 May 2019</td> <th>  Prob (F-statistic):</th> <td>9.90e-79</td>\n",
       "</tr>\n",
       "<tr>\n",
       "  <th>Time:</th>                 <td>18:49:00</td>     <th>  Log-Likelihood:    </th> <td>  82.432</td>\n",
       "</tr>\n",
       "<tr>\n",
       "  <th>No. Observations:</th>      <td>   290</td>      <th>  AIC:               </th> <td>  -148.9</td>\n",
       "</tr>\n",
       "<tr>\n",
       "  <th>Df Residuals:</th>          <td>   282</td>      <th>  BIC:               </th> <td>  -119.5</td>\n",
       "</tr>\n",
       "<tr>\n",
       "  <th>Df Model:</th>              <td>     7</td>      <th>                     </th>     <td> </td>   \n",
       "</tr>\n",
       "<tr>\n",
       "  <th>Covariance Type:</th>      <td>nonrobust</td>    <th>                     </th>     <td> </td>   \n",
       "</tr>\n",
       "</table>\n",
       "<table class=\"simpletable\">\n",
       "<tr>\n",
       "     <td></td>        <th>coef</th>     <th>std err</th>      <th>t</th>      <th>P>|t|</th>  <th>[0.025</th>    <th>0.975]</th>  \n",
       "</tr>\n",
       "<tr>\n",
       "  <th>const</th>   <td>    3.7075</td> <td>    0.259</td> <td>   14.318</td> <td> 0.000</td> <td>    3.198</td> <td>    4.217</td>\n",
       "</tr>\n",
       "<tr>\n",
       "  <th>crim</th>    <td>   -0.0202</td> <td>    0.004</td> <td>   -5.337</td> <td> 0.000</td> <td>   -0.028</td> <td>   -0.013</td>\n",
       "</tr>\n",
       "<tr>\n",
       "  <th>chas</th>    <td>-2.758e-15</td> <td> 7.53e-16</td> <td>   -3.664</td> <td> 0.000</td> <td>-4.24e-15</td> <td>-1.28e-15</td>\n",
       "</tr>\n",
       "<tr>\n",
       "  <th>nox</th>     <td>   -0.6379</td> <td>    0.180</td> <td>   -3.541</td> <td> 0.000</td> <td>   -0.993</td> <td>   -0.283</td>\n",
       "</tr>\n",
       "<tr>\n",
       "  <th>rm</th>      <td>    0.1365</td> <td>    0.023</td> <td>    5.814</td> <td> 0.000</td> <td>    0.090</td> <td>    0.183</td>\n",
       "</tr>\n",
       "<tr>\n",
       "  <th>dis</th>     <td>   -0.0373</td> <td>    0.009</td> <td>   -4.208</td> <td> 0.000</td> <td>   -0.055</td> <td>   -0.020</td>\n",
       "</tr>\n",
       "<tr>\n",
       "  <th>rad</th>     <td>    0.0069</td> <td>    0.002</td> <td>    2.789</td> <td> 0.006</td> <td>    0.002</td> <td>    0.012</td>\n",
       "</tr>\n",
       "<tr>\n",
       "  <th>ptratio</th> <td>   -0.0390</td> <td>    0.006</td> <td>   -6.606</td> <td> 0.000</td> <td>   -0.051</td> <td>   -0.027</td>\n",
       "</tr>\n",
       "<tr>\n",
       "  <th>lstat</th>   <td>   -0.0259</td> <td>    0.003</td> <td>   -9.756</td> <td> 0.000</td> <td>   -0.031</td> <td>   -0.021</td>\n",
       "</tr>\n",
       "</table>\n",
       "<table class=\"simpletable\">\n",
       "<tr>\n",
       "  <th>Omnibus:</th>       <td>43.558</td> <th>  Durbin-Watson:     </th> <td>   2.104</td>\n",
       "</tr>\n",
       "<tr>\n",
       "  <th>Prob(Omnibus):</th> <td> 0.000</td> <th>  Jarque-Bera (JB):  </th> <td> 182.208</td>\n",
       "</tr>\n",
       "<tr>\n",
       "  <th>Skew:</th>          <td> 0.520</td> <th>  Prob(JB):          </th> <td>2.72e-40</td>\n",
       "</tr>\n",
       "<tr>\n",
       "  <th>Kurtosis:</th>      <td> 6.741</td> <th>  Cond. No.          </th> <td>2.35e+18</td>\n",
       "</tr>\n",
       "</table>"
      ],
      "text/plain": [
       "<class 'statsmodels.iolib.summary.Summary'>\n",
       "\"\"\"\n",
       "                            OLS Regression Results                            \n",
       "==============================================================================\n",
       "Dep. Variable:                   medv   R-squared:                       0.740\n",
       "Model:                            OLS   Adj. R-squared:                  0.734\n",
       "Method:                 Least Squares   F-statistic:                     114.8\n",
       "Date:                Sat, 04 May 2019   Prob (F-statistic):           9.90e-79\n",
       "Time:                        18:49:00   Log-Likelihood:                 82.432\n",
       "No. Observations:                 290   AIC:                            -148.9\n",
       "Df Residuals:                     282   BIC:                            -119.5\n",
       "Df Model:                           7                                         \n",
       "Covariance Type:            nonrobust                                         \n",
       "==============================================================================\n",
       "                 coef    std err          t      P>|t|      [0.025      0.975]\n",
       "------------------------------------------------------------------------------\n",
       "const          3.7075      0.259     14.318      0.000       3.198       4.217\n",
       "crim          -0.0202      0.004     -5.337      0.000      -0.028      -0.013\n",
       "chas       -2.758e-15   7.53e-16     -3.664      0.000   -4.24e-15   -1.28e-15\n",
       "nox           -0.6379      0.180     -3.541      0.000      -0.993      -0.283\n",
       "rm             0.1365      0.023      5.814      0.000       0.090       0.183\n",
       "dis           -0.0373      0.009     -4.208      0.000      -0.055      -0.020\n",
       "rad            0.0069      0.002      2.789      0.006       0.002       0.012\n",
       "ptratio       -0.0390      0.006     -6.606      0.000      -0.051      -0.027\n",
       "lstat         -0.0259      0.003     -9.756      0.000      -0.031      -0.021\n",
       "==============================================================================\n",
       "Omnibus:                       43.558   Durbin-Watson:                   2.104\n",
       "Prob(Omnibus):                  0.000   Jarque-Bera (JB):              182.208\n",
       "Skew:                           0.520   Prob(JB):                     2.72e-40\n",
       "Kurtosis:                       6.741   Cond. No.                     2.35e+18\n",
       "==============================================================================\n",
       "\n",
       "Warnings:\n",
       "[1] Standard Errors assume that the covariance matrix of the errors is correctly specified.\n",
       "[2] The smallest eigenvalue is 3.48e-32. This might indicate that there are\n",
       "strong multicollinearity problems or that the design matrix is singular.\n",
       "\"\"\""
      ]
     },
     "execution_count": 33,
     "metadata": {},
     "output_type": "execute_result"
    }
   ],
   "source": [
    "lm_4 = sm.OLS(Y_log_train,X_train).fit()\n",
    "\n",
    "##Printing the summary of the model:\n",
    "lm_4.summary()"
   ]
  },
  {
   "cell_type": "code",
   "execution_count": 34,
   "metadata": {},
   "outputs": [
    {
     "name": "stdout",
     "output_type": "stream",
     "text": [
      "0.7402403423940718 0.733792407630804\n"
     ]
    }
   ],
   "source": [
    "### all the variables are having significance level less tha 0.05 \n",
    "\n",
    "## print r sq and adjusted r sq\n",
    "\n",
    "print(lm_4.rsquared, lm_4.rsquared_adj)"
   ]
  },
  {
   "cell_type": "code",
   "execution_count": 35,
   "metadata": {},
   "outputs": [
    {
     "data": {
      "text/plain": [
       "pandas.core.series.Series"
      ]
     },
     "execution_count": 35,
     "metadata": {},
     "output_type": "execute_result"
    }
   ],
   "source": [
    "## to convert the transformed value , we use antilog so that y_pred\n",
    "## is in the same scale as Y train or y_test\n",
    "y_pred = np.exp(lm_4.predict(X_test))\n",
    "\n",
    "type(y_pred)# Series"
   ]
  },
  {
   "cell_type": "code",
   "execution_count": 36,
   "metadata": {},
   "outputs": [
    {
     "name": "stdout",
     "output_type": "stream",
     "text": [
      "0.8470000775668097\n"
     ]
    }
   ],
   "source": [
    "from sklearn.metrics import mean_squared_error, r2_score\n",
    "print(r2_score(Y_test, y_pred))"
   ]
  },
  {
   "cell_type": "code",
   "execution_count": 37,
   "metadata": {},
   "outputs": [
    {
     "name": "stdout",
     "output_type": "stream",
     "text": [
      "3.2242525194421816\n"
     ]
    }
   ],
   "source": [
    "RMSE_2 =np.sqrt(mean_squared_error(Y_test, y_pred))\n",
    "print(RMSE_2)"
   ]
  },
  {
   "cell_type": "code",
   "execution_count": 38,
   "metadata": {
    "collapsed": true
   },
   "outputs": [],
   "source": [
    "# Now checking the assumptions \n",
    "#### Checking Multi collinearity \n",
    "## mention  dataframe of vif \n",
    "vif = pd.DataFrame()"
   ]
  },
  {
   "cell_type": "code",
   "execution_count": 39,
   "metadata": {},
   "outputs": [
    {
     "name": "stderr",
     "output_type": "stream",
     "text": [
      "C:\\Users\\USER\\Anaconda3\\lib\\site-packages\\statsmodels\\regression\\linear_model.py:1386: RuntimeWarning: invalid value encountered in double_scalars\n",
      "  return 1 - self.ssr/self.centered_tss\n"
     ]
    },
    {
     "data": {
      "text/html": [
       "<div>\n",
       "<style>\n",
       "    .dataframe thead tr:only-child th {\n",
       "        text-align: right;\n",
       "    }\n",
       "\n",
       "    .dataframe thead th {\n",
       "        text-align: left;\n",
       "    }\n",
       "\n",
       "    .dataframe tbody tr th {\n",
       "        vertical-align: top;\n",
       "    }\n",
       "</style>\n",
       "<table border=\"1\" class=\"dataframe\">\n",
       "  <thead>\n",
       "    <tr style=\"text-align: right;\">\n",
       "      <th></th>\n",
       "      <th>VIF Factor</th>\n",
       "      <th>features</th>\n",
       "    </tr>\n",
       "  </thead>\n",
       "  <tbody>\n",
       "    <tr>\n",
       "      <th>0</th>\n",
       "      <td>570.21</td>\n",
       "      <td>const</td>\n",
       "    </tr>\n",
       "    <tr>\n",
       "      <th>1</th>\n",
       "      <td>3.10</td>\n",
       "      <td>crim</td>\n",
       "    </tr>\n",
       "    <tr>\n",
       "      <th>2</th>\n",
       "      <td>NaN</td>\n",
       "      <td>chas</td>\n",
       "    </tr>\n",
       "    <tr>\n",
       "      <th>3</th>\n",
       "      <td>3.52</td>\n",
       "      <td>nox</td>\n",
       "    </tr>\n",
       "    <tr>\n",
       "      <th>4</th>\n",
       "      <td>1.68</td>\n",
       "      <td>rm</td>\n",
       "    </tr>\n",
       "    <tr>\n",
       "      <th>5</th>\n",
       "      <td>2.57</td>\n",
       "      <td>dis</td>\n",
       "    </tr>\n",
       "    <tr>\n",
       "      <th>6</th>\n",
       "      <td>3.43</td>\n",
       "      <td>rad</td>\n",
       "    </tr>\n",
       "    <tr>\n",
       "      <th>7</th>\n",
       "      <td>1.44</td>\n",
       "      <td>ptratio</td>\n",
       "    </tr>\n",
       "    <tr>\n",
       "      <th>8</th>\n",
       "      <td>2.54</td>\n",
       "      <td>lstat</td>\n",
       "    </tr>\n",
       "  </tbody>\n",
       "</table>\n",
       "</div>"
      ],
      "text/plain": [
       "   VIF Factor features\n",
       "0      570.21    const\n",
       "1        3.10     crim\n",
       "2         NaN     chas\n",
       "3        3.52      nox\n",
       "4        1.68       rm\n",
       "5        2.57      dis\n",
       "6        3.43      rad\n",
       "7        1.44  ptratio\n",
       "8        2.54    lstat"
      ]
     },
     "execution_count": 39,
     "metadata": {},
     "output_type": "execute_result"
    }
   ],
   "source": [
    "### Now detecting multi collinearity \n",
    "\n",
    "from statsmodels.stats.outliers_influence import variance_inflation_factor\n",
    "\n",
    "vif[\"VIF Factor\"] = [variance_inflation_factor(X_train.values, i) for i in range(X_train.shape[1])]\n",
    "\n",
    "vif[\"features\"] = X_train.columns\n",
    "\n",
    "vif.round(2) \n"
   ]
  },
  {
   "cell_type": "code",
   "execution_count": 40,
   "metadata": {},
   "outputs": [
    {
     "data": {
      "text/plain": [
       "Index(['const', 'crim', 'chas', 'rm', 'dis', 'ptratio', 'lstat'], dtype='object')"
      ]
     },
     "execution_count": 40,
     "metadata": {},
     "output_type": "execute_result"
    }
   ],
   "source": [
    "##  if we keep a threshold of VIF 2.5 , then there are 3 variables which \n",
    "### sriously violates this cut off value \n",
    "# those are crim , rad, nox\n",
    "##remove rad and nox \n",
    "\n",
    "## drop rad and nox \n",
    "X_train = X_train.drop(['rad','nox'], axis=1)\n",
    "X_train.columns\n",
    "\n",
    "###drop rad  and nox \n",
    "X_test = X_test.drop(['rad','nox'], axis=1)\n",
    "X_test.columns\n"
   ]
  },
  {
   "cell_type": "code",
   "execution_count": 41,
   "metadata": {},
   "outputs": [
    {
     "data": {
      "text/html": [
       "<table class=\"simpletable\">\n",
       "<caption>OLS Regression Results</caption>\n",
       "<tr>\n",
       "  <th>Dep. Variable:</th>          <td>medv</td>       <th>  R-squared:         </th> <td>   0.726</td>\n",
       "</tr>\n",
       "<tr>\n",
       "  <th>Model:</th>                   <td>OLS</td>       <th>  Adj. R-squared:    </th> <td>   0.721</td>\n",
       "</tr>\n",
       "<tr>\n",
       "  <th>Method:</th>             <td>Least Squares</td>  <th>  F-statistic:       </th> <td>   150.4</td>\n",
       "</tr>\n",
       "<tr>\n",
       "  <th>Date:</th>             <td>Sat, 04 May 2019</td> <th>  Prob (F-statistic):</th> <td>1.25e-77</td>\n",
       "</tr>\n",
       "<tr>\n",
       "  <th>Time:</th>                 <td>18:51:04</td>     <th>  Log-Likelihood:    </th> <td>  74.612</td>\n",
       "</tr>\n",
       "<tr>\n",
       "  <th>No. Observations:</th>      <td>   290</td>      <th>  AIC:               </th> <td>  -137.2</td>\n",
       "</tr>\n",
       "<tr>\n",
       "  <th>Df Residuals:</th>          <td>   284</td>      <th>  BIC:               </th> <td>  -115.2</td>\n",
       "</tr>\n",
       "<tr>\n",
       "  <th>Df Model:</th>              <td>     5</td>      <th>                     </th>     <td> </td>   \n",
       "</tr>\n",
       "<tr>\n",
       "  <th>Covariance Type:</th>      <td>nonrobust</td>    <th>                     </th>     <td> </td>   \n",
       "</tr>\n",
       "</table>\n",
       "<table class=\"simpletable\">\n",
       "<tr>\n",
       "     <td></td>        <th>coef</th>     <th>std err</th>      <th>t</th>      <th>P>|t|</th>  <th>[0.025</th>    <th>0.975]</th>  \n",
       "</tr>\n",
       "<tr>\n",
       "  <th>const</th>   <td>    3.1069</td> <td>    0.211</td> <td>   14.706</td> <td> 0.000</td> <td>    2.691</td> <td>    3.523</td>\n",
       "</tr>\n",
       "<tr>\n",
       "  <th>crim</th>    <td>   -0.0142</td> <td>    0.003</td> <td>   -5.106</td> <td> 0.000</td> <td>   -0.020</td> <td>   -0.009</td>\n",
       "</tr>\n",
       "<tr>\n",
       "  <th>chas</th>    <td>-8.289e-17</td> <td> 4.24e-18</td> <td>  -19.564</td> <td> 0.000</td> <td>-9.12e-17</td> <td>-7.46e-17</td>\n",
       "</tr>\n",
       "<tr>\n",
       "  <th>rm</th>      <td>    0.1498</td> <td>    0.024</td> <td>    6.317</td> <td> 0.000</td> <td>    0.103</td> <td>    0.197</td>\n",
       "</tr>\n",
       "<tr>\n",
       "  <th>dis</th>     <td>   -0.0183</td> <td>    0.007</td> <td>   -2.742</td> <td> 0.006</td> <td>   -0.031</td> <td>   -0.005</td>\n",
       "</tr>\n",
       "<tr>\n",
       "  <th>ptratio</th> <td>   -0.0294</td> <td>    0.005</td> <td>   -5.389</td> <td> 0.000</td> <td>   -0.040</td> <td>   -0.019</td>\n",
       "</tr>\n",
       "<tr>\n",
       "  <th>lstat</th>   <td>   -0.0289</td> <td>    0.003</td> <td>  -11.216</td> <td> 0.000</td> <td>   -0.034</td> <td>   -0.024</td>\n",
       "</tr>\n",
       "</table>\n",
       "<table class=\"simpletable\">\n",
       "<tr>\n",
       "  <th>Omnibus:</th>       <td>54.068</td> <th>  Durbin-Watson:     </th> <td>   2.127</td>\n",
       "</tr>\n",
       "<tr>\n",
       "  <th>Prob(Omnibus):</th> <td> 0.000</td> <th>  Jarque-Bera (JB):  </th> <td> 245.522</td>\n",
       "</tr>\n",
       "<tr>\n",
       "  <th>Skew:</th>          <td> 0.663</td> <th>  Prob(JB):          </th> <td>4.85e-54</td>\n",
       "</tr>\n",
       "<tr>\n",
       "  <th>Kurtosis:</th>      <td> 7.308</td> <th>  Cond. No.          </th> <td>2.23e+17</td>\n",
       "</tr>\n",
       "</table>"
      ],
      "text/plain": [
       "<class 'statsmodels.iolib.summary.Summary'>\n",
       "\"\"\"\n",
       "                            OLS Regression Results                            \n",
       "==============================================================================\n",
       "Dep. Variable:                   medv   R-squared:                       0.726\n",
       "Model:                            OLS   Adj. R-squared:                  0.721\n",
       "Method:                 Least Squares   F-statistic:                     150.4\n",
       "Date:                Sat, 04 May 2019   Prob (F-statistic):           1.25e-77\n",
       "Time:                        18:51:04   Log-Likelihood:                 74.612\n",
       "No. Observations:                 290   AIC:                            -137.2\n",
       "Df Residuals:                     284   BIC:                            -115.2\n",
       "Df Model:                           5                                         \n",
       "Covariance Type:            nonrobust                                         \n",
       "==============================================================================\n",
       "                 coef    std err          t      P>|t|      [0.025      0.975]\n",
       "------------------------------------------------------------------------------\n",
       "const          3.1069      0.211     14.706      0.000       2.691       3.523\n",
       "crim          -0.0142      0.003     -5.106      0.000      -0.020      -0.009\n",
       "chas       -8.289e-17   4.24e-18    -19.564      0.000   -9.12e-17   -7.46e-17\n",
       "rm             0.1498      0.024      6.317      0.000       0.103       0.197\n",
       "dis           -0.0183      0.007     -2.742      0.006      -0.031      -0.005\n",
       "ptratio       -0.0294      0.005     -5.389      0.000      -0.040      -0.019\n",
       "lstat         -0.0289      0.003    -11.216      0.000      -0.034      -0.024\n",
       "==============================================================================\n",
       "Omnibus:                       54.068   Durbin-Watson:                   2.127\n",
       "Prob(Omnibus):                  0.000   Jarque-Bera (JB):              245.522\n",
       "Skew:                           0.663   Prob(JB):                     4.85e-54\n",
       "Kurtosis:                       7.308   Cond. No.                     2.23e+17\n",
       "==============================================================================\n",
       "\n",
       "Warnings:\n",
       "[1] Standard Errors assume that the covariance matrix of the errors is correctly specified.\n",
       "[2] The smallest eigenvalue is 3.3e-30. This might indicate that there are\n",
       "strong multicollinearity problems or that the design matrix is singular.\n",
       "\"\"\""
      ]
     },
     "execution_count": 41,
     "metadata": {},
     "output_type": "execute_result"
    }
   ],
   "source": [
    "## also remove nox and crim \n",
    "\n",
    "lm_5 = sm.OLS(Y_log_train,X_train).fit()\n",
    "\n",
    "##Printing the summary of the model:\n",
    "lm_5.summary()"
   ]
  },
  {
   "cell_type": "code",
   "execution_count": 42,
   "metadata": {},
   "outputs": [
    {
     "data": {
      "text/plain": [
       "pandas.core.series.Series"
      ]
     },
     "execution_count": 42,
     "metadata": {},
     "output_type": "execute_result"
    }
   ],
   "source": [
    "## to convert the transformed value , we use antilog so that y_pred\n",
    "## is in the same scale as Y train or y_test\n",
    "y_pred = np.exp(lm_5.predict(X_test) )\n",
    "\n",
    "type(y_pred)# Series"
   ]
  },
  {
   "cell_type": "code",
   "execution_count": 43,
   "metadata": {},
   "outputs": [
    {
     "name": "stdout",
     "output_type": "stream",
     "text": [
      "0.8406846267306364\n"
     ]
    }
   ],
   "source": [
    "\n",
    "from sklearn.metrics import mean_squared_error, r2_score\n",
    "print(r2_score(Y_test, y_pred))"
   ]
  },
  {
   "cell_type": "code",
   "execution_count": 44,
   "metadata": {},
   "outputs": [
    {
     "name": "stdout",
     "output_type": "stream",
     "text": [
      "3.2901241445064673\n"
     ]
    }
   ],
   "source": [
    "RMSE_2 =np.sqrt(mean_squared_error(Y_test, y_pred))\n",
    "print(RMSE_2)"
   ]
  },
  {
   "cell_type": "code",
   "execution_count": 46,
   "metadata": {},
   "outputs": [
    {
     "data": {
      "text/plain": [
       "342   -0.450739\n",
       "394   -0.158344\n",
       "42     0.000731\n",
       "166    0.222417\n",
       "313   -0.140101\n",
       "136    0.011486\n",
       "254   -0.093773\n",
       "89    -0.059182\n",
       "131   -0.043036\n",
       "309   -0.100143\n",
       "227    0.033258\n",
       "332   -0.199849\n",
       "143    0.100618\n",
       "505   -0.642066\n",
       "255   -0.028532\n",
       "402   -0.226006\n",
       "315   -0.227477\n",
       "291    0.203523\n",
       "464    0.167926\n",
       "116   -0.055115\n",
       "97     0.056730\n",
       "197   -0.006688\n",
       "114   -0.257484\n",
       "328   -0.144491\n",
       "459    0.142909\n",
       "139    0.045645\n",
       "285   -0.160920\n",
       "301   -0.154184\n",
       "115   -0.061953\n",
       "51    -0.110699\n",
       "         ...   \n",
       "253    0.244718\n",
       "245    0.214502\n",
       "168   -0.059868\n",
       "242   -0.016728\n",
       "237   -0.027693\n",
       "287   -0.063926\n",
       "460   -0.129254\n",
       "413    0.522696\n",
       "268    0.080571\n",
       "329   -0.132255\n",
       "157    0.190402\n",
       "263   -0.013625\n",
       "375   -0.209219\n",
       "341    0.039190\n",
       "206    0.086806\n",
       "335   -0.026448\n",
       "251   -0.056597\n",
       "500   -0.161037\n",
       "446   -0.120309\n",
       "40     0.088066\n",
       "45    -0.080881\n",
       "417    0.202908\n",
       "132    0.069570\n",
       "300   -0.170815\n",
       "422    0.290273\n",
       "430   -0.121900\n",
       "294   -0.056950\n",
       "215    0.081393\n",
       "74    -0.039735\n",
       "90    -0.115123\n",
       "Length: 290, dtype: float64"
      ]
     },
     "execution_count": 46,
     "metadata": {},
     "output_type": "execute_result"
    }
   ],
   "source": [
    "###Check normality of residuals \n",
    "\n",
    "# We use Shapiro Wilk test  from scipy library to check the normality of residuals.\n",
    "# Null Hypothesis: The residuals are normally distributed.\n",
    "# Alternative Hypothesis: The residuals are not normally distributed.\n",
    "\n",
    "lm_5.resid\n"
   ]
  },
  {
   "cell_type": "code",
   "execution_count": 47,
   "metadata": {},
   "outputs": [
    {
     "data": {
      "text/plain": [
       "(0.9290702939033508, 1.553832479350703e-10)"
      ]
     },
     "execution_count": 47,
     "metadata": {},
     "output_type": "execute_result"
    }
   ],
   "source": [
    "from scipy import stats\n",
    "stats.shapiro(lm_5.resid)"
   ]
  },
  {
   "cell_type": "code",
   "execution_count": 51,
   "metadata": {},
   "outputs": [
    {
     "name": "stderr",
     "output_type": "stream",
     "text": [
      "C:\\Users\\USER\\Anaconda3\\lib\\site-packages\\scipy\\stats\\stats.py:1633: FutureWarning: Using a non-tuple sequence for multidimensional indexing is deprecated; use `arr[tuple(seq)]` instead of `arr[seq]`. In the future this will be interpreted as an array index, `arr[np.array(seq)]`, which will result either in an error or a different result.\n",
      "  return np.add.reduce(sorted[indexer] * weights, axis=axis) / sumval\n"
     ]
    },
    {
     "data": {
      "text/plain": [
       "<matplotlib.collections.PathCollection at 0x18effc89240>"
      ]
     },
     "execution_count": 51,
     "metadata": {},
     "output_type": "execute_result"
    },
    {
     "data": {
      "image/png": "[encoded data removed]",
      "text/plain": [
       "<matplotlib.figure.Figure at 0x18effc3ada0>"
      ]
     },
     "metadata": {},
     "output_type": "display_data"
    }
   ],
   "source": [
    "### p value :  1.553832479350703e-10,\n",
    " ##hence  the 1st assumption is violated , that is  residulas are not normally distributed \n",
    " ### p value :  1.553832479350703e-10,\n",
    " ##hence  the 1st assumption is violated , that is  residulas are not normally distributed \n",
    "Y_test_series = pd.to_numeric(Y_test.medv, errors='coerce')\n",
    "sns.distplot((Y_test_series-y_pred),bins=50)\n",
    "plt.scatter(Y_test_series,y_pred)## almost normal . with bimodal plot \n",
    " ## The model needs a  bit of improvemnt     \n",
    "    "
   ]
  },
  {
   "cell_type": "code",
   "execution_count": 52,
   "metadata": {},
   "outputs": [
    {
     "data": {
      "text/plain": [
       "(array([1.60998148]), array([0.20449441]))"
      ]
     },
     "execution_count": 52,
     "metadata": {},
     "output_type": "execute_result"
    }
   ],
   "source": [
    " ### Checking for autocorrelation\n",
    "\n",
    "#  To ensure the absence of autocorrelation we use Ljungbox test.\n",
    "# Null Hypothesis: Autocorrelation is absent.\n",
    "# Alternative Hypothesis: Autocorrelation is present.\n",
    "from statsmodels.stats import diagnostic as diag\n",
    "diag.acorr_ljungbox(lm_5.resid , lags = 1) \n",
    "### p value :0.20449441 hence there is no autocorrelation\n"
   ]
  },
  {
   "cell_type": "code",
   "execution_count": 53,
   "metadata": {},
   "outputs": [
    {
     "data": {
      "text/plain": [
       "[('F statistic', 0.7466290740839951), ('p-value', 0.9569448388874647)]"
      ]
     },
     "execution_count": 53,
     "metadata": {},
     "output_type": "execute_result"
    }
   ],
   "source": [
    "##Checking heteroscedasticity Using Goldfeld Quandt we test for heteroscedasticity.\n",
    "###Null Hypothesis: Error terms are homoscedastic\n",
    "###Alternative Hypothesis: Error terms are heteroscedastic.\n",
    "import statsmodels.stats.api as sms\n",
    "from statsmodels.compat import lzip\n",
    "name = ['F statistic', 'p-value']\n",
    "test = sms.het_goldfeldquandt(lm_5.resid, lm_5.model.exog)\n",
    "lzip(name, test)\n",
    "##The p-value is 0.9569448388874647 hence we can say that the residuals have constant variance"
   ]
  },
  {
   "cell_type": "code",
   "execution_count": null,
   "metadata": {
    "collapsed": true
   },
   "outputs": [],
   "source": [
    "### hence , except the  normality f residuals , we find out that all the other assumptuons are satisfied\n",
    "## for  linear regression\n",
    "\n",
    "##  for improvment of the model , we can try cross valdiation "
   ]
  }
 ],
 "metadata": {
  "kernelspec": {
   "display_name": "Python 3",
   "language": "python",
   "name": "python3"
  },
  "language_info": {
   "codemirror_mode": {
    "name": "ipython",
    "version": 3
   },
   "file_extension": ".py",
   "mimetype": "text/x-python",
   "name": "python",
   "nbconvert_exporter": "python",
   "pygments_lexer": "ipython3",
   "version": "3.6.3"
  }
 },
 "nbformat": 4,
 "nbformat_minor": 2
}
