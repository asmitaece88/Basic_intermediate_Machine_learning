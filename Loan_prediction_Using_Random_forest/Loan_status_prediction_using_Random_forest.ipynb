{
 "cells": [
  {
   "cell_type": "code",
   "execution_count": null,
   "metadata": {
    "collapsed": true
   },
   "outputs": [],
   "source": [
    "# @author: asmita chatterjee\n",
    "\n",
    "\n",
    "#  dataset source :https://datahack.analyticsvidhya.com/contest/practice-problem-loan-prediction-iii/\n",
    " \n",
    "#  About the data  set :\n",
    "#      Dream Housing Finance company deals in all home loans. They have presence across all urban, semi urban and rural areas. Customer first apply for home loan after that company validates the customer eligibility for loan.\n",
    "\n",
    "# The company wants to automate the loan eligibility process (real time) based on customer detail\n",
    "#  provided while filling online application form. \n",
    "#  These details are:\n",
    "#   Gender, \n",
    "#  Marital Status, \n",
    "#  Education,\n",
    "#  Number of Dependents,\n",
    "#  Income, \n",
    "#  Loan Amount,\n",
    "#  Credit History \n",
    "# and\n",
    "#  others.\n",
    "#  To automate this process, they have given a problem to identify the customers segments,\n",
    "#  those are eligible for loan amount \n",
    "# so that they can specifically target these customers. Here they have provided a partial data set.\n",
    "\n",
    "# This is classification process to classify the loan status as Yes or No , based on varous features .\n",
    "\n",
    "# tecnique used for classification: Random forest \n",
    "\n",
    "# This case study consists of the following steps :\n",
    "    \n",
    "#     1)  importing packags and reading the train and test data sets from files\n",
    "#     2) Preprocessing and feature engineering \n",
    "#     3) Applying Random forest model after cross valdidation\n",
    "#     4) evaluation  "
   ]
  },
  {
   "cell_type": "code",
   "execution_count": 1,
   "metadata": {},
   "outputs": [
    {
     "name": "stderr",
     "output_type": "stream",
     "text": [
      "C:\\Users\\USER\\Anaconda3\\lib\\site-packages\\sklearn\\ensemble\\weight_boosting.py:29: DeprecationWarning: numpy.core.umath_tests is an internal NumPy module and should not be imported. It will be removed in a future NumPy release.\n",
      "  from numpy.core.umath_tests import inner1d\n"
     ]
    }
   ],
   "source": [
    "###########import packages \n",
    "import pandas as pd\n",
    "import numpy as np                     # For mathematical calculations\n",
    "import seaborn as sns                  # For data visualization\n",
    "import matplotlib.pyplot as plt        # For plotting graphs\n",
    "%matplotlib inline\n",
    "import warnings                        # To ignore any warnings\n",
    "warnings.filterwarnings(\"ignore\")\n",
    "from sklearn.utils import resample\n",
    "from sklearn.ensemble import RandomForestClassifier\n",
    "from sklearn.preprocessing import StandardScaler\n",
    "from sklearn.model_selection import train_test_split\n",
    "from sklearn.model_selection import cross_validate, KFold\n",
    "\n",
    "from sklearn.metrics import recall_score, roc_auc_score, f1_score\n",
    "from sklearn.metrics import accuracy_score, roc_auc_score, \\\n",
    "                            classification_report, confusion_matrix\n"
   ]
  },
  {
   "cell_type": "code",
   "execution_count": 3,
   "metadata": {
    "collapsed": true
   },
   "outputs": [],
   "source": [
    "###Read data\n",
    "\n",
    "train = pd.read_csv('C:/Users/USER/Documents/datasets/final_data/Loan_pred/train.csv')\n",
    "test = pd.read_csv('C:/Users/USER/Documents/datasets/final_data/Loan_pred/test.csv')\n",
    "\n",
    "# Train file will be used for training the model, i.e. our model will learn from this file.\n",
    "#  It contains all the independent variables and the target variable. \n",
    "#  Test file contains all the independent variables,\n",
    "# but not the target variable. We will apply the model to predict the target variable for the test data\n",
    "\n",
    "# Last but not the least , we will submit the predictions in \n",
    "# Sample submission file.csv "
   ]
  },
  {
   "cell_type": "code",
   "execution_count": 4,
   "metadata": {},
   "outputs": [
    {
     "data": {
      "text/plain": [
       "Index(['Loan_ID', 'Gender', 'Married', 'Dependents', 'Education',\n",
       "       'Self_Employed', 'ApplicantIncome', 'CoapplicantIncome', 'LoanAmount',\n",
       "       'Loan_Amount_Term', 'Credit_History', 'Property_Area', 'Loan_Status'],\n",
       "      dtype='object')"
      ]
     },
     "execution_count": 4,
     "metadata": {},
     "output_type": "execute_result"
    }
   ],
   "source": [
    "## Checking the columns \n",
    "train.columns\n"
   ]
  },
  {
   "cell_type": "code",
   "execution_count": 5,
   "metadata": {},
   "outputs": [
    {
     "data": {
      "text/plain": [
       "Index(['Loan_ID', 'Gender', 'Married', 'Dependents', 'Education',\n",
       "       'Self_Employed', 'ApplicantIncome', 'CoapplicantIncome', 'LoanAmount',\n",
       "       'Loan_Amount_Term', 'Credit_History', 'Property_Area'],\n",
       "      dtype='object')"
      ]
     },
     "execution_count": 5,
     "metadata": {},
     "output_type": "execute_result"
    }
   ],
   "source": [
    "test.columns"
   ]
  },
  {
   "cell_type": "code",
   "execution_count": 6,
   "metadata": {},
   "outputs": [
    {
     "data": {
      "text/plain": [
       "Loan_ID               0\n",
       "Gender               13\n",
       "Married               3\n",
       "Dependents           15\n",
       "Education             0\n",
       "Self_Employed        32\n",
       "ApplicantIncome       0\n",
       "CoapplicantIncome     0\n",
       "LoanAmount           22\n",
       "Loan_Amount_Term     14\n",
       "Credit_History       50\n",
       "Property_Area         0\n",
       "Loan_Status           0\n",
       "dtype: int64"
      ]
     },
     "execution_count": 6,
     "metadata": {},
     "output_type": "execute_result"
    }
   ],
   "source": [
    "#checking missing values in each column of train dataset\n",
    "\n",
    "train.isnull().sum()\n"
   ]
  },
  {
   "cell_type": "code",
   "execution_count": 7,
   "metadata": {},
   "outputs": [
    {
     "data": {
      "text/plain": [
       "Loan_ID               0\n",
       "Gender               11\n",
       "Married               0\n",
       "Dependents           10\n",
       "Education             0\n",
       "Self_Employed        23\n",
       "ApplicantIncome       0\n",
       "CoapplicantIncome     0\n",
       "LoanAmount            5\n",
       "Loan_Amount_Term      6\n",
       "Credit_History       29\n",
       "Property_Area         0\n",
       "dtype: int64"
      ]
     },
     "execution_count": 7,
     "metadata": {},
     "output_type": "execute_result"
    }
   ],
   "source": [
    "test.isnull().sum()\n"
   ]
  },
  {
   "cell_type": "code",
   "execution_count": 10,
   "metadata": {},
   "outputs": [
    {
     "data": {
      "text/plain": [
       "Y    422\n",
       "N    192\n",
       "Name: Loan_Status, dtype: int64"
      ]
     },
     "execution_count": 10,
     "metadata": {},
     "output_type": "execute_result"
    }
   ],
   "source": [
    "# First let us  look at the  target variable that is loan status .\n",
    "\n",
    "# As it is a categorical variable , let us look into th frequency table , percentage distribution \n",
    "# and bar plot \n",
    "\n",
    "train['Loan_Status'].value_counts()\n"
   ]
  },
  {
   "cell_type": "code",
   "execution_count": 11,
   "metadata": {},
   "outputs": [
    {
     "data": {
      "text/plain": [
       "<matplotlib.axes._subplots.AxesSubplot at 0x274d37a75c0>"
      ]
     },
     "execution_count": 11,
     "metadata": {},
     "output_type": "execute_result"
    },
    {
     "data": {
      "image/png": "[encoded data removed]",
      "text/plain": [
       "<matplotlib.figure.Figure at 0x274d37589e8>"
      ]
     },
     "metadata": {},
     "output_type": "display_data"
    }
   ],
   "source": [
    "train['Loan_Status'].value_counts().plot.bar()\n"
   ]
  },
  {
   "cell_type": "code",
   "execution_count": 12,
   "metadata": {
    "collapsed": true
   },
   "outputs": [],
   "source": [
    "### Missing value imputation\n",
    "\n",
    "# There are 3 types of variables:\n",
    "     \n",
    "#  -->Categorical: ( if any of these below mentioned variables are not turned to binary numercial , then we will use\n",
    "#                          numerical encoding to do so)\n",
    "#      Gender,\n",
    "#      Married,\n",
    "#      Self_Employed,\n",
    "#      Credit_History,\n",
    "#      Loan_Status)\n",
    " \n",
    "#  --->Ordinal features: Variables in categorical features having some order involved :\n",
    "#  (Dependents-- this is an ordinal variable , since having more number of dependents, reduces a loan eligibility  \n",
    "#  Education----a more educated person has higher probabiity of getting a loan \n",
    "#  Property_Area---a person from a developed region , has a better loan eligbility \n",
    " \n",
    "#  ---> Numerical : \n",
    "#        ApplicantIncome,\n",
    "#        CoapplicantIncome,\n",
    "#        LoanAmount,\n",
    "#        Loan_Amount_Term \n",
    "  \n",
    "# ----    Amongst the numeric variables :\n",
    "           \n",
    "#     ApplicantIncome,\n",
    "#        CoapplicantIncome,\n",
    "#        LoanAmount,\n",
    "#        Loan_Amount_Term \n",
    "       \n",
    "#        the missing variables are :\n",
    "#            LoanAmount and Loan_Amount_Term\n",
    "       \n",
    "#         First carrying out the missing value imputation of these 2 variables:\n",
    "       \n",
    "    \n",
    "#  Based on the area of property   and the appplicant income , the loan amount will vary \n",
    "#         Since loan amount is a numeric variable , so we will replace the term with median \n",
    "\n",
    "train['LoanAmount'].fillna(train['LoanAmount'].median(),inplace=True)"
   ]
  },
  {
   "cell_type": "code",
   "execution_count": 13,
   "metadata": {
    "collapsed": true
   },
   "outputs": [],
   "source": [
    "# Since test  data set also has missing values for LoanAmount , so we will use the same strategy  for test data set\n",
    "\n",
    "test['LoanAmount'].fillna(test['LoanAmount'].median(),inplace=True)"
   ]
  },
  {
   "cell_type": "code",
   "execution_count": 15,
   "metadata": {},
   "outputs": [
    {
     "data": {
      "text/plain": [
       "360.0    512\n",
       "180.0     44\n",
       "480.0     15\n",
       "300.0     13\n",
       "84.0       4\n",
       "240.0      4\n",
       "120.0      3\n",
       "36.0       2\n",
       "60.0       2\n",
       "12.0       1\n",
       "Name: Loan_Amount_Term, dtype: int64"
      ]
     },
     "execution_count": 15,
     "metadata": {},
     "output_type": "execute_result"
    }
   ],
   "source": [
    "###Loan_Amount_Term- Finding out the counts of the various values of the Loan amount term \n",
    "   \n",
    "train['Loan_Amount_Term'].value_counts()"
   ]
  },
  {
   "cell_type": "code",
   "execution_count": 18,
   "metadata": {},
   "outputs": [],
   "source": [
    "# \"so we can see  value 360 is  used in 512 records.hence it is the mode value \n",
    "#  Hence we will use this  mode value  as a missing value substitute:\n",
    "\n",
    "train['Loan_Amount_Term'].fillna(train['Loan_Amount_Term'].mode()[0],inplace=True) \n",
    "test['Loan_Amount_Term'].fillna(test['Loan_Amount_Term'].mode()[0],inplace=True)"
   ]
  },
  {
   "cell_type": "code",
   "execution_count": 20,
   "metadata": {},
   "outputs": [],
   "source": [
    "#  For categorical variables: imputation using mode\n",
    "# There are very less missing values \n",
    "#  Gender, Married, Dependents, Credit_History and Self_Employed features \n",
    "#  so we can fill them using the mode of the features. \n",
    "\n",
    "\n",
    "## For Gender \n",
    " \n",
    "train['Gender'].fillna(train['Gender'].mode()[0],inplace=True)\n",
    "test['Gender'].fillna(train['Gender'].mode()[0], inplace=True)\n",
    "\n",
    "\n",
    "### For Married ## \n",
    " \n",
    "train['Married'].fillna(\"No\",inplace=True)\n",
    "\n",
    "##train[\"Dependents\"].isnull().sum()##15#############\n",
    "\n",
    "\n",
    "## for dependents , wherever , missing , replace with 0\n",
    "train['Dependents'].fillna(0, inplace=True)\n",
    "test['Dependents'].fillna(0, inplace=True)\n",
    "\n",
    "\n",
    "## For Self_Employed### For null values , replace with a No\n",
    "## we are assuming that if the value is NUll , the concerned applicant is not self applicant \n",
    "\n",
    "train['Self_Employed'].fillna(\"No\", inplace=True)\n",
    "test['Self_Employed'].fillna(\"No\", inplace=True)\n",
    "\n",
    "\n",
    "### For Credit_History### Fill 0 whereevr empty\n",
    "\n",
    "### replace the credit history with 0 value , whrever the history  s NULL\n",
    "### we are assuming that in case of NUll value , th concerned applicant  has a bad credit history \n",
    "\n",
    "train['Credit_History'].fillna(0, inplace=True)\n",
    "test['Credit_History'].fillna(0, inplace=True)\n",
    "\n",
    "## a bit more replacement option\n",
    "\n",
    "train['Dependents'].replace('3+', 3,inplace=True)\n",
    "test['Dependents'].replace('3+', 3,inplace=True)"
   ]
  },
  {
   "cell_type": "code",
   "execution_count": 21,
   "metadata": {
    "collapsed": true
   },
   "outputs": [],
   "source": [
    "##### add the  applicant income as well as the co applicant income \n",
    "\n",
    "train['Total_Income']=train['ApplicantIncome']+train['CoapplicantIncome']\n",
    "\n",
    "test['Total_Income']=test['ApplicantIncome']+test['CoapplicantIncome']"
   ]
  },
  {
   "cell_type": "code",
   "execution_count": 22,
   "metadata": {},
   "outputs": [
    {
     "data": {
      "image/png": "[encoded data removed]",
      "text/plain": [
       "<matplotlib.figure.Figure at 0x274d5826588>"
      ]
     },
     "metadata": {},
     "output_type": "display_data"
    }
   ],
   "source": [
    "### Lets look into  the distribution of Total_Income variable.\n",
    "plt.figure(10)\n",
    "plt.subplot(121)\n",
    "sns.distplot(train['Total_Income']);"
   ]
  },
  {
   "cell_type": "code",
   "execution_count": 23,
   "metadata": {},
   "outputs": [
    {
     "data": {
      "text/plain": [
       "count      614.000000\n",
       "mean      7024.705081\n",
       "std       6458.663872\n",
       "min       1442.000000\n",
       "25%       4166.000000\n",
       "50%       5416.500000\n",
       "75%       7521.750000\n",
       "max      81000.000000\n",
       "Name: Total_Income, dtype: float64"
      ]
     },
     "execution_count": 23,
     "metadata": {},
     "output_type": "execute_result"
    }
   ],
   "source": [
    "\n",
    "train['Total_Income'].describe()"
   ]
  },
  {
   "cell_type": "code",
   "execution_count": 24,
   "metadata": {},
   "outputs": [
    {
     "data": {
      "image/png": "[encoded data removed]",
      "text/plain": [
       "<matplotlib.figure.Figure at 0x274d5a5af98>"
      ]
     },
     "metadata": {},
     "output_type": "display_data"
    }
   ],
   "source": [
    "### Hence from the mean and the description , it is evident , the distribution if rightly skewed \n",
    "## so we will apply log transformation in the total income \n",
    "\n",
    "train['Total_Income_log'] = np.log(train['Total_Income'])\n",
    "sns.distplot(train['Total_Income_log']);\n",
    "\n",
    "## we can see that the distribution is normal now \n",
    "test['Total_Income_log'] = np.log(test['Total_Income'])"
   ]
  },
  {
   "cell_type": "code",
   "execution_count": 25,
   "metadata": {
    "collapsed": true
   },
   "outputs": [],
   "source": [
    "#### Categorical\n",
    "## Change categorical variables Gender to numeric categorical\n",
    "\n",
    "train['Gender'] = train['Gender'].map( {'Male': 0, 'Female': 1} )\n",
    "test['Gender'] = test['Gender'].map( {'Male': 0, 'Female': 1} )\n",
    "\n",
    "\n",
    "\n",
    "### Change categorical variable Married to numeric categorical\n",
    "train['Married'] = train['Married'].map( {'No': 0, 'Yes': 1} )\n",
    "test['Married'] = test['Married'].map( {'No': 0, 'Yes': 1} )\n",
    "\n",
    "###Change categorical variable Education to numeric categorical\n",
    "train['Education'] = train['Education'].map( {'Not Graduate': 0, 'Graduate': 1} )\n",
    "test['Education'] = test['Education'].map( {'Not Graduate': 0, 'Graduate': 1} )\n",
    "\n",
    "###Change categorical variable Self Employed to numeric categorical\n",
    "train['Self_Employed'] = train['Self_Employed'].map( {'No': 0, 'Yes': 1} )\n",
    "test['Self_Employed'] = test['Self_Employed'].map( {'No': 0, 'Yes': 1} )\n",
    "\n",
    "\n",
    "###Change categorical variable Property_Area to numeric categorical\n",
    "\n",
    "train['Property_Area'] = train['Property_Area'].map( {'Rural': 1, 'Semiurban': 2,'Urban': 3} )\n",
    "test['Property_Area'] = test['Property_Area'].map( {'Rural': 1, 'Semiurban': 2 ,'Urban': 3} )\n"
   ]
  },
  {
   "cell_type": "code",
   "execution_count": 26,
   "metadata": {
    "collapsed": true
   },
   "outputs": [],
   "source": [
    "###Change categorical variable Loan_status  to numeric categorical\n",
    "\n",
    "train['Loan_Status'] = train['Loan_Status'].map( {'N': 0, 'Y': 1} )"
   ]
  },
  {
   "cell_type": "code",
   "execution_count": 27,
   "metadata": {
    "collapsed": true
   },
   "outputs": [],
   "source": [
    "## Take the Loanid in a variable \n",
    "Loan_ID = test['Loan_ID']"
   ]
  },
  {
   "cell_type": "code",
   "execution_count": 28,
   "metadata": {
    "collapsed": true
   },
   "outputs": [],
   "source": [
    "## next drop the redundant variables\n",
    "\n",
    "train=train.drop(['ApplicantIncome', 'CoapplicantIncome','Total_Income','Loan_ID'], axis=1)\n",
    "test=test.drop(['ApplicantIncome', 'CoapplicantIncome','Total_Income','Loan_ID'], axis=1)\n"
   ]
  },
  {
   "cell_type": "code",
   "execution_count": 29,
   "metadata": {
    "collapsed": true
   },
   "outputs": [],
   "source": [
    "X = train.drop('Loan_Status',1)\n",
    "y = train.Loan_Status"
   ]
  },
  {
   "cell_type": "code",
   "execution_count": 30,
   "metadata": {
    "collapsed": true
   },
   "outputs": [],
   "source": [
    "from sklearn.ensemble import RandomForestClassifier\n",
    "from sklearn import tree, model_selection\n",
    "from sklearn.metrics import accuracy_score\n",
    "\n",
    "classifier = RandomForestClassifier()\n"
   ]
  },
  {
   "cell_type": "code",
   "execution_count": 31,
   "metadata": {
    "collapsed": true
   },
   "outputs": [],
   "source": [
    "from sklearn.model_selection import GridSearchCV"
   ]
  },
  {
   "cell_type": "code",
   "execution_count": 32,
   "metadata": {
    "collapsed": true
   },
   "outputs": [],
   "source": [
    "# Provide range for max_depth from 1 to 20 with an interval of 2 and from 1 to 200 with an interval \n",
    "###of 20 for n_estimators\n",
    "paramgrid = {'max_depth': list(range(1, 20, 2)),'criterion':['gini','entropy'], 'n_estimators': list(range(1, 200, 20))}\n",
    "\n",
    "\n",
    "grid_classifier = model_selection.GridSearchCV(classifier, paramgrid, cv=10, scoring='accuracy',refit=True, \n",
    "                                              n_jobs=-1, return_train_score=True)\n"
   ]
  },
  {
   "cell_type": "code",
   "execution_count": 33,
   "metadata": {
    "collapsed": true
   },
   "outputs": [],
   "source": [
    "from sklearn.model_selection import train_test_split\n",
    "x_train, x_cv, y_train, y_cv = train_test_split(X,y, test_size =0.3, random_state=1)"
   ]
  },
  {
   "cell_type": "code",
   "execution_count": 34,
   "metadata": {},
   "outputs": [
    {
     "data": {
      "text/plain": [
       "GridSearchCV(cv=10, error_score='raise',\n",
       "       estimator=RandomForestClassifier(bootstrap=True, class_weight=None, criterion='gini',\n",
       "            max_depth=None, max_features='auto', max_leaf_nodes=None,\n",
       "            min_impurity_decrease=0.0, min_impurity_split=None,\n",
       "            min_samples_leaf=1, min_samples_split=2,\n",
       "            min_weight_fraction_leaf=0.0, n_estimators=10, n_jobs=1,\n",
       "            oob_score=False, random_state=None, verbose=0,\n",
       "            warm_start=False),\n",
       "       fit_params=None, iid=True, n_jobs=-1,\n",
       "       param_grid={'max_depth': [1, 3, 5, 7, 9, 11, 13, 15, 17, 19], 'criterion': ['gini', 'entropy'], 'n_estimators': [1, 21, 41, 61, 81, 101, 121, 141, 161, 181]},\n",
       "       pre_dispatch='2*n_jobs', refit=True, return_train_score=True,\n",
       "       scoring='accuracy', verbose=0)"
      ]
     },
     "execution_count": 34,
     "metadata": {},
     "output_type": "execute_result"
    }
   ],
   "source": [
    "\n",
    "grid_classifier.fit(x_train, y_train)"
   ]
  },
  {
   "cell_type": "code",
   "execution_count": 35,
   "metadata": {},
   "outputs": [
    {
     "name": "stdout",
     "output_type": "stream",
     "text": [
      "RandomForestClassifier(bootstrap=True, class_weight=None, criterion='entropy',\n",
      "            max_depth=7, max_features='auto', max_leaf_nodes=None,\n",
      "            min_impurity_decrease=0.0, min_impurity_split=None,\n",
      "            min_samples_leaf=1, min_samples_split=2,\n",
      "            min_weight_fraction_leaf=0.0, n_estimators=61, n_jobs=1,\n",
      "            oob_score=False, random_state=None, verbose=0,\n",
      "            warm_start=False)\n"
     ]
    }
   ],
   "source": [
    "### get the best estimator \n",
    "final_model = grid_classifier.best_estimator_\n",
    "print(final_model)\n",
    "\n",
    "### So, the optimized value for the max_depth variable is 7\n",
    "##and for n_estimator is 61 and criterion : entropy Now let’s build the model using these optimized values."
   ]
  },
  {
   "cell_type": "code",
   "execution_count": 37,
   "metadata": {},
   "outputs": [],
   "source": [
    "from sklearn.model_selection import StratifiedKFold\n",
    "\n"
   ]
  },
  {
   "cell_type": "code",
   "execution_count": 38,
   "metadata": {},
   "outputs": [
    {
     "name": "stdout",
     "output_type": "stream",
     "text": [
      "\n",
      "1 of kfold 5\n",
      "accuracy_score 0.7580645161290323\n",
      "\n",
      "2 of kfold 5\n",
      "accuracy_score 0.7338709677419355\n",
      "\n",
      "3 of kfold 5\n",
      "accuracy_score 0.7377049180327869\n",
      "\n",
      "4 of kfold 5\n",
      "accuracy_score 0.7540983606557377\n",
      "\n",
      "5 of kfold 5\n",
      "accuracy_score 0.7950819672131147\n"
     ]
    }
   ],
   "source": [
    "i=1\n",
    "kf = StratifiedKFold(n_splits=5,random_state=1,shuffle=True)\n",
    "for train_index,test_index in kf.split(X,y):\n",
    "     print('\\n{} of kfold {}'.format(i,kf.n_splits))\n",
    "     xtr,xvl = X.loc[train_index],X.loc[test_index]\n",
    "     ytr,yvl = y[train_index],y[test_index]\n",
    "    \n",
    "     model = RandomForestClassifier(random_state=1, max_depth=7, n_estimators=61,criterion ='entropy')\n",
    "     model.fit(xtr, ytr)\n",
    "     pred_test = model.predict(xvl)\n",
    "     score = accuracy_score(yvl,pred_test)\n",
    "     print('accuracy_score',score)\n",
    "     i+=1"
   ]
  },
  {
   "cell_type": "code",
   "execution_count": 39,
   "metadata": {
    "collapsed": true
   },
   "outputs": [],
   "source": [
    "## The meam validation accuracy  turns out to be : 0.755746\n",
    "\n",
    "pred_test = model.predict(test)\n"
   ]
  },
  {
   "cell_type": "code",
   "execution_count": 40,
   "metadata": {
    "collapsed": true
   },
   "outputs": [],
   "source": [
    "pred=model.predict_proba(test)[:,1]"
   ]
  },
  {
   "cell_type": "code",
   "execution_count": 41,
   "metadata": {
    "collapsed": true
   },
   "outputs": [],
   "source": [
    "## converting the data set to test data set \n",
    "\n",
    "submission = pd.DataFrame({\n",
    "        \"Loan_ID\": Loan_ID,### from the assigned variable \n",
    "        \"Loan_Status\": pred_test\n",
    "    })\n",
    "\n",
    "##submission['Loan_Status']=pred_test            # filling Loan_Status with predictions\n",
    "###submission['Loan_ID']=test_original['Loan_ID'] # filling Loan_ID with test Loan_ID# replacing 0 and 1 with N and Y\n",
    "submission['Loan_Status'].replace(0, 'N',inplace=True)\n",
    "submission['Loan_Status'].replace(1, 'Y',inplace=True)\n",
    "\n",
    "# Converting submission file to .csv format\n",
    "pd.DataFrame(submission, columns=['Loan_ID','Loan_Status']).to_csv('Random Forest.csv')\n"
   ]
  },
  {
   "cell_type": "code",
   "execution_count": 42,
   "metadata": {},
   "outputs": [
    {
     "data": {
      "text/plain": [
       "<matplotlib.axes._subplots.AxesSubplot at 0x274d59b39e8>"
      ]
     },
     "execution_count": 42,
     "metadata": {},
     "output_type": "execute_result"
    },
    {
     "data": {
      "image/png": "[encoded data removed]",
      "text/plain": [
       "<matplotlib.figure.Figure at 0x274d5a0e0b8>"
      ]
     },
     "metadata": {},
     "output_type": "display_data"
    }
   ],
   "source": [
    "## let us find out the feature importance now\n",
    "\n",
    "importances=pd.Series(model.feature_importances_, index=X.columns)\n",
    "importances.plot(kind='barh', figsize=(12,8))"
   ]
  },
  {
   "cell_type": "code",
   "execution_count": null,
   "metadata": {
    "collapsed": true
   },
   "outputs": [],
   "source": [
    "# hence it is evident  Credt history and Total income  are  the most important feature \n",
    "# Least is Education "
   ]
  }
 ],
 "metadata": {
  "kernelspec": {
   "display_name": "Python 3",
   "language": "python",
   "name": "python3"
  },
  "language_info": {
   "codemirror_mode": {
    "name": "ipython",
    "version": 3
   },
   "file_extension": ".py",
   "mimetype": "text/x-python",
   "name": "python",
   "nbconvert_exporter": "python",
   "pygments_lexer": "ipython3",
   "version": "3.6.3"
  }
 },
 "nbformat": 4,
 "nbformat_minor": 2
}
