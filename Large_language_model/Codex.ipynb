{
 "cells": [
  {
   "attachments": {},
   "cell_type": "markdown",
   "metadata": {},
   "source": [
    "# CODEX"
   ]
  },
  {
   "cell_type": "code",
   "execution_count": 1,
   "metadata": {},
   "outputs": [],
   "source": [
    "import openai"
   ]
  },
  {
   "attachments": {},
   "cell_type": "markdown",
   "metadata": {},
   "source": [
    "### Set up OpenAI API"
   ]
  },
  {
   "cell_type": "code",
   "execution_count": null,
   "metadata": {},
   "outputs": [],
   "source": [
    "OPENAI_KEY = \"\"\n",
    "OPENAI_RESOURCE_ENDPOINT = \"\"\n"
   ]
  },
  {
   "cell_type": "code",
   "execution_count": 2,
   "metadata": {},
   "outputs": [],
   "source": [
    "openai.api_type = \"azure\"\n",
    "openai.api_base = \"\"\n",
    "openai.api_version = \"2023-03-15-preview\"\n",
    "openai.api_key = \"\"\n"
   ]
  },
  {
   "attachments": {},
   "cell_type": "markdown",
   "metadata": {},
   "source": [
    "### Codex Completion"
   ]
  },
  {
   "cell_type": "code",
   "execution_count": 3,
   "metadata": {},
   "outputs": [
    {
     "name": "stdout",
     "output_type": "stream",
     "text": [
      "python function to find the sum of two numbers \n",
      "def sum(a,b):\n",
      "    return a+b\n",
      "sum(5,10)<|im_sep|>\n"
     ]
    }
   ],
   "source": [
    "COMPLETIONS_MODEL = \"gpt35-turbo-test\"\n",
    "prompt = f\"\"\"python function to find the sum of two numbers\"\"\"\n",
    "\n",
    "response = openai.Completion.create(\n",
    "    prompt = prompt,\n",
    "    temperature = 1,\n",
    "    max_tokens = 300,\n",
    "    top_p = 0.5,\n",
    "    frequency_penalty = 0,\n",
    "    presence_penalty = 0,\n",
    "    engine = COMPLETIONS_MODEL\n",
    ")[\"choices\"][0][\"text\"]\n",
    "print(prompt, response)"
   ]
  },
  {
   "cell_type": "code",
   "execution_count": 4,
   "metadata": {},
   "outputs": [
    {
     "name": "stdout",
     "output_type": "stream",
     "text": [
      "python function to print the formula of linear regression \n",
      "def regression_formula(x, y):\n",
      "    slope, intercept, r_value, p_value, std_err = stats.linregress(x, y)\n",
      "    return \"y = \" + str(round(slope, 2)) + \"x + \" + str(round(intercept, 2))\n",
      "\n",
      "print(regression_formula(x, y))<|im_sep|>\n"
     ]
    }
   ],
   "source": [
    "prompt = f\"\"\"python function to print the formula of linear regression\"\"\"\n",
    "\n",
    "response = openai.Completion.create(\n",
    "    prompt = prompt,\n",
    "    temperature = 1,\n",
    "    max_tokens = 300,\n",
    "    top_p = 0.5,\n",
    "    frequency_penalty = 0,\n",
    "    presence_penalty = 0,\n",
    "    engine = COMPLETIONS_MODEL\n",
    ")[\"choices\"][0][\"text\"]\n",
    "print(prompt, response)"
   ]
  },
  {
   "cell_type": "code",
   "execution_count": 5,
   "metadata": {},
   "outputs": [
    {
     "name": "stdout",
     "output_type": "stream",
     "text": [
      "python function to find out the rank of a matrix \n",
      "def rankOfMatrix(mat):\n",
      "    R = len(mat)\n",
      "    C = len(mat[0])\n",
      "    rank = C\n",
      "    for row in range(0, rank, 1):\n",
      "        if mat[row][row] != 0:\n",
      "            for col in range(0, R, 1):\n",
      "                if col != row:\n",
      "                    mult = mat[col][row] / mat[row][row]\n",
      "                    for i in range(0, rank, 1):\n",
      "                        mat[col][i] -= mult * mat[row][i]\n",
      "        else:\n",
      "            reduce = True\n",
      "            for i in range(row + 1, R, 1):\n",
      "                if mat[i][row] != 0:\n",
      "                    mat[row], mat[i] = mat[i], mat[row]\n",
      "                    reduce = False\n",
      "                    break\n",
      "            if reduce:\n",
      "                rank -= 1\n",
      "                for i in range(0, R, 1):\n",
      "                    mat[i][row] = mat[i][rank]\n",
      "            row -= 1\n",
      "    return rank\n",
      "\n",
      "#testing the function\n",
      "mat = [[10, 20, 10], [-20, -30, 10], [30, 50, 0]]\n",
      "print(rankOfMatrix(mat))<|im_sep|>\n"
     ]
    }
   ],
   "source": [
    "prompt = f\"\"\"python function to find out the rank of a matrix\"\"\"\n",
    "\n",
    "response = openai.Completion.create(\n",
    "    prompt = prompt,\n",
    "    temperature = 1,\n",
    "    max_tokens = 300,\n",
    "    top_p = 0.5,\n",
    "    frequency_penalty = 0,\n",
    "    presence_penalty = 0,\n",
    "    engine = COMPLETIONS_MODEL\n",
    ")[\"choices\"][0][\"text\"]\n",
    "print(prompt, response)"
   ]
  },
  {
   "cell_type": "code",
   "execution_count": null,
   "metadata": {},
   "outputs": [],
   "source": []
  }
 ],
 "metadata": {
  "kernelspec": {
   "display_name": "Python 3",
   "language": "python",
   "name": "python3"
  },
  "language_info": {
   "codemirror_mode": {
    "name": "ipython",
    "version": 3
   },
   "file_extension": ".py",
   "mimetype": "text/x-python",
   "name": "python",
   "nbconvert_exporter": "python",
   "pygments_lexer": "ipython3",
   "version": "3.10.9"
  },
  "orig_nbformat": 4,
  "vscode": {
   "interpreter": {
    "hash": "11938c6bc6919ae2720b4d5011047913343b08a43b18698fd82dedb0d4417594"
   }
  }
 },
 "nbformat": 4,
 "nbformat_minor": 2
}
