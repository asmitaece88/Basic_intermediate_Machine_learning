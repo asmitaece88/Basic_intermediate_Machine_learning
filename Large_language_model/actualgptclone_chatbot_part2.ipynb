{
 "cells": [
  {
   "cell_type": "code",
   "execution_count": 1,
   "metadata": {},
   "outputs": [
    {
     "name": "stdout",
     "output_type": "stream",
     "text": [
      "{\"resposta\":\"\\n\\nCarl Sagan was an American astronomer, astrophysicist, cosmologist, and author. He is best known for his popular science books and for hosting the PBS television series Cosmos: A Personal Voyage, which he narrated and co-wrote. Sagan's work was concerned mainly with researching and publicizing the field of exobiology and presenting scientific topics to the public. He also advocated nuclear disarmament and was an avid promoter of scientific skepticism.\"}\n",
      "\n"
     ]
    }
   ],
   "source": [
    "import requests\n",
    "x = requests.get(\"http://127.0.0.1:5000/chatbot?pergunta=who was carl sagan?\")\n",
    "print(x.text)"
   ]
  },
  {
   "cell_type": "code",
   "execution_count": 2,
   "metadata": {},
   "outputs": [
    {
     "name": "stdout",
     "output_type": "stream",
     "text": [
      "{\"resposta\":\"\\n\\nA data scientist is a professional who is responsible for analyzing and interpreting data to derive insights and solve problems. They work with data to answer questions, build predictive models, and uncover trends. Data scientists use a variety of tools and programming languages to find answers and develop meaningful insights, and often collaborate with other teams to ensure that data is processed correctly and used properly.\"}\n",
      "\n"
     ]
    }
   ],
   "source": [
    "import requests\n",
    "x = requests.get(\"http://127.0.0.1:5000/chatbot?pergunta=Whos is a data scientist?\")\n",
    "print(x.text)"
   ]
  },
  {
   "cell_type": "code",
   "execution_count": 11,
   "metadata": {},
   "outputs": [
    {
     "ename": "UnidentifiedImageError",
     "evalue": "cannot identify image file <_io.BytesIO object at 0x0000016F2EE75080>",
     "output_type": "error",
     "traceback": [
      "\u001b[1;31m---------------------------------------------------------------------------\u001b[0m",
      "\u001b[1;31mUnidentifiedImageError\u001b[0m                    Traceback (most recent call last)",
      "Cell \u001b[1;32mIn[11], line 7\u001b[0m\n\u001b[0;32m      4\u001b[0m \u001b[39mfrom\u001b[39;00m \u001b[39mPIL\u001b[39;00m \u001b[39mimport\u001b[39;00m Image\n\u001b[0;32m      6\u001b[0m x \u001b[39m=\u001b[39m requests\u001b[39m.\u001b[39mget(\u001b[39m\"\u001b[39m\u001b[39mhttp://127.0.0.1:5000/chatbot?pergunta=img:Draw the picture of a man wearing hat\u001b[39m\u001b[39m\"\u001b[39m)\n\u001b[1;32m----> 7\u001b[0m Image\u001b[39m.\u001b[39;49mopen(BytesIO(x\u001b[39m.\u001b[39;49mcontent))\n",
      "File \u001b[1;32mc:\\Users\\09029O744\\Lib\\site-packages\\PIL\\Image.py:3298\u001b[0m, in \u001b[0;36mopen\u001b[1;34m(fp, mode, formats)\u001b[0m\n\u001b[0;32m   3296\u001b[0m     warnings\u001b[39m.\u001b[39mwarn(message)\n\u001b[0;32m   3297\u001b[0m msg \u001b[39m=\u001b[39m \u001b[39m\"\u001b[39m\u001b[39mcannot identify image file \u001b[39m\u001b[39m%r\u001b[39;00m\u001b[39m\"\u001b[39m \u001b[39m%\u001b[39m (filename \u001b[39mif\u001b[39;00m filename \u001b[39melse\u001b[39;00m fp)\n\u001b[1;32m-> 3298\u001b[0m \u001b[39mraise\u001b[39;00m UnidentifiedImageError(msg)\n",
      "\u001b[1;31mUnidentifiedImageError\u001b[0m: cannot identify image file <_io.BytesIO object at 0x0000016F2EE75080>"
     ]
    }
   ],
   "source": [
    "import requests\n",
    "\n",
    "\n",
    "x = requests.get(\"http://127.0.0.1:5000/chatbot?pergunta=img:Draw the picture of a man wearing hat\")\n",
    "x.text"
   ]
  },
  {
   "cell_type": "code",
   "execution_count": null,
   "metadata": {},
   "outputs": [],
   "source": []
  }
 ],
 "metadata": {
  "kernelspec": {
   "display_name": "Python 3",
   "language": "python",
   "name": "python3"
  },
  "language_info": {
   "codemirror_mode": {
    "name": "ipython",
    "version": 3
   },
   "file_extension": ".py",
   "mimetype": "text/x-python",
   "name": "python",
   "nbconvert_exporter": "python",
   "pygments_lexer": "ipython3",
   "version": "3.11.1"
  },
  "orig_nbformat": 4
 },
 "nbformat": 4,
 "nbformat_minor": 2
}
