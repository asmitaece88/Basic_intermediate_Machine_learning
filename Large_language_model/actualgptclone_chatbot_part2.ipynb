{
 "cells": [
  {
   "cell_type": "code",
   "execution_count": 1,
   "metadata": {},
   "outputs": [
    {
     "name": "stdout",
     "output_type": "stream",
     "text": [
      "{\"resposta\":\"\\n\\nCarl Sagan was an American astronomer, astrophysicist, cosmologist, and author. He is best known for his popular science books and for hosting the PBS television series Cosmos: A Personal Voyage, which he narrated and co-wrote. Sagan's work was concerned mainly with researching and publicizing the field of exobiology and presenting scientific topics to the public. He also advocated nuclear disarmament and was an avid promoter of scientific skepticism.\"}\n",
      "\n"
     ]
    }
   ],
   "source": [
    "import requests\n",
    "x = requests.get(\"http://127.0.0.1:5000/chatbot?pergunta=who was carl sagan?\")\n",
    "print(x.text)"
   ]
  },
  {
   "cell_type": "code",
   "execution_count": 2,
   "metadata": {},
   "outputs": [
    {
     "name": "stdout",
     "output_type": "stream",
     "text": [
      "{\"resposta\":\"\\n\\nA data scientist is a professional who is responsible for analyzing and interpreting data to derive insights and solve problems. They work with data to answer questions, build predictive models, and uncover trends. Data scientists use a variety of tools and programming languages to find answers and develop meaningful insights, and often collaborate with other teams to ensure that data is processed correctly and used properly.\"}\n",
      "\n"
     ]
    }
   ],
   "source": [
    "import requests\n",
    "x = requests.get(\"http://127.0.0.1:5000/chatbot?pergunta=Whos is a data scientist?\")\n",
    "print(x.text)"
   ]
  },
  {
   "cell_type": "code",
   "execution_count": 12,
   "metadata": {},
   "outputs": [
    {
     "data": {
      "text/plain": [
       "'{\"resposta\":\"\",\"url_imagem\":\"https://oaidalleapiprodscus.blob.core.windows.net/private/org-c1aSH31eGmLAM2yc6cBDs2zw/user-2RhOjiiC1CAg0SO4LMWMir5A/img-CtuploYniU57Z1mpKltZO1bJ.png?st=2023-06-24T16%3A31%3A11Z&se=2023-06-24T18%3A31%3A11Z&sp=r&sv=2021-08-06&sr=b&rscd=inline&rsct=image/png&skoid=6aaadede-4fb3-4698-a8f6-684d7786b067&sktid=a48cca56-e6da-484e-a814-9c849652bcb3&skt=2023-06-24T01%3A52%3A50Z&ske=2023-06-25T01%3A52%3A50Z&sks=b&skv=2021-08-06&sig=aEkjs5ttf/FM%2B%2Bfx0Afs7IWTWVNtxVmQFHhp%2B7n578k%3D\"}\\n'"
      ]
     },
     "execution_count": 12,
     "metadata": {},
     "output_type": "execute_result"
    }
   ],
   "source": [
    "import requests\n",
    "\n",
    "\n",
    "x = requests.get(\"http://127.0.0.1:5000/chatbot?pergunta=img:Draw the picture of a man wearing hat\")\n",
    "x.text"
   ]
  },
  {
   "cell_type": "code",
   "execution_count": null,
   "metadata": {},
   "outputs": [],
   "source": []
  }
 ],
 "metadata": {
  "kernelspec": {
   "display_name": "Python 3",
   "language": "python",
   "name": "python3"
  },
  "language_info": {
   "codemirror_mode": {
    "name": "ipython",
    "version": 3
   },
   "file_extension": ".py",
   "mimetype": "text/x-python",
   "name": "python",
   "nbconvert_exporter": "python",
   "pygments_lexer": "ipython3",
   "version": "3.11.1"
  },
  "orig_nbformat": 4
 },
 "nbformat": 4,
 "nbformat_minor": 2
}
