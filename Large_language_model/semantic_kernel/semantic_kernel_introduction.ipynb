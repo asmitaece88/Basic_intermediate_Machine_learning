{
 "cells": [
  {
   "cell_type": "code",
   "execution_count": 6,
   "metadata": {},
   "outputs": [],
   "source": [
    "#!pip install semantic-kernel==0.3.10.dev"
   ]
  },
  {
   "cell_type": "code",
   "execution_count": 7,
   "metadata": {},
   "outputs": [],
   "source": [
    "# reference link :\n",
    "#https://towardsdatascience.com/a-pythonistas-intro-to-semantic-kernel-af5a1a39564d\n",
    "#https://gist.github.com/Chris-hughes10/6dacd205f1da3cc3aec4fc45e57fb0b6\n",
    "#https://learn.deeplearning.ai/microsoft-semantic-kernel/lesson/2/semantic-kernel-is-like-your-ai-cooking-kitchen\n",
    "# The packages used were:\n",
    "\n",
    "# dependencies:\n",
    "#   - python=3.10.1.0\n",
    "#   - pip:\n",
    "#     - semantic-kernel==0.3.10.dev\n",
    "#     - timm==0.9.5\n",
    "#     - transformers==4.32.0\n",
    "#     - sentence-transformers==2.2.2\n",
    "#     - curated-transformers==1.1.0"
   ]
  },
  {
   "cell_type": "markdown",
   "metadata": {},
   "source": [
    "<!-- One of the key concepts in Semantic Kernel is the kernel itself, which is the main object that we will use to orchestrate our LLM based workflows. Initially, the kernel has very limited functionality; all of its features are largely powered by external components that we will connect to. The kernel then acts as a processing engine that fulfils a request by invoking appropriate components to complete the given task. -->"
   ]
  },
  {
   "cell_type": "markdown",
   "metadata": {},
   "source": [
    "One of the key concepts in Semantic Kernel is the kernel itself, which is the main object that we will use to orchestrate our LLM based workflows. Initially, the kernel has very limited functionality; all of its features are largely powered by external components that we will connect to. The kernel then acts as a processing engine that fulfils a request by invoking appropriate components to complete the given task."
   ]
  },
  {
   "cell_type": "code",
   "execution_count": 1,
   "metadata": {},
   "outputs": [],
   "source": [
    "from semantic_kernel.connectors.ai.open_ai import AzureChatCompletion, OpenAIChatCompletion\n",
    "from IPython.display import display, Markdown"
   ]
  },
  {
   "cell_type": "code",
   "execution_count": 2,
   "metadata": {},
   "outputs": [],
   "source": [
    "## initialize the kernel \n",
    "import semantic_kernel as sk\n",
    "import os\n",
    "from dotenv import load_dotenv, find_dotenv\n",
    "load_dotenv(find_dotenv(), override=True)\n",
    "\n",
    "kernel = sk.Kernel()"
   ]
  },
  {
   "cell_type": "code",
   "execution_count": 3,
   "metadata": {},
   "outputs": [],
   "source": [
    "from semantic_kernel.connectors.ai.open_ai import AzureChatCompletion, OpenAIChatCompletion"
   ]
  },
  {
   "cell_type": "code",
   "execution_count": 4,
   "metadata": {},
   "outputs": [
    {
     "name": "stdout",
     "output_type": "stream",
     "text": [
      "You made a kernel!\n"
     ]
    }
   ],
   "source": [
    "## if we  want to avoid azure open ai semnatic kernel turn the below flag as false \n",
    "## since we are testing with openainand not azure openai , we are \n",
    "useAzureOpenAI = False\n",
    "if useAzureOpenAI:\n",
    "    deployment, api_key, endpoint = sk.azure_openai_settings_from_dot_env()\n",
    "    kernel.add_text_completion_service(\"azureopenai\", AzureChatCompletion(deployment, endpoint, api_key))\n",
    "else:\n",
    "    api_key, org_id = sk.openai_settings_from_dot_env()\n",
    "    kernel.add_text_completion_service(\"openai\", OpenAIChatCompletion(\"gpt-3.5-turbo\", api_key, org_id))\n",
    "\n",
    "print(\"You made a kernel!\")"
   ]
  },
  {
   "cell_type": "markdown",
   "metadata": {},
   "source": [
    "The various services are :\n",
    "1.text completion service: used to generate natural language\n",
    "2.chat service: used to create a conversational experience\n",
    "3.text embedding generation service: used to encode natural language into embeddings\n",
    "\n",
    "Each type of service can support multiple models from different sources at the same time, making it possible to switch between different models, depending on the task and the preference of the user. If no specific service or model is specified, the kernel will default to the first service and model that was defined"
   ]
  },
  {
   "cell_type": "code",
   "execution_count": 5,
   "metadata": {},
   "outputs": [
    {
     "name": "stdout",
     "output_type": "stream",
     "text": [
      "Text completion services: ['openai']\n",
      "Chat completion services: []\n",
      "Text embedding generation services: []\n"
     ]
    }
   ],
   "source": [
    "##api_key,org_id\n",
    "#We can see all of the currently registered services using the following methods:\n",
    "def print_ai_services(kernel):\n",
    "    print(f\"Text completion services: {kernel.all_text_completion_services()}\")\n",
    "    print(f\"Chat completion services: {kernel.all_chat_services()}\")\n",
    "    print(\n",
    "        f\"Text embedding generation services: {kernel.all_text_embedding_generation_services()}\"\n",
    "    )\n",
    "print_ai_services(kernel)   ## as of now , no services  "
   ]
  },
  {
   "cell_type": "code",
   "execution_count": 6,
   "metadata": {},
   "outputs": [],
   "source": [
    "# ## add the chat completion messages for hugging face \n",
    "## commented  for now , as of now  we will etst with openai only \n",
    "# import semantic_kernel as sk\n",
    "# from semantic_kernel.connectors.ai.hugging_face import HuggingFaceTextCompletion\n",
    "\n",
    "# kernel = sk.Kernel()\n",
    "\n",
    "# kernel.add_text_completion_service(\"huggingface\", HuggingFaceTextCompletion(\"gpt2\", task=\"text-generation\"))\n",
    "\n",
    "# print(\"You made an open source kernel using an open source AI model!\")"
   ]
  },
  {
   "cell_type": "markdown",
   "metadata": {},
   "source": [
    "## hence a kernel is just like  kitchen , which does not do anything  unless we start to cook with it \n",
    "## let us now proceed to cook with it "
   ]
  },
  {
   "cell_type": "code",
   "execution_count": 6,
   "metadata": {},
   "outputs": [],
   "source": [
    "#!pip install xformers"
   ]
  },
  {
   "cell_type": "code",
   "execution_count": 7,
   "metadata": {},
   "outputs": [
    {
     "name": "stdout",
     "output_type": "stream",
     "text": [
      "A semantic function for summarization has been registered.\n"
     ]
    }
   ],
   "source": [
    "## we will consider the semantic functions for openai for this poc \n",
    "##Let's make a semantic function\n",
    "\n",
    "sk_prompt = \"\"\"\n",
    "{{$input}}\n",
    "\n",
    "Summarize the content above in less than 140 characters.\n",
    "\"\"\"\n",
    "summary_function = kernel.create_semantic_function(prompt_template = sk_prompt,\n",
    "                                                    description=\"Summarizes the input to length of an old tweet.\",\n",
    "                                                    max_tokens=200,\n",
    "                                                    temperature=0.0,\n",
    "                                                    top_p=0.5)       \n",
    "print(\"A semantic function for summarization has been registered.\");"
   ]
  },
  {
   "cell_type": "code",
   "execution_count": 8,
   "metadata": {},
   "outputs": [],
   "source": [
    "sk_input = \"\"\"\n",
    "Let me illustrate an example. Many weekends, I drive a few minutes from my house to a local pizza store to buy \n",
    "a slice of Hawaiian pizza from the gentleman that owns this pizza store. And his pizza is great, but he always \n",
    "has a lot of cold pizzas sitting around, and every weekend some different flavor of pizza is out of stock. \n",
    "But when I watch him operate his store, I get excited, because by selling pizza, he is generating data. \n",
    "And this is data that he can take advantage of if he had access to AI.\n",
    "\n",
    "AI systems are good at spotting patterns when given access to the right data, and perhaps an AI system could spot \n",
    "if Mediterranean pizzas sell really well on a Friday night, maybe it could suggest to him to make more of it on a \n",
    "Friday afternoon. Now you might say to me, \"Hey, Andrew, this is a small pizza store. What's the big deal?\" And I \n",
    "say, to the gentleman that owns this pizza store, something that could help him improve his revenues by a few \n",
    "thousand dollars a year, that will be a huge deal to him.\n",
    "\"\"\";\n",
    "# Text source: https://www.ted.com/talks/andrew_ng_how_ai_could_empower_any_business/transcript\n",
    "\n"
   ]
  },
  {
   "cell_type": "code",
   "execution_count": 9,
   "metadata": {},
   "outputs": [
    {
     "data": {
      "text/markdown": [
       "###* AI can help a small pizza store owner increase revenue by analyzing data and suggesting improvements based on customer patterns."
      ],
      "text/plain": [
       "<IPython.core.display.Markdown object>"
      ]
     },
     "metadata": {},
     "output_type": "display_data"
    }
   ],
   "source": [
    "##run_async method in Python that automatically calls a series of functions sequentially, all with the same context object.\n",
    "summary_result = await kernel.run_async(summary_function, input_str=sk_input)\n",
    "\n",
    "display(Markdown(\"###* \" + str(summary_result)))"
   ]
  },
  {
   "cell_type": "code",
   "execution_count": 20,
   "metadata": {},
   "outputs": [],
   "source": [
    "# ## had we used a hugging face completion  , then temperature would have been strictly postive > 0.0 , tat is 0.1\n",
    "# # testing another text summarization \n",
    "# sk_input=\"Hannah Smith is a Dynamic data scientist, having hands on experience about complex Demand forecasting models , Image recognition , Regression , classification models as well as worked on text clustering , sentiment analysis and topic modelling.Worked on building demo recommendation engines , for proof of concept. Worked on telecom churn modelling . Have an explicit knowledge about restaurant business automation using machine learning.Worked in Cplex optimization.Have knowledge of deployment activities in Docker and Kubbernetes \\\n",
    "# Languages known are python , R , SQL, PLSQL,Unix.\\\n",
    "# Worked as a data engineer in tools like Hive , Mapreduce and spark.\\\n",
    "# Worked in proof-of-concepts related to retail client involving pyspark.\\\n",
    "# Worked on Shipping order management data processing and fetching the data through Kafka producer and mapping the same through Kafka consumer in spark streaming , displaying the grouped data through Socket IO server in a real time dashboard.\\\n",
    "# Have fair knowledge about Watson discovery , Watson assistant and Watson knowledge Studio.\\\n",
    "# Having good knowledge of visualization on Splunk , fetching data from splunk heavy forwarder as well as splunk db connect .\\\n",
    "# She is a technolgoy geek and is  enthusiastic  about quantum computing.She wants to know whetehr she will ever got to work in a quantum computing project?\""
   ]
  },
  {
   "cell_type": "code",
   "execution_count": 21,
   "metadata": {},
   "outputs": [],
   "source": [
    "# #run_async method in Python that automatically calls a series of functions sequentially, all with the same context object.\n",
    "# summary_result = await kernel.run_async(summary_function, input_str=sk_input)"
   ]
  },
  {
   "cell_type": "code",
   "execution_count": 10,
   "metadata": {},
   "outputs": [],
   "source": [
    "## we can also call a proedure without caling the  kernel \n",
    "summary_result=summary_function(sk_input)\n"
   ]
  },
  {
   "cell_type": "code",
   "execution_count": 12,
   "metadata": {},
   "outputs": [
    {
     "data": {
      "text/markdown": [
       "### example 1  another way \n",
       " AI can help a small pizza store owner increase revenue by analyzing data and suggesting improvements based on customer patterns."
      ],
      "text/plain": [
       "<IPython.core.display.Markdown object>"
      ]
     },
     "metadata": {},
     "output_type": "display_data"
    }
   ],
   "source": [
    "display(Markdown(\"### example 1  another way \\n \" + str(summary_result)))"
   ]
  },
  {
   "cell_type": "markdown",
   "metadata": {},
   "source": [
    "# native functions: are not semantic functions , and they require lot of syntactic   trainings"
   ]
  },
  {
   "cell_type": "code",
   "execution_count": 13,
   "metadata": {},
   "outputs": [],
   "source": [
    "from semantic_kernel.skill_definition import (\n",
    "    sk_function,\n",
    "    sk_function_context_parameter,\n",
    ")"
   ]
  },
  {
   "cell_type": "code",
   "execution_count": 14,
   "metadata": {},
   "outputs": [],
   "source": [
    "class ExoticLanguagePlugin:\n",
    "    def word_to_pig_latin(self, word):\n",
    "        vowels = \"AEIOUaeiou\"\n",
    "        if word[0] in vowels:\n",
    "            return word + \"way\"\n",
    "        for idx, letter in enumerate(word):\n",
    "            if letter in vowels:\n",
    "                break\n",
    "        else:\n",
    "            return word + \"ay\"\n",
    "        return word[idx:] + word[:idx] + \"ay\"\n",
    "    @sk_function(\n",
    "        description=\"Takes text and converts it to pig latin\",\n",
    "        name=\"pig_latin\",\n",
    "        input_description=\"The text to convert to pig latin\",\n",
    "    )\n",
    "    def pig_latin(self, sentence:str) -> str:\n",
    "        words = sentence.split()\n",
    "        pig_latin_words = []\n",
    "        for word in words:\n",
    "            pig_latin_words.append(self.word_to_pig_latin(word))\n",
    "        return ' '.join(pig_latin_words)"
   ]
  },
  {
   "cell_type": "code",
   "execution_count": 16,
   "metadata": {},
   "outputs": [
    {
     "name": "stdout",
     "output_type": "stream",
     "text": [
      "creating a  pig_latin function , by calling exotic_language_plugin function or skill\n"
     ]
    }
   ],
   "source": [
    "exotic_language_plugin = kernel.import_skill(ExoticLanguagePlugin(), skill_name=\"exotic_language_plugin\")\n",
    "pig_latin_function = exotic_language_plugin[\"pig_latin\"]\n",
    "\n",
    "print(\"creating a  pig_latin function , by calling exotic_language_plugin function or skill\")\n"
   ]
  },
  {
   "cell_type": "code",
   "execution_count": 17,
   "metadata": {},
   "outputs": [
    {
     "name": "stdout",
     "output_type": "stream",
     "text": [
      "\n",
      "Let me illustrate an example. Many weekends, I drive a few minutes from my house to a local pizza store to buy \n",
      "a slice of Hawaiian pizza from the gentleman that owns this pizza store. And his pizza is great, but he always \n",
      "has a lot of cold pizzas sitting around, and every weekend some different flavor of pizza is out of stock. \n",
      "But when I watch him operate his store, I get excited, because by selling pizza, he is generating data. \n",
      "And this is data that he can take advantage of if he had access to AI.\n",
      "\n",
      "AI systems are good at spotting patterns when given access to the right data, and perhaps an AI system could spot \n",
      "if Mediterranean pizzas sell really well on a Friday night, maybe it could suggest to him to make more of it on a \n",
      "Friday afternoon. Now you might say to me, \"Hey, Andrew, this is a small pizza store. What's the big deal?\" And I \n",
      "say, to the gentleman that owns this pizza store, something that could help him improve his revenues by a few \n",
      "thousand dollars a year, that will be a huge deal to him.\n",
      " \n",
      " <semantic_kernel.orchestration.sk_function.SKFunction object at 0x000001E40B0A30D0>\n"
     ]
    }
   ],
   "source": [
    "# lets us  once again find out the sk_input , summary_function\n",
    "print(sk_input ,'\\n',summary_function)"
   ]
  },
  {
   "cell_type": "code",
   "execution_count": 18,
   "metadata": {},
   "outputs": [
    {
     "data": {
      "text/markdown": [
       "### AIway ancay elphay away allsmay izzapay orestay ownerway increaseway evenueray byay analyzingway ataday andway uggestingsay improvementsway asedbay onway ustomercay atterns.pay"
      ],
      "text/plain": [
       "<IPython.core.display.Markdown object>"
      ]
     },
     "metadata": {},
     "output_type": "display_data"
    }
   ],
   "source": [
    "final_result = await kernel.run_async(summary_function, pig_latin_function, input_str=sk_input) \n",
    "## here summary_function is a semantic function and piGg_latin_function is a native function\n",
    "\n",
    "display(Markdown(\"### \" + str(final_result)))"
   ]
  },
  {
   "cell_type": "code",
   "execution_count": 20,
   "metadata": {},
   "outputs": [
    {
     "data": {
      "text/plain": [
       "'AI can help a small pizza store owner increase revenue by analyzing data and suggesting improvements based on customer patterns.'"
      ]
     },
     "execution_count": 20,
     "metadata": {},
     "output_type": "execute_result"
    }
   ],
   "source": [
    "str(summary_result)"
   ]
  },
  {
   "cell_type": "markdown",
   "metadata": {},
   "source": [
    "##  now for swot ( strength , weakness , oppurtunity , threats ) we need to check a list of questions as below \n",
    "# Strengths\n",
    "What unique recipes or ingredients does the pizza shop use?\n",
    "What are the skills and experience of the staff?\n",
    "Does the pizza shop have a strong reputation in the local area?\n",
    "Are there any unique features of the shop or its location that attract customers?\\n\n",
    "# Weaknesses\n",
    "What are the operational challenges of the pizza shop? (e.g., slow service, high staff turnover)\n",
    "Are there financial constraints that limit growth or improvements?\n",
    "Are there any gaps in the product offering?\n",
    "Are there customer complaints or negative reviews that need to be addressed?\\n\n",
    "# Opportunities\n",
    "Is there potential for new products or services (e.g., catering, delivery)?\n",
    "Are there under-served customer segments or market areas?\n",
    "Can new technologies or systems enhance the business operations?\n",
    "Are there partnerships or local events that can be leveraged for marketing?\\n\n",
    "# Threats\n",
    "Who are the major competitors and what are they offering?\n",
    "Are there potential negative impacts due to changes in the local area (e.g., construction, closure of nearby businesses)?\n",
    "Are there economic or industry trends that could impact the business negatively (e.g., increased ingredient costs)?\n",
    "Is there any risk due to changes in regulations or legislation (e.g., health and safety, employment)?"
   ]
  },
  {
   "cell_type": "markdown",
   "metadata": {},
   "source": [
    "# a snapshot of swot answers\n",
    "### 🔖 Opportunities and Threats\n",
    "\n",
    "| **Opportunities**                                 | **Threats**                                                  |\n",
    "| --- | ---|\n",
    "| Untapped catering potential                       | Rising competition from cheaper pizza businesses nearby |\n",
    "| Growing local tech startup community              | There's nearby street construction that will impact foot traffic |\n",
    "| Unexplored online presence and order capabilities | Rising cost of cheese                                        |\n",
    "| Upcoming annual food fair                         | No immediate local regulatory changes but it's election season |"
   ]
  },
  {
   "cell_type": "code",
   "execution_count": 23,
   "metadata": {},
   "outputs": [
    {
     "name": "stdout",
     "output_type": "stream",
     "text": [
      "Made another kernel!\n"
     ]
    }
   ],
   "source": [
    "## using LLM and semantic kernel , we can solve a lot of business problems \n",
    "import semantic_kernel as sk\n",
    "from semantic_kernel.connectors.ai.open_ai import AzureChatCompletion, OpenAIChatCompletion\n",
    "from IPython.display import display, Markdown\n",
    "\n",
    "kernel = sk.Kernel()\n",
    "\n",
    "useAzureOpenAI = False\n",
    "\n",
    "if useAzureOpenAI:\n",
    "    deployment, api_key, endpoint = sk.azure_openai_settings_from_dot_env()\n",
    "    kernel.add_text_completion_service(\"azureopenai\", AzureChatCompletion(deployment, endpoint, api_key))\n",
    "else:\n",
    "    api_key, org_id = sk.openai_settings_from_dot_env()\n",
    "    kernel.add_text_completion_service(\"openai\", OpenAIChatCompletion(\"gpt-3.5-turbo-0301\", api_key, org_id))\n",
    "print(\"Made another kernel!\")"
   ]
  },
  {
   "cell_type": "markdown",
   "metadata": {},
   "source": [
    "## jot down the SWOT questions"
   ]
  },
  {
   "cell_type": "code",
   "execution_count": 24,
   "metadata": {},
   "outputs": [],
   "source": [
    "swot_interview= \"\"\"\n",
    "1. **Strengths**\n",
    "    - What unique recipes or ingredients does the pizza shop use?\n",
    "    - What are the skills and experience of the staff?\n",
    "    - Does the pizza shop have a strong reputation in the local area?\n",
    "    - Are there any unique features of the shop or its location that attract customers?\n",
    "2. **Weaknesses**\n",
    "    - What are the operational challenges of the pizza shop? (e.g., slow service, high staff turnover)\n",
    "    - Are there financial constraints that limit growth or improvements?\n",
    "    - Are there any gaps in the product offering?\n",
    "    - Are there customer complaints or negative reviews that need to be addressed?\n",
    "3. **Opportunities**\n",
    "    - Is there potential for new products or services (e.g., catering, delivery)?\n",
    "    - Are there under-served customer segments or market areas?\n",
    "    - Can new technologies or systems enhance the business operations?\n",
    "    - Are there partnerships or local events that can be leveraged for marketing?\n",
    "4. **Threats**\n",
    "    - Who are the major competitors and what are they offering?\n",
    "    - Are there potential negative impacts due to changes in the local area (e.g., construction, closure of nearby businesses)?\n",
    "    - Are there economic or industry trends that could impact the business negatively (e.g., increased ingredient costs)?\n",
    "    - Is there any risk due to changes in regulations or legislation (e.g., health and safety, employment)?\"\"\"\n"
   ]
  },
  {
   "cell_type": "markdown",
   "metadata": {},
   "source": [
    "## now make a semantic function that converts the analysis  to business  domain of {{$domain}}\n",
    "## here domain is a different business domain "
   ]
  },
  {
   "cell_type": "code",
   "execution_count": 26,
   "metadata": {},
   "outputs": [],
   "source": [
    "sk_prompt = \"\"\"\n",
    "{{$input}}\n",
    "\n",
    "Convert the analysis provided above to the business domain of {{$domain}}.\n",
    "\"\"\"\n",
    "shift_domain_function = kernel.create_semantic_function(prompt_template=sk_prompt,\n",
    "                                                    description=\"Translate an idea to another domain.\",\n",
    "                                                    max_tokens=1000,\n",
    "                                                    temperature=0.1,\n",
    "                                                    top_p=0.5)\n",
    "                   "
   ]
  },
  {
   "cell_type": "code",
   "execution_count": 27,
   "metadata": {},
   "outputs": [],
   "source": [
    "my_context = kernel.create_new_context()\n",
    "\n",
    "my_context['input'] = swot_interview\n",
    "my_context['domain'] = \"construction management\"\n",
    "\n"
   ]
  },
  {
   "cell_type": "code",
   "execution_count": 28,
   "metadata": {},
   "outputs": [
    {
     "data": {
      "text/plain": [
       "SKContext(memory=<semantic_kernel.memory.null_memory.NullMemory object at 0x000001E40B4CA620>, variables=ContextVariables(variables={'input': '\\n1. **Strengths**\\n    - What unique recipes or ingredients does the pizza shop use?\\n    - What are the skills and experience of the staff?\\n    - Does the pizza shop have a strong reputation in the local area?\\n    - Are there any unique features of the shop or its location that attract customers?\\n2. **Weaknesses**\\n    - What are the operational challenges of the pizza shop? (e.g., slow service, high staff turnover)\\n    - Are there financial constraints that limit growth or improvements?\\n    - Are there any gaps in the product offering?\\n    - Are there customer complaints or negative reviews that need to be addressed?\\n3. **Opportunities**\\n    - Is there potential for new products or services (e.g., catering, delivery)?\\n    - Are there under-served customer segments or market areas?\\n    - Can new technologies or systems enhance the business operations?\\n    - Are there partnerships or local events that can be leveraged for marketing?\\n4. **Threats**\\n    - Who are the major competitors and what are they offering?\\n    - Are there potential negative impacts due to changes in the local area (e.g., construction, closure of nearby businesses)?\\n    - Are there economic or industry trends that could impact the business negatively (e.g., increased ingredient costs)?\\n    - Is there any risk due to changes in regulations or legislation (e.g., health and safety, employment)?', 'domain': 'construction management'}), skill_collection=ReadOnlySkillCollection(data={'_global_functions_': {'f_5ed024cf_f468_479a_ad4a_0b501915cb57': <semantic_kernel.orchestration.sk_function.SKFunction object at 0x000001E40B29C490>}}))"
      ]
     },
     "execution_count": 28,
     "metadata": {},
     "output_type": "execute_result"
    }
   ],
   "source": [
    "my_context"
   ]
  },
  {
   "cell_type": "code",
   "execution_count": 29,
   "metadata": {},
   "outputs": [
    {
     "data": {
      "text/markdown": [
       "### ✨ Shift the SWOT interview questions to the world of construction management\n",
       "1. **Strengths**\n",
       "    - What unique construction methods or materials does the company use?\n",
       "    - What are the skills and experience of the construction team?\n",
       "    - Does the company have a strong reputation in the local area?\n",
       "    - Are there any unique features of the company or its projects that attract clients?\n",
       "2. **Weaknesses**\n",
       "    - What are the operational challenges of the company? (e.g., delays, budget overruns)\n",
       "    - Are there financial constraints that limit growth or improvements?\n",
       "    - Are there any gaps in the services offered?\n",
       "    - Are there client complaints or negative reviews that need to be addressed?\n",
       "3. **Opportunities**\n",
       "    - Is there potential for new services or project types (e.g., green building, renovation)?\n",
       "    - Are there under-served client segments or market areas?\n",
       "    - Can new technologies or systems enhance the construction process?\n",
       "    - Are there partnerships or local events that can be leveraged for marketing?\n",
       "4. **Threats**\n",
       "    - Who are the major competitors and what are they offering?\n",
       "    - Are there potential negative impacts due to changes in the local area (e.g., zoning regulations, environmental concerns)?\n",
       "    - Are there economic or industry trends that could impact the business negatively (e.g., increased material costs)?\n",
       "    - Is there any risk due to changes in regulations or legislation (e.g., safety standards, building codes)?"
      ],
      "text/plain": [
       "<IPython.core.display.Markdown object>"
      ]
     },
     "metadata": {},
     "output_type": "display_data"
    }
   ],
   "source": [
    "result = await kernel.run_async(shift_domain_function, input_context=my_context)\n",
    "\n",
    "display(Markdown(f\"### ✨ Shift the SWOT interview questions to the world of {my_context['domain']}\\n\"+ str(result)))\n"
   ]
  },
  {
   "cell_type": "code",
   "execution_count": 30,
   "metadata": {},
   "outputs": [],
   "source": [
    "sk_prompt = \"\"\"\n",
    "{{$input}}\n",
    "\n",
    "Rewrite the text above to be understood by a {{$level}}.\n",
    "\"\"\"\n"
   ]
  },
  {
   "cell_type": "code",
   "execution_count": 32,
   "metadata": {},
   "outputs": [
    {
     "data": {
      "text/markdown": [
       "### ✨ Shift the SWOT interview questions to the world of construction management at the level of child\n",
       "1. Good things:\n",
       "- Does the company build things in a special way or with special materials?\n",
       "- Are the people who work there really good at building things?\n",
       "- Do people in the area like the company and think they do a good job?\n",
       "- Does the company make things that are different and interesting?\n",
       "2. Bad things:\n",
       "- Does the company sometimes have problems finishing things on time or spending too much money?\n",
       "- Is it hard for the company to get enough money to grow or make things better?\n",
       "- Are there things the company doesn't do that people want them to do?\n",
       "- Do some people say bad things about the company or not like their work?\n",
       "3. Good chances:\n",
       "- Can the company start making new things or building in new ways (like making things that are good for the environment)?\n",
       "- Are there people who want things built that the company doesn't usually make?\n",
       "- Can the company use new tools or ways of building to make things better?\n",
       "- Are there events or groups the company can work with to get more people to know about them?\n",
       "4. Bad things that might happen:\n",
       "- Are there other companies that are better or make things people like more?\n",
       "- Are there rules or problems in the area that make it hard for the company to build things?\n",
       "- Are there things that cost more money that the company needs to buy to make things?\n",
       "- Are there new rules or laws that make it hard for the company to build things the way they usually do?"
      ],
      "text/plain": [
       "<IPython.core.display.Markdown object>"
      ]
     },
     "metadata": {},
     "output_type": "display_data"
    }
   ],
   "source": [
    "shift_reading_level_function = kernel.create_semantic_function(prompt_template=sk_prompt,\n",
    "                                                    description=\"Change the reading level of a given text.\",\n",
    "                                                    max_tokens=1000,\n",
    "                                                    temperature=0.1,\n",
    "                                                    top_p=0.5)\n",
    "\n",
    "my_context['input'] = swot_interview\n",
    "my_context['domain'] = \"construction management\"\n",
    "my_context[\"level\"] = \"child\"\n",
    "\n",
    "result = await kernel.run_async(shift_domain_function, shift_reading_level_function, input_context=my_context)\n",
    "\n",
    "display(Markdown(f\"### ✨ Shift the SWOT interview questions to the world of {my_context['domain']} at the level of {my_context['level']}\\n\"+ str(result)))"
   ]
  },
  {
   "cell_type": "code",
   "execution_count": 33,
   "metadata": {},
   "outputs": [
    {
     "data": {
      "text/markdown": [
       "### ✨ Shift the SWOT interview questions to the world of fashion management at the level of parent\n",
       "1. What makes the fashion brand special? Do they use unique designs or materials? Does the team have good skills and experience? Do people like the brand?\n",
       "2. Are there any problems with how the fashion brand works? Do they have trouble making things quickly or keeping staff? Do they have enough money? Are there any issues with the quality of their products or what customers say about them?\n",
       "3. Are there any new things the fashion brand could do to grow? Could they make new things or work with other companies? Are there people who might like their products but don't know about them yet? Could they use new technology to help them work better? Are there any events or groups they could work with to get more people interested in their brand?\n",
       "4. Are there any other companies that sell similar things? Are there any changes in what people like to wear that might hurt the fashion brand? Are there any changes in how much things cost that might make it harder for the fashion brand to make money? Are there any new rules or laws that might make it harder for the fashion brand to do business?"
      ],
      "text/plain": [
       "<IPython.core.display.Markdown object>"
      ]
     },
     "metadata": {},
     "output_type": "display_data"
    }
   ],
   "source": [
    "## next shifting the level to parent, for an fashion management  industry \n",
    "shift_reading_level_function = kernel.create_semantic_function(prompt_template=sk_prompt,\n",
    "                                                    description=\"Change the reading level of a given text.\",\n",
    "                                                    max_tokens=1000,\n",
    "                                                    temperature=0.1,\n",
    "                                                    top_p=0.5)\n",
    "\n",
    "my_context['input'] = swot_interview\n",
    "my_context['domain'] = \"fashion management\"\n",
    "my_context[\"level\"] = \"parent\"\n",
    "\n",
    "result = await kernel.run_async(shift_domain_function, shift_reading_level_function, input_context=my_context)\n",
    "\n",
    "display(Markdown(f\"### ✨ Shift the SWOT interview questions to the world of {my_context['domain']} at the level of {my_context['level']}\\n\"+ str(result)))"
   ]
  },
  {
   "cell_type": "code",
   "execution_count": 34,
   "metadata": {},
   "outputs": [
    {
     "data": {
      "text/markdown": [
       "### ✨ Shift the SWOT interview questions to the world of education management at the level of parent\n",
       "As a parent, it's important to know what your child's school is doing well and where they could improve. Here are some things to consider:\n",
       "\n",
       "1. Strengths: \n",
       "- Does the school have any special ways of teaching or learning that make it stand out?\n",
       "- Are the teachers experienced and qualified?\n",
       "- Does the school have a good reputation in the community?\n",
       "- Are there any unique features of the school or location that make it appealing?\n",
       "\n",
       "2. Weaknesses:\n",
       "- Are there any challenges the school is facing, like not having enough resources or high staff turnover?\n",
       "- Are there any financial issues that might limit the school's ability to grow or improve?\n",
       "- Are there any areas where the school could improve its curriculum or extracurricular activities?\n",
       "- Have there been any complaints or negative reviews from students or parents?\n",
       "\n",
       "3. Opportunities:\n",
       "- Are there any new programs or services the school could offer, like online learning or tutoring?\n",
       "- Are there any groups of students or areas that the school could serve better?\n",
       "- Could new technology or systems help improve the learning experience?\n",
       "- Are there any partnerships or events in the community that the school could get involved with?\n",
       "\n",
       "4. Threats:\n",
       "- Are there other schools in the area that are competing with this school?\n",
       "- Are there any changes happening in the community that could negatively impact the school, like a shift in demographics or other schools closing?\n",
       "- Are there any economic or industry trends that could hurt the school, like less funding or higher costs?\n",
       "- Are there any new regulations or laws that could affect the school, like changes to education policies or student safety rules?"
      ],
      "text/plain": [
       "<IPython.core.display.Markdown object>"
      ]
     },
     "metadata": {},
     "output_type": "display_data"
    }
   ],
   "source": [
    "## next shifting the level to parent, for an education management  industry , from the perspective of a parent \n",
    "shift_reading_level_function = kernel.create_semantic_function(prompt_template=sk_prompt,\n",
    "                                                    description=\"Change the reading level of a given text.\",\n",
    "                                                    max_tokens=1000,\n",
    "                                                    temperature=0.1,\n",
    "                                                    top_p=0.5)\n",
    "\n",
    "my_context['input'] = swot_interview\n",
    "my_context['domain'] = \"education management\"\n",
    "my_context[\"level\"] = \"parent\"\n",
    "\n",
    "result = await kernel.run_async(shift_domain_function, shift_reading_level_function, input_context=my_context)\n",
    "\n",
    "display(Markdown(f\"### ✨ Shift the SWOT interview questions to the world of {my_context['domain']} at the level of {my_context['level']}\\n\"+ str(result)))"
   ]
  },
  {
   "cell_type": "code",
   "execution_count": null,
   "metadata": {},
   "outputs": [],
   "source": []
  }
 ],
 "metadata": {
  "kernelspec": {
   "display_name": "Python 3",
   "language": "python",
   "name": "python3"
  },
  "language_info": {
   "codemirror_mode": {
    "name": "ipython",
    "version": 3
   },
   "file_extension": ".py",
   "mimetype": "text/x-python",
   "name": "python",
   "nbconvert_exporter": "python",
   "pygments_lexer": "ipython3",
   "version": "3.10.9"
  },
  "orig_nbformat": 4
 },
 "nbformat": 4,
 "nbformat_minor": 2
}
