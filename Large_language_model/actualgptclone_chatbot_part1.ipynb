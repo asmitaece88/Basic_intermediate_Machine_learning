{
 "cells": [
  {
   "cell_type": "code",
   "execution_count": 3,
   "metadata": {},
   "outputs": [
    {
     "name": "stdout",
     "output_type": "stream",
     "text": [
      "Collecting flask_cors\n",
      "  Downloading Flask_Cors-3.0.10-py2.py3-none-any.whl (14 kB)\n",
      "Requirement already satisfied: Flask>=0.9 in c:\\users\\09029o744\\lib\\site-packages (from flask_cors) (2.2.3)\n",
      "Requirement already satisfied: Six in c:\\users\\09029o744\\appdata\\roaming\\python\\python311\\site-packages (from flask_cors) (1.16.0)\n",
      "Requirement already satisfied: Werkzeug>=2.2.2 in c:\\users\\09029o744\\lib\\site-packages (from Flask>=0.9->flask_cors) (2.2.3)\n",
      "Requirement already satisfied: Jinja2>=3.0 in c:\\users\\09029o744\\lib\\site-packages (from Flask>=0.9->flask_cors) (3.1.2)\n",
      "Requirement already satisfied: itsdangerous>=2.0 in c:\\users\\09029o744\\lib\\site-packages (from Flask>=0.9->flask_cors) (2.1.2)\n",
      "Requirement already satisfied: click>=8.0 in c:\\users\\09029o744\\lib\\site-packages (from Flask>=0.9->flask_cors) (8.1.3)\n",
      "Requirement already satisfied: colorama in c:\\users\\09029o744\\appdata\\roaming\\python\\python311\\site-packages (from click>=8.0->Flask>=0.9->flask_cors) (0.4.6)\n",
      "Requirement already satisfied: MarkupSafe>=2.0 in c:\\users\\09029o744\\lib\\site-packages (from Jinja2>=3.0->Flask>=0.9->flask_cors) (2.1.2)\n",
      "Installing collected packages: flask_cors\n",
      "Successfully installed flask_cors-3.0.10\n"
     ]
    },
    {
     "name": "stderr",
     "output_type": "stream",
     "text": [
      "\n",
      "[notice] A new release of pip is available: 23.0 -> 23.1.2\n",
      "[notice] To update, run: python.exe -m pip install --upgrade pip\n"
     ]
    }
   ],
   "source": [
    "##!pip install flask\n",
    "#!pip install flask_cors"
   ]
  },
  {
   "cell_type": "code",
   "execution_count": null,
   "metadata": {},
   "outputs": [],
   "source": [
    "## this is  the first part of server -client\n",
    "## server application : web  based server application, python code using flask \n",
    "## client application : front end "
   ]
  },
  {
   "cell_type": "code",
   "execution_count": 1,
   "metadata": {},
   "outputs": [
    {
     "name": "stdout",
     "output_type": "stream",
     "text": [
      " * Serving Flask app '__main__'\n",
      " * Debug mode: off\n"
     ]
    },
    {
     "name": "stderr",
     "output_type": "stream",
     "text": [
      "WARNING: This is a development server. Do not use it in a production deployment. Use a production WSGI server instead.\n",
      " * Running on http://127.0.0.1:5000\n",
      "Press CTRL+C to quit\n",
      "127.0.0.1 - - [24/Jun/2023 22:46:28] \"GET / HTTP/1.1\" 404 -\n",
      "127.0.0.1 - - [24/Jun/2023 22:46:28] \"GET /favicon.ico HTTP/1.1\" 404 -\n",
      "127.0.0.1 - - [24/Jun/2023 22:47:40] \"GET /chatbot?pergunta=who%20was%20carl%20sagan? HTTP/1.1\" 200 -\n",
      "127.0.0.1 - - [24/Jun/2023 22:48:03] \"GET /chatbot?pergunta=Whos%20is%20a%20data%20scientist? HTTP/1.1\" 200 -\n"
     ]
    }
   ],
   "source": [
    "from flask import Flask, render_template, request, jsonify\n",
    "from flask_cors import CORS\n",
    "import openai\n",
    "\n",
    "app = Flask(__name__)\n",
    "CORS(app)\n",
    "\n",
    "openai.api_key = \"sk-xxx\"\n",
    "##mychat calls gpt function\n",
    "def mychat(prompt):\n",
    "    response = openai.Completion.create(\n",
    "            model = \"text-davinci-003\",\n",
    "            prompt=prompt,\n",
    "            max_tokens = 2048\n",
    "    )\n",
    "    return response.choices[0].text\n",
    "## mydraw  calls dalle \n",
    "def mydraw(prompt):\n",
    "    response = openai.Image.create(\n",
    "        size = \"512x512\",\n",
    "        prompt = prompt,\n",
    "        n = 1,\n",
    "        response_format = \"url\"\n",
    "    )\n",
    "    return response[\"data\"][0][\"url\"]\n",
    "\n",
    "@app.route('/chatbot')  \n",
    "def chatbot():\n",
    "        pergunta = request.args.get('pergunta')\n",
    "        if pergunta[0:4] == 'img:' :\n",
    "            pergunta = pergunta.replace('img:','')\n",
    "            resposta = mydraw(pergunta)\n",
    "            return jsonify(url_imagem=resposta, resposta ='')\n",
    "        else:\n",
    "            resposta = mychat(pergunta)\n",
    "            return jsonify(resposta=resposta)\n",
    "\n",
    "app.run()"
   ]
  },
  {
   "cell_type": "code",
   "execution_count": null,
   "metadata": {},
   "outputs": [],
   "source": []
  }
 ],
 "metadata": {
  "kernelspec": {
   "display_name": "Python 3",
   "language": "python",
   "name": "python3"
  },
  "language_info": {
   "codemirror_mode": {
    "name": "ipython",
    "version": 3
   },
   "file_extension": ".py",
   "mimetype": "text/x-python",
   "name": "python",
   "nbconvert_exporter": "python",
   "pygments_lexer": "ipython3",
   "version": "3.11.1"
  },
  "orig_nbformat": 4
 },
 "nbformat": 4,
 "nbformat_minor": 2
}
