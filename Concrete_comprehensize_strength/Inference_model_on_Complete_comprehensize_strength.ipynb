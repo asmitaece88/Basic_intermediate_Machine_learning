{
 "cells": [
  {
   "cell_type": "code",
   "execution_count": null,
   "metadata": {
    "collapsed": true
   },
   "outputs": [],
   "source": [
    "# @author: asmita chatterjee\n",
    "\n",
    "# Source : kaggle.com\n",
    "\n",
    "# dataset used :Concrete_Data.csv .We have 1030 observations on 9 variables\n",
    "\n",
    "\n",
    "# Purpose: Find out the Complete compressive strength(CRS) \n",
    "\n",
    "#  Target variable : CMS \n",
    "\n",
    "# method used: MultipleLinear regression.\n",
    "\n",
    "# A mathematical model for the prediction of compressive strength of high performance concrete is performed \n",
    "# using statistical analysis for the concrete data obtained from experimental work done in this study\n",
    "\n",
    "### features present in the data set \n",
    "# Cement - kg in a m3 mixture\n",
    "# Blast Furnace Slag - kg in a m3 mixture\n",
    "# Fly Ash - kg in a m3 mixture\n",
    "# Water - kg in a m3 mixture\n",
    "# Superplasticizer - kg in a m3 mixture\n",
    "# Coarse Aggregate - kg in a m3 mixture\n",
    "# Fine Aggregate - kg in a m3 mixture\n",
    "# Age - Day (1-365)\n",
    "\n"
   ]
  },
  {
   "cell_type": "code",
   "execution_count": 1,
   "metadata": {
    "collapsed": true
   },
   "outputs": [],
   "source": [
    "### import the packages\n",
    "\n",
    "import numpy as np\n",
    "import pandas as pd\n",
    "import matplotlib.pyplot as plt\n",
    "import seaborn as sns \n",
    "\n",
    "%matplotlib inline"
   ]
  },
  {
   "cell_type": "code",
   "execution_count": 3,
   "metadata": {
    "collapsed": true
   },
   "outputs": [],
   "source": [
    "### read the data \n",
    "data = pd.read_csv('C:/Users/USER/Documents/datasets/linear_regression/Concrete_Data.csv')"
   ]
  },
  {
   "cell_type": "code",
   "execution_count": 4,
   "metadata": {},
   "outputs": [
    {
     "data": {
      "text/plain": [
       "Cement              False\n",
       "Blast               False\n",
       "Fly Ash             False\n",
       "Water               False\n",
       "Superplasticizer    False\n",
       "CA                  False\n",
       "FA                  False\n",
       "Age                 False\n",
       "CMS                 False\n",
       "dtype: bool"
      ]
     },
     "execution_count": 4,
     "metadata": {},
     "output_type": "execute_result"
    }
   ],
   "source": [
    "## Check for missing values \n",
    "data.isnull().any()\n",
    "### no missing values "
   ]
  },
  {
   "cell_type": "code",
   "execution_count": 5,
   "metadata": {},
   "outputs": [
    {
     "data": {
      "text/html": [
       "<div>\n",
       "<style>\n",
       "    .dataframe thead tr:only-child th {\n",
       "        text-align: right;\n",
       "    }\n",
       "\n",
       "    .dataframe thead th {\n",
       "        text-align: left;\n",
       "    }\n",
       "\n",
       "    .dataframe tbody tr th {\n",
       "        vertical-align: top;\n",
       "    }\n",
       "</style>\n",
       "<table border=\"1\" class=\"dataframe\">\n",
       "  <thead>\n",
       "    <tr style=\"text-align: right;\">\n",
       "      <th></th>\n",
       "      <th>Cement</th>\n",
       "      <th>Blast</th>\n",
       "      <th>Fly Ash</th>\n",
       "      <th>Water</th>\n",
       "      <th>Superplasticizer</th>\n",
       "      <th>CA</th>\n",
       "      <th>FA</th>\n",
       "      <th>Age</th>\n",
       "      <th>CMS</th>\n",
       "    </tr>\n",
       "  </thead>\n",
       "  <tbody>\n",
       "    <tr>\n",
       "      <th>count</th>\n",
       "      <td>1030.000000</td>\n",
       "      <td>1030.000000</td>\n",
       "      <td>1030.000000</td>\n",
       "      <td>1030.000000</td>\n",
       "      <td>1030.000000</td>\n",
       "      <td>1030.000000</td>\n",
       "      <td>1030.000000</td>\n",
       "      <td>1030.000000</td>\n",
       "      <td>1030.000000</td>\n",
       "    </tr>\n",
       "    <tr>\n",
       "      <th>mean</th>\n",
       "      <td>281.167864</td>\n",
       "      <td>73.895825</td>\n",
       "      <td>54.188350</td>\n",
       "      <td>181.567282</td>\n",
       "      <td>6.204660</td>\n",
       "      <td>972.918932</td>\n",
       "      <td>773.580485</td>\n",
       "      <td>45.662136</td>\n",
       "      <td>35.817961</td>\n",
       "    </tr>\n",
       "    <tr>\n",
       "      <th>std</th>\n",
       "      <td>104.506364</td>\n",
       "      <td>86.279342</td>\n",
       "      <td>63.997004</td>\n",
       "      <td>21.354219</td>\n",
       "      <td>5.973841</td>\n",
       "      <td>77.753954</td>\n",
       "      <td>80.175980</td>\n",
       "      <td>63.169912</td>\n",
       "      <td>16.705742</td>\n",
       "    </tr>\n",
       "    <tr>\n",
       "      <th>min</th>\n",
       "      <td>102.000000</td>\n",
       "      <td>0.000000</td>\n",
       "      <td>0.000000</td>\n",
       "      <td>121.800000</td>\n",
       "      <td>0.000000</td>\n",
       "      <td>801.000000</td>\n",
       "      <td>594.000000</td>\n",
       "      <td>1.000000</td>\n",
       "      <td>2.330000</td>\n",
       "    </tr>\n",
       "    <tr>\n",
       "      <th>25%</th>\n",
       "      <td>192.375000</td>\n",
       "      <td>0.000000</td>\n",
       "      <td>0.000000</td>\n",
       "      <td>164.900000</td>\n",
       "      <td>0.000000</td>\n",
       "      <td>932.000000</td>\n",
       "      <td>730.950000</td>\n",
       "      <td>7.000000</td>\n",
       "      <td>23.710000</td>\n",
       "    </tr>\n",
       "    <tr>\n",
       "      <th>50%</th>\n",
       "      <td>272.900000</td>\n",
       "      <td>22.000000</td>\n",
       "      <td>0.000000</td>\n",
       "      <td>185.000000</td>\n",
       "      <td>6.400000</td>\n",
       "      <td>968.000000</td>\n",
       "      <td>779.500000</td>\n",
       "      <td>28.000000</td>\n",
       "      <td>34.445000</td>\n",
       "    </tr>\n",
       "    <tr>\n",
       "      <th>75%</th>\n",
       "      <td>350.000000</td>\n",
       "      <td>142.950000</td>\n",
       "      <td>118.300000</td>\n",
       "      <td>192.000000</td>\n",
       "      <td>10.200000</td>\n",
       "      <td>1029.400000</td>\n",
       "      <td>824.000000</td>\n",
       "      <td>56.000000</td>\n",
       "      <td>46.135000</td>\n",
       "    </tr>\n",
       "    <tr>\n",
       "      <th>max</th>\n",
       "      <td>540.000000</td>\n",
       "      <td>359.400000</td>\n",
       "      <td>200.100000</td>\n",
       "      <td>247.000000</td>\n",
       "      <td>32.200000</td>\n",
       "      <td>1145.000000</td>\n",
       "      <td>992.600000</td>\n",
       "      <td>365.000000</td>\n",
       "      <td>82.600000</td>\n",
       "    </tr>\n",
       "  </tbody>\n",
       "</table>\n",
       "</div>"
      ],
      "text/plain": [
       "            Cement        Blast      Fly Ash        Water  Superplasticizer  \\\n",
       "count  1030.000000  1030.000000  1030.000000  1030.000000       1030.000000   \n",
       "mean    281.167864    73.895825    54.188350   181.567282          6.204660   \n",
       "std     104.506364    86.279342    63.997004    21.354219          5.973841   \n",
       "min     102.000000     0.000000     0.000000   121.800000          0.000000   \n",
       "25%     192.375000     0.000000     0.000000   164.900000          0.000000   \n",
       "50%     272.900000    22.000000     0.000000   185.000000          6.400000   \n",
       "75%     350.000000   142.950000   118.300000   192.000000         10.200000   \n",
       "max     540.000000   359.400000   200.100000   247.000000         32.200000   \n",
       "\n",
       "                CA           FA          Age          CMS  \n",
       "count  1030.000000  1030.000000  1030.000000  1030.000000  \n",
       "mean    972.918932   773.580485    45.662136    35.817961  \n",
       "std      77.753954    80.175980    63.169912    16.705742  \n",
       "min     801.000000   594.000000     1.000000     2.330000  \n",
       "25%     932.000000   730.950000     7.000000    23.710000  \n",
       "50%     968.000000   779.500000    28.000000    34.445000  \n",
       "75%    1029.400000   824.000000    56.000000    46.135000  \n",
       "max    1145.000000   992.600000   365.000000    82.600000  "
      ]
     },
     "execution_count": 5,
     "metadata": {},
     "output_type": "execute_result"
    }
   ],
   "source": [
    "data.describe()"
   ]
  },
  {
   "cell_type": "code",
   "execution_count": 6,
   "metadata": {},
   "outputs": [
    {
     "data": {
      "text/plain": [
       "<matplotlib.axes._subplots.AxesSubplot at 0x2beae1f0128>"
      ]
     },
     "execution_count": 6,
     "metadata": {},
     "output_type": "execute_result"
    },
    {
     "data": {
      "image/png": "[encoded data removed]",
      "text/plain": [
       "<matplotlib.figure.Figure at 0x2beae1cfdd8>"
      ]
     },
     "metadata": {},
     "output_type": "display_data"
    }
   ],
   "source": [
    "## Next check tthe correlation plot \n",
    "\n",
    "correlation_matrix = data.corr().round(2)\n",
    "# annot = True to print the values inside the square\n",
    "sns.heatmap(data=correlation_matrix, annot=True)"
   ]
  },
  {
   "cell_type": "code",
   "execution_count": null,
   "metadata": {
    "collapsed": true
   },
   "outputs": [],
   "source": [
    "# It seems  from correlation matrix that the variables \n",
    "# Superplasticizer and Water are bit highly correlated \n",
    "\n",
    "#  having  a correlation value 0.66.\n",
    " \n",
    "#  We will not remove based the variables now . We will observe the VIF value later "
   ]
  },
  {
   "cell_type": "code",
   "execution_count": 9,
   "metadata": {},
   "outputs": [
    {
     "name": "stdout",
     "output_type": "stream",
     "text": [
      "[[2.47791487 0.85688789 0.84714393 ... 1.21767004 0.27973311 2.64540763]\n",
      " [2.47791487 0.85688789 0.84714393 ... 1.21767004 0.27973311 1.56142148]\n",
      " [0.49142531 0.79552649 0.84714393 ... 2.24091709 3.55306569 0.26662698]\n",
      " ...\n",
      " [1.27008832 0.75957923 0.85063487 ... 0.0801067  0.27973311 0.72572939]\n",
      " [1.16860982 1.30806485 0.84714393 ... 0.19116644 0.27973311 0.18253855]\n",
      " [0.19403325 0.30849909 0.3769452  ... 0.15074782 0.27973311 0.20469738]]\n"
     ]
    }
   ],
   "source": [
    "## Next check or outliers \n",
    "# for finding out outliers , we can  follow , \n",
    "\n",
    "# either box plot \n",
    "#  or \n",
    "#  z-score method\n",
    "#   or \n",
    "#   IQR score method \n",
    "  \n",
    "# --> we will use z score  method \n",
    "\n",
    "### Find out the z scores\n",
    "\n",
    "from scipy import stats\n",
    "import numpy as np\n",
    "z = np.abs(stats.zscore(data))\n",
    "print(z)"
   ]
  },
  {
   "cell_type": "code",
   "execution_count": 10,
   "metadata": {},
   "outputs": [
    {
     "data": {
      "text/plain": [
       "(1030, 9)"
      ]
     },
     "execution_count": 10,
     "metadata": {},
     "output_type": "execute_result"
    }
   ],
   "source": [
    "z.shape"
   ]
  },
  {
   "cell_type": "code",
   "execution_count": 11,
   "metadata": {},
   "outputs": [
    {
     "data": {
      "text/plain": [
       "(1030, 9)"
      ]
     },
     "execution_count": 11,
     "metadata": {},
     "output_type": "execute_result"
    }
   ],
   "source": [
    "data.shape"
   ]
  },
  {
   "cell_type": "code",
   "execution_count": 12,
   "metadata": {},
   "outputs": [
    {
     "name": "stdout",
     "output_type": "stream",
     "text": [
      "(array([  2,   3,   4,   6,  12,  17,  24,  25,  26,  30,  31,  33,  34,\n",
      "        35,  41,  42,  56,  60,  61,  63,  65,  66,  76,  79,  99, 102,\n",
      "       122, 125, 145, 148, 168, 171, 553, 559, 571, 584, 604, 610, 616,\n",
      "       620, 622, 756, 769, 792, 798, 814, 820, 873, 936], dtype=int64), array([7, 7, 7, 7, 7, 7, 7, 7, 7, 7, 7, 7, 7, 7, 7, 7, 7, 7, 7, 7, 7, 7,\n",
      "       4, 4, 4, 4, 4, 4, 4, 4, 4, 4, 1, 1, 1, 1, 7, 7, 7, 7, 7, 7, 7, 7,\n",
      "       7, 7, 7, 3, 3], dtype=int64))\n"
     ]
    }
   ],
   "source": [
    "### we choose a thresold of 3  for detecting the outliers \n",
    "\n",
    "threshold = 3\n",
    "print(np.where(z > 3))"
   ]
  },
  {
   "cell_type": "code",
   "execution_count": 13,
   "metadata": {},
   "outputs": [
    {
     "data": {
      "text/plain": [
       "(981, 9)"
      ]
     },
     "execution_count": 13,
     "metadata": {},
     "output_type": "execute_result"
    }
   ],
   "source": [
    "### removing outliers\n",
    "\n",
    "data_cleaned = data[(z < 3).all(axis=1)]\n",
    "\n",
    "data_cleaned.shape"
   ]
  },
  {
   "cell_type": "code",
   "execution_count": 14,
   "metadata": {
    "collapsed": true
   },
   "outputs": [],
   "source": [
    "### Now divide the data set \n",
    "\n",
    "X= data_cleaned.iloc[:,0:8]\n",
    "Y = data_cleaned.iloc[:,8:]\n"
   ]
  },
  {
   "cell_type": "code",
   "execution_count": 15,
   "metadata": {},
   "outputs": [
    {
     "data": {
      "text/plain": [
       "Index(['Cement', 'Blast', 'Fly Ash', 'Water', 'Superplasticizer', 'CA', 'FA',\n",
       "       'Age'],\n",
       "      dtype='object')"
      ]
     },
     "execution_count": 15,
     "metadata": {},
     "output_type": "execute_result"
    }
   ],
   "source": [
    "X.columns"
   ]
  },
  {
   "cell_type": "code",
   "execution_count": 16,
   "metadata": {},
   "outputs": [
    {
     "name": "stderr",
     "output_type": "stream",
     "text": [
      "C:\\Users\\USER\\Anaconda3\\lib\\site-packages\\sklearn\\cross_validation.py:41: DeprecationWarning: This module was deprecated in version 0.18 in favor of the model_selection module into which all the refactored classes and functions are moved. Also note that the interface of the new CV iterators are different from that of this module. This module will be removed in 0.20.\n",
      "  \"This module will be removed in 0.20.\", DeprecationWarning)\n"
     ]
    }
   ],
   "source": [
    "##Splitting the data into training and test sets\n",
    "\n",
    "from sklearn.cross_validation import train_test_split\n",
    "X_train,X_test,Y_train,Y_test = train_test_split(X,Y,test_size = 0.3,random_state = 1000) \n"
   ]
  },
  {
   "cell_type": "code",
   "execution_count": 17,
   "metadata": {},
   "outputs": [
    {
     "name": "stderr",
     "output_type": "stream",
     "text": [
      "C:\\Users\\USER\\Anaconda3\\lib\\site-packages\\statsmodels\\compat\\pandas.py:56: FutureWarning: The pandas.core.datetools module is deprecated and will be removed in a future version. Please use the pandas.tseries module instead.\n",
      "  from pandas.core import datetools\n"
     ]
    }
   ],
   "source": [
    "# Running linear regression using statsmodels\n",
    "# It is to be noted that statsmodels does not add intercept term automatically \n",
    "# thus we need to create an intercept to our model.\n",
    "import statsmodels.api as sma\n",
    "\n",
    "\n",
    "X_train = sma.add_constant(X_train) ## let's add an intercept (beta_0) to our model\n",
    "X_test = sma.add_constant(X_test) \n",
    "\n"
   ]
  },
  {
   "cell_type": "code",
   "execution_count": 19,
   "metadata": {
    "collapsed": true
   },
   "outputs": [],
   "source": [
    "##Linear regression can be run by using sm.OLS:\n",
    "import statsmodels.formula.api as sm\n",
    "lm = sm.OLS(Y_train,X_train).fit()"
   ]
  },
  {
   "cell_type": "code",
   "execution_count": 20,
   "metadata": {},
   "outputs": [
    {
     "data": {
      "text/html": [
       "<table class=\"simpletable\">\n",
       "<caption>OLS Regression Results</caption>\n",
       "<tr>\n",
       "  <th>Dep. Variable:</th>           <td>CMS</td>       <th>  R-squared:         </th> <td>   0.694</td> \n",
       "</tr>\n",
       "<tr>\n",
       "  <th>Model:</th>                   <td>OLS</td>       <th>  Adj. R-squared:    </th> <td>   0.690</td> \n",
       "</tr>\n",
       "<tr>\n",
       "  <th>Method:</th>             <td>Least Squares</td>  <th>  F-statistic:       </th> <td>   191.7</td> \n",
       "</tr>\n",
       "<tr>\n",
       "  <th>Date:</th>             <td>Thu, 02 May 2019</td> <th>  Prob (F-statistic):</th> <td>2.47e-168</td>\n",
       "</tr>\n",
       "<tr>\n",
       "  <th>Time:</th>                 <td>01:07:51</td>     <th>  Log-Likelihood:    </th> <td> -2503.2</td> \n",
       "</tr>\n",
       "<tr>\n",
       "  <th>No. Observations:</th>      <td>   686</td>      <th>  AIC:               </th> <td>   5024.</td> \n",
       "</tr>\n",
       "<tr>\n",
       "  <th>Df Residuals:</th>          <td>   677</td>      <th>  BIC:               </th> <td>   5065.</td> \n",
       "</tr>\n",
       "<tr>\n",
       "  <th>Df Model:</th>              <td>     8</td>      <th>                     </th>     <td> </td>    \n",
       "</tr>\n",
       "<tr>\n",
       "  <th>Covariance Type:</th>      <td>nonrobust</td>    <th>                     </th>     <td> </td>    \n",
       "</tr>\n",
       "</table>\n",
       "<table class=\"simpletable\">\n",
       "<tr>\n",
       "          <td></td>            <th>coef</th>     <th>std err</th>      <th>t</th>      <th>P>|t|</th>  <th>[0.025</th>    <th>0.975]</th>  \n",
       "</tr>\n",
       "<tr>\n",
       "  <th>const</th>            <td>  -20.3659</td> <td>   28.042</td> <td>   -0.726</td> <td> 0.468</td> <td>  -75.426</td> <td>   34.694</td>\n",
       "</tr>\n",
       "<tr>\n",
       "  <th>Cement</th>           <td>    0.1168</td> <td>    0.009</td> <td>   13.073</td> <td> 0.000</td> <td>    0.099</td> <td>    0.134</td>\n",
       "</tr>\n",
       "<tr>\n",
       "  <th>Blast</th>            <td>    0.0972</td> <td>    0.011</td> <td>    8.964</td> <td> 0.000</td> <td>    0.076</td> <td>    0.118</td>\n",
       "</tr>\n",
       "<tr>\n",
       "  <th>Fly Ash</th>          <td>    0.0731</td> <td>    0.014</td> <td>    5.328</td> <td> 0.000</td> <td>    0.046</td> <td>    0.100</td>\n",
       "</tr>\n",
       "<tr>\n",
       "  <th>Water</th>            <td>   -0.1403</td> <td>    0.043</td> <td>   -3.237</td> <td> 0.001</td> <td>   -0.225</td> <td>   -0.055</td>\n",
       "</tr>\n",
       "<tr>\n",
       "  <th>Superplasticizer</th> <td>    0.3808</td> <td>    0.112</td> <td>    3.407</td> <td> 0.001</td> <td>    0.161</td> <td>    0.600</td>\n",
       "</tr>\n",
       "<tr>\n",
       "  <th>CA</th>               <td>    0.0155</td> <td>    0.010</td> <td>    1.550</td> <td> 0.122</td> <td>   -0.004</td> <td>    0.035</td>\n",
       "</tr>\n",
       "<tr>\n",
       "  <th>FA</th>               <td>    0.0145</td> <td>    0.011</td> <td>    1.286</td> <td> 0.199</td> <td>   -0.008</td> <td>    0.037</td>\n",
       "</tr>\n",
       "<tr>\n",
       "  <th>Age</th>              <td>    0.2242</td> <td>    0.010</td> <td>   23.311</td> <td> 0.000</td> <td>    0.205</td> <td>    0.243</td>\n",
       "</tr>\n",
       "</table>\n",
       "<table class=\"simpletable\">\n",
       "<tr>\n",
       "  <th>Omnibus:</th>       <td> 8.372</td> <th>  Durbin-Watson:     </th> <td>   2.089</td>\n",
       "</tr>\n",
       "<tr>\n",
       "  <th>Prob(Omnibus):</th> <td> 0.015</td> <th>  Jarque-Bera (JB):  </th> <td>  10.165</td>\n",
       "</tr>\n",
       "<tr>\n",
       "  <th>Skew:</th>          <td>-0.154</td> <th>  Prob(JB):          </th> <td> 0.00621</td>\n",
       "</tr>\n",
       "<tr>\n",
       "  <th>Kurtosis:</th>      <td> 3.511</td> <th>  Cond. No.          </th> <td>1.02e+05</td>\n",
       "</tr>\n",
       "</table>"
      ],
      "text/plain": [
       "<class 'statsmodels.iolib.summary.Summary'>\n",
       "\"\"\"\n",
       "                            OLS Regression Results                            \n",
       "==============================================================================\n",
       "Dep. Variable:                    CMS   R-squared:                       0.694\n",
       "Model:                            OLS   Adj. R-squared:                  0.690\n",
       "Method:                 Least Squares   F-statistic:                     191.7\n",
       "Date:                Thu, 02 May 2019   Prob (F-statistic):          2.47e-168\n",
       "Time:                        01:07:51   Log-Likelihood:                -2503.2\n",
       "No. Observations:                 686   AIC:                             5024.\n",
       "Df Residuals:                     677   BIC:                             5065.\n",
       "Df Model:                           8                                         \n",
       "Covariance Type:            nonrobust                                         \n",
       "====================================================================================\n",
       "                       coef    std err          t      P>|t|      [0.025      0.975]\n",
       "------------------------------------------------------------------------------------\n",
       "const              -20.3659     28.042     -0.726      0.468     -75.426      34.694\n",
       "Cement               0.1168      0.009     13.073      0.000       0.099       0.134\n",
       "Blast                0.0972      0.011      8.964      0.000       0.076       0.118\n",
       "Fly Ash              0.0731      0.014      5.328      0.000       0.046       0.100\n",
       "Water               -0.1403      0.043     -3.237      0.001      -0.225      -0.055\n",
       "Superplasticizer     0.3808      0.112      3.407      0.001       0.161       0.600\n",
       "CA                   0.0155      0.010      1.550      0.122      -0.004       0.035\n",
       "FA                   0.0145      0.011      1.286      0.199      -0.008       0.037\n",
       "Age                  0.2242      0.010     23.311      0.000       0.205       0.243\n",
       "==============================================================================\n",
       "Omnibus:                        8.372   Durbin-Watson:                   2.089\n",
       "Prob(Omnibus):                  0.015   Jarque-Bera (JB):               10.165\n",
       "Skew:                          -0.154   Prob(JB):                      0.00621\n",
       "Kurtosis:                       3.511   Cond. No.                     1.02e+05\n",
       "==============================================================================\n",
       "\n",
       "Warnings:\n",
       "[1] Standard Errors assume that the covariance matrix of the errors is correctly specified.\n",
       "[2] The condition number is large, 1.02e+05. This might indicate that there are\n",
       "strong multicollinearity or other numerical problems.\n",
       "\"\"\""
      ]
     },
     "execution_count": 20,
     "metadata": {},
     "output_type": "execute_result"
    }
   ],
   "source": [
    "lm.summary()"
   ]
  },
  {
   "cell_type": "code",
   "execution_count": 21,
   "metadata": {},
   "outputs": [
    {
     "data": {
      "text/plain": [
       "Index(['const', 'Cement', 'Blast', 'Fly Ash', 'Water', 'Superplasticizer',\n",
       "       'CA', 'FA', 'Age'],\n",
       "      dtype='object')"
      ]
     },
     "execution_count": 21,
     "metadata": {},
     "output_type": "execute_result"
    }
   ],
   "source": [
    "# here  we see that the p values for coeeff for  the following variables is more than 0.05- which is the estimated signficance limit\n",
    "# CA \n",
    "# and\n",
    "# FA\n",
    "# we will drop 1   variable CA from  the X_train as well as X_test  and again call ols\n",
    "\n",
    "X_train.columns"
   ]
  },
  {
   "cell_type": "code",
   "execution_count": 22,
   "metadata": {
    "collapsed": true
   },
   "outputs": [],
   "source": [
    "## drop CA and FA \n",
    "X_train = X_train.drop(['CA'], axis=1)"
   ]
  },
  {
   "cell_type": "code",
   "execution_count": 23,
   "metadata": {},
   "outputs": [
    {
     "data": {
      "text/plain": [
       "Index(['const', 'Cement', 'Blast', 'Fly Ash', 'Water', 'Superplasticizer',\n",
       "       'FA', 'Age'],\n",
       "      dtype='object')"
      ]
     },
     "execution_count": 23,
     "metadata": {},
     "output_type": "execute_result"
    }
   ],
   "source": [
    "X_train.columns"
   ]
  },
  {
   "cell_type": "code",
   "execution_count": 24,
   "metadata": {},
   "outputs": [
    {
     "data": {
      "text/plain": [
       "Index(['const', 'Cement', 'Blast', 'Fly Ash', 'Water', 'Superplasticizer',\n",
       "       'FA', 'Age'],\n",
       "      dtype='object')"
      ]
     },
     "execution_count": 24,
     "metadata": {},
     "output_type": "execute_result"
    }
   ],
   "source": [
    "###drop CA  for test \n",
    "X_test = X_test.drop(['CA'], axis=1)\n",
    "X_test.columns"
   ]
  },
  {
   "cell_type": "code",
   "execution_count": 25,
   "metadata": {},
   "outputs": [
    {
     "data": {
      "text/html": [
       "<table class=\"simpletable\">\n",
       "<caption>OLS Regression Results</caption>\n",
       "<tr>\n",
       "  <th>Dep. Variable:</th>           <td>CMS</td>       <th>  R-squared:         </th> <td>   0.693</td> \n",
       "</tr>\n",
       "<tr>\n",
       "  <th>Model:</th>                   <td>OLS</td>       <th>  Adj. R-squared:    </th> <td>   0.689</td> \n",
       "</tr>\n",
       "<tr>\n",
       "  <th>Method:</th>             <td>Least Squares</td>  <th>  F-statistic:       </th> <td>   218.3</td> \n",
       "</tr>\n",
       "<tr>\n",
       "  <th>Date:</th>             <td>Thu, 02 May 2019</td> <th>  Prob (F-statistic):</th> <td>5.32e-169</td>\n",
       "</tr>\n",
       "<tr>\n",
       "  <th>Time:</th>                 <td>01:09:27</td>     <th>  Log-Likelihood:    </th> <td> -2504.4</td> \n",
       "</tr>\n",
       "<tr>\n",
       "  <th>No. Observations:</th>      <td>   686</td>      <th>  AIC:               </th> <td>   5025.</td> \n",
       "</tr>\n",
       "<tr>\n",
       "  <th>Df Residuals:</th>          <td>   678</td>      <th>  BIC:               </th> <td>   5061.</td> \n",
       "</tr>\n",
       "<tr>\n",
       "  <th>Df Model:</th>              <td>     7</td>      <th>                     </th>     <td> </td>    \n",
       "</tr>\n",
       "<tr>\n",
       "  <th>Covariance Type:</th>      <td>nonrobust</td>    <th>                     </th>     <td> </td>    \n",
       "</tr>\n",
       "</table>\n",
       "<table class=\"simpletable\">\n",
       "<tr>\n",
       "          <td></td>            <th>coef</th>     <th>std err</th>      <th>t</th>      <th>P>|t|</th>  <th>[0.025</th>    <th>0.975]</th>  \n",
       "</tr>\n",
       "<tr>\n",
       "  <th>const</th>            <td>   20.5068</td> <td>    9.565</td> <td>    2.144</td> <td> 0.032</td> <td>    1.726</td> <td>   39.287</td>\n",
       "</tr>\n",
       "<tr>\n",
       "  <th>Cement</th>           <td>    0.1061</td> <td>    0.006</td> <td>   18.613</td> <td> 0.000</td> <td>    0.095</td> <td>    0.117</td>\n",
       "</tr>\n",
       "<tr>\n",
       "  <th>Blast</th>            <td>    0.0841</td> <td>    0.007</td> <td>   12.282</td> <td> 0.000</td> <td>    0.071</td> <td>    0.098</td>\n",
       "</tr>\n",
       "<tr>\n",
       "  <th>Fly Ash</th>          <td>    0.0588</td> <td>    0.010</td> <td>    5.782</td> <td> 0.000</td> <td>    0.039</td> <td>    0.079</td>\n",
       "</tr>\n",
       "<tr>\n",
       "  <th>Water</th>            <td>   -0.1933</td> <td>    0.027</td> <td>   -7.264</td> <td> 0.000</td> <td>   -0.246</td> <td>   -0.141</td>\n",
       "</tr>\n",
       "<tr>\n",
       "  <th>Superplasticizer</th> <td>    0.3282</td> <td>    0.107</td> <td>    3.079</td> <td> 0.002</td> <td>    0.119</td> <td>    0.537</td>\n",
       "</tr>\n",
       "<tr>\n",
       "  <th>FA</th>               <td>    0.0002</td> <td>    0.006</td> <td>    0.031</td> <td> 0.975</td> <td>   -0.013</td> <td>    0.013</td>\n",
       "</tr>\n",
       "<tr>\n",
       "  <th>Age</th>              <td>    0.2252</td> <td>    0.010</td> <td>   23.437</td> <td> 0.000</td> <td>    0.206</td> <td>    0.244</td>\n",
       "</tr>\n",
       "</table>\n",
       "<table class=\"simpletable\">\n",
       "<tr>\n",
       "  <th>Omnibus:</th>       <td> 8.521</td> <th>  Durbin-Watson:     </th> <td>   2.094</td>\n",
       "</tr>\n",
       "<tr>\n",
       "  <th>Prob(Omnibus):</th> <td> 0.014</td> <th>  Jarque-Bera (JB):  </th> <td>  10.166</td>\n",
       "</tr>\n",
       "<tr>\n",
       "  <th>Skew:</th>          <td>-0.164</td> <th>  Prob(JB):          </th> <td> 0.00620</td>\n",
       "</tr>\n",
       "<tr>\n",
       "  <th>Kurtosis:</th>      <td> 3.498</td> <th>  Cond. No.          </th> <td>2.28e+04</td>\n",
       "</tr>\n",
       "</table>"
      ],
      "text/plain": [
       "<class 'statsmodels.iolib.summary.Summary'>\n",
       "\"\"\"\n",
       "                            OLS Regression Results                            \n",
       "==============================================================================\n",
       "Dep. Variable:                    CMS   R-squared:                       0.693\n",
       "Model:                            OLS   Adj. R-squared:                  0.689\n",
       "Method:                 Least Squares   F-statistic:                     218.3\n",
       "Date:                Thu, 02 May 2019   Prob (F-statistic):          5.32e-169\n",
       "Time:                        01:09:27   Log-Likelihood:                -2504.4\n",
       "No. Observations:                 686   AIC:                             5025.\n",
       "Df Residuals:                     678   BIC:                             5061.\n",
       "Df Model:                           7                                         \n",
       "Covariance Type:            nonrobust                                         \n",
       "====================================================================================\n",
       "                       coef    std err          t      P>|t|      [0.025      0.975]\n",
       "------------------------------------------------------------------------------------\n",
       "const               20.5068      9.565      2.144      0.032       1.726      39.287\n",
       "Cement               0.1061      0.006     18.613      0.000       0.095       0.117\n",
       "Blast                0.0841      0.007     12.282      0.000       0.071       0.098\n",
       "Fly Ash              0.0588      0.010      5.782      0.000       0.039       0.079\n",
       "Water               -0.1933      0.027     -7.264      0.000      -0.246      -0.141\n",
       "Superplasticizer     0.3282      0.107      3.079      0.002       0.119       0.537\n",
       "FA                   0.0002      0.006      0.031      0.975      -0.013       0.013\n",
       "Age                  0.2252      0.010     23.437      0.000       0.206       0.244\n",
       "==============================================================================\n",
       "Omnibus:                        8.521   Durbin-Watson:                   2.094\n",
       "Prob(Omnibus):                  0.014   Jarque-Bera (JB):               10.166\n",
       "Skew:                          -0.164   Prob(JB):                      0.00620\n",
       "Kurtosis:                       3.498   Cond. No.                     2.28e+04\n",
       "==============================================================================\n",
       "\n",
       "Warnings:\n",
       "[1] Standard Errors assume that the covariance matrix of the errors is correctly specified.\n",
       "[2] The condition number is large, 2.28e+04. This might indicate that there are\n",
       "strong multicollinearity or other numerical problems.\n",
       "\"\"\""
      ]
     },
     "execution_count": 25,
     "metadata": {},
     "output_type": "execute_result"
    }
   ],
   "source": [
    "#### again run the model  with  X_train\n",
    "lm2 = sm.OLS(Y_train,X_train).fit()\n",
    "\n",
    "lm2.summary()"
   ]
  },
  {
   "cell_type": "code",
   "execution_count": 26,
   "metadata": {
    "collapsed": true
   },
   "outputs": [],
   "source": [
    "# frm the p values of all the variables ,  all the variables appear to be significant \n",
    "# except FA . so we wll drop FA \n",
    "X_train = X_train.drop(['FA'], axis=1)\n",
    "X_test = X_test.drop(['FA'], axis=1)"
   ]
  },
  {
   "cell_type": "code",
   "execution_count": 27,
   "metadata": {
    "collapsed": true
   },
   "outputs": [],
   "source": [
    "#### again run the model  with  X_train\n",
    "\n",
    "lm3 = sm.OLS(Y_train,X_train).fit()"
   ]
  },
  {
   "cell_type": "code",
   "execution_count": 28,
   "metadata": {},
   "outputs": [
    {
     "data": {
      "text/html": [
       "<table class=\"simpletable\">\n",
       "<caption>OLS Regression Results</caption>\n",
       "<tr>\n",
       "  <th>Dep. Variable:</th>           <td>CMS</td>       <th>  R-squared:         </th> <td>   0.693</td> \n",
       "</tr>\n",
       "<tr>\n",
       "  <th>Model:</th>                   <td>OLS</td>       <th>  Adj. R-squared:    </th> <td>   0.690</td> \n",
       "</tr>\n",
       "<tr>\n",
       "  <th>Method:</th>             <td>Least Squares</td>  <th>  F-statistic:       </th> <td>   255.0</td> \n",
       "</tr>\n",
       "<tr>\n",
       "  <th>Date:</th>             <td>Thu, 02 May 2019</td> <th>  Prob (F-statistic):</th> <td>3.19e-170</td>\n",
       "</tr>\n",
       "<tr>\n",
       "  <th>Time:</th>                 <td>01:10:25</td>     <th>  Log-Likelihood:    </th> <td> -2504.4</td> \n",
       "</tr>\n",
       "<tr>\n",
       "  <th>No. Observations:</th>      <td>   686</td>      <th>  AIC:               </th> <td>   5023.</td> \n",
       "</tr>\n",
       "<tr>\n",
       "  <th>Df Residuals:</th>          <td>   679</td>      <th>  BIC:               </th> <td>   5055.</td> \n",
       "</tr>\n",
       "<tr>\n",
       "  <th>Df Model:</th>              <td>     6</td>      <th>                     </th>     <td> </td>    \n",
       "</tr>\n",
       "<tr>\n",
       "  <th>Covariance Type:</th>      <td>nonrobust</td>    <th>                     </th>     <td> </td>    \n",
       "</tr>\n",
       "</table>\n",
       "<table class=\"simpletable\">\n",
       "<tr>\n",
       "          <td></td>            <th>coef</th>     <th>std err</th>      <th>t</th>      <th>P>|t|</th>  <th>[0.025</th>    <th>0.975]</th>  \n",
       "</tr>\n",
       "<tr>\n",
       "  <th>const</th>            <td>   20.7644</td> <td>    4.883</td> <td>    4.252</td> <td> 0.000</td> <td>   11.176</td> <td>   30.353</td>\n",
       "</tr>\n",
       "<tr>\n",
       "  <th>Cement</th>           <td>    0.1060</td> <td>    0.005</td> <td>   22.983</td> <td> 0.000</td> <td>    0.097</td> <td>    0.115</td>\n",
       "</tr>\n",
       "<tr>\n",
       "  <th>Blast</th>            <td>    0.0840</td> <td>    0.006</td> <td>   14.891</td> <td> 0.000</td> <td>    0.073</td> <td>    0.095</td>\n",
       "</tr>\n",
       "<tr>\n",
       "  <th>Fly Ash</th>          <td>    0.0586</td> <td>    0.009</td> <td>    6.686</td> <td> 0.000</td> <td>    0.041</td> <td>    0.076</td>\n",
       "</tr>\n",
       "<tr>\n",
       "  <th>Water</th>            <td>   -0.1936</td> <td>    0.025</td> <td>   -7.861</td> <td> 0.000</td> <td>   -0.242</td> <td>   -0.145</td>\n",
       "</tr>\n",
       "<tr>\n",
       "  <th>Superplasticizer</th> <td>    0.3289</td> <td>    0.104</td> <td>    3.170</td> <td> 0.002</td> <td>    0.125</td> <td>    0.533</td>\n",
       "</tr>\n",
       "<tr>\n",
       "  <th>Age</th>              <td>    0.2251</td> <td>    0.010</td> <td>   23.462</td> <td> 0.000</td> <td>    0.206</td> <td>    0.244</td>\n",
       "</tr>\n",
       "</table>\n",
       "<table class=\"simpletable\">\n",
       "<tr>\n",
       "  <th>Omnibus:</th>       <td> 8.530</td> <th>  Durbin-Watson:     </th> <td>   2.094</td>\n",
       "</tr>\n",
       "<tr>\n",
       "  <th>Prob(Omnibus):</th> <td> 0.014</td> <th>  Jarque-Bera (JB):  </th> <td>  10.167</td>\n",
       "</tr>\n",
       "<tr>\n",
       "  <th>Skew:</th>          <td>-0.164</td> <th>  Prob(JB):          </th> <td> 0.00620</td>\n",
       "</tr>\n",
       "<tr>\n",
       "  <th>Kurtosis:</th>      <td> 3.498</td> <th>  Cond. No.          </th> <td>4.87e+03</td>\n",
       "</tr>\n",
       "</table>"
      ],
      "text/plain": [
       "<class 'statsmodels.iolib.summary.Summary'>\n",
       "\"\"\"\n",
       "                            OLS Regression Results                            \n",
       "==============================================================================\n",
       "Dep. Variable:                    CMS   R-squared:                       0.693\n",
       "Model:                            OLS   Adj. R-squared:                  0.690\n",
       "Method:                 Least Squares   F-statistic:                     255.0\n",
       "Date:                Thu, 02 May 2019   Prob (F-statistic):          3.19e-170\n",
       "Time:                        01:10:25   Log-Likelihood:                -2504.4\n",
       "No. Observations:                 686   AIC:                             5023.\n",
       "Df Residuals:                     679   BIC:                             5055.\n",
       "Df Model:                           6                                         \n",
       "Covariance Type:            nonrobust                                         \n",
       "====================================================================================\n",
       "                       coef    std err          t      P>|t|      [0.025      0.975]\n",
       "------------------------------------------------------------------------------------\n",
       "const               20.7644      4.883      4.252      0.000      11.176      30.353\n",
       "Cement               0.1060      0.005     22.983      0.000       0.097       0.115\n",
       "Blast                0.0840      0.006     14.891      0.000       0.073       0.095\n",
       "Fly Ash              0.0586      0.009      6.686      0.000       0.041       0.076\n",
       "Water               -0.1936      0.025     -7.861      0.000      -0.242      -0.145\n",
       "Superplasticizer     0.3289      0.104      3.170      0.002       0.125       0.533\n",
       "Age                  0.2251      0.010     23.462      0.000       0.206       0.244\n",
       "==============================================================================\n",
       "Omnibus:                        8.530   Durbin-Watson:                   2.094\n",
       "Prob(Omnibus):                  0.014   Jarque-Bera (JB):               10.167\n",
       "Skew:                          -0.164   Prob(JB):                      0.00620\n",
       "Kurtosis:                       3.498   Cond. No.                     4.87e+03\n",
       "==============================================================================\n",
       "\n",
       "Warnings:\n",
       "[1] Standard Errors assume that the covariance matrix of the errors is correctly specified.\n",
       "[2] The condition number is large, 4.87e+03. This might indicate that there are\n",
       "strong multicollinearity or other numerical problems.\n",
       "\"\"\""
      ]
     },
     "execution_count": 28,
     "metadata": {},
     "output_type": "execute_result"
    }
   ],
   "source": [
    "lm3.summary()\n",
    "### all variables appear to be significant now "
   ]
  },
  {
   "cell_type": "code",
   "execution_count": 29,
   "metadata": {},
   "outputs": [
    {
     "name": "stdout",
     "output_type": "stream",
     "text": [
      "0.692637721873745 0.6894648147797705\n"
     ]
    }
   ],
   "source": [
    "### calculating rsq and adjusted rsq on training data set \n",
    "print(lm3.rsquared, lm2.rsquared_adj)"
   ]
  },
  {
   "cell_type": "code",
   "execution_count": 30,
   "metadata": {
    "collapsed": true
   },
   "outputs": [],
   "source": [
    "y_pred = lm3.predict(X_test) "
   ]
  },
  {
   "cell_type": "code",
   "execution_count": 31,
   "metadata": {},
   "outputs": [
    {
     "data": {
      "text/plain": [
       "pandas.core.series.Series"
      ]
     },
     "execution_count": 31,
     "metadata": {},
     "output_type": "execute_result"
    }
   ],
   "source": [
    "type(y_pred)"
   ]
  },
  {
   "cell_type": "code",
   "execution_count": 32,
   "metadata": {},
   "outputs": [
    {
     "data": {
      "text/plain": [
       "0.7286795818807956"
      ]
     },
     "execution_count": 32,
     "metadata": {},
     "output_type": "execute_result"
    }
   ],
   "source": [
    "# Calculate R-Squared and Adjusted R-Squared Manually on Test data\n",
    "import numpy as np\n",
    "Y_test_series = pd.to_numeric(Y_test.CMS, errors='coerce')\n",
    "RSS = np.sum((y_pred - Y_test_series)**2)\n",
    "y_mean = np.mean(Y_test_series)\n",
    "TSS = np.sum((Y_test_series - y_mean)**2)\n",
    "R2 = 1 - RSS/TSS\n",
    "R2"
   ]
  },
  {
   "cell_type": "code",
   "execution_count": 33,
   "metadata": {
    "collapsed": true
   },
   "outputs": [],
   "source": [
    "### finding out the number of rows in the xtest data set \n",
    "no_rows=X_test.shape[0]\n",
    "\n",
    "### finding out the number of regressors . due to coeefint addded , we will subtract 1 \n",
    "no_regressors=X_test.shape[1] - 1"
   ]
  },
  {
   "cell_type": "code",
   "execution_count": 34,
   "metadata": {},
   "outputs": [
    {
     "data": {
      "text/plain": [
       "0.7230270731699788"
      ]
     },
     "execution_count": 34,
     "metadata": {},
     "output_type": "execute_result"
    }
   ],
   "source": [
    "adj_rsquared = 1 - (1 - R2) * ((no_rows - 1)/(no_rows-no_regressors-1))\n",
    "adj_rsquared"
   ]
  },
  {
   "cell_type": "code",
   "execution_count": 35,
   "metadata": {
    "collapsed": true
   },
   "outputs": [],
   "source": [
    "### now checking the assumptions \n",
    "\n",
    "## First assumption: checking multicollinearity \n",
    "\n",
    "## mention  dataframe of vif \n",
    "vif = pd.DataFrame()"
   ]
  },
  {
   "cell_type": "code",
   "execution_count": 36,
   "metadata": {
    "collapsed": true
   },
   "outputs": [],
   "source": [
    "### Now detecting multi collinearity \n",
    "\n",
    "from statsmodels.stats.outliers_influence import variance_inflation_factor\n",
    "\n",
    "vif[\"VIF Factor\"] = [variance_inflation_factor(X_train.values, i) for i in range(X_train.shape[1])]\n",
    "\n",
    "vif[\"features\"] = X_train.columns"
   ]
  },
  {
   "cell_type": "code",
   "execution_count": 37,
   "metadata": {},
   "outputs": [
    {
     "data": {
      "text/html": [
       "<div>\n",
       "<style>\n",
       "    .dataframe thead tr:only-child th {\n",
       "        text-align: right;\n",
       "    }\n",
       "\n",
       "    .dataframe thead th {\n",
       "        text-align: left;\n",
       "    }\n",
       "\n",
       "    .dataframe tbody tr th {\n",
       "        vertical-align: top;\n",
       "    }\n",
       "</style>\n",
       "<table border=\"1\" class=\"dataframe\">\n",
       "  <thead>\n",
       "    <tr style=\"text-align: right;\">\n",
       "      <th></th>\n",
       "      <th>VIF Factor</th>\n",
       "      <th>features</th>\n",
       "    </tr>\n",
       "  </thead>\n",
       "  <tbody>\n",
       "    <tr>\n",
       "      <th>0</th>\n",
       "      <td>186.53</td>\n",
       "      <td>const</td>\n",
       "    </tr>\n",
       "    <tr>\n",
       "      <th>1</th>\n",
       "      <td>1.81</td>\n",
       "      <td>Cement</td>\n",
       "    </tr>\n",
       "    <tr>\n",
       "      <th>2</th>\n",
       "      <td>1.87</td>\n",
       "      <td>Blast</td>\n",
       "    </tr>\n",
       "    <tr>\n",
       "      <th>3</th>\n",
       "      <td>2.47</td>\n",
       "      <td>Fly Ash</td>\n",
       "    </tr>\n",
       "    <tr>\n",
       "      <th>4</th>\n",
       "      <td>1.92</td>\n",
       "      <td>Water</td>\n",
       "    </tr>\n",
       "    <tr>\n",
       "      <th>5</th>\n",
       "      <td>2.67</td>\n",
       "      <td>Superplasticizer</td>\n",
       "    </tr>\n",
       "    <tr>\n",
       "      <th>6</th>\n",
       "      <td>1.02</td>\n",
       "      <td>Age</td>\n",
       "    </tr>\n",
       "  </tbody>\n",
       "</table>\n",
       "</div>"
      ],
      "text/plain": [
       "   VIF Factor          features\n",
       "0      186.53             const\n",
       "1        1.81            Cement\n",
       "2        1.87             Blast\n",
       "3        2.47           Fly Ash\n",
       "4        1.92             Water\n",
       "5        2.67  Superplasticizer\n",
       "6        1.02               Age"
      ]
     },
     "execution_count": 37,
     "metadata": {},
     "output_type": "execute_result"
    }
   ],
   "source": [
    "vif.round(2) "
   ]
  },
  {
   "cell_type": "code",
   "execution_count": 38,
   "metadata": {},
   "outputs": [
    {
     "data": {
      "text/plain": [
       "295     -2.041814\n",
       "456     13.977696\n",
       "10       2.044372\n",
       "980      1.899307\n",
       "150      6.527169\n",
       "551     -3.091329\n",
       "227     -9.759557\n",
       "22      -8.593618\n",
       "541     -3.938582\n",
       "750      2.751273\n",
       "955      6.022827\n",
       "373     -0.552640\n",
       "838     -6.609266\n",
       "454      9.553757\n",
       "665     -1.856920\n",
       "268      2.975734\n",
       "835    -12.497537\n",
       "710      8.760997\n",
       "885     -4.027993\n",
       "392      0.338892\n",
       "296      2.416088\n",
       "107      1.590225\n",
       "600      5.336954\n",
       "230      7.057020\n",
       "212      3.195438\n",
       "1020     6.384089\n",
       "705     -7.162602\n",
       "954    -13.297473\n",
       "238      7.329317\n",
       "800      0.480665\n",
       "          ...    \n",
       "930     -3.422559\n",
       "376      6.601019\n",
       "265      5.868624\n",
       "318     -6.243920\n",
       "530     11.727927\n",
       "701      0.021293\n",
       "260      0.477568\n",
       "986      5.204630\n",
       "346      6.808579\n",
       "330      8.611139\n",
       "527     -8.269728\n",
       "525    -17.999129\n",
       "741      3.122077\n",
       "324     -8.536247\n",
       "251      4.520216\n",
       "1023     3.042931\n",
       "921     -7.730340\n",
       "588     -8.546389\n",
       "593     -1.666793\n",
       "905     -6.254837\n",
       "681      6.304932\n",
       "477    -24.457247\n",
       "815     -6.689621\n",
       "380      3.227249\n",
       "382     17.666039\n",
       "283      1.743192\n",
       "745      1.408794\n",
       "95      -2.823475\n",
       "640      1.611332\n",
       "467      1.167162\n",
       "Length: 686, dtype: float64"
      ]
     },
     "execution_count": 38,
     "metadata": {},
     "output_type": "execute_result"
    }
   ],
   "source": [
    "# If we take a threshold value  of 2.5 , then we can drop variable Superplasticizer\n",
    "# which has got  VIF value 2.67 \n",
    "\n",
    "#  But the variable Superplasticizer appears to be a significant variable \n",
    "#  hence we dont drop this variable \n",
    "\n",
    "# We use Shapiro Wilk test  from scipy library to check the normality of residuals.\n",
    "# Null Hypothesis: The residuals are normally distributed.\n",
    "# Alternative Hypothesis: The residuals are not normally distributed.\n",
    "lm3.resid"
   ]
  },
  {
   "cell_type": "code",
   "execution_count": 39,
   "metadata": {},
   "outputs": [
    {
     "data": {
      "text/plain": [
       "(0.9907867908477783, 0.0002759209892246872)"
      ]
     },
     "execution_count": 39,
     "metadata": {},
     "output_type": "execute_result"
    }
   ],
   "source": [
    "from scipy import stats\n",
    "stats.shapiro(lm3.resid)"
   ]
  },
  {
   "cell_type": "code",
   "execution_count": 40,
   "metadata": {},
   "outputs": [
    {
     "name": "stderr",
     "output_type": "stream",
     "text": [
      "C:\\Users\\USER\\Anaconda3\\lib\\site-packages\\scipy\\stats\\stats.py:1633: FutureWarning: Using a non-tuple sequence for multidimensional indexing is deprecated; use `arr[tuple(seq)]` instead of `arr[seq]`. In the future this will be interpreted as an array index, `arr[np.array(seq)]`, which will result either in an error or a different result.\n",
      "  return np.add.reduce(sorted[indexer] * weights, axis=axis) / sumval\n"
     ]
    },
    {
     "data": {
      "text/plain": [
       "<matplotlib.axes._subplots.AxesSubplot at 0x2beb0d7ea20>"
      ]
     },
     "execution_count": 40,
     "metadata": {},
     "output_type": "execute_result"
    },
    {
     "data": {
      "image/png": "[encoded data removed]",
      "text/plain": [
       "<matplotlib.figure.Figure at 0x2beb0d6c978>"
      ]
     },
     "metadata": {},
     "output_type": "display_data"
    }
   ],
   "source": [
    "### p value :  0.0002759209892246872,\n",
    " ##hence  the 1st assumption is violated , that is  residulas are not normally distributed \n",
    "\n",
    " ### let  us check the plot for the dstribution of residuals \n",
    " \n",
    "sns.distplot((Y_test_series-y_pred),bins=50) \n",
    "### The residula plot appears to be almost normal "
   ]
  },
  {
   "cell_type": "code",
   "execution_count": 41,
   "metadata": {},
   "outputs": [
    {
     "data": {
      "text/plain": [
       "<matplotlib.collections.PathCollection at 0x2beb0efd6a0>"
      ]
     },
     "execution_count": 41,
     "metadata": {},
     "output_type": "execute_result"
    },
    {
     "data": {
      "image/png": "[encoded data removed]",
      "text/plain": [
       "<matplotlib.figure.Figure at 0x2beb0eab6a0>"
      ]
     },
     "metadata": {},
     "output_type": "display_data"
    }
   ],
   "source": [
    " plt.scatter(Y_test_series,y_pred)  "
   ]
  },
  {
   "cell_type": "code",
   "execution_count": 42,
   "metadata": {},
   "outputs": [
    {
     "data": {
      "text/plain": [
       "(array([1.51351062]), array([0.21860418]))"
      ]
     },
     "execution_count": 42,
     "metadata": {},
     "output_type": "execute_result"
    }
   ],
   "source": [
    "## Second check :### Checking for autocorrelation\n",
    "# To ensure the absence of autocorrelation we use Ljungbox test.\n",
    "# Null Hypothesis: Autocorrelation is absent.\n",
    "# Alternative Hypothesis: Autocorrelation is present.\n",
    "from statsmodels.stats import diagnostic as diag\n",
    "diag.acorr_ljungbox(lm3.resid , lags = 1) \n",
    "\n",
    "### p value :0.21860418 hence there is no autocorrelation\n",
    "\n",
    "## Hence assumption get satisfied "
   ]
  },
  {
   "cell_type": "code",
   "execution_count": 43,
   "metadata": {},
   "outputs": [
    {
     "data": {
      "text/plain": [
       "[('F statistic', 0.9843632905342186), ('p-value', 0.5573827866798271)]"
      ]
     },
     "execution_count": 43,
     "metadata": {},
     "output_type": "execute_result"
    }
   ],
   "source": [
    "##Checking heteroscedasticity Using Goldfeld Quandt we test for heteroscedasticity.\n",
    "###Null Hypothesis: Error terms are homoscedastic\n",
    "###Alternative Hypothesis: Error terms are heteroscedastic.\n",
    "import statsmodels.stats.api as sms\n",
    "from statsmodels.compat import lzip\n",
    "name = ['F statistic', 'p-value']\n",
    "test = sms.het_goldfeldquandt(lm3.resid, lm3.model.exog)\n",
    "lzip(name, test)\n",
    "\n",
    "###The p-value is 0.5573827866798271 hence we can say that the residuals have constant variance"
   ]
  },
  {
   "cell_type": "code",
   "execution_count": null,
   "metadata": {
    "collapsed": true
   },
   "outputs": [],
   "source": [
    "### hence , except the  normality f residuals , we find out that all the other assumptuons are satisfied\n",
    "## for  linear regression\n"
   ]
  }
 ],
 "metadata": {
  "kernelspec": {
   "display_name": "Python 3",
   "language": "python",
   "name": "python3"
  },
  "language_info": {
   "codemirror_mode": {
    "name": "ipython",
    "version": 3
   },
   "file_extension": ".py",
   "mimetype": "text/x-python",
   "name": "python",
   "nbconvert_exporter": "python",
   "pygments_lexer": "ipython3",
   "version": "3.6.3"
  }
 },
 "nbformat": 4,
 "nbformat_minor": 2
}
