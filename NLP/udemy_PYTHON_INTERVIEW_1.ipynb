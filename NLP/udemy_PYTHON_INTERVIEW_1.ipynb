{
 "cells": [
  {
   "cell_type": "markdown",
   "metadata": {},
   "source": [
    "# String Reversal & Palindrome"
   ]
  },
  {
   "cell_type": "markdown",
   "metadata": {},
   "source": [
    "# Reverse the String “ “the fox jumps over the lazy dog” "
   ]
  },
  {
   "cell_type": "code",
   "execution_count": 3,
   "metadata": {
    "collapsed": true
   },
   "outputs": [],
   "source": [
    "a = \"the fox jumps over the lazy dog\""
   ]
  },
  {
   "cell_type": "code",
   "execution_count": 16,
   "metadata": {
    "collapsed": false
   },
   "outputs": [],
   "source": [
    "b=a[::-1]"
   ]
  },
  {
   "cell_type": "code",
   "execution_count": 18,
   "metadata": {
    "collapsed": false
   },
   "outputs": [
    {
     "name": "stdout",
     "output_type": "stream",
     "text": [
      "god yzal eht revo spmuj xof eht\n"
     ]
    }
   ],
   "source": [
    "print(b)"
   ]
  },
  {
   "cell_type": "code",
   "execution_count": 19,
   "metadata": {
    "collapsed": true
   },
   "outputs": [],
   "source": [
    "# Question: identity all words that are palindromes in the following sentence\n",
    "# “Lol, this is a gag, I didn’t laugh so much in a long time” "
   ]
  },
  {
   "cell_type": "markdown",
   "metadata": {},
   "source": [
    "# Question: identity all words that are palindromes in the following sentence “Lol, this is a gag, I didn’t laugh so much in a long time” "
   ]
  },
  {
   "cell_type": "code",
   "execution_count": 21,
   "metadata": {
    "collapsed": true
   },
   "outputs": [],
   "source": [
    "## define a  function to check whether a word is palindrome or not \n",
    "\n",
    "def is_palindrome(word):\n",
    "    if word== word[::-1]:\n",
    "         print(\"yes\")\n",
    "         return True\n",
    "    else:\n",
    "        print(\"No\")\n",
    "        return False\n",
    "    "
   ]
  },
  {
   "cell_type": "code",
   "execution_count": 25,
   "metadata": {
    "collapsed": true
   },
   "outputs": [],
   "source": [
    "check_str = \"gag\""
   ]
  },
  {
   "cell_type": "code",
   "execution_count": 26,
   "metadata": {
    "collapsed": false
   },
   "outputs": [
    {
     "name": "stdout",
     "output_type": "stream",
     "text": [
      "yes\n"
     ]
    },
    {
     "data": {
      "text/plain": [
       "True"
      ]
     },
     "execution_count": 26,
     "metadata": {},
     "output_type": "execute_result"
    }
   ],
   "source": [
    "is_palindrome(check_str)"
   ]
  },
  {
   "cell_type": "code",
   "execution_count": 77,
   "metadata": {
    "collapsed": true
   },
   "outputs": [],
   "source": [
    "check_string = \"Lol, this is a gag , I didn’t laugh so much in a long time\""
   ]
  },
  {
   "cell_type": "code",
   "execution_count": 29,
   "metadata": {
    "collapsed": false
   },
   "outputs": [
    {
     "data": {
      "text/plain": [
       "'lol this is a gag i didn’t laugh so much in a long time'"
      ]
     },
     "execution_count": 29,
     "metadata": {},
     "output_type": "execute_result"
    }
   ],
   "source": [
    "cleanStr = check_string.replace(\",\",\"\").lower()\n",
    "cleanStr"
   ]
  },
  {
   "cell_type": "code",
   "execution_count": 30,
   "metadata": {
    "collapsed": true
   },
   "outputs": [],
   "source": [
    "words = set(cleanStr.split(\" \"))"
   ]
  },
  {
   "cell_type": "code",
   "execution_count": 31,
   "metadata": {
    "collapsed": false
   },
   "outputs": [
    {
     "data": {
      "text/plain": [
       "{'a',\n",
       " 'didn’t',\n",
       " 'gag',\n",
       " 'i',\n",
       " 'in',\n",
       " 'is',\n",
       " 'laugh',\n",
       " 'lol',\n",
       " 'long',\n",
       " 'much',\n",
       " 'so',\n",
       " 'this',\n",
       " 'time'}"
      ]
     },
     "execution_count": 31,
     "metadata": {},
     "output_type": "execute_result"
    }
   ],
   "source": [
    "words"
   ]
  },
  {
   "cell_type": "code",
   "execution_count": 32,
   "metadata": {
    "collapsed": false
   },
   "outputs": [
    {
     "data": {
      "text/plain": [
       "set"
      ]
     },
     "execution_count": 32,
     "metadata": {},
     "output_type": "execute_result"
    }
   ],
   "source": [
    "type(words)"
   ]
  },
  {
   "cell_type": "code",
   "execution_count": 69,
   "metadata": {
    "collapsed": true
   },
   "outputs": [],
   "source": [
    "#check_string = \"gag\""
   ]
  },
  {
   "cell_type": "code",
   "execution_count": 118,
   "metadata": {
    "collapsed": false
   },
   "outputs": [],
   "source": [
    "def getpalindromewords(inputStr):\n",
    "    inputStr_1 = inputStr.replace(\",\",\"\").lower()\n",
    "    finalstr  = set(inputStr_1.split(\" \"))\n",
    "    \n",
    "    print(finalstr)\n",
    "    wpalindrome = [ word for word in finalstr\n",
    "                    if  is_palindrome(word)   and word != \"\"  #|| \n",
    "                   ]\n",
    "    return wpalindrome , type(wpalindrome)"
   ]
  },
  {
   "cell_type": "code",
   "execution_count": 119,
   "metadata": {
    "collapsed": false
   },
   "outputs": [
    {
     "name": "stdout",
     "output_type": "stream",
     "text": [
      "{'', 'in', 'long', 'so', 'a', 'gag', 'this', 'lol', 'much', 'time', 'didn’t', 'is', 'laugh', 'i'}\n",
      "yes\n",
      "No\n",
      "No\n",
      "No\n",
      "yes\n",
      "yes\n",
      "No\n",
      "yes\n",
      "No\n",
      "No\n",
      "No\n",
      "No\n",
      "No\n",
      "yes\n"
     ]
    },
    {
     "data": {
      "text/plain": [
       "(['a', 'gag', 'lol', 'i'], list)"
      ]
     },
     "execution_count": 119,
     "metadata": {},
     "output_type": "execute_result"
    }
   ],
   "source": [
    " getpalindromewords(check_string)"
   ]
  },
  {
   "cell_type": "markdown",
   "metadata": {},
   "source": [
    "### see the difference when using a set and when not using a set \n",
    "## when using a set , the duplicates are removed "
   ]
  },
  {
   "cell_type": "code",
   "execution_count": 121,
   "metadata": {
    "collapsed": true
   },
   "outputs": [],
   "source": [
    "def getpalindromewords_1(inputStr):\n",
    "    inputStr_1 = inputStr.replace(\",\",\"\").lower()\n",
    "    finalstr  = (inputStr_1.split(\" \"))\n",
    "    \n",
    "    print(finalstr)\n",
    "    wpalindrome = [ word for word in finalstr\n",
    "                    if  is_palindrome(word)   and word != \"\"  #|| \n",
    "                   ]\n",
    "    return wpalindrome , type(wpalindrome)"
   ]
  },
  {
   "cell_type": "code",
   "execution_count": 122,
   "metadata": {
    "collapsed": false
   },
   "outputs": [
    {
     "name": "stdout",
     "output_type": "stream",
     "text": [
      "['lol', 'this', 'is', 'a', 'gag', '', 'i', 'didn’t', 'laugh', 'so', 'much', 'in', 'a', 'long', 'time']\n",
      "yes\n",
      "No\n",
      "No\n",
      "yes\n",
      "yes\n",
      "yes\n",
      "yes\n",
      "No\n",
      "No\n",
      "No\n",
      "No\n",
      "No\n",
      "yes\n",
      "No\n",
      "No\n"
     ]
    },
    {
     "data": {
      "text/plain": [
       "(['lol', 'a', 'gag', 'i', 'a'], list)"
      ]
     },
     "execution_count": 122,
     "metadata": {},
     "output_type": "execute_result"
    }
   ],
   "source": [
    " getpalindromewords_1(check_string)"
   ]
  },
  {
   "cell_type": "markdown",
   "metadata": {},
   "source": [
    "# FizzBuzz\n",
    "# FizzBuzz is a traditional programming screening question, that allows to test if a candidate can think through\n",
    "# a problem that is not a simple if else statement. The approach that they take can also shed some light\n",
    "# to their understanding of the language."
   ]
  },
  {
   "cell_type": "markdown",
   "metadata": {},
   "source": [
    "# Write a program that prints the number for 1 to 50, for number multiple of 2 print fizz instead of a number,\n",
    "# for numbers multiple of 3 print buzz, \n",
    "# for numbers which are multiple of both 2 and 3 fizzbuzz."
   ]
  },
  {
   "cell_type": "code",
   "execution_count": 123,
   "metadata": {
    "collapsed": true
   },
   "outputs": [],
   "source": [
    " def check_fizz_buzz(number):\n",
    "        mod_2 = (number%2 ==0 )\n",
    "        mod_3 = (number%3 == 0) \n",
    "        \n",
    "        if (mod_2 or mod_3 ):\n",
    "            return (mod_2 *\"fizz\") + (mod_3 * \"buzz\")\n",
    "        return str(number)"
   ]
  },
  {
   "cell_type": "markdown",
   "metadata": {},
   "source": [
    "## now print the numbers "
   ]
  },
  {
   "cell_type": "code",
   "execution_count": 124,
   "metadata": {
    "collapsed": false,
    "scrolled": true
   },
   "outputs": [
    {
     "name": "stdout",
     "output_type": "stream",
     "text": [
      "1\n",
      "fizz\n",
      "buzz\n",
      "fizz\n",
      "5\n",
      "fizzbuzz\n",
      "7\n",
      "fizz\n",
      "buzz\n",
      "fizz\n",
      "11\n",
      "fizzbuzz\n",
      "13\n",
      "fizz\n",
      "buzz\n",
      "fizz\n",
      "17\n",
      "fizzbuzz\n",
      "19\n",
      "fizz\n",
      "buzz\n",
      "fizz\n",
      "23\n",
      "fizzbuzz\n",
      "25\n",
      "fizz\n",
      "buzz\n",
      "fizz\n",
      "29\n",
      "fizzbuzz\n",
      "31\n",
      "fizz\n",
      "buzz\n",
      "fizz\n",
      "35\n",
      "fizzbuzz\n",
      "37\n",
      "fizz\n",
      "buzz\n",
      "fizz\n",
      "41\n",
      "fizzbuzz\n",
      "43\n",
      "fizz\n",
      "buzz\n",
      "fizz\n",
      "47\n",
      "fizzbuzz\n",
      "49\n",
      "fizz\n"
     ]
    }
   ],
   "source": [
    "print('\\n'.join([check_fizz_buzz(x) for x in range(1,51)]))\n"
   ]
  },
  {
   "cell_type": "code",
   "execution_count": 19,
   "metadata": {
    "collapsed": false
   },
   "outputs": [],
   "source": [
    "def fizz_buzz(x):\n",
    "    mod_2 = (x%2 ==0)\n",
    "    #print(False*'fizz')\n",
    "    mod_3 = (x%3==0)\n",
    "    \n",
    "    if mod_2 or mod_3 :\n",
    "        return(mod_2*'fizz'  + mod_3 *'buzz')\n",
    "    return str(x)"
   ]
  },
  {
   "cell_type": "code",
   "execution_count": 20,
   "metadata": {
    "collapsed": false
   },
   "outputs": [
    {
     "data": {
      "text/plain": [
       "'fizz'"
      ]
     },
     "execution_count": 20,
     "metadata": {},
     "output_type": "execute_result"
    }
   ],
   "source": [
    "fizz_buzz(20)"
   ]
  },
  {
   "cell_type": "code",
   "execution_count": 21,
   "metadata": {
    "collapsed": false
   },
   "outputs": [
    {
     "name": "stdout",
     "output_type": "stream",
     "text": [
      "1\n",
      "fizz\n",
      "buzz\n",
      "fizz\n",
      "5\n",
      "fizzbuzz\n",
      "7\n",
      "fizz\n",
      "buzz\n",
      "fizz\n",
      "11\n",
      "fizzbuzz\n",
      "13\n",
      "fizz\n",
      "buzz\n",
      "fizz\n",
      "17\n",
      "fizzbuzz\n",
      "19\n",
      "fizz\n",
      "buzz\n",
      "fizz\n",
      "23\n",
      "fizzbuzz\n",
      "25\n",
      "fizz\n",
      "buzz\n",
      "fizz\n",
      "29\n",
      "fizzbuzz\n",
      "31\n",
      "fizz\n",
      "buzz\n",
      "fizz\n",
      "35\n",
      "fizzbuzz\n",
      "37\n",
      "fizz\n",
      "buzz\n",
      "fizz\n",
      "41\n",
      "fizzbuzz\n",
      "43\n",
      "fizz\n",
      "buzz\n",
      "fizz\n",
      "47\n",
      "fizzbuzz\n",
      "49\n",
      "fizz\n"
     ]
    }
   ],
   "source": [
    "print('\\n'.join(fizz_buzz(x) for x in range(1,51)))"
   ]
  },
  {
   "cell_type": "markdown",
   "metadata": {
    "collapsed": true
   },
   "source": [
    "# First Duplicate word "
   ]
  },
  {
   "cell_type": "markdown",
   "metadata": {},
   "source": [
    "# First finding of duplicate word allows to identity if candidates know the basic of text processing \n",
    "# in python as well as are able to handle some basic data structure.\n",
    "# Question 1\n",
    "# Question: Given a string find the first duplicate word, example string:\n",
    "# “this is just a wonder, wonder why do I have this in mind”"
   ]
  },
  {
   "cell_type": "markdown",
   "metadata": {},
   "source": [
    "# re.sub(pattern, repl, string, count=0, flags=0)\n",
    "# Return the string obtained by replacing the leftmost non-overlapping occurrences of pattern in string by the replacement repl.\n",
    "# If the pattern isn’t found, string is returned unchanged. repl can be a string or a function; if it is a string, \n",
    "# any backslash escapes in it are processed. That is, \\n is converted to a single newline character, \\r is converted to a carriage return, and so forth. Unknown escapes of ASCII letters are reserved for future use and treated as errors. Other unknown escapes such as \\& are left alone.\n",
    "# Backreferences, such as \\6, are replaced with the substring matched by group 6 in the pattern. For example:"
   ]
  },
  {
   "cell_type": "code",
   "execution_count": 22,
   "metadata": {
    "collapsed": true
   },
   "outputs": [],
   "source": [
    "# testing \n",
    "\n",
    "import re \n",
    "\n",
    "string = \"this is just a wonder, wonder why do I have this in mind\"\n"
   ]
  },
  {
   "cell_type": "code",
   "execution_count": 37,
   "metadata": {
    "collapsed": true
   },
   "outputs": [],
   "source": [
    "cleanStr = re.sub(\"[^a-zA-Z ]\", \"\", string)"
   ]
  },
  {
   "cell_type": "code",
   "execution_count": 38,
   "metadata": {
    "collapsed": false
   },
   "outputs": [
    {
     "name": "stdout",
     "output_type": "stream",
     "text": [
      "this is just a wonder wonder why do I have this in mind\n"
     ]
    }
   ],
   "source": [
    "print(cleanStr)"
   ]
  },
  {
   "cell_type": "code",
   "execution_count": 39,
   "metadata": {
    "collapsed": true
   },
   "outputs": [],
   "source": [
    "words = cleanStr.lower().split(\" \")"
   ]
  },
  {
   "cell_type": "code",
   "execution_count": 40,
   "metadata": {
    "collapsed": false
   },
   "outputs": [
    {
     "data": {
      "text/plain": [
       "['this',\n",
       " 'is',\n",
       " 'just',\n",
       " 'a',\n",
       " 'wonder',\n",
       " 'wonder',\n",
       " 'why',\n",
       " 'do',\n",
       " 'i',\n",
       " 'have',\n",
       " 'this',\n",
       " 'in',\n",
       " 'mind']"
      ]
     },
     "execution_count": 40,
     "metadata": {},
     "output_type": "execute_result"
    }
   ],
   "source": [
    "words"
   ]
  },
  {
   "cell_type": "code",
   "execution_count": null,
   "metadata": {
    "collapsed": true
   },
   "outputs": [],
   "source": []
  },
  {
   "cell_type": "code",
   "execution_count": 29,
   "metadata": {
    "collapsed": true
   },
   "outputs": [],
   "source": [
    "cleanStr_1 = re.sub(\"[^a-zA-Z -]\", \"\", string)"
   ]
  },
  {
   "cell_type": "code",
   "execution_count": 30,
   "metadata": {
    "collapsed": false
   },
   "outputs": [
    {
     "name": "stdout",
     "output_type": "stream",
     "text": [
      "this is just a wonder wonder why do I have this in mind\n"
     ]
    }
   ],
   "source": [
    "print(cleanStr_1)"
   ]
  },
  {
   "cell_type": "markdown",
   "metadata": {},
   "source": [
    "## now defining the function "
   ]
  },
  {
   "cell_type": "code",
   "execution_count": 48,
   "metadata": {
    "collapsed": true
   },
   "outputs": [],
   "source": [
    "string_1 = \"this is just a wonder, wonder why do I have this in mind\""
   ]
  },
  {
   "cell_type": "code",
   "execution_count": 55,
   "metadata": {
    "collapsed": true
   },
   "outputs": [],
   "source": [
    "string_2 = \"My name is Asmita , asmita Chatterjee . I will find you and will kill you .,  5kjhkn   This is my fav quote \""
   ]
  },
  {
   "cell_type": "code",
   "execution_count": 56,
   "metadata": {
    "collapsed": true
   },
   "outputs": [],
   "source": [
    "import re \n",
    "def check_first_dup_Char(String):\n",
    "    cleanstr = re.sub(\"[^a-zA-Z -]\",\"\",String)\n",
    "    \n",
    "    wordlist = cleanstr.lower().split()\n",
    "    \n",
    "    seen_word = set()\n",
    "    \n",
    "    for word in wordlist:\n",
    "        if word in seen_word:\n",
    "            return word\n",
    "        else:\n",
    "            seen_word.add(word)\n",
    "    return None        "
   ]
  },
  {
   "cell_type": "code",
   "execution_count": 57,
   "metadata": {
    "collapsed": false
   },
   "outputs": [
    {
     "data": {
      "text/plain": [
       "'asmita'"
      ]
     },
     "execution_count": 57,
     "metadata": {},
     "output_type": "execute_result"
    }
   ],
   "source": [
    "check_first_dup_Char(string_2)"
   ]
  },
  {
   "cell_type": "markdown",
   "metadata": {},
   "source": [
    "# Question 2:\n",
    "# Question: What if we wanted to find the first word with more than 2 duplicates in a string? "
   ]
  },
  {
   "cell_type": "code",
   "execution_count": 59,
   "metadata": {
    "collapsed": true
   },
   "outputs": [],
   "source": [
    "string = \"this is just a wonder, wonder why do I have this in mind. This is all that matters.\""
   ]
  },
  {
   "cell_type": "code",
   "execution_count": 79,
   "metadata": {
    "collapsed": true
   },
   "outputs": [],
   "source": [
    "seen_words_1 = dict()"
   ]
  },
  {
   "cell_type": "code",
   "execution_count": 70,
   "metadata": {
    "collapsed": true
   },
   "outputs": [],
   "source": [
    "cleanStr = re.sub(\"[^a-zA-Z -]\", \"\", string)\n",
    "    \n"
   ]
  },
  {
   "cell_type": "code",
   "execution_count": 71,
   "metadata": {
    "collapsed": true
   },
   "outputs": [],
   "source": [
    "words = cleanStr.lower().split(\" \")"
   ]
  },
  {
   "cell_type": "code",
   "execution_count": 80,
   "metadata": {
    "collapsed": false
   },
   "outputs": [
    {
     "name": "stdout",
     "output_type": "stream",
     "text": [
      "this\n",
      "### 1\n",
      "is\n",
      "### 1\n",
      "just\n",
      "### 1\n",
      "a\n",
      "### 1\n",
      "wonder\n",
      "### 1\n",
      "wonder\n",
      "### 2\n",
      "why\n",
      "### 1\n",
      "do\n",
      "### 1\n",
      "i\n",
      "### 1\n",
      "have\n",
      "### 1\n",
      "this\n",
      "### 2\n",
      "in\n",
      "### 1\n",
      "mind\n",
      "### 1\n",
      "this\n",
      "### 3\n",
      "is\n",
      "### 2\n",
      "all\n",
      "### 1\n",
      "that\n",
      "### 1\n",
      "matters\n",
      "### 1\n"
     ]
    }
   ],
   "source": [
    "for word in words:\n",
    "        previous_count = seen_words_1.get(word, 0)\n",
    "        print(word)\n",
    "\n",
    "        seen_words_1[word] = previous_count + 1\n",
    "        print('###',seen_words_1[word])"
   ]
  },
  {
   "cell_type": "markdown",
   "metadata": {
    "collapsed": true
   },
   "source": [
    "## now design the function"
   ]
  },
  {
   "cell_type": "code",
   "execution_count": 67,
   "metadata": {
    "collapsed": true
   },
   "outputs": [],
   "source": [
    "string = \"this is bye  just a wonder, wonder  bye bye bye  why do I have this , wonder in mind. This is all that matters.\""
   ]
  },
  {
   "cell_type": "code",
   "execution_count": 68,
   "metadata": {
    "collapsed": true
   },
   "outputs": [],
   "source": [
    "import re \n",
    "def check_word_with_more_3_rep(string):\n",
    "    Cleanstr = re.sub(\"[^a-zA-Z -]\",\"\",string)\n",
    "    wordlist = Cleanstr.lower().split(\" \")\n",
    "    seen_words = dict()\n",
    "    \n",
    "    for word in wordlist:\n",
    "        \n",
    "        ## for each word ,  get the count  in the string \n",
    "        prevcount = seen_words.get(word,0)\n",
    "        \n",
    "        ## seen_words is a dictionary  , for each word and the count \n",
    "        seen_words[word] = prevcount+1\n",
    "        \n",
    "        if prevcount >=2 :\n",
    "            return word\n",
    "        \n",
    "        \n",
    "    return None   \n",
    "        "
   ]
  },
  {
   "cell_type": "code",
   "execution_count": 69,
   "metadata": {
    "collapsed": false
   },
   "outputs": [
    {
     "data": {
      "text/plain": [
       "'bye'"
      ]
     },
     "execution_count": 69,
     "metadata": {},
     "output_type": "execute_result"
    }
   ],
   "source": [
    "check_word_with_more_3_rep(string)"
   ]
  },
  {
   "cell_type": "markdown",
   "metadata": {
    "collapsed": true
   },
   "source": [
    "# some quick fire questions on python "
   ]
  },
  {
   "cell_type": "markdown",
   "metadata": {
    "collapsed": true
   },
   "source": [
    "# Question: Replicate the sum for any number of variables, eg sum(1,2,3,4,5..)\n"
   ]
  },
  {
   "cell_type": "code",
   "execution_count": 70,
   "metadata": {
    "collapsed": true
   },
   "outputs": [],
   "source": [
    "def  replicate_sum(*args):\n",
    "    val = 0 \n",
    "    for arg in args :\n",
    "        val += arg \n",
    "        \n",
    "    return val    "
   ]
  },
  {
   "cell_type": "code",
   "execution_count": 80,
   "metadata": {
    "collapsed": false
   },
   "outputs": [
    {
     "data": {
      "text/plain": [
       "14"
      ]
     },
     "execution_count": 80,
     "metadata": {},
     "output_type": "execute_result"
    }
   ],
   "source": [
    "replicate_sum(1,3,4,6)"
   ]
  },
  {
   "cell_type": "markdown",
   "metadata": {},
   "source": [
    "# Question 2:\n",
    "# Questions around the Fibonacci series is a classic of programming interviews and candidates \n",
    "# should in general be at least familiar with them. They allow to test recursive thinking.\n",
    "\n"
   ]
  },
  {
   "cell_type": "code",
   "execution_count": 103,
   "metadata": {
    "collapsed": true
   },
   "outputs": [],
   "source": [
    "##define the fibonacci series generation function \n",
    "\n",
    "def fibonacci(number):\n",
    "    if number <=0:\n",
    "        return( 0)\n",
    "    if number ==1:\n",
    "        return(1)\n",
    "    else:\n",
    "        return (fibonacci(number-1)+fibonacci(number-2))"
   ]
  },
  {
   "cell_type": "code",
   "execution_count": 104,
   "metadata": {
    "collapsed": false
   },
   "outputs": [
    {
     "data": {
      "text/plain": [
       "5"
      ]
     },
     "execution_count": 104,
     "metadata": {},
     "output_type": "execute_result"
    }
   ],
   "source": [
    "fibonacci(5)"
   ]
  },
  {
   "cell_type": "code",
   "execution_count": 98,
   "metadata": {
    "collapsed": true
   },
   "outputs": [],
   "source": [
    "## define the function to get the sun of the fibonacci numbers\n",
    "def get_fib_sum(number):\n",
    "    return (sum([fibonacci(x) for x in range (0,number+1)]))\n",
    "    "
   ]
  },
  {
   "cell_type": "code",
   "execution_count": 99,
   "metadata": {
    "collapsed": false
   },
   "outputs": [
    {
     "data": {
      "text/plain": [
       "12"
      ]
     },
     "execution_count": 99,
     "metadata": {},
     "output_type": "execute_result"
    }
   ],
   "source": [
    "get_sum_fib(5)"
   ]
  },
  {
   "cell_type": "markdown",
   "metadata": {},
   "source": [
    "# extracting email address "
   ]
  },
  {
   "cell_type": "code",
   "execution_count": 106,
   "metadata": {
    "collapsed": false
   },
   "outputs": [],
   "source": [
    "email_address= \"Hi my name is John and email address is john.doe@somecompany.co.uk and my friend's email is jane_doe124@gmail.com\"\n",
    "\n",
    "\n",
    "\n"
   ]
  },
  {
   "cell_type": "markdown",
   "metadata": {},
   "source": [
    "# We should get the output −\n",
    "\n",
    "# john.doe@somecompany.co.uk\n",
    "# jane_doe124@gmail.com\n",
    " "
   ]
  },
  {
   "cell_type": "code",
   "execution_count": null,
   "metadata": {
    "collapsed": true
   },
   "outputs": [],
   "source": [
    "[a-zA-Z0-9_.+-]+@[a-zA-Z0-9-]+\\.[a-zA-Z0-9-]"
   ]
  },
  {
   "cell_type": "code",
   "execution_count": 107,
   "metadata": {
    "collapsed": true
   },
   "outputs": [],
   "source": [
    "import re "
   ]
  },
  {
   "cell_type": "code",
   "execution_count": 119,
   "metadata": {
    "collapsed": true
   },
   "outputs": [],
   "source": [
    "emails = re.findall(\"([a-zA-Z0-9_.+-]+@[a-zA-Z0-9-]+\\.[a-zA-Z0-9-.]+)\", email_address)"
   ]
  },
  {
   "cell_type": "code",
   "execution_count": 120,
   "metadata": {
    "collapsed": false
   },
   "outputs": [
    {
     "data": {
      "text/plain": [
       "['john.doe@somecompany.co.uk', 'jane_doe124@gmail.com']"
      ]
     },
     "execution_count": 120,
     "metadata": {},
     "output_type": "execute_result"
    }
   ],
   "source": [
    "emails"
   ]
  },
  {
   "cell_type": "code",
   "execution_count": 112,
   "metadata": {
    "collapsed": false
   },
   "outputs": [
    {
     "name": "stdout",
     "output_type": "stream",
     "text": [
      "john.doe@somecompany.co\n",
      "jane_doe124@gmail.com\n"
     ]
    }
   ],
   "source": [
    "for mail in emails:\n",
    "    print(mail)\n"
   ]
  },
  {
   "cell_type": "markdown",
   "metadata": {
    "collapsed": true
   },
   "source": [
    "# re.compile() \n",
    "# another way to extract email address "
   ]
  },
  {
   "cell_type": "markdown",
   "metadata": {
    "collapsed": true
   },
   "source": [
    "# The re.compile() method\n",
    "# re.compile(pattern, repl, string):\n",
    "\n",
    "# We can combine a regular expression pattern into pattern objects, which can be used for pattern matching. \n",
    "# It also helps to search a pattern again without rewriting it."
   ]
  },
  {
   "cell_type": "code",
   "execution_count": 1,
   "metadata": {
    "collapsed": true
   },
   "outputs": [],
   "source": [
    "import re "
   ]
  },
  {
   "cell_type": "code",
   "execution_count": 13,
   "metadata": {
    "collapsed": true
   },
   "outputs": [],
   "source": [
    "email_address_1= \"Hi my name is John and email address is john.doe@somecompany.co.uk and my friend's email is jane_doe124@gmail.com\"\n"
   ]
  },
  {
   "cell_type": "code",
   "execution_count": 20,
   "metadata": {
    "collapsed": true
   },
   "outputs": [],
   "source": [
    "pattern=re.compile('[a-zA-Z0-9_.+-]+@[a-zA-Z0-9-]+\\.[a-zA-z0-9-.]+')\n"
   ]
  },
  {
   "cell_type": "code",
   "execution_count": 21,
   "metadata": {
    "collapsed": false
   },
   "outputs": [],
   "source": [
    "result=pattern.findall(email_address_1)\n"
   ]
  },
  {
   "cell_type": "code",
   "execution_count": 22,
   "metadata": {
    "collapsed": false
   },
   "outputs": [
    {
     "name": "stdout",
     "output_type": "stream",
     "text": [
      "['john.doe@somecompany.co.uk', 'jane_doe124@gmail.com']\n"
     ]
    }
   ],
   "source": [
    "print( result)"
   ]
  },
  {
   "cell_type": "code",
   "execution_count": null,
   "metadata": {
    "collapsed": true
   },
   "outputs": [],
   "source": []
  },
  {
   "cell_type": "code",
   "execution_count": null,
   "metadata": {
    "collapsed": true
   },
   "outputs": [],
   "source": []
  },
  {
   "cell_type": "code",
   "execution_count": null,
   "metadata": {
    "collapsed": true
   },
   "outputs": [],
   "source": []
  },
  {
   "cell_type": "code",
   "execution_count": null,
   "metadata": {
    "collapsed": true
   },
   "outputs": [],
   "source": []
  },
  {
   "cell_type": "code",
   "execution_count": null,
   "metadata": {
    "collapsed": true
   },
   "outputs": [],
   "source": []
  },
  {
   "cell_type": "code",
   "execution_count": null,
   "metadata": {
    "collapsed": true
   },
   "outputs": [],
   "source": []
  }
 ],
 "metadata": {
  "anaconda-cloud": {},
  "kernelspec": {
   "display_name": "Python [conda env:Anaconda3]",
   "language": "python",
   "name": "conda-env-Anaconda3-py"
  },
  "language_info": {
   "codemirror_mode": {
    "name": "ipython",
    "version": 3
   },
   "file_extension": ".py",
   "mimetype": "text/x-python",
   "name": "python",
   "nbconvert_exporter": "python",
   "pygments_lexer": "ipython3",
   "version": "3.5.6"
  }
 },
 "nbformat": 4,
 "nbformat_minor": 1
}
