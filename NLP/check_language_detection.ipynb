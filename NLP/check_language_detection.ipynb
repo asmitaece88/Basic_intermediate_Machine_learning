{
 "cells": [
  {
   "cell_type": "code",
   "execution_count": 4,
   "metadata": {},
   "outputs": [
    {
     "name": "stdout",
     "output_type": "stream",
     "text": [
      "Requirement already satisfied: googletrans==4.0.0-rc1 in c:\\users\\asmitachatterjee\\appdata\\local\\programs\\python\\python36\\lib\\site-packages (4.0.0rc1)\n",
      "Requirement already satisfied: httpx==0.13.3 in c:\\users\\asmitachatterjee\\appdata\\local\\programs\\python\\python36\\lib\\site-packages (from googletrans==4.0.0-rc1) (0.13.3)\n",
      "Requirement already satisfied: chardet==3.* in c:\\users\\asmitachatterjee\\appdata\\local\\programs\\python\\python36\\lib\\site-packages (from httpx==0.13.3->googletrans==4.0.0-rc1) (3.0.4)\n",
      "Requirement already satisfied: hstspreload in c:\\users\\asmitachatterjee\\appdata\\local\\programs\\python\\python36\\lib\\site-packages (from httpx==0.13.3->googletrans==4.0.0-rc1) (2022.8.1)\n",
      "Requirement already satisfied: httpcore==0.9.* in c:\\users\\asmitachatterjee\\appdata\\local\\programs\\python\\python36\\lib\\site-packages (from httpx==0.13.3->googletrans==4.0.0-rc1) (0.9.1)\n",
      "Requirement already satisfied: sniffio in c:\\users\\asmitachatterjee\\appdata\\local\\programs\\python\\python36\\lib\\site-packages (from httpx==0.13.3->googletrans==4.0.0-rc1) (1.2.0)\n",
      "Requirement already satisfied: idna==2.* in c:\\users\\asmitachatterjee\\appdata\\local\\programs\\python\\python36\\lib\\site-packages (from httpx==0.13.3->googletrans==4.0.0-rc1) (2.10)\n",
      "Requirement already satisfied: certifi in c:\\users\\asmitachatterjee\\appdata\\local\\programs\\python\\python36\\lib\\site-packages (from httpx==0.13.3->googletrans==4.0.0-rc1) (2020.6.20)\n",
      "Requirement already satisfied: rfc3986<2,>=1.3 in c:\\users\\asmitachatterjee\\appdata\\local\\programs\\python\\python36\\lib\\site-packages (from httpx==0.13.3->googletrans==4.0.0-rc1) (1.5.0)\n",
      "Requirement already satisfied: h11<0.10,>=0.8 in c:\\users\\asmitachatterjee\\appdata\\local\\programs\\python\\python36\\lib\\site-packages (from httpcore==0.9.*->httpx==0.13.3->googletrans==4.0.0-rc1) (0.9.0)\n",
      "Requirement already satisfied: h2==3.* in c:\\users\\asmitachatterjee\\appdata\\local\\programs\\python\\python36\\lib\\site-packages (from httpcore==0.9.*->httpx==0.13.3->googletrans==4.0.0-rc1) (3.2.0)\n",
      "Requirement already satisfied: contextvars>=2.1 in c:\\users\\asmitachatterjee\\appdata\\local\\programs\\python\\python36\\lib\\site-packages (from sniffio->httpx==0.13.3->googletrans==4.0.0-rc1) (2.4)Note: you may need to restart the kernel to use updated packages.\n",
      "Requirement already satisfied: hpack<4,>=3.0 in c:\\users\\asmitachatterjee\\appdata\\local\\programs\\python\\python36\\lib\\site-packages (from h2==3.*->httpcore==0.9.*->httpx==0.13.3->googletrans==4.0.0-rc1) (3.0.0)\n",
      "Requirement already satisfied: hyperframe<6,>=5.2.0 in c:\\users\\asmitachatterjee\\appdata\\local\\programs\\python\\python36\\lib\\site-packages (from h2==3.*->httpcore==0.9.*->httpx==0.13.3->googletrans==4.0.0-rc1) (5.2.0)\n",
      "Requirement already satisfied: immutables>=0.9 in c:\\users\\asmitachatterjee\\appdata\\local\\programs\\python\\python36\\lib\\site-packages (from contextvars>=2.1->sniffio->httpx==0.13.3->googletrans==4.0.0-rc1) (0.18)\n",
      "\n",
      "Requirement already satisfied: typing-extensions>=3.7.4.3 in c:\\users\\asmitachatterjee\\appdata\\local\\programs\\python\\python36\\lib\\site-packages (from immutables>=0.9->contextvars>=2.1->sniffio->httpx==0.13.3->googletrans==4.0.0-rc1) (4.1.1)\n"
     ]
    }
   ],
   "source": [
    "pip install googletrans==4.0.0-rc1 "
   ]
  },
  {
   "cell_type": "code",
   "execution_count": 1,
   "metadata": {},
   "outputs": [
    {
     "name": "stdout",
     "output_type": "stream",
     "text": [
      "{'af': 'afrikaans', 'sq': 'albanian', 'am': 'amharic', 'ar': 'arabic', 'hy': 'armenian', 'az': 'azerbaijani', 'eu': 'basque', 'be': 'belarusian', 'bn': 'bengali', 'bs': 'bosnian', 'bg': 'bulgarian', 'ca': 'catalan', 'ceb': 'cebuano', 'ny': 'chichewa', 'zh-cn': 'chinese (simplified)', 'zh-tw': 'chinese (traditional)', 'co': 'corsican', 'hr': 'croatian', 'cs': 'czech', 'da': 'danish', 'nl': 'dutch', 'en': 'english', 'eo': 'esperanto', 'et': 'estonian', 'tl': 'filipino', 'fi': 'finnish', 'fr': 'french', 'fy': 'frisian', 'gl': 'galician', 'ka': 'georgian', 'de': 'german', 'el': 'greek', 'gu': 'gujarati', 'ht': 'haitian creole', 'ha': 'hausa', 'haw': 'hawaiian', 'iw': 'hebrew', 'he': 'hebrew', 'hi': 'hindi', 'hmn': 'hmong', 'hu': 'hungarian', 'is': 'icelandic', 'ig': 'igbo', 'id': 'indonesian', 'ga': 'irish', 'it': 'italian', 'ja': 'japanese', 'jw': 'javanese', 'kn': 'kannada', 'kk': 'kazakh', 'km': 'khmer', 'ko': 'korean', 'ku': 'kurdish (kurmanji)', 'ky': 'kyrgyz', 'lo': 'lao', 'la': 'latin', 'lv': 'latvian', 'lt': 'lithuanian', 'lb': 'luxembourgish', 'mk': 'macedonian', 'mg': 'malagasy', 'ms': 'malay', 'ml': 'malayalam', 'mt': 'maltese', 'mi': 'maori', 'mr': 'marathi', 'mn': 'mongolian', 'my': 'myanmar (burmese)', 'ne': 'nepali', 'no': 'norwegian', 'or': 'odia', 'ps': 'pashto', 'fa': 'persian', 'pl': 'polish', 'pt': 'portuguese', 'pa': 'punjabi', 'ro': 'romanian', 'ru': 'russian', 'sm': 'samoan', 'gd': 'scots gaelic', 'sr': 'serbian', 'st': 'sesotho', 'sn': 'shona', 'sd': 'sindhi', 'si': 'sinhala', 'sk': 'slovak', 'sl': 'slovenian', 'so': 'somali', 'es': 'spanish', 'su': 'sundanese', 'sw': 'swahili', 'sv': 'swedish', 'tg': 'tajik', 'ta': 'tamil', 'te': 'telugu', 'th': 'thai', 'tr': 'turkish', 'uk': 'ukrainian', 'ur': 'urdu', 'ug': 'uyghur', 'uz': 'uzbek', 'vi': 'vietnamese', 'cy': 'welsh', 'xh': 'xhosa', 'yi': 'yiddish', 'yo': 'yoruba', 'zu': 'zulu'}\n"
     ]
    }
   ],
   "source": [
    "import googletrans\n",
    "\n",
    "print(googletrans.LANGUAGES)"
   ]
  },
  {
   "cell_type": "code",
   "execution_count": 2,
   "metadata": {},
   "outputs": [],
   "source": [
    "from googletrans import Translator"
   ]
  },
  {
   "cell_type": "code",
   "execution_count": 3,
   "metadata": {},
   "outputs": [],
   "source": [
    "text :str=\"आईबीएम नवाचार और प्रौद्योगिकी में अग्रणी है.... \" ### punjabi\n",
    "## actual english sentence : IBM leads in innovation and techology"
   ]
  },
  {
   "cell_type": "code",
   "execution_count": 4,
   "metadata": {},
   "outputs": [
    {
     "name": "stdout",
     "output_type": "stream",
     "text": [
      "IBM is a pioneer in innovation and technology ....\n"
     ]
    }
   ],
   "source": [
    "translator = Translator()\n",
    "#translation = translator.translate(\"Hola como estas ?\", dest='en')\n",
    "translation = translator.translate(text, dest='en')\n",
    "print(translation.text)\n"
   ]
  },
  {
   "cell_type": "code",
   "execution_count": 28,
   "metadata": {},
   "outputs": [
    {
     "data": {
      "text/plain": [
       "str"
      ]
     },
     "execution_count": 28,
     "metadata": {},
     "output_type": "execute_result"
    }
   ],
   "source": [
    "##predicted  :IBM is a pioneer in innovation and technology ....\n",
    "##actual : IBM leads in innovation and techology "
   ]
  },
  {
   "cell_type": "code",
   "execution_count": 5,
   "metadata": {},
   "outputs": [],
   "source": [
    "text =\"ਜਿਵੇਂ ਕਿ ਟਵਿੱਟਰ ਦੁਆਰਾ ਸੁਝਾਇਆ ਗਿਆ ਹੈ, IBM ਨਵੀਨਤਾ ਅਤੇ ਤਕਨਾਲੋਜੀ ਦੀ ਅਗਵਾਈ ਕਰਦਾ ਹੈ\" ##punjabi\n",
    "## actual english sentence :as suggested by twitter , IBM leads innovation and technology"
   ]
  },
  {
   "cell_type": "code",
   "execution_count": 6,
   "metadata": {},
   "outputs": [
    {
     "name": "stdout",
     "output_type": "stream",
     "text": [
      "As suggested by Twitter, IBM leads IBM innovation and technology\n"
     ]
    }
   ],
   "source": [
    "translator = Translator()\n",
    "#translation = translator.translate(\"Hola como estas ?\", dest='en')\n",
    "translation = translator.translate(text, dest='en')\n",
    "print(translation.text)"
   ]
  },
  {
   "cell_type": "code",
   "execution_count": 7,
   "metadata": {},
   "outputs": [
    {
     "name": "stdout",
     "output_type": "stream",
     "text": [
      "IBM is at the forefront of innovation and technology, as suggested by Twitter\n"
     ]
    }
   ],
   "source": [
    "text = \"twitter ने सुचविल्याप्रमाणे, IBM नावीन्य आणि तंत्रज्ञानात आघाडीवर आहे\" ##marathi\n",
    "translation = translator.translate(text, dest='en')\n",
    "print(translation.text)"
   ]
  },
  {
   "cell_type": "code",
   "execution_count": 8,
   "metadata": {},
   "outputs": [
    {
     "name": "stdout",
     "output_type": "stream",
     "text": [
      "This performance is depressed\n"
     ]
    }
   ],
   "source": [
    "text =\"ही कार्यक्षमता उदास आहे\"##marathi\n",
    "##english :This functionality sucks\n",
    "translation = translator.translate(text, dest='en')\n",
    "print(translation.text)"
   ]
  },
  {
   "cell_type": "code",
   "execution_count": 9,
   "metadata": {},
   "outputs": [
    {
     "name": "stdout",
     "output_type": "stream",
     "text": [
      "Why is this service so bad ??\n"
     ]
    }
   ],
   "source": [
    "text=\"ही सेवा इतकी वाईट का आहे??\"\n",
    "##english:Why  is this service so bad??\n",
    "translation = translator.translate(text, dest='en')\n",
    "print(translation.text)"
   ]
  },
  {
   "cell_type": "code",
   "execution_count": null,
   "metadata": {},
   "outputs": [],
   "source": [
    "text=\"ही सेवा इतकी वाईट का आहे??\"\n",
    "##english:Why  is this service so bad??\n",
    "translation = translator.translate(text, dest='en')\n",
    "print(translation.text)"
   ]
  },
  {
   "cell_type": "code",
   "execution_count": 10,
   "metadata": {},
   "outputs": [
    {
     "name": "stdout",
     "output_type": "stream",
     "text": [
      "This telecommunication service is wonderful .... :) YPP !!!!I love it\n"
     ]
    }
   ],
   "source": [
    "text=\"ही दूरसंचार सेवा अप्रतिम आहे.... :) यिप्पी!!!! मला ते आवडते\"\n",
    "###actual english :\"This telecom service is awesome .... :) Yippy !!!! I like it\"\n",
    "translation = translator.translate(text, dest='en')\n",
    "print(translation.text)"
   ]
  },
  {
   "cell_type": "code",
   "execution_count": 11,
   "metadata": {},
   "outputs": [
    {
     "name": "stdout",
     "output_type": "stream",
     "text": [
      "Now to explain .... this telecom service is awesome .... :) Yippi !!!!I like it\n"
     ]
    }
   ],
   "source": [
    "text=\"Now to explain ....இந்த டெலிகாம் சேவை அருமை.... :) யிப்பி!!!! நான் அதை விரும்புகிறேன்\"###tamil\n",
    "##actual english : \"Now to explain ...This telecom service is awesome .... :) Yippy !!!! I like it\"\n",
    "translation = translator.translate(text, dest='en')\n",
    "print(translation.text)"
   ]
  },
  {
   "cell_type": "code",
   "execution_count": 12,
   "metadata": {},
   "outputs": [
    {
     "name": "stdout",
     "output_type": "stream",
     "text": [
      "Listen Miss.This app is very boring and boring ...\n"
     ]
    }
   ],
   "source": [
    "text=\"Listen Miss. இந்த பயன்பாடு மிகவும் சலிப்பானது மற்றும் சலிப்பானது ...\"##tamil\n",
    "##actual english : \"Listen Miss. This application sucks , and is extremely boring and monotonous ...\"\n",
    "translation = translator.translate(text, dest='en')\n",
    "print(translation.text)"
   ]
  },
  {
   "cell_type": "code",
   "execution_count": null,
   "metadata": {},
   "outputs": [],
   "source": []
  }
 ],
 "metadata": {
  "interpreter": {
   "hash": "61eee1b10eafb721081ebfd5dd53c1b8bdcccddca43d7f5d72aa3bea94a5c89c"
  },
  "kernelspec": {
   "display_name": "Python 3.6.7 64-bit",
   "language": "python",
   "name": "python3"
  },
  "language_info": {
   "codemirror_mode": {
    "name": "ipython",
    "version": 3
   },
   "file_extension": ".py",
   "mimetype": "text/x-python",
   "name": "python",
   "nbconvert_exporter": "python",
   "pygments_lexer": "ipython3",
   "version": "3.6.7"
  },
  "orig_nbformat": 4
 },
 "nbformat": 4,
 "nbformat_minor": 2
}
