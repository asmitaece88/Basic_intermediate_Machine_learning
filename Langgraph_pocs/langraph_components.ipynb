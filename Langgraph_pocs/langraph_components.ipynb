{
 "cells": [
  {
   "cell_type": "code",
   "execution_count": 1,
   "metadata": {},
   "outputs": [],
   "source": [
    "from dotenv import load_dotenv\n",
    "_ = load_dotenv()"
   ]
  },
  {
   "cell_type": "code",
   "execution_count": 2,
   "metadata": {},
   "outputs": [],
   "source": [
    "from langgraph.graph import StateGraph, END\n",
    "from typing import TypedDict, Annotated\n",
    "import operator\n",
    "from langchain_core.messages import AnyMessage, SystemMessage, HumanMessage, ToolMessage,BaseMessage\n",
    "from langchain_openai import ChatOpenAI\n",
    "from langchain_community.tools.tavily_search import TavilySearchResults"
   ]
  },
  {
   "cell_type": "code",
   "execution_count": 3,
   "metadata": {},
   "outputs": [],
   "source": [
    "TAVILY_API_KEY=\"\""
   ]
  },
  {
   "cell_type": "code",
   "execution_count": 4,
   "metadata": {},
   "outputs": [
    {
     "name": "stdout",
     "output_type": "stream",
     "text": [
      "<class 'langchain_community.tools.tavily_search.tool.TavilySearchResults'>\n",
      "tavily_search_results_json\n"
     ]
    }
   ],
   "source": [
    "tool = TavilySearchResults(tavily_api_key=TAVILY_API_KEY,max_results=4) #increased number of results\n",
    "print(type(tool))\n",
    "print(tool.name)"
   ]
  },
  {
   "cell_type": "markdown",
   "metadata": {},
   "source": [
    "# let us now call the agent state "
   ]
  },
  {
   "cell_type": "code",
   "execution_count": 5,
   "metadata": {},
   "outputs": [],
   "source": [
    "class AgentState(TypedDict):\n",
    "    messages: Annotated[list[AnyMessage], operator.add]"
   ]
  },
  {
   "cell_type": "code",
   "execution_count": 6,
   "metadata": {},
   "outputs": [],
   "source": [
    "class Agent:\n",
    "    def __init__(self,model,tools,system=\"\"):\n",
    "        self.system=system\n",
    "        graph =StateGraph(AgentState)\n",
    "        graph.add_node(\"llm\",self.call_openai)\n",
    "        graph.add_node(\"action\",self.take_action)\n",
    "        graph.add_conditional_edges(\n",
    "            \"llm\",\n",
    "            self.exists_action,\n",
    "            {True:\"action\",False:END}\n",
    "        )\n",
    "        graph.add_edge(\"action\",\"llm\")\n",
    "        graph.set_entry_point(\"llm\")\n",
    "        self.graph=graph.compile()## compile the graph \n",
    "        self.tools={t.name:t for  t in tools}## pass the tools\n",
    "        self.model=model.bind_tools(tools)\n",
    "\n",
    "    def exists_action(self, state: AgentState):\n",
    "        result = state['messages'][-1]\n",
    "        return len(result.tool_calls) > 0\n",
    "\n",
    "    def call_openai(self, state: AgentState):\n",
    "        messages = state['messages']\n",
    "        if self.system:\n",
    "            messages = [SystemMessage(content=self.system)] + messages\n",
    "        message = self.model.invoke(messages)\n",
    "        return {'messages': [message]}\n",
    "\n",
    "    def take_action(self, state: AgentState):\n",
    "        tool_calls = state['messages'][-1].tool_calls## take the last message from the list of messages \n",
    "        results = []\n",
    "        for t in tool_calls:\n",
    "            print(f\"Calling: {t}\")\n",
    "            if not t['name'] in self.tools:      # check for bad tool name from LLM\n",
    "                print(\"\\n ....bad tool name....\")\n",
    "                result = \"bad tool name, retry\"  # instruct LLM to retry if bad\n",
    "            else:\n",
    "                result = self.tools[t['name']].invoke(t['args'])\n",
    "            results.append(ToolMessage(tool_call_id=t['id'], name=t['name'], content=str(result)))\n",
    "        print(\"Back to the model!\")\n",
    "        return {'messages': results}    "
   ]
  },
  {
   "cell_type": "code",
   "execution_count": 7,
   "metadata": {},
   "outputs": [],
   "source": [
    "prompt = \"\"\"You are a smart research assistant. Use the search engine to look up information. \\\n",
    "You are allowed to make multiple calls (either together or in sequence). \\\n",
    "Only look up information when you are sure of what you want. \\\n",
    "If you need to look up some information before asking a follow up question, you are allowed to do that!\n",
    "\"\"\"\n",
    "\n",
    "model = ChatOpenAI(model=\"gpt-3.5-turbo\")  #reduce inference cost\n",
    "abot = Agent(model, [tool], system=prompt)"
   ]
  },
  {
   "cell_type": "code",
   "execution_count": 16,
   "metadata": {},
   "outputs": [],
   "source": [
    "messages = [HumanMessage(content=\"What is the weather in New Delhi?\")]"
   ]
  },
  {
   "cell_type": "code",
   "execution_count": 17,
   "metadata": {},
   "outputs": [
    {
     "name": "stdout",
     "output_type": "stream",
     "text": [
      "Calling: {'name': 'tavily_search_results_json', 'args': {'query': 'weather in New Delhi'}, 'id': 'call_rV1TuDVB8vA5kCcH73OAjCGC'}\n",
      "Back to the model!\n"
     ]
    }
   ],
   "source": [
    "result = abot.graph.invoke({\"messages\": messages})"
   ]
  },
  {
   "cell_type": "code",
   "execution_count": 18,
   "metadata": {},
   "outputs": [
    {
     "data": {
      "text/plain": [
       "{'messages': [HumanMessage(content='What is the weather in New Delhi?'),\n",
       "  AIMessage(content='', additional_kwargs={'tool_calls': [{'id': 'call_rV1TuDVB8vA5kCcH73OAjCGC', 'function': {'arguments': '{\"query\":\"weather in New Delhi\"}', 'name': 'tavily_search_results_json'}, 'type': 'function'}]}, response_metadata={'token_usage': {'completion_tokens': 21, 'prompt_tokens': 154, 'total_tokens': 175}, 'model_name': 'gpt-3.5-turbo', 'system_fingerprint': None, 'finish_reason': 'tool_calls', 'logprobs': None}, id='run-3e1d45a0-6123-4dd7-a68e-716a6f201d02-0', tool_calls=[{'name': 'tavily_search_results_json', 'args': {'query': 'weather in New Delhi'}, 'id': 'call_rV1TuDVB8vA5kCcH73OAjCGC'}]),\n",
       "  ToolMessage(content='[{\\'url\\': \\'https://www.timeanddate.com/weather/india/new-delhi/historic?month=6&year=2024\\', \\'content\\': \\'June 2024 Weather in New Delhi — Graph °F. See Hour-by-hour Forecast for upcoming weather. See weather overview. High & Low Weather Summary for June 2024 Temperature Humidity Pressure; High: 112 °F (Jun 16, 2:30 pm) 92% (Jun 24, 8:30 pm) 29.77 \"Hg (Jun 24, 8:30 pm) Low: 78 °F (Jun 6, 5:30 am) 15% (Jun 13, 2:30 pm) 29.21 \"Hg (Jun 19, 5:30 ...\\'}, {\\'url\\': \\'https://mausam.imd.gov.in/newdelhi/mcdata/delhi_forecast.pdf\\', \\'content\\': \\'29.06.2024 35.6 28.0 s/12 ne/18 sw/24 generally cloudy sky. moderate to heavy rain/thunderstorm accompanied with gusty winds (speed 30-40 kmph). 30.06.2024 34 26 sw/14 sw/16 wnw/26 generally cloudy sky. ... impact based forecast for heat wave/thunderstorm over delhi and ncr date 29 june 2024 30 june 2024 forecast for heat wave/thunderstorm ...\\'}, {\\'url\\': \\'https://www.weatherapi.com/\\', \\'content\\': \"{\\'location\\': {\\'name\\': \\'New Delhi\\', \\'region\\': \\'Delhi\\', \\'country\\': \\'India\\', \\'lat\\': 28.6, \\'lon\\': 77.2, \\'tz_id\\': \\'Asia/Kolkata\\', \\'localtime_epoch\\': 1719755014, \\'localtime\\': \\'2024-06-30 19:13\\'}, \\'current\\': {\\'last_updated_epoch\\': 1719754200, \\'last_updated\\': \\'2024-06-30 19:00\\', \\'temp_c\\': 36.2, \\'temp_f\\': 97.2, \\'is_day\\': 1, \\'condition\\': {\\'text\\': \\'Mist\\', \\'icon\\': \\'//cdn.weatherapi.com/weather/64x64/day/143.png\\', \\'code\\': 1030}, \\'wind_mph\\': 4.3, \\'wind_kph\\': 6.8, \\'wind_degree\\': 90, \\'wind_dir\\': \\'E\\', \\'pressure_mb\\': 996.0, \\'pressure_in\\': 29.41, \\'precip_mm\\': 1.31, \\'precip_in\\': 0.05, \\'humidity\\': 57, \\'cloud\\': 50, \\'feelslike_c\\': 49.0, \\'feelslike_f\\': 120.1, \\'windchill_c\\': 32.9, \\'windchill_f\\': 91.1, \\'heatindex_c\\': 39.5, \\'heatindex_f\\': 103.0, \\'dewpoint_c\\': 24.2, \\'dewpoint_f\\': 75.6, \\'vis_km\\': 3.0, \\'vis_miles\\': 1.0, \\'uv\\': 1.0, \\'gust_mph\\': 8.3, \\'gust_kph\\': 13.3}}\"}, {\\'url\\': \\'https://weatherspark.com/h/m/109174/2024/6/Historical-Weather-in-June-2024-in-New-Delhi-NCT-India\\', \\'content\\': \\'New Delhi Temperature History June 2024. The daily range of reported temperatures (gray bars) and 24-hour highs (red ticks) and lows (blue ticks), placed over the daily average high (faint red line) and low (faint blue line) temperature, with 25th to 75th and 10th to 90th percentile bands.\\'}]', name='tavily_search_results_json', tool_call_id='call_rV1TuDVB8vA5kCcH73OAjCGC'),\n",
       "  AIMessage(content='The current weather in New Delhi is as follows:\\n- Temperature: 36.2°C (97.2°F)\\n- Condition: Mist\\n- Wind: 6.8 kph from the East\\n- Humidity: 57%\\n- Cloud Cover: 50%\\n- Precipitation: 1.31 mm\\n- Pressure: 996.0 mb\\n\\nIs there anything else you would like to know about the weather in New Delhi?', response_metadata={'token_usage': {'completion_tokens': 93, 'prompt_tokens': 1025, 'total_tokens': 1118}, 'model_name': 'gpt-3.5-turbo', 'system_fingerprint': None, 'finish_reason': 'stop', 'logprobs': None}, id='run-4db8b84e-982c-4947-8416-29c28fac22ca-0')]}"
      ]
     },
     "execution_count": 18,
     "metadata": {},
     "output_type": "execute_result"
    }
   ],
   "source": [
    "result"
   ]
  },
  {
   "cell_type": "code",
   "execution_count": 14,
   "metadata": {},
   "outputs": [
    {
     "data": {
      "text/plain": [
       "'The current weather in San Francisco is sunny with a temperature of 60.1°F. The wind speed is 6.1 kph coming from the west. The humidity is at 67%, and there is no precipitation at the moment.'"
      ]
     },
     "execution_count": 14,
     "metadata": {},
     "output_type": "execute_result"
    }
   ],
   "source": [
    "result['messages'][-1].content"
   ]
  },
  {
   "cell_type": "code",
   "execution_count": 19,
   "metadata": {},
   "outputs": [
    {
     "name": "stdout",
     "output_type": "stream",
     "text": [
      "Calling: {'name': 'tavily_search_results_json', 'args': {'query': 'weather in San Francisco'}, 'id': 'call_JfuVfBH4LPITfiV2CnB9cKx8'}\n",
      "Calling: {'name': 'tavily_search_results_json', 'args': {'query': 'weather in New Delhi'}, 'id': 'call_LNLjVIL6SWr9ysK4vbt4JE86'}\n",
      "Back to the model!\n"
     ]
    }
   ],
   "source": [
    "messages = [HumanMessage(content=\"What is the weather in San francisco and New delhi?\")]\n",
    "result = abot.graph.invoke({\"messages\": messages})"
   ]
  },
  {
   "cell_type": "code",
   "execution_count": 20,
   "metadata": {},
   "outputs": [
    {
     "data": {
      "text/plain": [
       "'The current weather in San Francisco is sunny with a temperature of 60.1°F. The wind speed is 6.1 km/h coming from the west. The humidity is at 67% with clear skies.\\n\\nIn New Delhi, the weather is misty with a temperature of 97.2°F. The wind speed is 6.8 km/h from the east. The humidity is at 57% with partly cloudy skies and some precipitation.'"
      ]
     },
     "execution_count": 20,
     "metadata": {},
     "output_type": "execute_result"
    }
   ],
   "source": [
    "result['messages'][-1].content"
   ]
  },
  {
   "cell_type": "markdown",
   "metadata": {},
   "source": [
    "# testing another pattern"
   ]
  },
  {
   "cell_type": "code",
   "execution_count": 21,
   "metadata": {},
   "outputs": [],
   "source": [
    "query = \"Who won world cup T20 worls cup series in 2007 and 2024? \" \n",
    "messages = [HumanMessage(content=query)]"
   ]
  },
  {
   "cell_type": "code",
   "execution_count": 22,
   "metadata": {},
   "outputs": [
    {
     "name": "stdout",
     "output_type": "stream",
     "text": [
      "Calling: {'name': 'tavily_search_results_json', 'args': {'query': 'winner of 2007 T20 World Cup'}, 'id': 'call_RhP2SadKTeYLvO7Hdzjs0qF8'}\n",
      "Calling: {'name': 'tavily_search_results_json', 'args': {'query': 'winner of 2024 T20 World Cup'}, 'id': 'call_NbLqz5C2ojr8GcSv9yHw0XS6'}\n",
      "Back to the model!\n"
     ]
    }
   ],
   "source": [
    "model = ChatOpenAI(model=\"gpt-4o\")  # requires more advanced model\n",
    "abot = Agent(model, [tool], system=prompt)\n",
    "result = abot.graph.invoke({\"messages\": messages})"
   ]
  },
  {
   "cell_type": "code",
   "execution_count": 23,
   "metadata": {},
   "outputs": [
    {
     "name": "stdout",
     "output_type": "stream",
     "text": [
      "### Winners of the T20 World Cup\n",
      "\n",
      "- **2007**: India won the inaugural T20 World Cup, defeating Pakistan in the final.\n",
      "  - Source: [Wikipedia](https://en.wikipedia.org/wiki/2007_ICC_World_Twenty20), [ESPN Cricinfo](https://www.espncricinfo.com/series/icc-world-twenty20-2007-08-286109/india-vs-pakistan-final-287879/full-scorecard)\n",
      "\n",
      "- **2024**: India also won the 2024 T20 World Cup, defeating South Africa in a dramatic final.\n",
      "  - Source: [CNN](https://www.cnn.com/2024/06/29/sport/india-south-africa-t20-mens-world-cup-final-spt-intl/index.html), [Al Jazeera](https://www.aljazeera.com/sports/2024/6/29/india-vs-south-africa-icc-t20-world-cup-final-result-match-report-champions-rohit-markram-bumrah-shamsi)\n"
     ]
    }
   ],
   "source": [
    "print(result['messages'][-1].content)"
   ]
  }
 ],
 "metadata": {
  "kernelspec": {
   "display_name": "Python 3",
   "language": "python",
   "name": "python3"
  },
  "language_info": {
   "codemirror_mode": {
    "name": "ipython",
    "version": 3
   },
   "file_extension": ".py",
   "mimetype": "text/x-python",
   "name": "python",
   "nbconvert_exporter": "python",
   "pygments_lexer": "ipython3",
   "version": "3.10.11"
  }
 },
 "nbformat": 4,
 "nbformat_minor": 2
}
